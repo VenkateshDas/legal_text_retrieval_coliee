{
  "nbformat": 4,
  "nbformat_minor": 0,
  "metadata": {
    "colab": {
      "name": "03. TF-IDF and BM25 implementation.ipynb",
      "provenance": [],
      "collapsed_sections": [],
      "toc_visible": true
    },
    "kernelspec": {
      "name": "python3",
      "display_name": "Python 3"
    }
  },
  "cells": [
    {
      "cell_type": "markdown",
      "metadata": {
        "id": "cU9oP60QYoNv"
      },
      "source": [
        "#Setup Notebook"
      ]
    },
    {
      "cell_type": "code",
      "metadata": {
        "id": "DU3XxjQDsw-F",
        "colab": {
          "base_uri": "https://localhost:8080/"
        },
        "outputId": "845dca9d-1338-4184-bfbc-a59a3bdda6b6"
      },
      "source": [
        "from google.colab import drive\n",
        "drive.mount('/content/drive')\n",
        "import ast\n",
        "import os\n",
        "import pandas as pd"
      ],
      "execution_count": null,
      "outputs": [
        {
          "output_type": "stream",
          "text": [
            "Mounted at /content/drive\n"
          ],
          "name": "stdout"
        }
      ]
    },
    {
      "cell_type": "markdown",
      "metadata": {
        "id": "G_ypVijM3hUv"
      },
      "source": [
        "# Reading preprocessed data"
      ]
    },
    {
      "cell_type": "code",
      "metadata": {
        "id": "HCSGAqnZ3pzD"
      },
      "source": [
        "os.chdir('/content/drive/My Drive/COLIEE Retrieval /COLIEE Dry Run Data /preprocessed_data/')\n",
        "\n",
        "df_query_list = pd.read_pickle('cleaned_ground_truth.pkl')\n",
        "df_expanded_query_list = pd.read_pickle(\"cleaned_extended_ground_truth.pkl\")\n",
        "# df_query_list.head\n",
        "df_civil_code_list = pd.read_pickle('cleaned_civil_code.pkl')\n",
        "# df_civil_code_list.head\n",
        "dataset_query_tokens = df_expanded_query_list['Query_tokens']\n",
        "dataset_query_lemmas = df_query_list['Query_lemma']\n",
        "\n",
        "dataset_expanded_query_tokens = df_expanded_query_list['Expanded_query_tokens']\n",
        "dataset_expanded_query_lemmas = df_expanded_query_list['Expanded_query_lemma']\n",
        "\n",
        "dataset_article_tokens = df_civil_code_list['Article_description_tokens']\n",
        "dataset_article_lemmas = df_civil_code_list['Article_description_lemmas']\n",
        "import re\n",
        "def change_hyphen(article_number):\n",
        "  return re.sub('_','-',article_number)\n",
        "def remmove_space(article_number):\n",
        "  return re.sub(' ','',article_number)\n",
        "df_civil_code_list['Article_number']= df_civil_code_list['Article_number'].apply(change_hyphen)\n",
        "df_civil_code_list['Article_number']= df_civil_code_list['Article_number'].apply(remmove_space)"
      ],
      "execution_count": null,
      "outputs": []
    },
    {
      "cell_type": "code",
      "metadata": {
        "id": "r13hEZOLu1Jd"
      },
      "source": [
        "dataset_expanded_query_bi_tri_grams = df_expanded_query_list['Expanded_query_bi_tri_grams']\n",
        "dataset_combined_articles_lemma_bi_tri_grams = df_civil_code_list['Combined_lemma_Bi_tri']"
      ],
      "execution_count": null,
      "outputs": []
    },
    {
      "cell_type": "code",
      "metadata": {
        "id": "QbYuT2jzlWml",
        "colab": {
          "base_uri": "https://localhost:8080/"
        },
        "outputId": "2c802643-dbd8-4235-ffdf-dbce10f60f5b"
      },
      "source": [
        "df_civil_code_list['Article_bi_tri_grams']"
      ],
      "execution_count": null,
      "outputs": [
        {
          "output_type": "execute_result",
          "data": {
            "text/plain": [
              "1      [fundamental_principle, principle_article_1, a...\n",
              "2      [standard_construction, construction_article_2...\n",
              "3      [article_3, 3_1, 1_enjoyment, enjoyment_privat...\n",
              "4      [article_3, 3_2, 2_person, person_make, make_j...\n",
              "5      [age_majority, majority_article_4, article_4_a...\n",
              "                             ...                        \n",
              "772    [fetus_capacity, capacity_hold, hold_right, ri...\n",
              "773    [method_compensation, compensation_loss, loss_...\n",
              "774    [recovery_defamation, defamation_article_723, ...\n",
              "775    [extinctive_prescription, prescription_claim, ...\n",
              "776    [extinctive_prescription, prescription_claim, ...\n",
              "Name: Article_bi_tri_grams, Length: 776, dtype: object"
            ]
          },
          "metadata": {
            "tags": []
          },
          "execution_count": 4
        }
      ]
    },
    {
      "cell_type": "code",
      "metadata": {
        "id": "GQozl7YKezJh",
        "colab": {
          "base_uri": "https://localhost:8080/"
        },
        "outputId": "41f0eea7-9855-438e-8999-798346ac360f"
      },
      "source": [
        "df_expanded_query_list.head().T"
      ],
      "execution_count": null,
      "outputs": [
        {
          "output_type": "execute_result",
          "data": {
            "text/html": [
              "<div>\n",
              "<style scoped>\n",
              "    .dataframe tbody tr th:only-of-type {\n",
              "        vertical-align: middle;\n",
              "    }\n",
              "\n",
              "    .dataframe tbody tr th {\n",
              "        vertical-align: top;\n",
              "    }\n",
              "\n",
              "    .dataframe thead th {\n",
              "        text-align: right;\n",
              "    }\n",
              "</style>\n",
              "<table border=\"1\" class=\"dataframe\">\n",
              "  <thead>\n",
              "    <tr style=\"text-align: right;\">\n",
              "      <th></th>\n",
              "      <th>0</th>\n",
              "      <th>1</th>\n",
              "      <th>2</th>\n",
              "      <th>3</th>\n",
              "      <th>4</th>\n",
              "    </tr>\n",
              "  </thead>\n",
              "  <tbody>\n",
              "    <tr>\n",
              "      <th>ID</th>\n",
              "      <td>H21-1-1</td>\n",
              "      <td>H21-1-2</td>\n",
              "      <td>H21-1-3</td>\n",
              "      <td>H21-1-4</td>\n",
              "      <td>H21-1-5</td>\n",
              "    </tr>\n",
              "    <tr>\n",
              "      <th>Query</th>\n",
              "      <td>Acceptance made by a minor that received an o...</td>\n",
              "      <td>If a minor, after getting permission for carr...</td>\n",
              "      <td>The purchase of daily household items may not...</td>\n",
              "      <td>If a person under curatorship performs, witho...</td>\n",
              "      <td>The person in question may not request a  com...</td>\n",
              "    </tr>\n",
              "    <tr>\n",
              "      <th>Article_numbers</th>\n",
              "      <td>[5]</td>\n",
              "      <td>[6]</td>\n",
              "      <td>[9]</td>\n",
              "      <td>[13, 120, 122]</td>\n",
              "      <td>[7, 11]</td>\n",
              "    </tr>\n",
              "    <tr>\n",
              "      <th>Query_tokens</th>\n",
              "      <td>[acceptance, made, minor, received, offer, gif...</td>\n",
              "      <td>[minor, getting, permission, carrying, busines...</td>\n",
              "      <td>[purchase, daily, household, items, may, not, ...</td>\n",
              "      <td>[person, curatorship, performs, without, getti...</td>\n",
              "      <td>[person, question, may, not, request, commence...</td>\n",
              "    </tr>\n",
              "    <tr>\n",
              "      <th>Query_lemma</th>\n",
              "      <td>[acceptance, make, minor, receive, offer, gift...</td>\n",
              "      <td>[minor, get, permission, carry, business, stat...</td>\n",
              "      <td>[purchase, daily, household, item, may, not, r...</td>\n",
              "      <td>[person, curatorship, perform, without, get, c...</td>\n",
              "      <td>[person, question, may, not, request, commence...</td>\n",
              "    </tr>\n",
              "    <tr>\n",
              "      <th>Query_pos</th>\n",
              "      <td>[NOUN, VERB, NOUN, VERB, NOUN, NOUN, ADP, NOUN...</td>\n",
              "      <td>[ADJ, VERB, NOUN, VERB, NOUN, ADJ, NOUN, VERB,...</td>\n",
              "      <td>[NOUN, ADJ, NOUN, NOUN, VERB, ADV, VERB, ADV, ...</td>\n",
              "      <td>[NOUN, NOUN, NOUN, ADP, VERB, NOUN, NOUN, VERB...</td>\n",
              "      <td>[NOUN, NOUN, VERB, ADV, VERB, NOUN, NOUN, VERB...</td>\n",
              "    </tr>\n",
              "    <tr>\n",
              "      <th>Expanded_query_tokens</th>\n",
              "      <td>[nipper, not, establish, rescinded, youngster,...</td>\n",
              "      <td>[nipper, not, bear, rescinded, youngster, smal...</td>\n",
              "      <td>[Mrs._Humphrey_Ward, not, day_by_day, househol...</td>\n",
              "      <td>[not, sire, turn, consent, pay_back, deed, aim...</td>\n",
              "      <td>[somebody, keeping, not, call_for, doubt, quer...</td>\n",
              "    </tr>\n",
              "    <tr>\n",
              "      <th>Expanded_query_lemma</th>\n",
              "      <td>[nipper, not, establish, youngster, sire, tale...</td>\n",
              "      <td>[nipper, not, bear, youngster, small, sire, ki...</td>\n",
              "      <td>[Mrs._Humphrey_Ward, not, day_by_day, househol...</td>\n",
              "      <td>[not, sire, turn, consent, pay_back, deed, aim...</td>\n",
              "      <td>[somebody, keeping, not, call_for, doubt, quer...</td>\n",
              "    </tr>\n",
              "    <tr>\n",
              "      <th>Query_bigrams</th>\n",
              "      <td>[acceptance_make, make_minor, minor_receive, r...</td>\n",
              "      <td>[minor_get, get_permission, permission_carry, ...</td>\n",
              "      <td>[purchase_daily, daily_household, household_it...</td>\n",
              "      <td>[person_curatorship, curatorship_perform, perf...</td>\n",
              "      <td>[person_question, question_may, may_not, not_r...</td>\n",
              "    </tr>\n",
              "    <tr>\n",
              "      <th>Query_trigrams</th>\n",
              "      <td>[acceptance_make_minor, make_minor_receive, mi...</td>\n",
              "      <td>[minor_get_permission, get_permission_carry, p...</td>\n",
              "      <td>[purchase_daily_household, daily_household_ite...</td>\n",
              "      <td>[person_curatorship_perform, curatorship_perfo...</td>\n",
              "      <td>[person_question_may, question_may_not, may_no...</td>\n",
              "    </tr>\n",
              "    <tr>\n",
              "      <th>Query_bi_tri_grams</th>\n",
              "      <td>[acceptance_make, make_minor, minor_receive, r...</td>\n",
              "      <td>[minor_get, get_permission, permission_carry, ...</td>\n",
              "      <td>[purchase_daily, daily_household, household_it...</td>\n",
              "      <td>[person_curatorship, curatorship_perform, perf...</td>\n",
              "      <td>[person_question, question_may, may_not, not_r...</td>\n",
              "    </tr>\n",
              "    <tr>\n",
              "      <th>Expanded_query_bi_tri_grams</th>\n",
              "      <td>[nipper, not, establish, youngster, sire, tale...</td>\n",
              "      <td>[nipper, not, bear, youngster, small, sire, ki...</td>\n",
              "      <td>[Mrs._Humphrey_Ward, not, day_by_day, househol...</td>\n",
              "      <td>[not, sire, turn, consent, pay_back, deed, aim...</td>\n",
              "      <td>[somebody, keeping, not, call_for, doubt, quer...</td>\n",
              "    </tr>\n",
              "    <tr>\n",
              "      <th>Articles</th>\n",
              "      <td>\\nArticle 5\\n(1) A minor must obtain the conse...</td>\n",
              "      <td>\\nArticle 6\\n(1) A minor who is permitted to c...</td>\n",
              "      <td>\\nArticle 9\\nA juridical act performed by an a...</td>\n",
              "      <td>\\nArticle 13\\n(1) A person under curatorship m...</td>\n",
              "      <td>\\nArticle 7\\nThe family court may decide to co...</td>\n",
              "    </tr>\n",
              "    <tr>\n",
              "      <th>Article_tokens</th>\n",
              "      <td>[['juridical', 'acts', 'minors', 'article_5', ...</td>\n",
              "      <td>[['permission', 'minors', 'conduct', 'business...</td>\n",
              "      <td>[['juridical', 'acts', 'adult', 'wards', 'guar...</td>\n",
              "      <td>[['acts', 'requiring', 'consent', 'curator', '...</td>\n",
              "      <td>[['decisions', 'commencement', 'guardianship',...</td>\n",
              "    </tr>\n",
              "    <tr>\n",
              "      <th>Article_lemma</th>\n",
              "      <td>[['juridical', 'act', 'minor', 'article_5', '1...</td>\n",
              "      <td>[['permission', 'minor', 'conduct', 'business'...</td>\n",
              "      <td>[['juridical', 'act', 'adult', 'ward', 'guardi...</td>\n",
              "      <td>[['act', 'require', 'consent', 'curator', 'art...</td>\n",
              "      <td>[['decision', 'commencement', 'guardianship', ...</td>\n",
              "    </tr>\n",
              "    <tr>\n",
              "      <th>Article_pos</th>\n",
              "      <td>[['ADJ', 'NOUN', 'NOUN', 'INTJ', 'PUNCT', 'ADJ...</td>\n",
              "      <td>[['NOUN', 'NOUN', 'VERB', 'NOUN', 'X', 'PUNCT'...</td>\n",
              "      <td>[['ADJ', 'NOUN', 'NOUN', 'NOUN', 'NOUN', 'ADJ'...</td>\n",
              "      <td>[['NOUN', 'VERB', 'NOUN', 'NOUN', 'ADV', 'PUNC...</td>\n",
              "      <td>[['NOUN', 'NOUN', 'NOUN', 'PUNCT', 'NOUN', 'NO...</td>\n",
              "    </tr>\n",
              "    <tr>\n",
              "      <th>Article_titles</th>\n",
              "      <td>[['ADJ', 'NOUN', 'NOUN', 'INTJ', 'PUNCT', 'ADJ...</td>\n",
              "      <td>[['NOUN', 'NOUN', 'VERB', 'NOUN', 'X', 'PUNCT'...</td>\n",
              "      <td>[['ADJ', 'NOUN', 'NOUN', 'NOUN', 'NOUN', 'ADJ'...</td>\n",
              "      <td>[['NOUN', 'VERB', 'NOUN', 'NOUN', 'ADV', 'PUNC...</td>\n",
              "      <td>[['NOUN', 'NOUN', 'NOUN', 'PUNCT', 'NOUN', 'NO...</td>\n",
              "    </tr>\n",
              "    <tr>\n",
              "      <th>Article_title_tokens</th>\n",
              "      <td>[['juridical', 'acts', 'minors']]</td>\n",
              "      <td>[['permission', 'minors', 'conduct', 'business']]</td>\n",
              "      <td>[['juridical', 'acts', 'adult', 'wards', 'guar...</td>\n",
              "      <td>[['acts', 'requiring', 'consent', 'curator'], ...</td>\n",
              "      <td>[['decisions', 'commencement', 'guardianship']...</td>\n",
              "    </tr>\n",
              "    <tr>\n",
              "      <th>Article_title_lemma</th>\n",
              "      <td>[['juridical', 'act', 'minor']]</td>\n",
              "      <td>[['permission', 'minor', 'conduct', 'business']]</td>\n",
              "      <td>[['juridical', 'act', 'adult', 'ward', 'guardi...</td>\n",
              "      <td>[['act', 'require', 'consent', 'curator'], ['h...</td>\n",
              "      <td>[['decision', 'commencement', 'guardianship'],...</td>\n",
              "    </tr>\n",
              "    <tr>\n",
              "      <th>Article_title_pos</th>\n",
              "      <td>[['ADJ', 'NOUN', 'NOUN']]</td>\n",
              "      <td>[['NOUN', 'NOUN', 'VERB', 'NOUN']]</td>\n",
              "      <td>[['ADJ', 'NOUN', 'NOUN', 'NOUN', 'NOUN']]</td>\n",
              "      <td>[['NOUN', 'VERB', 'NOUN', 'NOUN'], ['NOUN', 'N...</td>\n",
              "      <td>[['NOUN', 'NOUN', 'NOUN'], ['NOUN', 'NOUN', 'N...</td>\n",
              "    </tr>\n",
              "    <tr>\n",
              "      <th>Article_bigrams</th>\n",
              "      <td>[[juridical_act, act_minor, minor_article_5, a...</td>\n",
              "      <td>[[permission_minor, minor_conduct, conduct_bus...</td>\n",
              "      <td>[[juridical_act, act_adult, adult_ward, ward_g...</td>\n",
              "      <td>[[act_require, require_consent, consent_curato...</td>\n",
              "      <td>[[decision_commencement, commencement_guardian...</td>\n",
              "    </tr>\n",
              "    <tr>\n",
              "      <th>Article_trigrams</th>\n",
              "      <td>[[juridical_act_minor, act_minor_article_5, mi...</td>\n",
              "      <td>[[permission_minor_conduct, minor_conduct_busi...</td>\n",
              "      <td>[[juridical_act_adult, act_adult_ward, adult_w...</td>\n",
              "      <td>[[act_require_consent, require_consent_curator...</td>\n",
              "      <td>[[decision_commencement_guardianship, commence...</td>\n",
              "    </tr>\n",
              "  </tbody>\n",
              "</table>\n",
              "</div>"
            ],
            "text/plain": [
              "                                                                             0  ...                                                  4\n",
              "ID                                                                     H21-1-1  ...                                            H21-1-5\n",
              "Query                         Acceptance made by a minor that received an o...  ...   The person in question may not request a  com...\n",
              "Article_numbers                                                            [5]  ...                                            [7, 11]\n",
              "Query_tokens                 [acceptance, made, minor, received, offer, gif...  ...  [person, question, may, not, request, commence...\n",
              "Query_lemma                  [acceptance, make, minor, receive, offer, gift...  ...  [person, question, may, not, request, commence...\n",
              "Query_pos                    [NOUN, VERB, NOUN, VERB, NOUN, NOUN, ADP, NOUN...  ...  [NOUN, NOUN, VERB, ADV, VERB, NOUN, NOUN, VERB...\n",
              "Expanded_query_tokens        [nipper, not, establish, rescinded, youngster,...  ...  [somebody, keeping, not, call_for, doubt, quer...\n",
              "Expanded_query_lemma         [nipper, not, establish, youngster, sire, tale...  ...  [somebody, keeping, not, call_for, doubt, quer...\n",
              "Query_bigrams                [acceptance_make, make_minor, minor_receive, r...  ...  [person_question, question_may, may_not, not_r...\n",
              "Query_trigrams               [acceptance_make_minor, make_minor_receive, mi...  ...  [person_question_may, question_may_not, may_no...\n",
              "Query_bi_tri_grams           [acceptance_make, make_minor, minor_receive, r...  ...  [person_question, question_may, may_not, not_r...\n",
              "Expanded_query_bi_tri_grams  [nipper, not, establish, youngster, sire, tale...  ...  [somebody, keeping, not, call_for, doubt, quer...\n",
              "Articles                     \\nArticle 5\\n(1) A minor must obtain the conse...  ...  \\nArticle 7\\nThe family court may decide to co...\n",
              "Article_tokens               [['juridical', 'acts', 'minors', 'article_5', ...  ...  [['decisions', 'commencement', 'guardianship',...\n",
              "Article_lemma                [['juridical', 'act', 'minor', 'article_5', '1...  ...  [['decision', 'commencement', 'guardianship', ...\n",
              "Article_pos                  [['ADJ', 'NOUN', 'NOUN', 'INTJ', 'PUNCT', 'ADJ...  ...  [['NOUN', 'NOUN', 'NOUN', 'PUNCT', 'NOUN', 'NO...\n",
              "Article_titles               [['ADJ', 'NOUN', 'NOUN', 'INTJ', 'PUNCT', 'ADJ...  ...  [['NOUN', 'NOUN', 'NOUN', 'PUNCT', 'NOUN', 'NO...\n",
              "Article_title_tokens                         [['juridical', 'acts', 'minors']]  ...  [['decisions', 'commencement', 'guardianship']...\n",
              "Article_title_lemma                            [['juridical', 'act', 'minor']]  ...  [['decision', 'commencement', 'guardianship'],...\n",
              "Article_title_pos                                    [['ADJ', 'NOUN', 'NOUN']]  ...  [['NOUN', 'NOUN', 'NOUN'], ['NOUN', 'NOUN', 'N...\n",
              "Article_bigrams              [[juridical_act, act_minor, minor_article_5, a...  ...  [[decision_commencement, commencement_guardian...\n",
              "Article_trigrams             [[juridical_act_minor, act_minor_article_5, mi...  ...  [[decision_commencement_guardianship, commence...\n",
              "\n",
              "[22 rows x 5 columns]"
            ]
          },
          "metadata": {
            "tags": []
          },
          "execution_count": 5
        }
      ]
    },
    {
      "cell_type": "code",
      "metadata": {
        "id": "1SBUNeLI-VXw",
        "colab": {
          "base_uri": "https://localhost:8080/"
        },
        "outputId": "7153c9d3-1e78-49c7-b4c4-c671c4088436"
      },
      "source": [
        "df_civil_code_list.head().T"
      ],
      "execution_count": null,
      "outputs": [
        {
          "output_type": "execute_result",
          "data": {
            "text/html": [
              "<div>\n",
              "<style scoped>\n",
              "    .dataframe tbody tr th:only-of-type {\n",
              "        vertical-align: middle;\n",
              "    }\n",
              "\n",
              "    .dataframe tbody tr th {\n",
              "        vertical-align: top;\n",
              "    }\n",
              "\n",
              "    .dataframe thead th {\n",
              "        text-align: right;\n",
              "    }\n",
              "</style>\n",
              "<table border=\"1\" class=\"dataframe\">\n",
              "  <thead>\n",
              "    <tr style=\"text-align: right;\">\n",
              "      <th></th>\n",
              "      <th>1</th>\n",
              "      <th>2</th>\n",
              "      <th>3</th>\n",
              "      <th>4</th>\n",
              "      <th>5</th>\n",
              "    </tr>\n",
              "  </thead>\n",
              "  <tbody>\n",
              "    <tr>\n",
              "      <th>Article_number</th>\n",
              "      <td>1</td>\n",
              "      <td>2</td>\n",
              "      <td>3</td>\n",
              "      <td>3-2</td>\n",
              "      <td>4</td>\n",
              "    </tr>\n",
              "    <tr>\n",
              "      <th>Referenced_article_num</th>\n",
              "      <td>{}</td>\n",
              "      <td>{}</td>\n",
              "      <td>{}</td>\n",
              "      <td>{}</td>\n",
              "      <td>{}</td>\n",
              "    </tr>\n",
              "    <tr>\n",
              "      <th>Article_description</th>\n",
              "      <td>(Fundamental Principles) Article_1  (1) Privat...</td>\n",
              "      <td>(Standards for Construction) Article_2  This C...</td>\n",
              "      <td>Article 3  (1) The enjoyment of private rights...</td>\n",
              "      <td>Article 3-2  If the person making a juridical ...</td>\n",
              "      <td>(Age of Majority) Article_4  The age of majori...</td>\n",
              "    </tr>\n",
              "    <tr>\n",
              "      <th>Article_titles</th>\n",
              "      <td>(Fundamental Principles)</td>\n",
              "      <td>(Standards for Construction)</td>\n",
              "      <td>(Standards for Construction)</td>\n",
              "      <td>(Standards for Construction)</td>\n",
              "      <td>(Age of Majority)</td>\n",
              "    </tr>\n",
              "    <tr>\n",
              "      <th>Article_description_tokens</th>\n",
              "      <td>[fundamental, principles, article_1, 1, privat...</td>\n",
              "      <td>[standards, construction, article_2, code, mus...</td>\n",
              "      <td>[article, 3, 1, enjoyment, private, rights, co...</td>\n",
              "      <td>[article, 3, 2, person, making, juridical, act...</td>\n",
              "      <td>[age, majority, article_4, age, majority, 20, ...</td>\n",
              "    </tr>\n",
              "    <tr>\n",
              "      <th>Article_description_lemmas</th>\n",
              "      <td>[fundamental, principle, article_1, 1, private...</td>\n",
              "      <td>[standard, construction, article_2, code, must...</td>\n",
              "      <td>[article, 3, 1, enjoyment, private, right, com...</td>\n",
              "      <td>[article, 3, 2, person, make, juridical, act, ...</td>\n",
              "      <td>[age, majority, article_4, age, majority, 20, ...</td>\n",
              "    </tr>\n",
              "    <tr>\n",
              "      <th>Article_description_pos</th>\n",
              "      <td>[ADJ, NOUN, NOUN, NUM, ADJ, NOUN, VERB, ADJ, A...</td>\n",
              "      <td>[NOUN, NOUN, ADP, NOUN, VERB, VERB, VERB, NOUN...</td>\n",
              "      <td>[NOUN, NUM, PUNCT, NOUN, ADJ, NOUN, NOUN, NOUN...</td>\n",
              "      <td>[NOUN, NUM, NUM, NOUN, VERB, ADJ, NOUN, ADV, A...</td>\n",
              "      <td>[NOUN, NOUN, NOUN, NOUN, NOUN, NUM, NOUN, NOUN]</td>\n",
              "    </tr>\n",
              "    <tr>\n",
              "      <th>Article_desc_bigrams</th>\n",
              "      <td>[fundamental_principle, principle_article_1, a...</td>\n",
              "      <td>[standard_construction, construction_article_2...</td>\n",
              "      <td>[article_3, 3_1, 1_enjoyment, enjoyment_privat...</td>\n",
              "      <td>[article_3, 3_2, 2_person, person_make, make_j...</td>\n",
              "      <td>[age_majority, majority_article_4, article_4_a...</td>\n",
              "    </tr>\n",
              "    <tr>\n",
              "      <th>Article_desc_trigrams</th>\n",
              "      <td>[fundamental_principle_article_1, principle_ar...</td>\n",
              "      <td>[standard_construction_article_2, construction...</td>\n",
              "      <td>[article_3_1, 3_1_enjoyment, 1_enjoyment_priva...</td>\n",
              "      <td>[article_3_2, 3_2_person, 2_person_make, perso...</td>\n",
              "      <td>[age_majority_article_4, majority_article_4_ag...</td>\n",
              "    </tr>\n",
              "    <tr>\n",
              "      <th>Article_bi_tri_grams</th>\n",
              "      <td>[fundamental_principle, principle_article_1, a...</td>\n",
              "      <td>[standard_construction, construction_article_2...</td>\n",
              "      <td>[article_3, 3_1, 1_enjoyment, enjoyment_privat...</td>\n",
              "      <td>[article_3, 3_2, 2_person, person_make, make_j...</td>\n",
              "      <td>[age_majority, majority_article_4, article_4_a...</td>\n",
              "    </tr>\n",
              "    <tr>\n",
              "      <th>Combined_lemma_Bi_tri</th>\n",
              "      <td>[fundamental, principle, article_1, 1, private...</td>\n",
              "      <td>[standard, construction, article_2, code, must...</td>\n",
              "      <td>[article, 3, 1, enjoyment, private, right, com...</td>\n",
              "      <td>[article, 3, 2, person, make, juridical, act, ...</td>\n",
              "      <td>[age, majority, article_4, age, majority, 20, ...</td>\n",
              "    </tr>\n",
              "    <tr>\n",
              "      <th>Article_title_tokens</th>\n",
              "      <td>[fundamental, principles]</td>\n",
              "      <td>[standards, construction]</td>\n",
              "      <td>[standards, construction]</td>\n",
              "      <td>[standards, construction]</td>\n",
              "      <td>[age, majority]</td>\n",
              "    </tr>\n",
              "    <tr>\n",
              "      <th>Article_title_lemma</th>\n",
              "      <td>[fundamental, principle]</td>\n",
              "      <td>[standard, construction]</td>\n",
              "      <td>[standard, construction]</td>\n",
              "      <td>[standard, construction]</td>\n",
              "      <td>[age, majority]</td>\n",
              "    </tr>\n",
              "    <tr>\n",
              "      <th>Article_title_pos</th>\n",
              "      <td>[ADJ, NOUN]</td>\n",
              "      <td>[NOUN, NOUN]</td>\n",
              "      <td>[NOUN, NOUN]</td>\n",
              "      <td>[NOUN, NOUN]</td>\n",
              "      <td>[NOUN, NOUN]</td>\n",
              "    </tr>\n",
              "  </tbody>\n",
              "</table>\n",
              "</div>"
            ],
            "text/plain": [
              "                                                                            1  ...                                                  5\n",
              "Article_number                                                              1  ...                                                  4\n",
              "Referenced_article_num                                                     {}  ...                                                 {}\n",
              "Article_description         (Fundamental Principles) Article_1  (1) Privat...  ...  (Age of Majority) Article_4  The age of majori...\n",
              "Article_titles                                      (Fundamental Principles)   ...                                 (Age of Majority) \n",
              "Article_description_tokens  [fundamental, principles, article_1, 1, privat...  ...  [age, majority, article_4, age, majority, 20, ...\n",
              "Article_description_lemmas  [fundamental, principle, article_1, 1, private...  ...  [age, majority, article_4, age, majority, 20, ...\n",
              "Article_description_pos     [ADJ, NOUN, NOUN, NUM, ADJ, NOUN, VERB, ADJ, A...  ...    [NOUN, NOUN, NOUN, NOUN, NOUN, NUM, NOUN, NOUN]\n",
              "Article_desc_bigrams        [fundamental_principle, principle_article_1, a...  ...  [age_majority, majority_article_4, article_4_a...\n",
              "Article_desc_trigrams       [fundamental_principle_article_1, principle_ar...  ...  [age_majority_article_4, majority_article_4_ag...\n",
              "Article_bi_tri_grams        [fundamental_principle, principle_article_1, a...  ...  [age_majority, majority_article_4, article_4_a...\n",
              "Combined_lemma_Bi_tri       [fundamental, principle, article_1, 1, private...  ...  [age, majority, article_4, age, majority, 20, ...\n",
              "Article_title_tokens                                [fundamental, principles]  ...                                    [age, majority]\n",
              "Article_title_lemma                                  [fundamental, principle]  ...                                    [age, majority]\n",
              "Article_title_pos                                                 [ADJ, NOUN]  ...                                       [NOUN, NOUN]\n",
              "\n",
              "[14 rows x 5 columns]"
            ]
          },
          "metadata": {
            "tags": []
          },
          "execution_count": 6
        }
      ]
    },
    {
      "cell_type": "code",
      "metadata": {
        "id": "NeEvZTH3fAYa",
        "colab": {
          "base_uri": "https://localhost:8080/"
        },
        "outputId": "1e67f7a1-dc4d-41fe-fde4-4967a748748e"
      },
      "source": [
        "# df_query_list\n",
        "df_expanded_query_list.head()"
      ],
      "execution_count": null,
      "outputs": [
        {
          "output_type": "execute_result",
          "data": {
            "text/html": [
              "<div>\n",
              "<style scoped>\n",
              "    .dataframe tbody tr th:only-of-type {\n",
              "        vertical-align: middle;\n",
              "    }\n",
              "\n",
              "    .dataframe tbody tr th {\n",
              "        vertical-align: top;\n",
              "    }\n",
              "\n",
              "    .dataframe thead th {\n",
              "        text-align: right;\n",
              "    }\n",
              "</style>\n",
              "<table border=\"1\" class=\"dataframe\">\n",
              "  <thead>\n",
              "    <tr style=\"text-align: right;\">\n",
              "      <th></th>\n",
              "      <th>ID</th>\n",
              "      <th>Query</th>\n",
              "      <th>Article_numbers</th>\n",
              "      <th>Query_tokens</th>\n",
              "      <th>Query_lemma</th>\n",
              "      <th>Query_pos</th>\n",
              "      <th>Expanded_query_tokens</th>\n",
              "      <th>Expanded_query_lemma</th>\n",
              "      <th>Query_bigrams</th>\n",
              "      <th>Query_trigrams</th>\n",
              "      <th>Query_bi_tri_grams</th>\n",
              "      <th>Expanded_query_bi_tri_grams</th>\n",
              "      <th>Articles</th>\n",
              "      <th>Article_tokens</th>\n",
              "      <th>Article_lemma</th>\n",
              "      <th>Article_pos</th>\n",
              "      <th>Article_titles</th>\n",
              "      <th>Article_title_tokens</th>\n",
              "      <th>Article_title_lemma</th>\n",
              "      <th>Article_title_pos</th>\n",
              "      <th>Article_bigrams</th>\n",
              "      <th>Article_trigrams</th>\n",
              "    </tr>\n",
              "  </thead>\n",
              "  <tbody>\n",
              "    <tr>\n",
              "      <th>0</th>\n",
              "      <td>H21-1-1</td>\n",
              "      <td>Acceptance made by a minor that received an o...</td>\n",
              "      <td>[5]</td>\n",
              "      <td>[acceptance, made, minor, received, offer, gif...</td>\n",
              "      <td>[acceptance, make, minor, receive, offer, gift...</td>\n",
              "      <td>[NOUN, VERB, NOUN, VERB, NOUN, NOUN, ADP, NOUN...</td>\n",
              "      <td>[nipper, not, establish, rescinded, youngster,...</td>\n",
              "      <td>[nipper, not, establish, youngster, sire, tale...</td>\n",
              "      <td>[acceptance_make, make_minor, minor_receive, r...</td>\n",
              "      <td>[acceptance_make_minor, make_minor_receive, mi...</td>\n",
              "      <td>[acceptance_make, make_minor, minor_receive, r...</td>\n",
              "      <td>[nipper, not, establish, youngster, sire, tale...</td>\n",
              "      <td>\\nArticle 5\\n(1) A minor must obtain the conse...</td>\n",
              "      <td>[['juridical', 'acts', 'minors', 'article_5', ...</td>\n",
              "      <td>[['juridical', 'act', 'minor', 'article_5', '1...</td>\n",
              "      <td>[['ADJ', 'NOUN', 'NOUN', 'INTJ', 'PUNCT', 'ADJ...</td>\n",
              "      <td>[['ADJ', 'NOUN', 'NOUN', 'INTJ', 'PUNCT', 'ADJ...</td>\n",
              "      <td>[['juridical', 'acts', 'minors']]</td>\n",
              "      <td>[['juridical', 'act', 'minor']]</td>\n",
              "      <td>[['ADJ', 'NOUN', 'NOUN']]</td>\n",
              "      <td>[[juridical_act, act_minor, minor_article_5, a...</td>\n",
              "      <td>[[juridical_act_minor, act_minor_article_5, mi...</td>\n",
              "    </tr>\n",
              "    <tr>\n",
              "      <th>1</th>\n",
              "      <td>H21-1-2</td>\n",
              "      <td>If a minor, after getting permission for carr...</td>\n",
              "      <td>[6]</td>\n",
              "      <td>[minor, getting, permission, carrying, busines...</td>\n",
              "      <td>[minor, get, permission, carry, business, stat...</td>\n",
              "      <td>[ADJ, VERB, NOUN, VERB, NOUN, ADJ, NOUN, VERB,...</td>\n",
              "      <td>[nipper, not, bear, rescinded, youngster, smal...</td>\n",
              "      <td>[nipper, not, bear, youngster, small, sire, ki...</td>\n",
              "      <td>[minor_get, get_permission, permission_carry, ...</td>\n",
              "      <td>[minor_get_permission, get_permission_carry, p...</td>\n",
              "      <td>[minor_get, get_permission, permission_carry, ...</td>\n",
              "      <td>[nipper, not, bear, youngster, small, sire, ki...</td>\n",
              "      <td>\\nArticle 6\\n(1) A minor who is permitted to c...</td>\n",
              "      <td>[['permission', 'minors', 'conduct', 'business...</td>\n",
              "      <td>[['permission', 'minor', 'conduct', 'business'...</td>\n",
              "      <td>[['NOUN', 'NOUN', 'VERB', 'NOUN', 'X', 'PUNCT'...</td>\n",
              "      <td>[['NOUN', 'NOUN', 'VERB', 'NOUN', 'X', 'PUNCT'...</td>\n",
              "      <td>[['permission', 'minors', 'conduct', 'business']]</td>\n",
              "      <td>[['permission', 'minor', 'conduct', 'business']]</td>\n",
              "      <td>[['NOUN', 'NOUN', 'VERB', 'NOUN']]</td>\n",
              "      <td>[[permission_minor, minor_conduct, conduct_bus...</td>\n",
              "      <td>[[permission_minor_conduct, minor_conduct_busi...</td>\n",
              "    </tr>\n",
              "    <tr>\n",
              "      <th>2</th>\n",
              "      <td>H21-1-3</td>\n",
              "      <td>The purchase of daily household items may not...</td>\n",
              "      <td>[9]</td>\n",
              "      <td>[purchase, daily, household, items, may, not, ...</td>\n",
              "      <td>[purchase, daily, household, item, may, not, r...</td>\n",
              "      <td>[NOUN, ADJ, NOUN, NOUN, VERB, ADV, VERB, ADV, ...</td>\n",
              "      <td>[Mrs._Humphrey_Ward, not, day_by_day, househol...</td>\n",
              "      <td>[Mrs._Humphrey_Ward, not, day_by_day, househol...</td>\n",
              "      <td>[purchase_daily, daily_household, household_it...</td>\n",
              "      <td>[purchase_daily_household, daily_household_ite...</td>\n",
              "      <td>[purchase_daily, daily_household, household_it...</td>\n",
              "      <td>[Mrs._Humphrey_Ward, not, day_by_day, househol...</td>\n",
              "      <td>\\nArticle 9\\nA juridical act performed by an a...</td>\n",
              "      <td>[['juridical', 'acts', 'adult', 'wards', 'guar...</td>\n",
              "      <td>[['juridical', 'act', 'adult', 'ward', 'guardi...</td>\n",
              "      <td>[['ADJ', 'NOUN', 'NOUN', 'NOUN', 'NOUN', 'ADJ'...</td>\n",
              "      <td>[['ADJ', 'NOUN', 'NOUN', 'NOUN', 'NOUN', 'ADJ'...</td>\n",
              "      <td>[['juridical', 'acts', 'adult', 'wards', 'guar...</td>\n",
              "      <td>[['juridical', 'act', 'adult', 'ward', 'guardi...</td>\n",
              "      <td>[['ADJ', 'NOUN', 'NOUN', 'NOUN', 'NOUN']]</td>\n",
              "      <td>[[juridical_act, act_adult, adult_ward, ward_g...</td>\n",
              "      <td>[[juridical_act_adult, act_adult_ward, adult_w...</td>\n",
              "    </tr>\n",
              "    <tr>\n",
              "      <th>3</th>\n",
              "      <td>H21-1-4</td>\n",
              "      <td>If a person under curatorship performs, witho...</td>\n",
              "      <td>[13, 120, 122]</td>\n",
              "      <td>[person, curatorship, performs, without, getti...</td>\n",
              "      <td>[person, curatorship, perform, without, get, c...</td>\n",
              "      <td>[NOUN, NOUN, NOUN, ADP, VERB, NOUN, NOUN, VERB...</td>\n",
              "      <td>[not, sire, turn, consent, pay_back, deed, aim...</td>\n",
              "      <td>[not, sire, turn, consent, pay_back, deed, aim...</td>\n",
              "      <td>[person_curatorship, curatorship_perform, perf...</td>\n",
              "      <td>[person_curatorship_perform, curatorship_perfo...</td>\n",
              "      <td>[person_curatorship, curatorship_perform, perf...</td>\n",
              "      <td>[not, sire, turn, consent, pay_back, deed, aim...</td>\n",
              "      <td>\\nArticle 13\\n(1) A person under curatorship m...</td>\n",
              "      <td>[['acts', 'requiring', 'consent', 'curator', '...</td>\n",
              "      <td>[['act', 'require', 'consent', 'curator', 'art...</td>\n",
              "      <td>[['NOUN', 'VERB', 'NOUN', 'NOUN', 'ADV', 'PUNC...</td>\n",
              "      <td>[['NOUN', 'VERB', 'NOUN', 'NOUN', 'ADV', 'PUNC...</td>\n",
              "      <td>[['acts', 'requiring', 'consent', 'curator'], ...</td>\n",
              "      <td>[['act', 'require', 'consent', 'curator'], ['h...</td>\n",
              "      <td>[['NOUN', 'VERB', 'NOUN', 'NOUN'], ['NOUN', 'N...</td>\n",
              "      <td>[[act_require, require_consent, consent_curato...</td>\n",
              "      <td>[[act_require_consent, require_consent_curator...</td>\n",
              "    </tr>\n",
              "    <tr>\n",
              "      <th>4</th>\n",
              "      <td>H21-1-5</td>\n",
              "      <td>The person in question may not request a  com...</td>\n",
              "      <td>[7, 11]</td>\n",
              "      <td>[person, question, may, not, request, commence...</td>\n",
              "      <td>[person, question, may, not, request, commence...</td>\n",
              "      <td>[NOUN, NOUN, VERB, ADV, VERB, NOUN, NOUN, VERB...</td>\n",
              "      <td>[somebody, keeping, not, call_for, doubt, quer...</td>\n",
              "      <td>[somebody, keeping, not, call_for, doubt, quer...</td>\n",
              "      <td>[person_question, question_may, may_not, not_r...</td>\n",
              "      <td>[person_question_may, question_may_not, may_no...</td>\n",
              "      <td>[person_question, question_may, may_not, not_r...</td>\n",
              "      <td>[somebody, keeping, not, call_for, doubt, quer...</td>\n",
              "      <td>\\nArticle 7\\nThe family court may decide to co...</td>\n",
              "      <td>[['decisions', 'commencement', 'guardianship',...</td>\n",
              "      <td>[['decision', 'commencement', 'guardianship', ...</td>\n",
              "      <td>[['NOUN', 'NOUN', 'NOUN', 'PUNCT', 'NOUN', 'NO...</td>\n",
              "      <td>[['NOUN', 'NOUN', 'NOUN', 'PUNCT', 'NOUN', 'NO...</td>\n",
              "      <td>[['decisions', 'commencement', 'guardianship']...</td>\n",
              "      <td>[['decision', 'commencement', 'guardianship'],...</td>\n",
              "      <td>[['NOUN', 'NOUN', 'NOUN'], ['NOUN', 'NOUN', 'N...</td>\n",
              "      <td>[[decision_commencement, commencement_guardian...</td>\n",
              "      <td>[[decision_commencement_guardianship, commence...</td>\n",
              "    </tr>\n",
              "  </tbody>\n",
              "</table>\n",
              "</div>"
            ],
            "text/plain": [
              "        ID  ...                                   Article_trigrams\n",
              "0  H21-1-1  ...  [[juridical_act_minor, act_minor_article_5, mi...\n",
              "1  H21-1-2  ...  [[permission_minor_conduct, minor_conduct_busi...\n",
              "2  H21-1-3  ...  [[juridical_act_adult, act_adult_ward, adult_w...\n",
              "3  H21-1-4  ...  [[act_require_consent, require_consent_curator...\n",
              "4  H21-1-5  ...  [[decision_commencement_guardianship, commence...\n",
              "\n",
              "[5 rows x 22 columns]"
            ]
          },
          "metadata": {
            "tags": []
          },
          "execution_count": 7
        }
      ]
    },
    {
      "cell_type": "markdown",
      "metadata": {
        "id": "sWiYuBlQft-H"
      },
      "source": [
        "# Create article and query dataset"
      ]
    },
    {
      "cell_type": "code",
      "metadata": {
        "id": "5bNTBUlp68jL"
      },
      "source": [
        "#article corpus\n",
        "dataset_article_lemmas.iloc[0]\n",
        "\n",
        "lemma_articles = []\n",
        "for i in range(len(df_civil_code_list)):\n",
        "  line = []\n",
        "  #line = ast.literal_eval(dataset_article_lemmas.iloc[i])\n",
        "  line = df_civil_code_list['Article_description_lemmas'].iloc[i]\n",
        "  lemma_articles.append(line)\n",
        "token_articles = []\n",
        "for i in range(len(df_civil_code_list)):\n",
        "  line = []\n",
        "  #line = ast.literal_eval(dataset_article_tokens.iloc[i])\n",
        "  line = df_civil_code_list['Article_description_tokens'].iloc[i]\n",
        "  token_articles.append(line)"
      ],
      "execution_count": null,
      "outputs": []
    },
    {
      "cell_type": "code",
      "metadata": {
        "id": "ca6esFd3gPYv",
        "colab": {
          "base_uri": "https://localhost:8080/"
        },
        "outputId": "12514437-3a7c-4ad1-ec46-a1b924a0b4e8"
      },
      "source": [
        "df_civil_code_list['Article_description_lemmas'].iloc[0]"
      ],
      "execution_count": null,
      "outputs": [
        {
          "output_type": "execute_result",
          "data": {
            "text/plain": [
              "['fundamental',\n",
              " 'principle',\n",
              " 'article_1',\n",
              " '1',\n",
              " 'private',\n",
              " 'right',\n",
              " 'must',\n",
              " 'congruent',\n",
              " 'public',\n",
              " 'welfare',\n",
              " '2',\n",
              " 'exercise',\n",
              " 'right',\n",
              " 'performance',\n",
              " 'duty',\n",
              " 'must',\n",
              " 'do',\n",
              " 'good',\n",
              " 'faith',\n",
              " '3',\n",
              " 'abuse',\n",
              " 'right',\n",
              " 'not',\n",
              " 'permit']"
            ]
          },
          "metadata": {
            "tags": []
          },
          "execution_count": 9
        }
      ]
    },
    {
      "cell_type": "code",
      "metadata": {
        "id": "t_1C4JRqCmdl"
      },
      "source": [
        "#query corpus and ground truth\n",
        "query_list = []\n",
        "for line in range(len(dataset_expanded_query_lemmas)):\n",
        "  q = []\n",
        "  #q = ast.literal_eval(dataset_expanded_query_lemmas.iloc[line])\n",
        "  q = df_expanded_query_list['Query_bigrams'].iloc[line]\n",
        "  query_list.append(q)\n",
        "ground_truth = []\n",
        "for line in range(len(df_query_list)):\n",
        "  l=[]\n",
        "  #l=ast.literal_eval(df_query_list['Article_numbers'].iloc[line])\n",
        "  l=df_expanded_query_list['Article_numbers'].iloc[line]\n",
        "  ground_truth.append(l)\n"
      ],
      "execution_count": null,
      "outputs": []
    },
    {
      "cell_type": "code",
      "metadata": {
        "colab": {
          "base_uri": "https://localhost:8080/"
        },
        "id": "XzubyI6oIC5P",
        "outputId": "8a9cf351-6ebe-452c-cfa1-0c65de76f228"
      },
      "source": [
        "query_list[2]"
      ],
      "execution_count": null,
      "outputs": [
        {
          "output_type": "execute_result",
          "data": {
            "text/plain": [
              "['purchase_daily',\n",
              " 'daily_household',\n",
              " 'household_item',\n",
              " 'item_may',\n",
              " 'may_not',\n",
              " 'not_rescind',\n",
              " 'rescind_even',\n",
              " 'even_adult',\n",
              " 'adult_ward',\n",
              " 'ward_perform',\n",
              " 'perform_act']"
            ]
          },
          "metadata": {
            "tags": []
          },
          "execution_count": 11
        }
      ]
    },
    {
      "cell_type": "code",
      "metadata": {
        "id": "FkkZjfJVMvfb",
        "colab": {
          "base_uri": "https://localhost:8080/"
        },
        "outputId": "18f8f3eb-0193-40bd-bec8-ac56e716002a"
      },
      "source": [
        "sum = 0\n",
        "for i in range(len(ground_truth)):\n",
        "  sum += len(ground_truth[i])\n",
        "print(sum)"
      ],
      "execution_count": null,
      "outputs": [
        {
          "output_type": "stream",
          "text": [
            "901\n"
          ],
          "name": "stdout"
        }
      ]
    },
    {
      "cell_type": "code",
      "metadata": {
        "id": "Nx79bd-iRd3o",
        "colab": {
          "base_uri": "https://localhost:8080/"
        },
        "outputId": "d2e6e7b4-00c0-4793-f910-5d88b6bbcdcf"
      },
      "source": [
        "dataset_query_lemmas.iloc[0]"
      ],
      "execution_count": null,
      "outputs": [
        {
          "output_type": "execute_result",
          "data": {
            "application/vnd.google.colaboratory.intrinsic+json": {
              "type": "string"
            },
            "text/plain": [
              "\"['acceptance', 'make', 'minor', 'receive', 'offer', 'gift', 'without', 'burden', 'without', 'get', 'consent', 'statutory', 'agent', 'may', 'not', 'rescind']\""
            ]
          },
          "metadata": {
            "tags": []
          },
          "execution_count": 13
        }
      ]
    },
    {
      "cell_type": "code",
      "metadata": {
        "id": "VD0RT9GAmUTr"
      },
      "source": [
        "#query relevence file\n",
        "qrel_list = []\n",
        "for i in range(len(df_expanded_query_list)):\n",
        "  id = df_query_list['ID'].iloc[i]\n",
        "  for j in range(len(ground_truth[i])):\n",
        "    qrel_list.append(id+\" \"+\"0\"+\" \"+ground_truth[i][j]+\" \"+\"1\")\n",
        "f= open(\"q_rel.txt\",\"w+\")\n",
        "for i in range(len(qrel_list)):\n",
        "  f.write(qrel_list[i]+\"\\n\")\n",
        "f.close() \n",
        "    "
      ],
      "execution_count": null,
      "outputs": []
    },
    {
      "cell_type": "code",
      "metadata": {
        "id": "u_c061PAzCt6",
        "colab": {
          "base_uri": "https://localhost:8080/"
        },
        "outputId": "f04f63cf-53c0-4901-b032-40c7098b88de"
      },
      "source": [
        "for i in range(len(qrel_list)):\n",
        "  print(qrel_list[i])"
      ],
      "execution_count": null,
      "outputs": [
        {
          "output_type": "stream",
          "text": [
            "H21-1-1 0 5 1\n",
            "H21-1-2 0 6 1\n",
            "H21-1-3 0 9 1\n",
            "H21-1-4 0 13 1\n",
            "H21-1-4 0 120 1\n",
            "H21-1-4 0 122 1\n",
            "H21-1-5 0 7 1\n",
            "H21-1-5 0 11 1\n",
            "H21-3-1 0 189 1\n",
            "H21-3-1 0 190 1\n",
            "H21-3-2 0 575 1\n",
            "H21-3-4 0 356 1\n",
            "H21-3-5 0 89 1\n",
            "H21-5-3 0 707 1\n",
            "H21-5-4 0 119 1\n",
            "H21-7-5 0 206 1\n",
            "H21-8-A 0 181 1\n",
            "H21-8-O 0 201 1\n",
            "H21-9-1 0 184 1\n",
            "H21-9-2 0 182 1\n",
            "H21-9-3 0 181 1\n",
            "H21-9-3 0 658 1\n",
            "H21-9-4 0 183 1\n",
            "H21-10-1 0 223 1\n",
            "H21-10-1 0 224 1\n",
            "H21-10-1 0 229 1\n",
            "H21-10-2 0 234 1\n",
            "H21-10-3 0 209 1\n",
            "H21-10-5 0 213 1\n",
            "H21-12-1 0 295 1\n",
            "H21-12-2 0 295 1\n",
            "H21-12-3 0 297 1\n",
            "H21-13-A 0 313 1\n",
            "H21-13-I 0 304 1\n",
            "H21-13-U 0 343 1\n",
            "H21-13-E 0 344 1\n",
            "H21-13-E 0 345 1\n",
            "H21-13-O 0 349 1\n",
            "H21-15-3 0 388 1\n",
            "H21-19-A 0 447 1\n",
            "H21-19-I 0 453 1\n",
            "H21-19-U 0 457 1\n",
            "H21-19-E 0 459 1\n",
            "H21-20-2 0 467 1\n",
            "H21-20-4 0 468 1\n",
            "H21-21-1 0 478 1\n",
            "H21-21-1 0 479 1\n",
            "H21-21-3 0 487 1\n",
            "H21-21-4 0 481 1\n",
            "H21-21-5 0 485 1\n",
            "H21-22-5 0 508 1\n",
            "H21-24-A 0 550 1\n",
            "H21-24-I 0 643 1\n",
            "H21-24-E 0 176 1\n",
            "H21-24-E 0 177 1\n",
            "H21-24-O 0 446 1\n",
            "H21-25-3 0 702 1\n",
            "H21-25-4 0 474 1\n",
            "H21-25-5 0 462 1\n",
            "H21-26-A 0 541 1\n",
            "H21-26-A 0 542 1\n",
            "H21-26-A 0 559 1\n",
            "H21-26-A 0 564 1\n",
            "H21-26-U 0 620 1\n",
            "H21-26-U 0 684 1\n",
            "H21-26-O 0 545 1\n",
            "H21-27-O 0 95 1\n",
            "H21-29-A 0 327 1\n",
            "H19-1-3 0 96 1\n",
            "H19-4-I 0 128 1\n",
            "H19-5-3 0 162 1\n",
            "H19-6-A 0 166 1\n",
            "H19-6-A 0 412 1\n",
            "H19-6-I 0 166 1\n",
            "H19-6-I 0 412 1\n",
            "H19-6-O 0 300 1\n",
            "H19-7-2 0 87 1\n",
            "H19-8-A 0 177 1\n",
            "H19-10-I 0 302 1\n",
            "H19-10-O 0 181 1\n",
            "H19-10-O 0 200 1\n",
            "H19-11-3 0 177 1\n",
            "H19-11-5 0 177 1\n",
            "H19-12-1 0 350 1\n",
            "H19-12-1 0 372 1\n",
            "H19-12-1 0 304 1\n",
            "H19-12-3 0 331 1\n",
            "H19-12-3 0 339 1\n",
            "H19-12-4 0 343 1\n",
            "H19-12-5 0 333 1\n",
            "H19-13-A 0 296 1\n",
            "H19-13-I 0 308 1\n",
            "H19-13-U 0 346 1\n",
            "H19-13-E 0 375 1\n",
            "H19-13-O 0 398_3 1\n",
            "H19-14-1 0 321 1\n",
            "H19-14-1 0 304 1\n",
            "H19-15-I 0 587 1\n",
            "H19-15-I 0 587_2 1\n",
            "H19-16-1 0 395 1\n",
            "H19-16-2 0 387 1\n",
            "H19-16-3 0 389 1\n",
            "H19-16-4 0 379 1\n",
            "H19-16-5 0 371 1\n",
            "H19-17-1 0 414 1\n",
            "H19-17-2 0 414 1\n",
            "H19-17-2 0 415 1\n",
            "H19-20-I 0 499 1\n",
            "H19-20-I 0 501 1\n",
            "H19-26-I 0 653 1\n",
            "H19-26-U 0 653 1\n",
            "H19-26-O 0 655 1\n",
            "H19-30-1 0 700 1\n",
            "H19-30-1 0 702 1\n",
            "H19-30-3 0 698 1\n",
            "H19-30-5 0 701 1\n",
            "H19-30-5 0 645 1\n",
            "H23-1-2 0 96 1\n",
            "H23-1-3 0 96 1\n",
            "H23-1-3 0 709 1\n",
            "H23-1-4 0 96 1\n",
            "H23-1-5 0 96 1\n",
            "H23-2-A 0 97 1\n",
            "H23-2-I 0 20 1\n",
            "H23-2-E 0 97 1\n",
            "H23-2-O 0 97 1\n",
            "H23-3-A 0 113 1\n",
            "H23-3-A 0 115 1\n",
            "H23-3-I 0 114 1\n",
            "H23-4-U 0 106 1\n",
            "H23-4-O 0 102 1\n",
            "H23-5-1 0 123 1\n",
            "H23-5-2 0 123 1\n",
            "H23-5-3 0 424 1\n",
            "H23-9-2 0 192 1\n",
            "H23-9-3 0 192 1\n",
            "H23-10-1 0 239 1\n",
            "H23-10-2 0 197 1\n",
            "H23-10-2 0 200 1\n",
            "H23-10-3 0 186 1\n",
            "H23-10-4 0 185 1\n",
            "H23-11-A 0 196 1\n",
            "H23-11-I 0 299 1\n",
            "H23-11-E 0 665 1\n",
            "H23-11-E 0 650 1\n",
            "H23-11-O 0 702 1\n",
            "H23-12-A 0 295 1\n",
            "H23-12-A 0 533 1\n",
            "H23-12-U 0 301 1\n",
            "H23-12-U 0 533 1\n",
            "H23-13-A 0 364 1\n",
            "H23-13-I 0 366 1\n",
            "H23-13-E 0 364 1\n",
            "H23-13-E 0 467 1\n",
            "H23-17-1 0 419 1\n",
            "H23-19-1 0 457 1\n",
            "H23-19-5 0 437 1\n",
            "H23-21-4 0 478 1\n",
            "H23-23-A 0 460 1\n",
            "H23-25-I 0 564 1\n",
            "H23-25-I 0 541 1\n",
            "H23-25-I 0 542 1\n",
            "H23-25-U 0 564 1\n",
            "H23-25-U 0 541 1\n",
            "H23-25-U 0 542 1\n",
            "H23-25-U 0 415 1\n",
            "H23-25-E 0 566 1\n",
            "H23-25-O 0 568 1\n",
            "H23-26-3 0 565 1\n",
            "H23-26-3 0 563 1\n",
            "H23-29-2 0 706 1\n",
            "H27-3-U 0 101 1\n",
            "H27-3-U 0 96 1\n",
            "H27-3-E 0 108 1\n",
            "H27-5-U 0 134 1\n",
            "H27-5-E 0 128 1\n",
            "H27-6-1 0 152 1\n",
            "H27-6-2 0 152 1\n",
            "H27-6-2 0 467 1\n",
            "H27-11-A 0 293 1\n",
            "H27-11-I 0 280 1\n",
            "H27-11-U 0 282 1\n",
            "H27-11-E 0 292 1\n",
            "H27-11-O 0 281 1\n",
            "H27-12-E 0 334 1\n",
            "H27-12-E 0 330 1\n",
            "H27-19-I 0 484 1\n",
            "H27-19-U 0 485 1\n",
            "H27-19-O 0 489 1\n",
            "H27-20-A 0 511 1\n",
            "H27-20-E 0 509 1\n",
            "H27-21-E 0 545 1\n",
            "H27-21-E 0 546 1\n",
            "H27-21-E 0 533 1\n",
            "H27-22-1 0 415 1\n",
            "H27-22-1 0 542 1\n",
            "H27-22-1 0 543 1\n",
            "H27-22-3 0 632 1\n",
            "H27-22-4 0 665 1\n",
            "H27-22-4 0 648 1\n",
            "H27-22-4 0 536 1\n",
            "H27-23-A 0 601 1\n",
            "H27-23-A 0 587 1\n",
            "H27-23-I 0 601 1\n",
            "H27-23-I 0 587 1\n",
            "H27-23-U 0 614 1\n",
            "H27-23-E 0 617 1\n",
            "H27-23-E 0 591 1\n",
            "H27-23-O 0 617 1\n",
            "H27-23-O 0 591 1\n",
            "H27-24-1 0 595 1\n",
            "H27-24-1 0 608 1\n",
            "H27-24-2 0 594 1\n",
            "H27-24-2 0 616 1\n",
            "H27-24-3 0 597 1\n",
            "H27-24-4 0 599 1\n",
            "H27-24-4 0 616 1\n",
            "H27-25-A 0 613 1\n",
            "H27-25-A 0 601 1\n",
            "H27-25-A 0 606 1\n",
            "H27-26-A 0 641 1\n",
            "H27-26-U 0 642 1\n",
            "H27-27-A 0 559 1\n",
            "H27-27-A 0 562 1\n",
            "H27-27-I 0 559 1\n",
            "H27-27-I 0 562 1\n",
            "H27-27-I 0 564 1\n",
            "H27-27-I 0 415 1\n",
            "H27-27-U 0 636 1\n",
            "H27-27-E 0 559 1\n",
            "H27-27-E 0 564 1\n",
            "H27-27-O 0 637 1\n",
            "H27-28-A 0 711 1\n",
            "H27-28-U 0 715 1\n",
            "H27-35-A 0 20 1\n",
            "H27-35-A 0 13 1\n",
            "H27-35-I 0 114 1\n",
            "H27-35-U 0 493 1\n",
            "H27-35-U 0 492 1\n",
            "H27-35-E 0 547 1\n",
            "H27-35-O 0 987 1\n",
            "H27-36-A 0 297 1\n",
            "H27-36-I 0 405 1\n",
            "H27-36-U 0 462 1\n",
            "H27-36-U 0 459 1\n",
            "H27-36-U 0 459_2 1\n",
            "H27-36-E 0 545 1\n",
            "H27-36-O 0 575 1\n",
            "H29-1-A 0 6 1\n",
            "H29-1-A 0 5 1\n",
            "H29-1-I 0 5 1\n",
            "H29-1-E 0 7 1\n",
            "H29-1-O 0 5 1\n",
            "H29-2-A 0 20 1\n",
            "H29-2-I 0 20 1\n",
            "H29-2-U 0 20 1\n",
            "H29-2-O 0 124 1\n",
            "H29-2-O 0 125 1\n",
            "H29-3-A 0 31 1\n",
            "H29-3-A 0 30 1\n",
            "H29-3-I 0 31 1\n",
            "H29-3-I 0 30 1\n",
            "H29-3-O 0 32 1\n",
            "H29-4-A 0 94 1\n",
            "H29-5-I 0 109 1\n",
            "H29-5-U 0 110 1\n",
            "H29-6-U 0 160 1\n",
            "H29-6-E 0 457 1\n",
            "H29-6-E 0 147 1\n",
            "H29-8-A 0 255 1\n",
            "H29-9-A 0 213 1\n",
            "H29-9-I 0 225 1\n",
            "H29-9-U 0 243 1\n",
            "H29-9-U 0 248 1\n",
            "H29-9-E 0 253 1\n",
            "H29-9-O 0 221 1\n",
            "H29-13-A 0 329 1\n",
            "H29-13-I 0 330 1\n",
            "H29-13-U 0 339 1\n",
            "H29-13-U 0 338 1\n",
            "H29-13-E 0 331 1\n",
            "H29-13-E 0 325 1\n",
            "H29-13-O 0 332 1\n",
            "H29-14-U 0 366 1\n",
            "H29-14-E 0 520_7 1\n",
            "H29-14-E 0 520_2 1\n",
            "H29-16-A 0 545 1\n",
            "H29-16-U 0 547 1\n",
            "H29-17-A 0 423 1\n",
            "H29-18-I 0 438 1\n",
            "H29-18-E 0 440 1\n",
            "H29-19-A 0 466 1\n",
            "H29-21-E 0 479 1\n",
            "H29-21-E 0 478 1\n",
            "H29-21-O 0 477 1\n",
            "H29-21-O 0 475 1\n",
            "H29-23-A 0 528 1\n",
            "H29-23-I 0 526 1\n",
            "H29-23-U 0 521 1\n",
            "H29-23-E 0 523 1\n",
            "H29-23-O 0 525 1\n",
            "H29-25-U 0 552 1\n",
            "H29-25-E 0 553 1\n",
            "H29-26-2 0 533 1\n",
            "H29-26-5 0 577 1\n",
            "H29-27-E 0 561 1\n",
            "H29-27-O 0 542 1\n",
            "H29-27-O 0 166 1\n",
            "H29-28-A 0 633 1\n",
            "H29-28-E 0 521 1\n",
            "H29-29-A 0 659 1\n",
            "H29-29-I 0 661 1\n",
            "H29-29-U 0 658 1\n",
            "H29-29-E 0 663 1\n",
            "H29-29-O 0 666 1\n",
            "H29-33-A 0 11 1\n",
            "H29-33-A 0 7 1\n",
            "H29-36-1 0 675 1\n",
            "H29-37-U 0 106 1\n",
            "H29-37-U 0 646 1\n",
            "H25-2-I 0 95 1\n",
            "H25-2-U 0 95 1\n",
            "H25-2-E 0 13 1\n",
            "H25-2-E 0 120 1\n",
            "H25-2-O 0 14 1\n",
            "H25-3-1 0 20 1\n",
            "H25-3-3 0 508 1\n",
            "H25-3-4 0 122 1\n",
            "H25-3-4 0 120 1\n",
            "H25-3-5 0 115 1\n",
            "H25-4-U 0 109 1\n",
            "H25-4-U 0 110 1\n",
            "H25-4-U 0 112 1\n",
            "H25-6-E 0 169 1\n",
            "H25-8-1 0 192 1\n",
            "H25-8-3 0 246 1\n",
            "H25-8-3 0 91 1\n",
            "H25-8-4 0 284 1\n",
            "H25-8-5 0 243 1\n",
            "H25-8-5 0 244 1\n",
            "H25-11-A 0 369 1\n",
            "H25-11-U 0 280 1\n",
            "H25-11-E 0 388 1\n",
            "H25-11-O 0 266 1\n",
            "H25-11-O 0 276 1\n",
            "H25-13-1 0 296 1\n",
            "H25-13-2 0 335 1\n",
            "H25-13-3 0 366 1\n",
            "H25-13-4 0 394 1\n",
            "H25-13-5 0 398_22 1\n",
            "H25-14-A 0 339 1\n",
            "H25-14-A 0 341 1\n",
            "H25-14-I 0 333 1\n",
            "H25-14-U 0 308 1\n",
            "H25-14-E 0 336 1\n",
            "H25-15-4 0 499 1\n",
            "H25-15-4 0 500 1\n",
            "H25-16-3 0 398_3 1\n",
            "H25-16-4 0 370 1\n",
            "H25-21-U 0 499 1\n",
            "H25-21-U 0 500 1\n",
            "H25-21-U 0 501 1\n",
            "H25-21-E 0 501 1\n",
            "H25-21-O 0 504 1\n",
            "H25-22-1 0 417 1\n",
            "H25-22-2 0 419 1\n",
            "H25-22-3 0 420 1\n",
            "H25-22-4 0 420 1\n",
            "H25-23-I 0 496 1\n",
            "H25-23-U 0 506 1\n",
            "H25-23-O 0 519 1\n",
            "H25-24-A 0 564 1\n",
            "H25-24-A 0 541 1\n",
            "H25-24-A 0 542 1\n",
            "H25-24-I 0 562 1\n",
            "H25-24-I 0 563 1\n",
            "H25-24-E 0 566 1\n",
            "H25-24-O 0 568 1\n",
            "H25-24-O 0 565 1\n",
            "H25-24-O 0 564 1\n",
            "H25-24-O 0 541 1\n",
            "H25-24-O 0 542 1\n",
            "H25-26-1 0 651 1\n",
            "H25-26-2 0 645 1\n",
            "H25-26-3 0 655 1\n",
            "H25-26-3 0 653 1\n",
            "H25-26-4 0 648 1\n",
            "H25-26-5 0 650 1\n",
            "H25-27-1 0 663 1\n",
            "H25-27-2 0 660 1\n",
            "H25-27-4 0 661 1\n",
            "H25-28-A 0 676 1\n",
            "H25-29-A 0 624 1\n",
            "H25-29-I 0 632 1\n",
            "H25-29-U 0 649 1\n",
            "H25-29-E 0 656 1\n",
            "H25-29-E 0 648 1\n",
            "H25-29-O 0 659 1\n",
            "H25-30-3 0 715 1\n",
            "H25-30-4 0 716 1\n",
            "H20-2-A 0 102 1\n",
            "H20-2-O 0 6 1\n",
            "H20-3-2 0 9 1\n",
            "H20-3-3 0 13 1\n",
            "H20-3-5 0 20 1\n",
            "H20-6-2 0 108 1\n",
            "H20-6-2 0 113 1\n",
            "H20-6-5 0 99 1\n",
            "H20-6-5 0 106 1\n",
            "H20-12-1 0 300 1\n",
            "H20-12-1 0 350 1\n",
            "H20-12-2 0 345 1\n",
            "H20-12-4 0 296 1\n",
            "H20-12-4 0 301 1\n",
            "H20-12-4 0 350 1\n",
            "H20-12-5 0 298 1\n",
            "H20-12-5 0 350 1\n",
            "H20-15-A 0 350 1\n",
            "H20-15-A 0 298 1\n",
            "H20-15-I 0 659 1\n",
            "H20-18-A 0 446 1\n",
            "H20-18-U 0 447 1\n",
            "H20-18-E 0 460 1\n",
            "H20-18-O 0 465_2 1\n",
            "H20-19-A 0 494 1\n",
            "H20-19-I 0 494 1\n",
            "H20-19-U 0 496 1\n",
            "H20-19-E 0 495 1\n",
            "H20-19-O 0 474 1\n",
            "H20-19-O 0 494 1\n",
            "H20-22-1 0 555 1\n",
            "H20-22-1 0 560 1\n",
            "H20-23-5 0 588 1\n",
            "H20-24-5 0 608 1\n",
            "H20-26-1 0 623 1\n",
            "H20-26-1 0 624 1\n",
            "H20-26-2 0 632 1\n",
            "H20-26-2 0 633 1\n",
            "H20-26-2 0 624 1\n",
            "H20-26-3 0 648 1\n",
            "H20-26-5 0 306 1\n",
            "H20-26-5 0 308 1\n",
            "H20-27-A 0 670 1\n",
            "H20-27-I 0 679 1\n",
            "H20-27-I 0 681 1\n",
            "H20-27-U 0 675 1\n",
            "H20-27-E 0 679 1\n",
            "H20-27-O 0 676 1\n",
            "H20-28-A 0 714 1\n",
            "H20-28-I 0 714 1\n",
            "H20-28-U 0 715 1\n",
            "H20-28-E 0 715 1\n",
            "H20-28-O 0 717 1\n",
            "H20-30-I 0 93 1\n",
            "H20-30-O 0 478 1\n",
            "H30-1-A 0 3 1\n",
            "H30-2-I 0 34 1\n",
            "H30-2-U 0 34 1\n",
            "H30-4-A 0 101 1\n",
            "H30-4-I 0 103 1\n",
            "H30-4-U 0 94 1\n",
            "H30-4-U 0 101 1\n",
            "H30-4-E 0 111 1\n",
            "H30-4-O 0 102 1\n",
            "H30-5-A 0 113 1\n",
            "H30-5-U 0 115 1\n",
            "H30-5-E 0 116 1\n",
            "H30-6-A 0 169 1\n",
            "H30-7-A 0 176 1\n",
            "H30-7-A 0 206 1\n",
            "H30-7-A 0 555 1\n",
            "H30-7-I 0 177 1\n",
            "H30-8-A 0 201 1\n",
            "H30-8-I 0 180 1\n",
            "H30-9-A 0 266 1\n",
            "H30-9-I 0 268 1\n",
            "H30-9-U 0 270 1\n",
            "H30-11-U 0 244 1\n",
            "H30-11-O 0 248 1\n",
            "H30-11-O 0 245 1\n",
            "H30-11-O 0 243 1\n",
            "H30-11-O 0 703 1\n",
            "H30-11-O 0 704 1\n",
            "H30-12-E 0 356 1\n",
            "H30-13-A 0 378 1\n",
            "H30-13-I 0 380 1\n",
            "H30-13-U 0 387 1\n",
            "H30-13-E 0 196 1\n",
            "H30-13-E 0 391 1\n",
            "H30-15-A 0 398_4 1\n",
            "H30-15-I 0 398_19 1\n",
            "H30-15-U 0 398_3 1\n",
            "H30-15-E 0 398_5 1\n",
            "H30-15-O 0 398_21 1\n",
            "H30-16-A 0 399 1\n",
            "H30-16-I 0 403 1\n",
            "H30-16-O 0 406 1\n",
            "H30-18-I 0 449 1\n",
            "H30-18-U 0 457 1\n",
            "H30-18-E 0 447 1\n",
            "H30-19-A 0 462 1\n",
            "H30-19-I 0 478 1\n",
            "H30-19-I 0 479 1\n",
            "H30-19-U 0 474 1\n",
            "H30-19-E 0 412 1\n",
            "H30-20-A 0 494 1\n",
            "H30-20-A 0 474 1\n",
            "H30-20-E 0 494 1\n",
            "H30-20-O 0 493 1\n",
            "H30-20-O 0 494 1\n",
            "H30-22-A 0 519 1\n",
            "H30-22-I 0 519 1\n",
            "H30-22-I 0 705 1\n",
            "H30-22-U 0 445 1\n",
            "H30-22-E 0 441 1\n",
            "H30-22-O 0 448 1\n",
            "H30-23-A 0 587 1\n",
            "H30-23-I 0 587 1\n",
            "H30-23-O 0 484 1\n",
            "H30-24-A 0 596 1\n",
            "H30-24-A 0 551 1\n",
            "H30-24-A 0 415 1\n",
            "H30-24-U 0 593 1\n",
            "H30-24-E 0 196 1\n",
            "H30-24-E 0 583 1\n",
            "H30-24-E 0 595 1\n",
            "H30-24-O 0 594 1\n",
            "H30-25-A 0 613 1\n",
            "H30-26-A 0 644 1\n",
            "H30-26-U 0 650 1\n",
            "H30-26-E 0 653 1\n",
            "H30-26-O 0 651 1\n",
            "H30-28-I 0 650 1\n",
            "H30-28-I 0 702 1\n",
            "H30-28-U 0 702 1\n",
            "H30-28-E 0 698 1\n",
            "H30-28-O 0 697 1\n",
            "H30-29-I 0 716 1\n",
            "H30-29-U 0 717 1\n",
            "H30-29-E 0 718 1\n",
            "H30-36-A 0 520 1\n",
            "H30-36-O 0 520 1\n",
            "H22-1-A 0 5 1\n",
            "H22-1-I 0 98_2 1\n",
            "H22-3-A 0 96 1\n",
            "H22-3-E 0 125 1\n",
            "H22-4-A 0 20 1\n",
            "H22-4-I 0 556 1\n",
            "H22-4-E 0 114 1\n",
            "H22-5-I 0 506 1\n",
            "H22-5-U 0 137 1\n",
            "H22-5-O 0 134 1\n",
            "H22-8-I 0 233 1\n",
            "H22-9-I 0 243 1\n",
            "H22-9-O 0 244 1\n",
            "H22-10-O 0 292 1\n",
            "H22-11-1 0 348 1\n",
            "H22-11-2 0 355 1\n",
            "H22-11-5 0 353 1\n",
            "H22-14-A 0 400 1\n",
            "H22-14-I 0 403 1\n",
            "H22-14-E 0 406 1\n",
            "H22-14-O 0 410 1\n",
            "H22-15-A 0 91 1\n",
            "H22-15-U 0 677 1\n",
            "H22-17-4 0 650 1\n",
            "H22-18-I 0 465_2 1\n",
            "H22-19-A 0 612 1\n",
            "H22-19-O 0 467 1\n",
            "H22-21-2 0 493 1\n",
            "H22-21-4 0 492 1\n",
            "H22-22-2 0 551 1\n",
            "H22-23-A 0 608 1\n",
            "H22-23-E 0 617 1\n",
            "H22-23-O 0 613 1\n",
            "H22-25-3 0 562 1\n",
            "H22-25-3 0 533 1\n",
            "H22-26-A 0 648 1\n",
            "H22-26-I 0 650 1\n",
            "H22-26-U 0 646 1\n",
            "H22-26-E 0 650 1\n",
            "H22-27-1 0 555 1\n",
            "H22-27-2 0 555 1\n",
            "H22-27-3 0 601 1\n",
            "H22-27-4 0 649 1\n",
            "H22-27-5 0 632 1\n",
            "H22-27-5 0 633 1\n",
            "H22-28-1 0 704 1\n",
            "H22-28-2 0 705 1\n",
            "H22-28-3 0 706 1\n",
            "H22-28-4 0 707 1\n",
            "H18-1-1 0 572 1\n",
            "H18-1-2 0 565 1\n",
            "H18-1-2 0 566 1\n",
            "H18-1-3 0 568 1\n",
            "H18-2-1 0 697 1\n",
            "H18-2-2 0 698 1\n",
            "H18-2-3 0 698 1\n",
            "H18-2-4 0 702 1\n",
            "H18-2-5 0 697 1\n",
            "H18-3-2 0 715 1\n",
            "H18-3-4 0 715 1\n",
            "H18-9-1 0 175 1\n",
            "H18-9-1 0 265 1\n",
            "H18-9-1 0 270 1\n",
            "H18-9-1 0 280 1\n",
            "H18-9-2 0 295 1\n",
            "H18-9-2 0 303 1\n",
            "H18-9-2 0 388 1\n",
            "H18-9-3 0 329 1\n",
            "H18-9-3 0 306 1\n",
            "H18-9-3 0 330 1\n",
            "H18-15-1 0 398_20 1\n",
            "H18-15-2 0 398_3 1\n",
            "H18-15-3 0 398_2 1\n",
            "H18-15-4 0 398_7 1\n",
            "H18-15-5 0 398_12 1\n",
            "H18-15-5 0 398_13 1\n",
            "H18-20-1 0 9 1\n",
            "H18-20-2 0 9 1\n",
            "H18-20-2 0 120 1\n",
            "H18-20-3 0 7 1\n",
            "H18-21-2 0 152 1\n",
            "H18-21-2 0 153 1\n",
            "H18-21-2 0 458 1\n",
            "H18-21-2 0 441 1\n",
            "H18-21-3 0 169 1\n",
            "H18-23-I 0 537 1\n",
            "H18-23-U 0 537 1\n",
            "H18-23-U 0 538 1\n",
            "H18-25-E 0 107 1\n",
            "H18-25-E 0 109 1\n",
            "H18-25-E 0 110 1\n",
            "H18-26-1 0 255 1\n",
            "H18-26-5 0 254 1\n",
            "H18-27-U 0 485 1\n",
            "H18-28-1 0 446 1\n",
            "H18-28-2 0 465_2 1\n",
            "H18-28-3 0 465_4 1\n",
            "H18-28-4 0 465_3 1\n",
            "H18-29-4 0 419 1\n",
            "H18-29-5 0 404 1\n",
            "H18-29-5 0 419 1\n",
            "H18-32-5 0 192 1\n",
            "H26-1-E 0 11 1\n",
            "H26-1-G 0 13 1\n",
            "H26-1-I 0 15 1\n",
            "H26-2-A 0 96 1\n",
            "H26-2-G 0 95 1\n",
            "H26-2-G 0 96 1\n",
            "H26-3-G 0 104 1\n",
            "H26-4-G 0 113 1\n",
            "H26-5-C 0 140 1\n",
            "H26-6-A 0 166 1\n",
            "H26-10-1 0 200 1\n",
            "H26-10-2 0 200 1\n",
            "H26-10-3 0 200 1\n",
            "H26-11-A 0 374 1\n",
            "H26-11-E 0 375 1\n",
            "H26-11-G 0 555 1\n",
            "H26-11-G 0 176 1\n",
            "H26-11-I 0 356 1\n",
            "H26-12-A 0 209 1\n",
            "H26-12-C 0 213 1\n",
            "H26-12-E 0 218 1\n",
            "H26-12-G 0 234 1\n",
            "H26-12-I 0 233 1\n",
            "H26-13-A 0 295 1\n",
            "H26-13-A 0 303 1\n",
            "H26-13-E 0 298 1\n",
            "H26-13-G 0 300 1\n",
            "H26-13-I 0 304 1\n",
            "H26-14-E 0 378 1\n",
            "H26-14-G 0 397 1\n",
            "H26-14-G 0 162 1\n",
            "H26-14-I 0 179 1\n",
            "H26-16-A 0 492 1\n",
            "H26-16-A 0 493 1\n",
            "H26-16-C 0 484 1\n",
            "H26-16-C 0 401 1\n",
            "H26-16-E 0 536 1\n",
            "H26-16-I 0 493 1\n",
            "H26-16-I 0 492 1\n",
            "H26-17-C 0 424 1\n",
            "H26-18-1 0 441 1\n",
            "H26-18-2 0 434 1\n",
            "H26-18-4 0 441 1\n",
            "H26-19-A 0 447 1\n",
            "H26-19-C 0 449 1\n",
            "H26-19-E 0 463 1\n",
            "H26-19-G 0 462 1\n",
            "H26-20-1 0 494 1\n",
            "H26-20-1 0 474 1\n",
            "H26-20-2 0 494 1\n",
            "H26-20-3 0 494 1\n",
            "H26-20-4 0 496 1\n",
            "H26-20-5 0 498 1\n",
            "H26-22-1 0 549 1\n",
            "H26-22-2 0 550 1\n",
            "H26-22-3 0 400 1\n",
            "H26-22-4 0 551 1\n",
            "H26-23-A 0 574 1\n",
            "H26-23-A 0 484 1\n",
            "H26-23-E 0 577 1\n",
            "H26-23-G 0 557 1\n",
            "H26-24-A 0 598 1\n",
            "H26-24-E 0 596 1\n",
            "H26-24-E 0 551 1\n",
            "H26-24-G 0 593 1\n",
            "H26-24-G 0 400 1\n",
            "H26-24-I 0 597 1\n",
            "H26-25-2 0 587 1\n",
            "H26-25-2 0 589 1\n",
            "H26-25-3 0 559 1\n",
            "H26-25-3 0 562 1\n",
            "H26-25-4 0 587_2 1\n",
            "H26-25-5 0 591 1\n",
            "H26-27-A 0 697 1\n",
            "H26-27-A 0 701 1\n",
            "H26-27-A 0 648 1\n",
            "H26-27-C 0 698 1\n",
            "H26-27-E 0 701 1\n",
            "H26-27-E 0 702 1\n",
            "H26-27-E 0 650 1\n",
            "H26-27-I 0 702 1\n",
            "H26-27-I 0 295 1\n",
            "H26-29-2 0 717 1\n",
            "H26-36-A 0 702 1\n",
            "H26-36-A 0 697 1\n",
            "H26-36-A 0 650 1\n",
            "H26-36-C 0 196 1\n",
            "H26-36-E 0 350 1\n",
            "H26-36-E 0 299 1\n",
            "H26-36-G 0 299 1\n",
            "H26-36-I 0 391 1\n",
            "H26-36-I 0 196 1\n",
            "H26-37-A 0 34 1\n",
            "H26-37-C 0 467 1\n",
            "H26-37-E 0 96 1\n",
            "H26-37-G 0 605 1\n",
            "H28-1-3 0 6 1\n",
            "H28-1-4 0 120 1\n",
            "H28-1-5 0 102 1\n",
            "H28-2-1 0 95 1\n",
            "H28-2-2 0 95 1\n",
            "H28-2-2 0 96 1\n",
            "H28-3-1 0 9 1\n",
            "H28-3-2 0 98_2 1\n",
            "H28-3-3 0 526 1\n",
            "H28-3-4 0 97 1\n",
            "H28-3-5 0 97 1\n",
            "H28-4-1 0 117 1\n",
            "H28-4-2 0 111 1\n",
            "H28-4-3 0 106 1\n",
            "H28-4-4 0 106 1\n",
            "H28-4-4 0 643 1\n",
            "H28-4-4 0 650 1\n",
            "H28-4-5 0 101 1\n",
            "H28-4-5 0 99 1\n",
            "H28-4-5 0 96 1\n",
            "H28-11-1 0 177 1\n",
            "H28-11-1 0 361 1\n",
            "H28-11-1 0 373 1\n",
            "H28-11-1 0 339 1\n",
            "H28-11-1 0 337 1\n",
            "H28-11-1 0 338 1\n",
            "H28-11-2 0 304 1\n",
            "H28-11-2 0 350 1\n",
            "H28-11-2 0 372 1\n",
            "H28-11-3 0 302 1\n",
            "H28-11-5 0 334 1\n",
            "H28-11-5 0 330 1\n",
            "H28-12-1 0 295 1\n",
            "H28-13-1 0 316 1\n",
            "H28-13-2 0 330 1\n",
            "H28-13-3 0 306 1\n",
            "H28-13-3 0 308 1\n",
            "H28-13-4 0 308 1\n",
            "H28-13-4 0 306 1\n",
            "H28-13-4 0 311 1\n",
            "H28-13-4 0 329 1\n",
            "H28-13-5 0 335 1\n",
            "H28-14-1 0 372 1\n",
            "H28-14-1 0 296 1\n",
            "H28-14-2 0 371 1\n",
            "H28-14-3 0 378 1\n",
            "H28-16-1 0 398_12 1\n",
            "H28-16-1 0 398_13 1\n",
            "H28-16-2 0 398_4 1\n",
            "H28-16-3 0 398_4 1\n",
            "H28-16-4 0 398_6 1\n",
            "H28-16-5 0 398_3 1\n",
            "H28-17-1 0 428 1\n",
            "H28-17-3 0 429 1\n",
            "H28-17-5 0 406 1\n",
            "H28-20-1 0 499 1\n",
            "H28-22-1 0 549 1\n",
            "H28-22-2 0 572 1\n",
            "H28-22-4 0 613 1\n",
            "H28-26-1 0 652 1\n",
            "H28-26-1 0 620 1\n",
            "H28-26-2 0 643 1\n",
            "H28-26-2 0 656 1\n",
            "H28-27-1 0 675 1\n",
            "H28-27-2 0 677 1\n",
            "H28-27-4 0 679 1\n",
            "H28-27-4 0 681 1\n",
            "H28-28-1 0 705 1\n",
            "H28-35-1 0 369 1\n",
            "H28-35-2 0 606 1\n",
            "H28-35-3 0 612 1\n",
            "H24-1-A 0 15 1\n",
            "H24-1-U 0 13 1\n",
            "H24-1-E 0 19 1\n",
            "H24-2-1 0 120 1\n",
            "H24-2-2 0 120 1\n",
            "H24-2-4 0 21 1\n",
            "H24-4-A 0 99 1\n",
            "H24-4-I 0 111 1\n",
            "H24-4-U 0 101 1\n",
            "H24-4-E 0 116 1\n",
            "H24-4-O 0 105 1\n",
            "H24-5-1 0 109 1\n",
            "H24-5-3 0 115 1\n",
            "H24-5-4 0 117 1\n",
            "H24-6-A 0 131 1\n",
            "H24-6-I 0 132 1\n",
            "H24-6-U 0 129 1\n",
            "H24-7-A 0 147 1\n",
            "H24-7-E 0 441 1\n",
            "H24-7-O 0 441 1\n",
            "H24-8-3 0 189 1\n",
            "H24-8-5 0 424 1\n",
            "H24-9-1 0 166 1\n",
            "H24-9-1 0 291 1\n",
            "H24-9-4 0 362 1\n",
            "H24-9-4 0 364 1\n",
            "H24-9-4 0 588 1\n",
            "H24-10-2 0 192 1\n",
            "H24-10-3 0 182 1\n",
            "H24-10-4 0 184 1\n",
            "H24-10-4 0 344 1\n",
            "H24-10-5 0 184 1\n",
            "H24-11-1 0 206 1\n",
            "H24-11-4 0 249 1\n",
            "H24-12-1 0 179 1\n",
            "H24-12-2 0 179 1\n",
            "H24-12-3 0 179 1\n",
            "H24-12-5 0 179 1\n",
            "H24-14-A 0 302 1\n",
            "H24-14-A 0 298 1\n",
            "H24-14-U 0 372 1\n",
            "H24-14-U 0 304 1\n",
            "H24-15-1 0 371 1\n",
            "H24-15-3 0 380 1\n",
            "H24-15-4 0 395 1\n",
            "H24-15-4 0 703 1\n",
            "H24-15-5 0 389 1\n",
            "H24-16-1 0 398_2 1\n",
            "H24-16-2 0 398_7 1\n",
            "H24-16-3 0 398_4 1\n",
            "H24-16-4 0 398_8 1\n",
            "H24-16-5 0 398_3 1\n",
            "H24-17-1 0 333 1\n",
            "H24-17-2 0 346 1\n",
            "H24-17-3 0 356 1\n",
            "H24-17-3 0 359 1\n",
            "H24-17-4 0 370 1\n",
            "H24-19-1 0 423 1\n",
            "H24-20-A 0 465_2 1\n",
            "H24-20-A 0 446 1\n",
            "H24-20-I 0 465_3 1\n",
            "H24-20-I 0 2 1\n",
            "H24-20-U 0 465_2 1\n",
            "H24-20-E 0 465_4 1\n",
            "H24-20-O 0 465_4 1\n",
            "H24-22-1 0 494 1\n",
            "H24-22-1 0 495 1\n",
            "H24-22-3 0 520 1\n",
            "H24-22-4 0 489 1\n",
            "H24-22-5 0 519 1\n",
            "H24-23-1 0 459 1\n",
            "H24-23-3 0 443 1\n",
            "H24-24-U 0 533 1\n",
            "H24-25-1 0 587 1\n",
            "H24-25-5 0 589 1\n",
            "H24-27-A 0 634 1\n",
            "H24-27-A 0 536 1\n",
            "H24-27-I 0 641 1\n",
            "H24-27-E 0 562 1\n",
            "H24-27-O 0 637 1\n",
            "H24-28-1 0 591 1\n",
            "H24-28-2 0 597 1\n",
            "H24-28-3 0 620 1\n",
            "H24-28-4 0 679 1\n",
            "H24-28-5 0 663 1\n",
            "H24-29-1 0 712 1\n",
            "H24-29-3 0 711 1\n",
            "H24-30-1 0 452 1\n",
            "H24-30-2 0 633 1\n",
            "H24-30-3 0 555 1\n"
          ],
          "name": "stdout"
        }
      ]
    },
    {
      "cell_type": "code",
      "metadata": {
        "id": "MIkIq87UhHIS",
        "colab": {
          "base_uri": "https://localhost:8080/"
        },
        "outputId": "a1a4149b-faae-4224-9a26-065a14c019d2"
      },
      "source": [
        "amounts = [0,0,0,0,0,0,0]\n",
        "for i in range(len(ground_truth)):\n",
        "  amounts[len(ground_truth[i])]+=1\n",
        "print(amounts)"
      ],
      "execution_count": null,
      "outputs": [
        {
          "output_type": "stream",
          "text": [
            "[0, 538, 121, 27, 6, 2, 1]\n"
          ],
          "name": "stdout"
        }
      ]
    },
    {
      "cell_type": "code",
      "metadata": {
        "id": "c3Hycxl3sXXQ",
        "colab": {
          "base_uri": "https://localhost:8080/"
        },
        "outputId": "6d641d2b-286f-4141-c9b3-638df679c464"
      },
      "source": [
        "import matplotlib.pyplot as plt\n",
        "import numpy as np\n",
        "relevent_articles = ('zero','one','two','three','four','five','six')\n",
        "y_pos = np.arange(len(relevent_articles))\n",
        "plt.bar(y_pos, amounts, align='center', alpha=0.5)\n",
        "plt.xticks(y_pos, relevent_articles)\n",
        "plt.ylabel('number of queries')\n",
        "plt.title('relvent articles per query')\n",
        "\n",
        "plt.show()"
      ],
      "execution_count": null,
      "outputs": [
        {
          "output_type": "display_data",
          "data": {
            "image/png": "[encoded data removed]",
            "text/plain": [
              "<Figure size 432x288 with 1 Axes>"
            ]
          },
          "metadata": {
            "tags": [],
            "needs_background": "light"
          }
        }
      ]
    },
    {
      "cell_type": "markdown",
      "metadata": {
        "id": "u1nE_vuymLF3"
      },
      "source": [
        "# Tf-IDF Retreival Process"
      ]
    },
    {
      "cell_type": "code",
      "metadata": {
        "id": "GbhMeld4-wTc",
        "colab": {
          "base_uri": "https://localhost:8080/"
        },
        "outputId": "39fe9590-7a61-473b-f4e3-fc1a963f1182"
      },
      "source": [
        "from gensim import corpora\n",
        "from nltk.tokenize import word_tokenize\n",
        "import nltk \n",
        "nltk.download('punkt')\n",
        "import pprint\n",
        "from gensim import models\n",
        "\n",
        "def retrieve_using_tfidf(corpus_data, query_list, ground_truth, top_n,threshold,top_100):\n",
        "    \"\"\"\n",
        "    This function searches the most similar texts to the query.\n",
        "        :param index: gensim.similarities object\n",
        "        :param query: a string\n",
        "        :param top_n: how many variants it returns\n",
        "        :param prints: if True returns the results, otherwise prints the results\n",
        "        :returns: a list of tuples (matched_document_index, similarity_value)\n",
        "    \"\"\"\n",
        "    from gensim import similarities\n",
        "    dictionary_articles = corpora.Dictionary(corpus_data)\n",
        "    #create corpus\n",
        "    corpus_articles = [dictionary_articles.doc2bow(line) for line in corpus_data]\n",
        "    #create model\n",
        "    tfidf_model = models.TfidfModel(corpus_articles, smartirs='ntc')\n",
        "    corpus_tfidf_model = tfidf_model[corpus_articles]\n",
        "    #index\n",
        "    index_tfidf_model = similarities.SparseMatrixSimilarity(corpus_tfidf_model, num_features=len(dictionary_articles))\n",
        "    total = 0\n",
        "    tp = 0\n",
        "    result = []\n",
        "    for i in range(len(query_list)):\n",
        "      query_id = df_expanded_query_list['ID'].iloc[i]\n",
        "      #for test\n",
        "      #query_id = df_test_data['ID'].iloc[i] \n",
        "      query_bow_vec = dictionary_articles.doc2bow(query_list[i])\n",
        "      similarities = index_tfidf_model[query_bow_vec]  # get similarities between the query and all index documents\n",
        "      similarities = [(x, i) for i, x in enumerate(similarities)]\n",
        "      similarities.sort(key=lambda elem: -elem[0])  # sorting by similarity_value in decreasing order\n",
        "      rank = 1\n",
        "      for score,doc_number in similarities[:top_n]:\n",
        "        retrieved_article_number = df_civil_code_list['Article_number'].iloc[doc_number]\n",
        "        if top_100==True:\n",
        "          print(query_id, \"Q0\", retrieved_article_number, rank, score, \"ovgu\",sep=\" \")## top 100\n",
        "          result.append(query_id+\" \"+\"Q0\"+\" \"+retrieved_article_number+\" \"+str(rank)+\" \"+str(score)+\" \"+\"OvGU\")# top 100\n",
        "          rank+=1\n",
        "        #if df_civil_code_list['Article_number'].iloc[doc_number]\n",
        "        else:\n",
        "          if rank == 1:\n",
        "            #print(query_id, \"Q0\", retrieved_article_number, rank, score, \"OvGU\", sep=\" \") \n",
        "            result.append(query_id+\" \"+\"Q0\"+\" \"+retrieved_article_number+\" \"+str(rank)+\" \"+str(score)+\" \"+\"OvGU\")\n",
        "            rank+=1\n",
        "            total+=1\n",
        "            if retrieved_article_number in ground_truth[i]:\n",
        "              tp +=1\n",
        "          \n",
        "          elif score > threshold:\n",
        "            #print(query_id, \"Q0\", retrieved_article_number, rank, score, \"ovgu\", sep=\" \") \n",
        "            result.append(query_id+\" \"+\"Q0\"+\" \"+retrieved_article_number+\" \"+str(rank)+\" \"+str(score)+\" \"+\"OvGU\")\n",
        "            rank+=1\n",
        "            total+=1\n",
        "            if retrieved_article_number in ground_truth[i]:\n",
        "              tp +=1\n",
        "\n",
        "        \n",
        "      \n",
        "          \n",
        "        \n",
        "    return total,tp,result  #for evaluation \n",
        "    \n",
        "    #return result #for test\n",
        "    "
      ],
      "execution_count": null,
      "outputs": [
        {
          "output_type": "stream",
          "text": [
            "[nltk_data] Downloading package punkt to /root/nltk_data...\n",
            "[nltk_data]   Unzipping tokenizers/punkt.zip.\n"
          ],
          "name": "stdout"
        }
      ]
    },
    {
      "cell_type": "code",
      "metadata": {
        "id": "fWopi1P2Ko-C",
        "colab": {
          "base_uri": "https://localhost:8080/"
        },
        "outputId": "a754c190-d2ba-4774-ab69-464075d7a436"
      },
      "source": [
        "dataset_query_lemmas.iloc[0]"
      ],
      "execution_count": null,
      "outputs": [
        {
          "output_type": "execute_result",
          "data": {
            "application/vnd.google.colaboratory.intrinsic+json": {
              "type": "string"
            },
            "text/plain": [
              "\"['acceptance', 'make', 'minor', 'receive', 'offer', 'gift', 'without', 'burden', 'without', 'get', 'consent', 'statutory', 'agent', 'may', 'not', 'rescind']\""
            ]
          },
          "metadata": {
            "tags": []
          },
          "execution_count": 19
        }
      ]
    },
    {
      "cell_type": "code",
      "metadata": {
        "id": "-j1egbwJKo6Y"
      },
      "source": [
        ""
      ],
      "execution_count": null,
      "outputs": []
    },
    {
      "cell_type": "markdown",
      "metadata": {
        "id": "G3LLP1i2L9ww"
      },
      "source": [
        "# Evaluation"
      ]
    },
    {
      "cell_type": "code",
      "metadata": {
        "id": "tbaerfr7JGnl"
      },
      "source": [
        "def evaluation(true_positive,total_retrieved,ground_truth):\n",
        "  total_relevent = 0\n",
        "  for i in range(len(ground_truth)):\n",
        "    total_relevent += len(ground_truth[i])\n",
        "  print(\"total retrieved = \"+str(total_retrieved)+ \"\\ntp= \"+str(true_positive)+\"\\ntotal relevent=\" +str(total_relevent))\n",
        "  false_positive = total_retrieved - true_positive\n",
        "  false_negative = total_relevent - true_positive\n",
        "  precision  = true_positive / (true_positive+false_positive)\n",
        "  recall = true_positive / (true_positive + false_negative)\n",
        "  f_score = (5* precision * recall) / ((4*precision )+ recall)\n",
        "  print(\"Precion = \"+str(precision),\"Recall=\"+str(recall), \"F2score = \"+str(f_score), sep=\"\\n\")"
      ],
      "execution_count": null,
      "outputs": []
    },
    {
      "cell_type": "code",
      "metadata": {
        "id": "h5-tLsHvX3Zx",
        "colab": {
          "base_uri": "https://localhost:8080/"
        },
        "outputId": "e7673b44-c4c0-4416-9b5a-c0eb36f2a17e"
      },
      "source": [
        "#i in range(len(query_list)):\n",
        "total_retrieved, true_positive, result = retrieve_using_tfidf(lemma_articles, query_list, ground_truth, 2,0.33,False)\n",
        "evaluation(true_positive,total_retrieved,ground_truth)\n",
        "\n",
        "f= open(\"result_tfidf_lemmas.txt\",\"w+\")\n",
        "for i in range(len(result)):\n",
        "  f.write(result[i]+\"\\n\")\n",
        "f.close()\n"
      ],
      "execution_count": null,
      "outputs": [
        {
          "output_type": "stream",
          "text": [
            "total retrieved = 695\n",
            "tp= 5\n",
            "total relevent=901\n",
            "Precion = 0.007194244604316547\n",
            "Recall=0.005549389567147614\n",
            "F2score = 0.005815305885089554\n"
          ],
          "name": "stdout"
        }
      ]
    },
    {
      "cell_type": "code",
      "metadata": {
        "id": "Qk0vWwAjI028",
        "colab": {
          "base_uri": "https://localhost:8080/"
        },
        "outputId": "44972f74-2f6a-4126-f684-328891aad858"
      },
      "source": [
        "len(ground_truth)\n",
        "\"\"\"\n",
        "total retrieved = 1156 tp= 403 total relevent=903 Precion = 0.3486159169550173 Recall=0.44629014396456257 F2score = 0.4226090604026846 \n",
        "q= 2, th = .33 lemmas\n",
        "tokens q= 2, th = .33\n",
        "total retrieved = 1067 tp= 351 total relevent=901 Precion = 0.3289597000937207 Recall=0.3895671476137625 F2score = 0.37572254335260\n",
        "total retrieved = 1156 tp= 385 total relevent=901 Precion = 0.33304498269896193 Recall=0.42730299667036625 F2score = 0.4044117647058823\n",
        "q= 2, th = .33 lemmas new\n",
        "total retrieved = 1378 tp= 403 total relevent=901 Precion = 0.29245283018867924 Recall=0.44728079911209767 F2score = 0.4044560417503011\n",
        "q= 2, th = .14 query expansion lemmas \n",
        "total retrieved = 1028 tp= 359 total relevent=901 Precion = 0.34922178988326846 Recall=0.39844617092119866 F2score = 0.38752158894645944\n",
        "q= 3, th = .21 bigrams\n",
        "total retrieved = 1026 tp= 297 total relevent=901 Precion = 0.2894736842105263 Recall=0.32963374028856823 F2score = 0.32073434125269973\n",
        "q= 3, th = .13 trigrams\n",
        "\"\"\""
      ],
      "execution_count": null,
      "outputs": [
        {
          "output_type": "execute_result",
          "data": {
            "application/vnd.google.colaboratory.intrinsic+json": {
              "type": "string"
            },
            "text/plain": [
              "'\\ntotal retrieved = 1156 tp= 403 total relevent=903 Precion = 0.3486159169550173 Recall=0.44629014396456257 F2score = 0.4226090604026846 \\nq= 2, th = .33 lemmas\\ntokens q= 2, th = .33\\ntotal retrieved = 1067 tp= 351 total relevent=901 Precion = 0.3289597000937207 Recall=0.3895671476137625 F2score = 0.37572254335260\\ntotal retrieved = 1156 tp= 385 total relevent=901 Precion = 0.33304498269896193 Recall=0.42730299667036625 F2score = 0.4044117647058823\\nq= 2, th = .33 lemmas new\\ntotal retrieved = 1378 tp= 403 total relevent=901 Precion = 0.29245283018867924 Recall=0.44728079911209767 F2score = 0.4044560417503011\\nq= 2, th = .14 query expansion lemmas \\ntotal retrieved = 1028 tp= 359 total relevent=901 Precion = 0.34922178988326846 Recall=0.39844617092119866 F2score = 0.38752158894645944\\nq= 3, th = .21 bigrams\\ntotal retrieved = 1026 tp= 297 total relevent=901 Precion = 0.2894736842105263 Recall=0.32963374028856823 F2score = 0.32073434125269973\\nq= 3, th = .13 trigrams\\n'"
            ]
          },
          "metadata": {
            "tags": []
          },
          "execution_count": 22
        }
      ]
    },
    {
      "cell_type": "markdown",
      "metadata": {
        "id": "aAkwYJOqG-jM"
      },
      "source": [
        "# BM25"
      ]
    },
    {
      "cell_type": "code",
      "metadata": {
        "id": "q3XWT6YJxPVP",
        "colab": {
          "base_uri": "https://localhost:8080/"
        },
        "outputId": "17715aac-61b5-4f38-9307-ae01749fd921"
      },
      "source": [
        "!pip install rank_bm25\n",
        "from rank_bm25 import BM25Okapi\n"
      ],
      "execution_count": null,
      "outputs": [
        {
          "output_type": "stream",
          "text": [
            "Collecting rank_bm25\n",
            "  Downloading rank_bm25-0.2.1-py3-none-any.whl (8.5 kB)\n",
            "Requirement already satisfied: numpy in /usr/local/lib/python3.7/dist-packages (from rank_bm25) (1.19.5)\n",
            "Installing collected packages: rank-bm25\n",
            "Successfully installed rank-bm25-0.2.1\n"
          ],
          "name": "stdout"
        }
      ]
    },
    {
      "cell_type": "code",
      "metadata": {
        "id": "hbRKdFEGI_ex"
      },
      "source": [
        "def retrieve_using_BM25(query_list,ground_truth,preprocessed_corpus, top_n, score_difference_threshold,top_100):\n",
        "  \n",
        "  bm25 = BM25Okapi(preprocessed_corpus)\n",
        "  doc_list=[]\n",
        "  for i in range(len(preprocessed_corpus)):\n",
        "    doc_list.append(i)\n",
        "  total = 0\n",
        "  tp = 0\n",
        "  result = []\n",
        "  top_score = 0\n",
        "  for i in range(len(query_list)):\n",
        "    #query_id = query_list['ID'].iloc[i]\n",
        "    query_id = df_query_list['ID'].iloc[i]\n",
        "    rank = 1\n",
        "    doc_scores = bm25.get_scores(query_list[i])\n",
        "    bm25_dict = dict(zip(doc_list,doc_scores))\n",
        "    sorted_bm25_dict = sorted(bm25_dict.items(), key=lambda x: x[1], reverse=True)\n",
        "    for doc_number, score in sorted_bm25_dict[:top_n]:\n",
        "      retrieved_article_number = df_civil_code_list['Article_number'].iloc[doc_number]\n",
        "      if top_100 == True :\n",
        "          print(query_id, \"Q0\", retrieved_article_number, rank, score, \"OvGU\",sep=\" \")## top 100\n",
        "          result.append(query_id+\" \"+\"Q0\"+\" \"+retrieved_article_number+\" \"+str(rank)+\" \"+str(score)+\" \"+\"OvGU\")# top 100\n",
        "          rank+=1\n",
        "      else:\n",
        "        if rank ==1:\n",
        "          top_score = score\n",
        "          #print(query_id, \"Q0\", retrieved_article_number, rank, score, \"ovgu\", ground_truth[i], sep=\" \")\n",
        "          #print(query_id, \"Q0\", retrieved_article_number, rank, score, \"ovgu\",sep=\" \")#for test\n",
        "          result.append(query_id+\" \"+\"Q0\"+\" \"+retrieved_article_number+\" \"+str(rank)+\" \"+str(score)+\" \"+\"OvGU\")\n",
        "          rank+=1\n",
        "          total+=1\n",
        "          if retrieved_article_number in ground_truth[i]:\n",
        "            tp +=1\n",
        "        elif top_score - score < score_difference_threshold: \n",
        "          #print(query_id, \"Q0\", retrieved_article_number, rank, score, \"ovgu\", ground_truth[i], sep=\" \")\n",
        "          #print(query_id, \"Q0\", retrieved_article_number, rank, score, \"ovgu\",sep=\" \")#for test\n",
        "          result.append(query_id+\" \"+\"Q0\"+\" \"+retrieved_article_number+\" \"+str(rank)+\" \"+str(score)+\" \"+\"OvGU\")\n",
        "          rank+=1\n",
        "          total+=1\n",
        "          if retrieved_article_number in ground_truth[i]:\n",
        "            tp +=1\n",
        "          \n",
        "  return tp,total\n",
        "   \n",
        "  #for test\n",
        "  #return result  \n",
        "\n",
        "  \n"
      ],
      "execution_count": null,
      "outputs": []
    },
    {
      "cell_type": "code",
      "metadata": {
        "id": "8NRdauembfor",
        "colab": {
          "base_uri": "https://localhost:8080/"
        },
        "outputId": "34a6f458-d5b0-4774-c31f-1f0a49e9995a"
      },
      "source": [
        "print(696*2)\n",
        "\"\"\"total retrieved = 1481 tp= 433 total relevent=903 Precion = 0.2923700202565834 Recall=0.4795127353266888 F2score = 0.42509326526605146\n",
        "r = 3, th = 7 lemmas old\n",
        "total retrieved = 1279 tp= 418 total relevent=901 Precion = 0.326817826426896 Recall=0.46392896781354054 F2score = 0.4280155642023346\n",
        "r = 3, th = 6 tokens\n",
        "total retrieved = 1362 tp= 456 total relevent=901 Precion = 0.33480176211453744 Recall=0.5061043285238623 F2score = 0.4591220298026581 \n",
        "r = 3, th = 7 lemmas new\n",
        "total retrieved = 1683 tp= 427 total relevent=901 Precion = 0.25371360665478315 Recall=0.4739178690344062 F2score = 0.4038206922640439\n",
        "r = 3, th = 11 query expansion lemma\n",
        "total retrieved = 1102\n",
        "tp= 374 total relevent=901 Precion = 0.3393829401088929 Recall=0.41509433962264153 F2score = 0.39736506587335324\n",
        "r = 2, th = 7 bigrams \n",
        "total retrieved = 1091 tp= 287 total relevent=901 Precion = 0.26306141154903756 Recall=0.31853496115427304 F2score = 0.30564430244941426\n",
        "r = 2. th = 5\n",
        "\"\"\""
      ],
      "execution_count": null,
      "outputs": [
        {
          "output_type": "stream",
          "text": [
            "1392\n"
          ],
          "name": "stdout"
        },
        {
          "output_type": "execute_result",
          "data": {
            "application/vnd.google.colaboratory.intrinsic+json": {
              "type": "string"
            },
            "text/plain": [
              "'total retrieved = 1481 tp= 433 total relevent=903 Precion = 0.2923700202565834 Recall=0.4795127353266888 F2score = 0.42509326526605146\\nr = 3, th = 7 lemmas old\\ntotal retrieved = 1279 tp= 418 total relevent=901 Precion = 0.326817826426896 Recall=0.46392896781354054 F2score = 0.4280155642023346\\nr = 3, th = 6 tokens\\ntotal retrieved = 1362 tp= 456 total relevent=901 Precion = 0.33480176211453744 Recall=0.5061043285238623 F2score = 0.4591220298026581 \\nr = 3, th = 7 lemmas new\\ntotal retrieved = 1683 tp= 427 total relevent=901 Precion = 0.25371360665478315 Recall=0.4739178690344062 F2score = 0.4038206922640439\\nr = 3, th = 11 query expansion lemma\\ntotal retrieved = 1102\\ntp= 374 total relevent=901 Precion = 0.3393829401088929 Recall=0.41509433962264153 F2score = 0.39736506587335324\\nr = 2, th = 7 bigrams \\ntotal retrieved = 1091 tp= 287 total relevent=901 Precion = 0.26306141154903756 Recall=0.31853496115427304 F2score = 0.30564430244941426\\nr = 2. th = 5\\n'"
            ]
          },
          "metadata": {
            "tags": []
          },
          "execution_count": 25
        }
      ]
    },
    {
      "cell_type": "code",
      "metadata": {
        "id": "BMulPHjGZsIb",
        "colab": {
          "base_uri": "https://localhost:8080/"
        },
        "outputId": "e465b06b-d80f-488a-a59e-99e989a0e19b"
      },
      "source": [
        "true_positive_bm25, total_retrieved_bm25 = retrieve_using_BM25(query_list, ground_truth, lemma_articles,2,7,top_100=False)\n",
        "evaluation(true_positive_bm25,total_retrieved_bm25,ground_truth)\n"
      ],
      "execution_count": null,
      "outputs": [
        {
          "output_type": "stream",
          "text": [
            "total retrieved = 1390\n",
            "tp= 6\n",
            "total relevent=901\n",
            "Precion = 0.004316546762589928\n",
            "Recall=0.006659267480577136\n",
            "F2score = 0.006007208650380455\n"
          ],
          "name": "stdout"
        }
      ]
    },
    {
      "cell_type": "markdown",
      "metadata": {
        "id": "C0WYBdhNx8BU"
      },
      "source": [
        "setting a threshold value is difficult. This has to be decided based on the experimentation on which provides a better F2 score since that is used as the basic evaluation metric. "
      ]
    },
    {
      "cell_type": "markdown",
      "metadata": {
        "id": "nmINIrLZswCD"
      },
      "source": [
        "ref for evaluation : http://pages.cs.wisc.edu/~jerryzhu/cs838/IR.pdf"
      ]
    },
    {
      "cell_type": "markdown",
      "metadata": {
        "id": "EnV-BnEgYE1w"
      },
      "source": [
        "# test data"
      ]
    },
    {
      "cell_type": "code",
      "metadata": {
        "id": "EGM2Wb0_PSqe"
      },
      "source": [
        "os.chdir('/content/drive/My Drive/COLIEE Retrieval /COLIEE Dry Run Data /preprocessed_data/test_data/')\n",
        "df_test_data = pd.read_pickle('cleaned_formal_test_data.pkl')\n"
      ],
      "execution_count": null,
      "outputs": []
    },
    {
      "cell_type": "code",
      "metadata": {
        "id": "LzhKj8C_5NFR"
      },
      "source": [
        "test_data_query_list_comb = []\n",
        "for i in range(len(df_test_data)):\n",
        "  q = df_test_data['Query_bigrams'].iloc[i]\n",
        "  test_data_query_list_comb.append(q)"
      ],
      "execution_count": null,
      "outputs": []
    },
    {
      "cell_type": "code",
      "metadata": {
        "id": "nthW5YPhUQyu"
      },
      "source": [
        "test_data_query_list_1 = []\n",
        "for i in range(len(df_test_data)):\n",
        "  q = df_test_data['Query_lemma'].iloc[i]\n",
        "  test_data_query_list_1.append(q)\n",
        "test_data_query_list_2 = []\n",
        "for i in range(len(df_test_data)):\n",
        "  q=df_test_data['Query_tokens'].iloc[i]\n",
        "  test_data_query_list_2.append(q)\n",
        "test_data_query_list_3 = []\n"
      ],
      "execution_count": null,
      "outputs": []
    },
    {
      "cell_type": "code",
      "metadata": {
        "id": "Bzq4D8GwU17I"
      },
      "source": [
        "test_data_query_list_2[0]"
      ],
      "execution_count": null,
      "outputs": []
    },
    {
      "cell_type": "code",
      "metadata": {
        "id": "5AN7roOyXHZ4"
      },
      "source": [
        "os.chdir('/content/drive/My Drive/COLIEE Retrieval /COLIEE Dry Run Data /Results/')\n",
        "result = retrieve_using_BM25(test_data_query_list_comb,dataset_combined_articles_lemma_bi_tri_grams,100,45,True)\n",
        "print(result)\n",
        "f= open(\"result_1_combined_lemma_bi_tri_bm25_100.txt\",\"w+\")\n",
        "for i in range(len(result)):\n",
        "  f.write(result[i]+\"\\n\")\n",
        "f.close()"
      ],
      "execution_count": null,
      "outputs": []
    },
    {
      "cell_type": "code",
      "metadata": {
        "id": "d3mPZ8rwYfDE"
      },
      "source": [
        "result_2 = retrieve_using_BM25(test_data_query_list_2,token_articles,3,6,top_100=False)\n",
        "print(result_2)\n",
        "f= open(\"result_2_token_bm25.txt\",\"w+\")\n",
        "for i in range(len(result_2)):\n",
        "  f.write(result_2[i]+\"\\n\")\n",
        "f.close()"
      ],
      "execution_count": null,
      "outputs": []
    },
    {
      "cell_type": "code",
      "metadata": {
        "id": "MBP1azVwfPhK"
      },
      "source": [
        "result_3 = retrieve_using_tfidf(index_tfidf_model,test_data_query_list_1,2,0.33,top_100=False)\n",
        "print(result_3)\n",
        "f= open(\"result_3_lemma_tfidf.txt\",\"w+\")\n",
        "for i in range(len(result_3)):\n",
        "  f.write(result_3[i]+\"\\n\")\n",
        "f.close()"
      ],
      "execution_count": null,
      "outputs": []
    },
    {
      "cell_type": "code",
      "metadata": {
        "id": "o9phN0gLircw"
      },
      "source": [
        "result_1 = retrieve_using_BM25(test_data_query_list_1,lemma_articles,100,7,top_100=True)\n",
        "print(result_1)\n",
        "f= open(\"result_1_lemma_bm25_top_100.txt\",\"w+\")\n",
        "for i in range(len(result_1)):\n",
        "  f.write(result_1[i]+\"\\n\")\n",
        "f.close()"
      ],
      "execution_count": null,
      "outputs": []
    },
    {
      "cell_type": "code",
      "metadata": {
        "id": "h6hsIHLbqI8s"
      },
      "source": [
        "result_2 = retrieve_using_BM25(test_data_query_list_2,token_articles,100,7,top_100=True)\n",
        "print(result_2)\n",
        "f= open(\"result_2_token_bm25_top_100.txt\",\"w+\")\n",
        "for i in range(len(result_2)):\n",
        "  f.write(result_2[i]+\"\\n\")\n",
        "f.close()"
      ],
      "execution_count": null,
      "outputs": []
    },
    {
      "cell_type": "code",
      "metadata": {
        "id": "Gfwm4_zKqMGr"
      },
      "source": [
        "result_3 = retrieve_using_tfidf(index_tfidf_model,test_data_query_list_1,100,0.33,top_100=True)\n",
        "print(result_3)\n",
        "f= open(\"result_3_lemma_tfidf_top_100.txt\",\"w+\")\n",
        "for i in range(len(result_3)):\n",
        "  f.write(result_3[i]+\"\\n\")\n",
        "f.close()"
      ],
      "execution_count": null,
      "outputs": []
    },
    {
      "cell_type": "markdown",
      "metadata": {
        "id": "2cGFZoxE484a"
      },
      "source": [
        "#Test set"
      ]
    },
    {
      "cell_type": "code",
      "metadata": {
        "id": "VDRyMfJu4Gp7"
      },
      "source": [
        "os.chdir('/content/drive/My Drive/COLIEE Retrieval /COLIEE2020statute_data-English_dryrun/test_data_coliee_2020_task3/')"
      ],
      "execution_count": null,
      "outputs": []
    },
    {
      "cell_type": "code",
      "metadata": {
        "colab": {
          "base_uri": "https://localhost:8080/",
          "height": 1000
        },
        "id": "KO_K_KEJ476i",
        "outputId": "d95633cb-7cea-4954-f5d7-027df3efdb2b"
      },
      "source": [
        "df_test_data = pd.read_pickle('test_data_coliee_2020_task3_cleaned_extended_ground_truth.pkl')\n",
        "df_test_data.head().T"
      ],
      "execution_count": null,
      "outputs": [
        {
          "output_type": "execute_result",
          "data": {
            "text/html": [
              "<div>\n",
              "<style scoped>\n",
              "    .dataframe tbody tr th:only-of-type {\n",
              "        vertical-align: middle;\n",
              "    }\n",
              "\n",
              "    .dataframe tbody tr th {\n",
              "        vertical-align: top;\n",
              "    }\n",
              "\n",
              "    .dataframe thead th {\n",
              "        text-align: right;\n",
              "    }\n",
              "</style>\n",
              "<table border=\"1\" class=\"dataframe\">\n",
              "  <thead>\n",
              "    <tr style=\"text-align: right;\">\n",
              "      <th></th>\n",
              "      <th>0</th>\n",
              "      <th>1</th>\n",
              "      <th>2</th>\n",
              "      <th>3</th>\n",
              "      <th>4</th>\n",
              "    </tr>\n",
              "  </thead>\n",
              "  <tbody>\n",
              "    <tr>\n",
              "      <th>ID</th>\n",
              "      <td>R01-1-A</td>\n",
              "      <td>R01-1-I</td>\n",
              "      <td>R01-1-U</td>\n",
              "      <td>R01-1-E</td>\n",
              "      <td>R01-1-O</td>\n",
              "    </tr>\n",
              "    <tr>\n",
              "      <th>Query</th>\n",
              "      <td>A contract of sales concluded by a minor may ...</td>\n",
              "      <td>A contract of sales concluded by an adult war...</td>\n",
              "      <td>A contract of guarantee concluded by a person...</td>\n",
              "      <td>An act which requires the consent of the assi...</td>\n",
              "      <td>The period of the extinctive prescription of ...</td>\n",
              "    </tr>\n",
              "    <tr>\n",
              "      <th>Article_numbers</th>\n",
              "      <td>['5']</td>\n",
              "      <td>['9']</td>\n",
              "      <td>['13']</td>\n",
              "      <td>['17']</td>\n",
              "      <td>['124', '126']</td>\n",
              "    </tr>\n",
              "    <tr>\n",
              "      <th>Query_tokens</th>\n",
              "      <td>['contract', 'sales', 'concluded', 'minor', 'm...</td>\n",
              "      <td>['contract', 'sales', 'concluded', 'adult', 'w...</td>\n",
              "      <td>['contract', 'guarantee', 'concluded', 'person...</td>\n",
              "      <td>['act', 'requires', 'consent', 'assistant', 'm...</td>\n",
              "      <td>['period', 'extinctive', 'prescription', 'righ...</td>\n",
              "    </tr>\n",
              "    <tr>\n",
              "      <th>Query_lemma</th>\n",
              "      <td>['contract', 'sale', 'conclude', 'minor', 'may...</td>\n",
              "      <td>['contract', 'sale', 'conclude', 'adult', 'war...</td>\n",
              "      <td>['contract', 'guarantee', 'conclude', 'person'...</td>\n",
              "      <td>['act', 'require', 'consent', 'assistant', 'ma...</td>\n",
              "      <td>['period', 'extinctive', 'prescription', 'righ...</td>\n",
              "    </tr>\n",
              "    <tr>\n",
              "      <th>Query_pos</th>\n",
              "      <td>['NOUN', 'NOUN', 'VERB', 'ADJ', 'VERB', 'PART'...</td>\n",
              "      <td>['NOUN', 'NOUN', 'VERB', 'NOUN', 'NOUN', 'VERB...</td>\n",
              "      <td>['NOUN', 'NOUN', 'VERB', 'NOUN', 'NOUN', 'VERB...</td>\n",
              "      <td>['NOUN', 'VERB', 'NOUN', 'NOUN', 'VERB', 'VERB...</td>\n",
              "      <td>['NOUN', 'ADJ', 'NOUN', 'NOUN', 'VERB', 'NOUN'...</td>\n",
              "    </tr>\n",
              "    <tr>\n",
              "      <th>Expanded_query_tokens</th>\n",
              "      <td>['countermand', 'causa', 'venial', 'link', 'ty...</td>\n",
              "      <td>['countermand', 'causa', 'link', 'typeface', '...</td>\n",
              "      <td>['cut', 'countermand', 'event', 'face', 'fount...</td>\n",
              "      <td>['countermand', 'tourist_court', 'human_action...</td>\n",
              "      <td>['right_wing', 'mightily', 'countermand', 'hum...</td>\n",
              "    </tr>\n",
              "    <tr>\n",
              "      <th>Expanded_query_lemma</th>\n",
              "      <td>['countermand', 'causa', 'venial', 'link', 'ty...</td>\n",
              "      <td>['countermand', 'causa', 'link', 'typeface', '...</td>\n",
              "      <td>['cut', 'countermand', 'event', 'face', 'fount...</td>\n",
              "      <td>['countermand', 'tourist_court', 'human_action...</td>\n",
              "      <td>['right_wing', 'mightily', 'countermand', 'hum...</td>\n",
              "    </tr>\n",
              "    <tr>\n",
              "      <th>Articles</th>\n",
              "      <td>[\"(Juridical Acts by Minors) Article_5  (1) A ...</td>\n",
              "      <td>['(Juridical Acts by Adult Wards under Guardia...</td>\n",
              "      <td>[\"(Acts Requiring Consent of Curator) Article_...</td>\n",
              "      <td>[\"(Decisions Requiring Person to Obtain Consen...</td>\n",
              "      <td>['(Requirements for Ratification) Article_124 ...</td>\n",
              "    </tr>\n",
              "    <tr>\n",
              "      <th>Article_tokens</th>\n",
              "      <td>[['juridical', 'acts', 'minors', 'article_5', ...</td>\n",
              "      <td>[['juridical', 'acts', 'adult', 'wards', 'guar...</td>\n",
              "      <td>[['acts', 'requiring', 'consent', 'curator', '...</td>\n",
              "      <td>[['decisions', 'requiring', 'person', 'obtain'...</td>\n",
              "      <td>[['requirements', 'ratification', 'article_124...</td>\n",
              "    </tr>\n",
              "    <tr>\n",
              "      <th>Article_lemma</th>\n",
              "      <td>[['juridical', 'act', 'minor', 'article_5', '1...</td>\n",
              "      <td>[['juridical', 'act', 'adult', 'ward', 'guardi...</td>\n",
              "      <td>[['act', 'require', 'consent', 'curator', 'art...</td>\n",
              "      <td>[['decision', 'require', 'person', 'obtain', '...</td>\n",
              "      <td>[['requirement', 'ratification', 'article_124'...</td>\n",
              "    </tr>\n",
              "    <tr>\n",
              "      <th>Article_pos</th>\n",
              "      <td>[['ADJ', 'NOUN', 'NOUN', 'PROPN', 'X', 'NOUN',...</td>\n",
              "      <td>[['ADJ', 'NOUN', 'NOUN', 'NOUN', 'NOUN', 'ADV'...</td>\n",
              "      <td>[['NOUN', 'VERB', 'NOUN', 'NOUN', 'PROPN', 'X'...</td>\n",
              "      <td>[['NOUN', 'VERB', 'NOUN', 'VERB', 'NOUN', 'NOU...</td>\n",
              "      <td>[['NOUN', 'NOUN', 'VERB', 'X', 'NOUN', 'ADJ', ...</td>\n",
              "    </tr>\n",
              "    <tr>\n",
              "      <th>Article_titles</th>\n",
              "      <td>[['ADJ', 'NOUN', 'NOUN', 'PROPN', 'X', 'NOUN',...</td>\n",
              "      <td>[['ADJ', 'NOUN', 'NOUN', 'NOUN', 'NOUN', 'ADV'...</td>\n",
              "      <td>[['NOUN', 'VERB', 'NOUN', 'NOUN', 'PROPN', 'X'...</td>\n",
              "      <td>[['NOUN', 'VERB', 'NOUN', 'VERB', 'NOUN', 'NOU...</td>\n",
              "      <td>[['NOUN', 'NOUN', 'VERB', 'X', 'NOUN', 'ADJ', ...</td>\n",
              "    </tr>\n",
              "    <tr>\n",
              "      <th>Article_title_tokens</th>\n",
              "      <td>[['juridical', 'acts', 'minors']]</td>\n",
              "      <td>[['juridical', 'acts', 'adult', 'wards', 'guar...</td>\n",
              "      <td>[['acts', 'requiring', 'consent', 'curator']]</td>\n",
              "      <td>[['decisions', 'requiring', 'person', 'obtain'...</td>\n",
              "      <td>[['requirements', 'ratification'], ['limitatio...</td>\n",
              "    </tr>\n",
              "    <tr>\n",
              "      <th>Article_title_lemma</th>\n",
              "      <td>[['juridical', 'act', 'minor']]</td>\n",
              "      <td>[['juridical', 'act', 'adult', 'ward', 'guardi...</td>\n",
              "      <td>[['act', 'require', 'consent', 'curator']]</td>\n",
              "      <td>[['decision', 'require', 'person', 'obtain', '...</td>\n",
              "      <td>[['requirement', 'ratification'], ['limitation...</td>\n",
              "    </tr>\n",
              "    <tr>\n",
              "      <th>Article_title_pos</th>\n",
              "      <td>[['ADJ', 'NOUN', 'NOUN']]</td>\n",
              "      <td>[['ADJ', 'NOUN', 'NOUN', 'NOUN', 'NOUN']]</td>\n",
              "      <td>[['NOUN', 'VERB', 'NOUN', 'NOUN']]</td>\n",
              "      <td>[['NOUN', 'VERB', 'NOUN', 'VERB', 'NOUN', 'NOU...</td>\n",
              "      <td>[['NOUN', 'NOUN'], ['NOUN', 'NOUN', 'NOUN', 'V...</td>\n",
              "    </tr>\n",
              "    <tr>\n",
              "      <th>Article_bigrams</th>\n",
              "      <td>[['juridical_act', 'act_minor', 'minor_article...</td>\n",
              "      <td>[['juridical_act', 'act_adult', 'adult_ward', ...</td>\n",
              "      <td>[['act_require', 'require_consent', 'consent_c...</td>\n",
              "      <td>[['decision_require', 'require_person', 'perso...</td>\n",
              "      <td>[['requirement_ratification', 'ratification_ar...</td>\n",
              "    </tr>\n",
              "    <tr>\n",
              "      <th>Article_trigrams</th>\n",
              "      <td>[['juridical_act_minor', 'act_minor_article_5'...</td>\n",
              "      <td>[['juridical_act_adult', 'act_adult_ward', 'ad...</td>\n",
              "      <td>[['act_require_consent', 'require_consent_cura...</td>\n",
              "      <td>[['decision_require_person', 'require_person_o...</td>\n",
              "      <td>[['requirement_ratification_article_124', 'rat...</td>\n",
              "    </tr>\n",
              "    <tr>\n",
              "      <th>Query_bigrams</th>\n",
              "      <td>['contract_sale', 'sale_conclude', 'conclude_m...</td>\n",
              "      <td>['contract_sale', 'sale_conclude', 'conclude_a...</td>\n",
              "      <td>['contract_guarantee', 'guarantee_conclude', '...</td>\n",
              "      <td>['act_require', 'require_consent', 'consent_as...</td>\n",
              "      <td>['period_extinctive', 'extinctive_prescription...</td>\n",
              "    </tr>\n",
              "    <tr>\n",
              "      <th>Query_trigrams</th>\n",
              "      <td>['contract_sale_conclude', 'sale_conclude_mino...</td>\n",
              "      <td>['contract_sale_conclude', 'sale_conclude_adul...</td>\n",
              "      <td>['contract_guarantee_conclude', 'guarantee_con...</td>\n",
              "      <td>['act_require_consent', 'require_consent_assis...</td>\n",
              "      <td>['period_extinctive_prescription', 'extinctive...</td>\n",
              "    </tr>\n",
              "    <tr>\n",
              "      <th>Query_bi_tri_expanded</th>\n",
              "      <td>['countermand', 'causa', 'venial', 'link', 'ty...</td>\n",
              "      <td>['countermand', 'causa', 'link', 'typeface', '...</td>\n",
              "      <td>['cut', 'countermand', 'event', 'face', 'fount...</td>\n",
              "      <td>['countermand', 'tourist_court', 'human_action...</td>\n",
              "      <td>['right_wing', 'mightily', 'countermand', 'hum...</td>\n",
              "    </tr>\n",
              "  </tbody>\n",
              "</table>\n",
              "</div>"
            ],
            "text/plain": [
              "                                                                       0  ...                                                  4\n",
              "ID                                                               R01-1-A  ...                                            R01-1-O\n",
              "Query                   A contract of sales concluded by a minor may ...  ...   The period of the extinctive prescription of ...\n",
              "Article_numbers                                                    ['5']  ...                                     ['124', '126']\n",
              "Query_tokens           ['contract', 'sales', 'concluded', 'minor', 'm...  ...  ['period', 'extinctive', 'prescription', 'righ...\n",
              "Query_lemma            ['contract', 'sale', 'conclude', 'minor', 'may...  ...  ['period', 'extinctive', 'prescription', 'righ...\n",
              "Query_pos              ['NOUN', 'NOUN', 'VERB', 'ADJ', 'VERB', 'PART'...  ...  ['NOUN', 'ADJ', 'NOUN', 'NOUN', 'VERB', 'NOUN'...\n",
              "Expanded_query_tokens  ['countermand', 'causa', 'venial', 'link', 'ty...  ...  ['right_wing', 'mightily', 'countermand', 'hum...\n",
              "Expanded_query_lemma   ['countermand', 'causa', 'venial', 'link', 'ty...  ...  ['right_wing', 'mightily', 'countermand', 'hum...\n",
              "Articles               [\"(Juridical Acts by Minors) Article_5  (1) A ...  ...  ['(Requirements for Ratification) Article_124 ...\n",
              "Article_tokens         [['juridical', 'acts', 'minors', 'article_5', ...  ...  [['requirements', 'ratification', 'article_124...\n",
              "Article_lemma          [['juridical', 'act', 'minor', 'article_5', '1...  ...  [['requirement', 'ratification', 'article_124'...\n",
              "Article_pos            [['ADJ', 'NOUN', 'NOUN', 'PROPN', 'X', 'NOUN',...  ...  [['NOUN', 'NOUN', 'VERB', 'X', 'NOUN', 'ADJ', ...\n",
              "Article_titles         [['ADJ', 'NOUN', 'NOUN', 'PROPN', 'X', 'NOUN',...  ...  [['NOUN', 'NOUN', 'VERB', 'X', 'NOUN', 'ADJ', ...\n",
              "Article_title_tokens                   [['juridical', 'acts', 'minors']]  ...  [['requirements', 'ratification'], ['limitatio...\n",
              "Article_title_lemma                      [['juridical', 'act', 'minor']]  ...  [['requirement', 'ratification'], ['limitation...\n",
              "Article_title_pos                              [['ADJ', 'NOUN', 'NOUN']]  ...  [['NOUN', 'NOUN'], ['NOUN', 'NOUN', 'NOUN', 'V...\n",
              "Article_bigrams        [['juridical_act', 'act_minor', 'minor_article...  ...  [['requirement_ratification', 'ratification_ar...\n",
              "Article_trigrams       [['juridical_act_minor', 'act_minor_article_5'...  ...  [['requirement_ratification_article_124', 'rat...\n",
              "Query_bigrams          ['contract_sale', 'sale_conclude', 'conclude_m...  ...  ['period_extinctive', 'extinctive_prescription...\n",
              "Query_trigrams         ['contract_sale_conclude', 'sale_conclude_mino...  ...  ['period_extinctive_prescription', 'extinctive...\n",
              "Query_bi_tri_expanded  ['countermand', 'causa', 'venial', 'link', 'ty...  ...  ['right_wing', 'mightily', 'countermand', 'hum...\n",
              "\n",
              "[21 rows x 5 columns]"
            ]
          },
          "metadata": {
            "tags": []
          },
          "execution_count": 33
        }
      ]
    },
    {
      "cell_type": "code",
      "metadata": {
        "id": "oFjnfrq--Nm0"
      },
      "source": [
        "test_query_list=[]\n",
        "for i in range(len(df_test_data)):\n",
        "  line = ast.literal_eval(df_test_data['Query_bi_tri_expanded'].iloc[i])\n",
        "  test_query_list.append(line)\n",
        "#test_query_list[0]"
      ],
      "execution_count": null,
      "outputs": []
    },
    {
      "cell_type": "code",
      "metadata": {
        "colab": {
          "base_uri": "https://localhost:8080/",
          "height": 52
        },
        "id": "oPNjfOmMSlLw",
        "outputId": "19d44ba1-fe60-436b-8fbd-73cb08a3680c"
      },
      "source": [
        "df_test_data['Query'].iloc[0]"
      ],
      "execution_count": null,
      "outputs": [
        {
          "output_type": "execute_result",
          "data": {
            "application/vnd.google.colaboratory.intrinsic+json": {
              "type": "string"
            },
            "text/plain": [
              "' A contract of sales concluded by a minor may not be rescinded if it relates to daily life, even in cases the consent of the parental authority is not obtained. '"
            ]
          },
          "metadata": {
            "tags": []
          },
          "execution_count": 36
        }
      ]
    },
    {
      "cell_type": "code",
      "metadata": {
        "colab": {
          "base_uri": "https://localhost:8080/",
          "height": 52
        },
        "id": "E7anqPW4SLTG",
        "outputId": "a7ca17ee-ac58-45d3-f015-3da25eb6fff5"
      },
      "source": [
        "df_test_data['Query_bigrams'].iloc[0]"
      ],
      "execution_count": null,
      "outputs": [
        {
          "output_type": "execute_result",
          "data": {
            "application/vnd.google.colaboratory.intrinsic+json": {
              "type": "string"
            },
            "text/plain": [
              "\"['contract_sale', 'sale_conclude', 'conclude_minor', 'minor_may', 'may_not', 'not_rescind', 'rescind_relate', 'relate_daily', 'daily_life', 'life_even', 'even_case', 'case_consent', 'consent_parental', 'parental_authority', 'authority_not', 'not_obtain']\""
            ]
          },
          "metadata": {
            "tags": []
          },
          "execution_count": 37
        }
      ]
    },
    {
      "cell_type": "code",
      "metadata": {
        "colab": {
          "base_uri": "https://localhost:8080/"
        },
        "id": "WqBpIrWA_Gcb",
        "outputId": "2c06f099-12de-4408-f9ad-047de698dd2e"
      },
      "source": [
        "test_ground_truth = []\n",
        "for i in range(len(df_test_data)):\n",
        "  line = ast.literal_eval(df_test_data['Article_numbers'].iloc[i])\n",
        "  test_ground_truth.append(line)\n",
        "test_ground_truth[0]"
      ],
      "execution_count": null,
      "outputs": [
        {
          "output_type": "execute_result",
          "data": {
            "text/plain": [
              "['5']"
            ]
          },
          "metadata": {
            "tags": []
          },
          "execution_count": 56
        }
      ]
    },
    {
      "cell_type": "code",
      "metadata": {
        "id": "z_llnR6KLkhy"
      },
      "source": [
        "indexing_corpus = []\n",
        "for i in range(len(df_civil_code_list)):\n",
        "  line = []\n",
        "  #line = ast.literal_eval(dataset_article_lemmas.iloc[i])\n",
        "  line = df_civil_code_list['Article_bi_tri_grams'].iloc[i]\n",
        "  indexing_corpus.append(line)\n",
        "#indexing_corpus[0]"
      ],
      "execution_count": null,
      "outputs": []
    },
    {
      "cell_type": "code",
      "metadata": {
        "colab": {
          "base_uri": "https://localhost:8080/"
        },
        "id": "EKfTJCGfBHpS",
        "outputId": "59dfd51f-ae04-4e83-829a-d10055dca0b0"
      },
      "source": [
        "total_retrieved, true_positive, result = retrieve_using_tfidf(indexing_corpus, test_query_list, test_ground_truth, 2, .10,False)\n",
        "evaluation(true_positive,total_retrieved,test_ground_truth)"
      ],
      "execution_count": null,
      "outputs": [
        {
          "output_type": "stream",
          "text": [
            "total retrieved = 192\n",
            "tp= 60\n",
            "total relevent=140\n",
            "Precion = 0.3125\n",
            "Recall=0.42857142857142855\n",
            "F2score = 0.3989361702127659\n"
          ],
          "name": "stdout"
        }
      ]
    },
    {
      "cell_type": "code",
      "metadata": {
        "colab": {
          "base_uri": "https://localhost:8080/"
        },
        "id": "m1VtNOspIbDt",
        "outputId": "89202959-dfe9-4bd6-d5b0-0a164b4ee871"
      },
      "source": [
        "true_positive_bm25, total_retrieved_bm25 = retrieve_using_BM25(test_query_list, test_ground_truth, indexing_corpus,3,5,top_100=False)\n",
        "evaluation(true_positive_bm25,total_retrieved_bm25,test_ground_truth)"
      ],
      "execution_count": null,
      "outputs": [
        {
          "output_type": "stream",
          "text": [
            "total retrieved = 197\n",
            "tp= 61\n",
            "total relevent=140\n",
            "Precion = 0.3096446700507614\n",
            "Recall=0.4357142857142857\n",
            "F2score = 0.40290620871862615\n"
          ],
          "name": "stdout"
        }
      ]
    }
  ]
}