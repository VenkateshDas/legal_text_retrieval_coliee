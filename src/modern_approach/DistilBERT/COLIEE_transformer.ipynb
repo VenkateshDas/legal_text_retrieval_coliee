{
  "nbformat": 4,
  "nbformat_minor": 0,
  "metadata": {
    "colab": {
      "name": "COLIEE_transformer",
      "provenance": [],
      "collapsed_sections": [],
      "mount_file_id": "1fZIQsOI5Cm9xe_B3p2JJpESY8EwKpwZJ",
      "authorship_tag": "ABX9TyMiOBHzLk/V5Gb6VNkUNyym",
      "include_colab_link": true
    },
    "kernelspec": {
      "name": "python3",
      "display_name": "Python 3"
    },
    "accelerator": "GPU",
    "widgets": {
      "application/vnd.jupyter.widget-state+json": {
        "f3ac08c764a244c7b8b039fff677ff58": {
          "model_module": "@jupyter-widgets/controls",
          "model_name": "HBoxModel",
          "state": {
            "_view_name": "HBoxView",
            "_dom_classes": [],
            "_model_name": "HBoxModel",
            "_view_module": "@jupyter-widgets/controls",
            "_model_module_version": "1.5.0",
            "_view_count": null,
            "_view_module_version": "1.5.0",
            "box_style": "",
            "layout": "IPY_MODEL_0794d5fdbc9d42dabded8b4917aff838",
            "_model_module": "@jupyter-widgets/controls",
            "children": [
              "IPY_MODEL_8d73b2528627491caa94451e7fb8e35e",
              "IPY_MODEL_da548713df2f4756a1dee7d3bde8860d"
            ]
          }
        },
        "0794d5fdbc9d42dabded8b4917aff838": {
          "model_module": "@jupyter-widgets/base",
          "model_name": "LayoutModel",
          "state": {
            "_view_name": "LayoutView",
            "grid_template_rows": null,
            "right": null,
            "justify_content": null,
            "_view_module": "@jupyter-widgets/base",
            "overflow": null,
            "_model_module_version": "1.2.0",
            "_view_count": null,
            "flex_flow": null,
            "width": null,
            "min_width": null,
            "border": null,
            "align_items": null,
            "bottom": null,
            "_model_module": "@jupyter-widgets/base",
            "top": null,
            "grid_column": null,
            "overflow_y": null,
            "overflow_x": null,
            "grid_auto_flow": null,
            "grid_area": null,
            "grid_template_columns": null,
            "flex": null,
            "_model_name": "LayoutModel",
            "justify_items": null,
            "grid_row": null,
            "max_height": null,
            "align_content": null,
            "visibility": null,
            "align_self": null,
            "height": null,
            "min_height": null,
            "padding": null,
            "grid_auto_rows": null,
            "grid_gap": null,
            "max_width": null,
            "order": null,
            "_view_module_version": "1.2.0",
            "grid_template_areas": null,
            "object_position": null,
            "object_fit": null,
            "grid_auto_columns": null,
            "margin": null,
            "display": null,
            "left": null
          }
        },
        "8d73b2528627491caa94451e7fb8e35e": {
          "model_module": "@jupyter-widgets/controls",
          "model_name": "FloatProgressModel",
          "state": {
            "_view_name": "ProgressView",
            "style": "IPY_MODEL_7a032f3835fd4edfb486db40dea67f69",
            "_dom_classes": [],
            "description": "Downloading: 100%",
            "_model_name": "FloatProgressModel",
            "bar_style": "success",
            "max": 231508,
            "_view_module": "@jupyter-widgets/controls",
            "_model_module_version": "1.5.0",
            "value": 231508,
            "_view_count": null,
            "_view_module_version": "1.5.0",
            "orientation": "horizontal",
            "min": 0,
            "description_tooltip": null,
            "_model_module": "@jupyter-widgets/controls",
            "layout": "IPY_MODEL_718a4d82fd5346478f0889d0d1ec8846"
          }
        },
        "da548713df2f4756a1dee7d3bde8860d": {
          "model_module": "@jupyter-widgets/controls",
          "model_name": "HTMLModel",
          "state": {
            "_view_name": "HTMLView",
            "style": "IPY_MODEL_0b888a50242f436d87ed5509b6712793",
            "_dom_classes": [],
            "description": "",
            "_model_name": "HTMLModel",
            "placeholder": "​",
            "_view_module": "@jupyter-widgets/controls",
            "_model_module_version": "1.5.0",
            "value": " 232k/232k [00:00&lt;00:00, 1.17MB/s]",
            "_view_count": null,
            "_view_module_version": "1.5.0",
            "description_tooltip": null,
            "_model_module": "@jupyter-widgets/controls",
            "layout": "IPY_MODEL_c18dd89f58f04e038a9564a519cc9eeb"
          }
        },
        "7a032f3835fd4edfb486db40dea67f69": {
          "model_module": "@jupyter-widgets/controls",
          "model_name": "ProgressStyleModel",
          "state": {
            "_view_name": "StyleView",
            "_model_name": "ProgressStyleModel",
            "description_width": "initial",
            "_view_module": "@jupyter-widgets/base",
            "_model_module_version": "1.5.0",
            "_view_count": null,
            "_view_module_version": "1.2.0",
            "bar_color": null,
            "_model_module": "@jupyter-widgets/controls"
          }
        },
        "718a4d82fd5346478f0889d0d1ec8846": {
          "model_module": "@jupyter-widgets/base",
          "model_name": "LayoutModel",
          "state": {
            "_view_name": "LayoutView",
            "grid_template_rows": null,
            "right": null,
            "justify_content": null,
            "_view_module": "@jupyter-widgets/base",
            "overflow": null,
            "_model_module_version": "1.2.0",
            "_view_count": null,
            "flex_flow": null,
            "width": null,
            "min_width": null,
            "border": null,
            "align_items": null,
            "bottom": null,
            "_model_module": "@jupyter-widgets/base",
            "top": null,
            "grid_column": null,
            "overflow_y": null,
            "overflow_x": null,
            "grid_auto_flow": null,
            "grid_area": null,
            "grid_template_columns": null,
            "flex": null,
            "_model_name": "LayoutModel",
            "justify_items": null,
            "grid_row": null,
            "max_height": null,
            "align_content": null,
            "visibility": null,
            "align_self": null,
            "height": null,
            "min_height": null,
            "padding": null,
            "grid_auto_rows": null,
            "grid_gap": null,
            "max_width": null,
            "order": null,
            "_view_module_version": "1.2.0",
            "grid_template_areas": null,
            "object_position": null,
            "object_fit": null,
            "grid_auto_columns": null,
            "margin": null,
            "display": null,
            "left": null
          }
        },
        "0b888a50242f436d87ed5509b6712793": {
          "model_module": "@jupyter-widgets/controls",
          "model_name": "DescriptionStyleModel",
          "state": {
            "_view_name": "StyleView",
            "_model_name": "DescriptionStyleModel",
            "description_width": "",
            "_view_module": "@jupyter-widgets/base",
            "_model_module_version": "1.5.0",
            "_view_count": null,
            "_view_module_version": "1.2.0",
            "_model_module": "@jupyter-widgets/controls"
          }
        },
        "c18dd89f58f04e038a9564a519cc9eeb": {
          "model_module": "@jupyter-widgets/base",
          "model_name": "LayoutModel",
          "state": {
            "_view_name": "LayoutView",
            "grid_template_rows": null,
            "right": null,
            "justify_content": null,
            "_view_module": "@jupyter-widgets/base",
            "overflow": null,
            "_model_module_version": "1.2.0",
            "_view_count": null,
            "flex_flow": null,
            "width": null,
            "min_width": null,
            "border": null,
            "align_items": null,
            "bottom": null,
            "_model_module": "@jupyter-widgets/base",
            "top": null,
            "grid_column": null,
            "overflow_y": null,
            "overflow_x": null,
            "grid_auto_flow": null,
            "grid_area": null,
            "grid_template_columns": null,
            "flex": null,
            "_model_name": "LayoutModel",
            "justify_items": null,
            "grid_row": null,
            "max_height": null,
            "align_content": null,
            "visibility": null,
            "align_self": null,
            "height": null,
            "min_height": null,
            "padding": null,
            "grid_auto_rows": null,
            "grid_gap": null,
            "max_width": null,
            "order": null,
            "_view_module_version": "1.2.0",
            "grid_template_areas": null,
            "object_position": null,
            "object_fit": null,
            "grid_auto_columns": null,
            "margin": null,
            "display": null,
            "left": null
          }
        },
        "4442318bd8f64897b560437979c05c24": {
          "model_module": "@jupyter-widgets/controls",
          "model_name": "HBoxModel",
          "state": {
            "_view_name": "HBoxView",
            "_dom_classes": [],
            "_model_name": "HBoxModel",
            "_view_module": "@jupyter-widgets/controls",
            "_model_module_version": "1.5.0",
            "_view_count": null,
            "_view_module_version": "1.5.0",
            "box_style": "",
            "layout": "IPY_MODEL_c161a0109b0749c7bc646809446accb7",
            "_model_module": "@jupyter-widgets/controls",
            "children": [
              "IPY_MODEL_898667f77eba41598118b6b11ed1dc0a",
              "IPY_MODEL_ac8c36c48aa34bf5b6b38ffe958e608d"
            ]
          }
        },
        "c161a0109b0749c7bc646809446accb7": {
          "model_module": "@jupyter-widgets/base",
          "model_name": "LayoutModel",
          "state": {
            "_view_name": "LayoutView",
            "grid_template_rows": null,
            "right": null,
            "justify_content": null,
            "_view_module": "@jupyter-widgets/base",
            "overflow": null,
            "_model_module_version": "1.2.0",
            "_view_count": null,
            "flex_flow": null,
            "width": null,
            "min_width": null,
            "border": null,
            "align_items": null,
            "bottom": null,
            "_model_module": "@jupyter-widgets/base",
            "top": null,
            "grid_column": null,
            "overflow_y": null,
            "overflow_x": null,
            "grid_auto_flow": null,
            "grid_area": null,
            "grid_template_columns": null,
            "flex": null,
            "_model_name": "LayoutModel",
            "justify_items": null,
            "grid_row": null,
            "max_height": null,
            "align_content": null,
            "visibility": null,
            "align_self": null,
            "height": null,
            "min_height": null,
            "padding": null,
            "grid_auto_rows": null,
            "grid_gap": null,
            "max_width": null,
            "order": null,
            "_view_module_version": "1.2.0",
            "grid_template_areas": null,
            "object_position": null,
            "object_fit": null,
            "grid_auto_columns": null,
            "margin": null,
            "display": null,
            "left": null
          }
        },
        "898667f77eba41598118b6b11ed1dc0a": {
          "model_module": "@jupyter-widgets/controls",
          "model_name": "FloatProgressModel",
          "state": {
            "_view_name": "ProgressView",
            "style": "IPY_MODEL_ca166da09d474bcbbd6a2c8b3de9ff72",
            "_dom_classes": [],
            "description": "Downloading: 100%",
            "_model_name": "FloatProgressModel",
            "bar_style": "success",
            "max": 466062,
            "_view_module": "@jupyter-widgets/controls",
            "_model_module_version": "1.5.0",
            "value": 466062,
            "_view_count": null,
            "_view_module_version": "1.5.0",
            "orientation": "horizontal",
            "min": 0,
            "description_tooltip": null,
            "_model_module": "@jupyter-widgets/controls",
            "layout": "IPY_MODEL_bfeb88a318ed49abb78097090492c5b5"
          }
        },
        "ac8c36c48aa34bf5b6b38ffe958e608d": {
          "model_module": "@jupyter-widgets/controls",
          "model_name": "HTMLModel",
          "state": {
            "_view_name": "HTMLView",
            "style": "IPY_MODEL_7888ed47615b4abdb295e8a0bcaf2a2d",
            "_dom_classes": [],
            "description": "",
            "_model_name": "HTMLModel",
            "placeholder": "​",
            "_view_module": "@jupyter-widgets/controls",
            "_model_module_version": "1.5.0",
            "value": " 466k/466k [00:00&lt;00:00, 4.66MB/s]",
            "_view_count": null,
            "_view_module_version": "1.5.0",
            "description_tooltip": null,
            "_model_module": "@jupyter-widgets/controls",
            "layout": "IPY_MODEL_78a1da05c7d343b8bde86459648c19f1"
          }
        },
        "ca166da09d474bcbbd6a2c8b3de9ff72": {
          "model_module": "@jupyter-widgets/controls",
          "model_name": "ProgressStyleModel",
          "state": {
            "_view_name": "StyleView",
            "_model_name": "ProgressStyleModel",
            "description_width": "initial",
            "_view_module": "@jupyter-widgets/base",
            "_model_module_version": "1.5.0",
            "_view_count": null,
            "_view_module_version": "1.2.0",
            "bar_color": null,
            "_model_module": "@jupyter-widgets/controls"
          }
        },
        "bfeb88a318ed49abb78097090492c5b5": {
          "model_module": "@jupyter-widgets/base",
          "model_name": "LayoutModel",
          "state": {
            "_view_name": "LayoutView",
            "grid_template_rows": null,
            "right": null,
            "justify_content": null,
            "_view_module": "@jupyter-widgets/base",
            "overflow": null,
            "_model_module_version": "1.2.0",
            "_view_count": null,
            "flex_flow": null,
            "width": null,
            "min_width": null,
            "border": null,
            "align_items": null,
            "bottom": null,
            "_model_module": "@jupyter-widgets/base",
            "top": null,
            "grid_column": null,
            "overflow_y": null,
            "overflow_x": null,
            "grid_auto_flow": null,
            "grid_area": null,
            "grid_template_columns": null,
            "flex": null,
            "_model_name": "LayoutModel",
            "justify_items": null,
            "grid_row": null,
            "max_height": null,
            "align_content": null,
            "visibility": null,
            "align_self": null,
            "height": null,
            "min_height": null,
            "padding": null,
            "grid_auto_rows": null,
            "grid_gap": null,
            "max_width": null,
            "order": null,
            "_view_module_version": "1.2.0",
            "grid_template_areas": null,
            "object_position": null,
            "object_fit": null,
            "grid_auto_columns": null,
            "margin": null,
            "display": null,
            "left": null
          }
        },
        "7888ed47615b4abdb295e8a0bcaf2a2d": {
          "model_module": "@jupyter-widgets/controls",
          "model_name": "DescriptionStyleModel",
          "state": {
            "_view_name": "StyleView",
            "_model_name": "DescriptionStyleModel",
            "description_width": "",
            "_view_module": "@jupyter-widgets/base",
            "_model_module_version": "1.5.0",
            "_view_count": null,
            "_view_module_version": "1.2.0",
            "_model_module": "@jupyter-widgets/controls"
          }
        },
        "78a1da05c7d343b8bde86459648c19f1": {
          "model_module": "@jupyter-widgets/base",
          "model_name": "LayoutModel",
          "state": {
            "_view_name": "LayoutView",
            "grid_template_rows": null,
            "right": null,
            "justify_content": null,
            "_view_module": "@jupyter-widgets/base",
            "overflow": null,
            "_model_module_version": "1.2.0",
            "_view_count": null,
            "flex_flow": null,
            "width": null,
            "min_width": null,
            "border": null,
            "align_items": null,
            "bottom": null,
            "_model_module": "@jupyter-widgets/base",
            "top": null,
            "grid_column": null,
            "overflow_y": null,
            "overflow_x": null,
            "grid_auto_flow": null,
            "grid_area": null,
            "grid_template_columns": null,
            "flex": null,
            "_model_name": "LayoutModel",
            "justify_items": null,
            "grid_row": null,
            "max_height": null,
            "align_content": null,
            "visibility": null,
            "align_self": null,
            "height": null,
            "min_height": null,
            "padding": null,
            "grid_auto_rows": null,
            "grid_gap": null,
            "max_width": null,
            "order": null,
            "_view_module_version": "1.2.0",
            "grid_template_areas": null,
            "object_position": null,
            "object_fit": null,
            "grid_auto_columns": null,
            "margin": null,
            "display": null,
            "left": null
          }
        },
        "8eeb0c409e4a48f49aa3503febbbedc8": {
          "model_module": "@jupyter-widgets/controls",
          "model_name": "HBoxModel",
          "state": {
            "_view_name": "HBoxView",
            "_dom_classes": [],
            "_model_name": "HBoxModel",
            "_view_module": "@jupyter-widgets/controls",
            "_model_module_version": "1.5.0",
            "_view_count": null,
            "_view_module_version": "1.5.0",
            "box_style": "",
            "layout": "IPY_MODEL_c7e35e823562472d9fc6331a9c6ad468",
            "_model_module": "@jupyter-widgets/controls",
            "children": [
              "IPY_MODEL_7de6adc0337843e5b9db2c8150f6c085",
              "IPY_MODEL_cf5445cbe51b42d19e813ae94c399466"
            ]
          }
        },
        "c7e35e823562472d9fc6331a9c6ad468": {
          "model_module": "@jupyter-widgets/base",
          "model_name": "LayoutModel",
          "state": {
            "_view_name": "LayoutView",
            "grid_template_rows": null,
            "right": null,
            "justify_content": null,
            "_view_module": "@jupyter-widgets/base",
            "overflow": null,
            "_model_module_version": "1.2.0",
            "_view_count": null,
            "flex_flow": null,
            "width": null,
            "min_width": null,
            "border": null,
            "align_items": null,
            "bottom": null,
            "_model_module": "@jupyter-widgets/base",
            "top": null,
            "grid_column": null,
            "overflow_y": null,
            "overflow_x": null,
            "grid_auto_flow": null,
            "grid_area": null,
            "grid_template_columns": null,
            "flex": null,
            "_model_name": "LayoutModel",
            "justify_items": null,
            "grid_row": null,
            "max_height": null,
            "align_content": null,
            "visibility": null,
            "align_self": null,
            "height": null,
            "min_height": null,
            "padding": null,
            "grid_auto_rows": null,
            "grid_gap": null,
            "max_width": null,
            "order": null,
            "_view_module_version": "1.2.0",
            "grid_template_areas": null,
            "object_position": null,
            "object_fit": null,
            "grid_auto_columns": null,
            "margin": null,
            "display": null,
            "left": null
          }
        },
        "7de6adc0337843e5b9db2c8150f6c085": {
          "model_module": "@jupyter-widgets/controls",
          "model_name": "FloatProgressModel",
          "state": {
            "_view_name": "ProgressView",
            "style": "IPY_MODEL_ebf7cb3f91684b0da05229c83bb66eb8",
            "_dom_classes": [],
            "description": "Downloading: 100%",
            "_model_name": "FloatProgressModel",
            "bar_style": "success",
            "max": 442,
            "_view_module": "@jupyter-widgets/controls",
            "_model_module_version": "1.5.0",
            "value": 442,
            "_view_count": null,
            "_view_module_version": "1.5.0",
            "orientation": "horizontal",
            "min": 0,
            "description_tooltip": null,
            "_model_module": "@jupyter-widgets/controls",
            "layout": "IPY_MODEL_0cd69276ea104c7db24b15600a7af502"
          }
        },
        "cf5445cbe51b42d19e813ae94c399466": {
          "model_module": "@jupyter-widgets/controls",
          "model_name": "HTMLModel",
          "state": {
            "_view_name": "HTMLView",
            "style": "IPY_MODEL_75405825b5fa4c5f90bd73def76e4c2d",
            "_dom_classes": [],
            "description": "",
            "_model_name": "HTMLModel",
            "placeholder": "​",
            "_view_module": "@jupyter-widgets/controls",
            "_model_module_version": "1.5.0",
            "value": " 442/442 [00:06&lt;00:00, 70.5B/s]",
            "_view_count": null,
            "_view_module_version": "1.5.0",
            "description_tooltip": null,
            "_model_module": "@jupyter-widgets/controls",
            "layout": "IPY_MODEL_163d918b0af84107a13885ac65b70a75"
          }
        },
        "ebf7cb3f91684b0da05229c83bb66eb8": {
          "model_module": "@jupyter-widgets/controls",
          "model_name": "ProgressStyleModel",
          "state": {
            "_view_name": "StyleView",
            "_model_name": "ProgressStyleModel",
            "description_width": "initial",
            "_view_module": "@jupyter-widgets/base",
            "_model_module_version": "1.5.0",
            "_view_count": null,
            "_view_module_version": "1.2.0",
            "bar_color": null,
            "_model_module": "@jupyter-widgets/controls"
          }
        },
        "0cd69276ea104c7db24b15600a7af502": {
          "model_module": "@jupyter-widgets/base",
          "model_name": "LayoutModel",
          "state": {
            "_view_name": "LayoutView",
            "grid_template_rows": null,
            "right": null,
            "justify_content": null,
            "_view_module": "@jupyter-widgets/base",
            "overflow": null,
            "_model_module_version": "1.2.0",
            "_view_count": null,
            "flex_flow": null,
            "width": null,
            "min_width": null,
            "border": null,
            "align_items": null,
            "bottom": null,
            "_model_module": "@jupyter-widgets/base",
            "top": null,
            "grid_column": null,
            "overflow_y": null,
            "overflow_x": null,
            "grid_auto_flow": null,
            "grid_area": null,
            "grid_template_columns": null,
            "flex": null,
            "_model_name": "LayoutModel",
            "justify_items": null,
            "grid_row": null,
            "max_height": null,
            "align_content": null,
            "visibility": null,
            "align_self": null,
            "height": null,
            "min_height": null,
            "padding": null,
            "grid_auto_rows": null,
            "grid_gap": null,
            "max_width": null,
            "order": null,
            "_view_module_version": "1.2.0",
            "grid_template_areas": null,
            "object_position": null,
            "object_fit": null,
            "grid_auto_columns": null,
            "margin": null,
            "display": null,
            "left": null
          }
        },
        "75405825b5fa4c5f90bd73def76e4c2d": {
          "model_module": "@jupyter-widgets/controls",
          "model_name": "DescriptionStyleModel",
          "state": {
            "_view_name": "StyleView",
            "_model_name": "DescriptionStyleModel",
            "description_width": "",
            "_view_module": "@jupyter-widgets/base",
            "_model_module_version": "1.5.0",
            "_view_count": null,
            "_view_module_version": "1.2.0",
            "_model_module": "@jupyter-widgets/controls"
          }
        },
        "163d918b0af84107a13885ac65b70a75": {
          "model_module": "@jupyter-widgets/base",
          "model_name": "LayoutModel",
          "state": {
            "_view_name": "LayoutView",
            "grid_template_rows": null,
            "right": null,
            "justify_content": null,
            "_view_module": "@jupyter-widgets/base",
            "overflow": null,
            "_model_module_version": "1.2.0",
            "_view_count": null,
            "flex_flow": null,
            "width": null,
            "min_width": null,
            "border": null,
            "align_items": null,
            "bottom": null,
            "_model_module": "@jupyter-widgets/base",
            "top": null,
            "grid_column": null,
            "overflow_y": null,
            "overflow_x": null,
            "grid_auto_flow": null,
            "grid_area": null,
            "grid_template_columns": null,
            "flex": null,
            "_model_name": "LayoutModel",
            "justify_items": null,
            "grid_row": null,
            "max_height": null,
            "align_content": null,
            "visibility": null,
            "align_self": null,
            "height": null,
            "min_height": null,
            "padding": null,
            "grid_auto_rows": null,
            "grid_gap": null,
            "max_width": null,
            "order": null,
            "_view_module_version": "1.2.0",
            "grid_template_areas": null,
            "object_position": null,
            "object_fit": null,
            "grid_auto_columns": null,
            "margin": null,
            "display": null,
            "left": null
          }
        },
        "fc427d6109704eeb92c2e7371477f3d9": {
          "model_module": "@jupyter-widgets/controls",
          "model_name": "HBoxModel",
          "state": {
            "_view_name": "HBoxView",
            "_dom_classes": [],
            "_model_name": "HBoxModel",
            "_view_module": "@jupyter-widgets/controls",
            "_model_module_version": "1.5.0",
            "_view_count": null,
            "_view_module_version": "1.5.0",
            "box_style": "",
            "layout": "IPY_MODEL_f4692d08827647c7b62643a4cb1ae576",
            "_model_module": "@jupyter-widgets/controls",
            "children": [
              "IPY_MODEL_c53c0ed216dd443cbad3fbbedc6150fa",
              "IPY_MODEL_e26e92019c3f46108a7cbb7410d7bbdc"
            ]
          }
        },
        "f4692d08827647c7b62643a4cb1ae576": {
          "model_module": "@jupyter-widgets/base",
          "model_name": "LayoutModel",
          "state": {
            "_view_name": "LayoutView",
            "grid_template_rows": null,
            "right": null,
            "justify_content": null,
            "_view_module": "@jupyter-widgets/base",
            "overflow": null,
            "_model_module_version": "1.2.0",
            "_view_count": null,
            "flex_flow": null,
            "width": null,
            "min_width": null,
            "border": null,
            "align_items": null,
            "bottom": null,
            "_model_module": "@jupyter-widgets/base",
            "top": null,
            "grid_column": null,
            "overflow_y": null,
            "overflow_x": null,
            "grid_auto_flow": null,
            "grid_area": null,
            "grid_template_columns": null,
            "flex": null,
            "_model_name": "LayoutModel",
            "justify_items": null,
            "grid_row": null,
            "max_height": null,
            "align_content": null,
            "visibility": null,
            "align_self": null,
            "height": null,
            "min_height": null,
            "padding": null,
            "grid_auto_rows": null,
            "grid_gap": null,
            "max_width": null,
            "order": null,
            "_view_module_version": "1.2.0",
            "grid_template_areas": null,
            "object_position": null,
            "object_fit": null,
            "grid_auto_columns": null,
            "margin": null,
            "display": null,
            "left": null
          }
        },
        "c53c0ed216dd443cbad3fbbedc6150fa": {
          "model_module": "@jupyter-widgets/controls",
          "model_name": "FloatProgressModel",
          "state": {
            "_view_name": "ProgressView",
            "style": "IPY_MODEL_ad8b0eef44f047068d0fabe7f399ff68",
            "_dom_classes": [],
            "description": "Downloading: 100%",
            "_model_name": "FloatProgressModel",
            "bar_style": "success",
            "max": 363423424,
            "_view_module": "@jupyter-widgets/controls",
            "_model_module_version": "1.5.0",
            "value": 363423424,
            "_view_count": null,
            "_view_module_version": "1.5.0",
            "orientation": "horizontal",
            "min": 0,
            "description_tooltip": null,
            "_model_module": "@jupyter-widgets/controls",
            "layout": "IPY_MODEL_092a834a44a84d3ba33a179d7638d045"
          }
        },
        "e26e92019c3f46108a7cbb7410d7bbdc": {
          "model_module": "@jupyter-widgets/controls",
          "model_name": "HTMLModel",
          "state": {
            "_view_name": "HTMLView",
            "style": "IPY_MODEL_1d1b868fe5ff4a85bc67d0f4ba245b77",
            "_dom_classes": [],
            "description": "",
            "_model_name": "HTMLModel",
            "placeholder": "​",
            "_view_module": "@jupyter-widgets/controls",
            "_model_module_version": "1.5.0",
            "value": " 363M/363M [00:05&lt;00:00, 64.7MB/s]",
            "_view_count": null,
            "_view_module_version": "1.5.0",
            "description_tooltip": null,
            "_model_module": "@jupyter-widgets/controls",
            "layout": "IPY_MODEL_082b2d60def245588730a832afe632e4"
          }
        },
        "ad8b0eef44f047068d0fabe7f399ff68": {
          "model_module": "@jupyter-widgets/controls",
          "model_name": "ProgressStyleModel",
          "state": {
            "_view_name": "StyleView",
            "_model_name": "ProgressStyleModel",
            "description_width": "initial",
            "_view_module": "@jupyter-widgets/base",
            "_model_module_version": "1.5.0",
            "_view_count": null,
            "_view_module_version": "1.2.0",
            "bar_color": null,
            "_model_module": "@jupyter-widgets/controls"
          }
        },
        "092a834a44a84d3ba33a179d7638d045": {
          "model_module": "@jupyter-widgets/base",
          "model_name": "LayoutModel",
          "state": {
            "_view_name": "LayoutView",
            "grid_template_rows": null,
            "right": null,
            "justify_content": null,
            "_view_module": "@jupyter-widgets/base",
            "overflow": null,
            "_model_module_version": "1.2.0",
            "_view_count": null,
            "flex_flow": null,
            "width": null,
            "min_width": null,
            "border": null,
            "align_items": null,
            "bottom": null,
            "_model_module": "@jupyter-widgets/base",
            "top": null,
            "grid_column": null,
            "overflow_y": null,
            "overflow_x": null,
            "grid_auto_flow": null,
            "grid_area": null,
            "grid_template_columns": null,
            "flex": null,
            "_model_name": "LayoutModel",
            "justify_items": null,
            "grid_row": null,
            "max_height": null,
            "align_content": null,
            "visibility": null,
            "align_self": null,
            "height": null,
            "min_height": null,
            "padding": null,
            "grid_auto_rows": null,
            "grid_gap": null,
            "max_width": null,
            "order": null,
            "_view_module_version": "1.2.0",
            "grid_template_areas": null,
            "object_position": null,
            "object_fit": null,
            "grid_auto_columns": null,
            "margin": null,
            "display": null,
            "left": null
          }
        },
        "1d1b868fe5ff4a85bc67d0f4ba245b77": {
          "model_module": "@jupyter-widgets/controls",
          "model_name": "DescriptionStyleModel",
          "state": {
            "_view_name": "StyleView",
            "_model_name": "DescriptionStyleModel",
            "description_width": "",
            "_view_module": "@jupyter-widgets/base",
            "_model_module_version": "1.5.0",
            "_view_count": null,
            "_view_module_version": "1.2.0",
            "_model_module": "@jupyter-widgets/controls"
          }
        },
        "082b2d60def245588730a832afe632e4": {
          "model_module": "@jupyter-widgets/base",
          "model_name": "LayoutModel",
          "state": {
            "_view_name": "LayoutView",
            "grid_template_rows": null,
            "right": null,
            "justify_content": null,
            "_view_module": "@jupyter-widgets/base",
            "overflow": null,
            "_model_module_version": "1.2.0",
            "_view_count": null,
            "flex_flow": null,
            "width": null,
            "min_width": null,
            "border": null,
            "align_items": null,
            "bottom": null,
            "_model_module": "@jupyter-widgets/base",
            "top": null,
            "grid_column": null,
            "overflow_y": null,
            "overflow_x": null,
            "grid_auto_flow": null,
            "grid_area": null,
            "grid_template_columns": null,
            "flex": null,
            "_model_name": "LayoutModel",
            "justify_items": null,
            "grid_row": null,
            "max_height": null,
            "align_content": null,
            "visibility": null,
            "align_self": null,
            "height": null,
            "min_height": null,
            "padding": null,
            "grid_auto_rows": null,
            "grid_gap": null,
            "max_width": null,
            "order": null,
            "_view_module_version": "1.2.0",
            "grid_template_areas": null,
            "object_position": null,
            "object_fit": null,
            "grid_auto_columns": null,
            "margin": null,
            "display": null,
            "left": null
          }
        }
      }
    }
  },
  "cells": [
    {
      "cell_type": "markdown",
      "metadata": {
        "id": "view-in-github",
        "colab_type": "text"
      },
      "source": [
        "<a href=\"https://colab.research.google.com/github/VenkateshDas/legal_text_retrieval_coliee/blob/master/COLIEE_transformer.ipynb\" target=\"_parent\"><img src=\"https://colab.research.google.com/assets/colab-badge.svg\" alt=\"Open In Colab\"/></a>"
      ]
    },
    {
      "cell_type": "markdown",
      "metadata": {
        "id": "NIJjXeONaPx8"
      },
      "source": [
        "### Setup"
      ]
    },
    {
      "cell_type": "code",
      "metadata": {
        "id": "RgQOxoCbBdcn",
        "colab": {
          "base_uri": "https://localhost:8080/"
        },
        "outputId": "8e02f11d-aaaf-4d3d-d20d-539a5fefef4c"
      },
      "source": [
        "!nvidia-smi"
      ],
      "execution_count": 1,
      "outputs": [
        {
          "output_type": "stream",
          "text": [
            "Wed Dec  2 10:08:56 2020       \n",
            "+-----------------------------------------------------------------------------+\n",
            "| NVIDIA-SMI 455.38       Driver Version: 418.67       CUDA Version: 10.1     |\n",
            "|-------------------------------+----------------------+----------------------+\n",
            "| GPU  Name        Persistence-M| Bus-Id        Disp.A | Volatile Uncorr. ECC |\n",
            "| Fan  Temp  Perf  Pwr:Usage/Cap|         Memory-Usage | GPU-Util  Compute M. |\n",
            "|                               |                      |               MIG M. |\n",
            "|===============================+======================+======================|\n",
            "|   0  Tesla T4            Off  | 00000000:00:04.0 Off |                    0 |\n",
            "| N/A   54C    P8    10W /  70W |      0MiB / 15079MiB |      0%      Default |\n",
            "|                               |                      |                 ERR! |\n",
            "+-------------------------------+----------------------+----------------------+\n",
            "                                                                               \n",
            "+-----------------------------------------------------------------------------+\n",
            "| Processes:                                                                  |\n",
            "|  GPU   GI   CI        PID   Type   Process name                  GPU Memory |\n",
            "|        ID   ID                                                   Usage      |\n",
            "|=============================================================================|\n",
            "|  No running processes found                                                 |\n",
            "+-----------------------------------------------------------------------------+\n"
          ],
          "name": "stdout"
        }
      ]
    },
    {
      "cell_type": "code",
      "metadata": {
        "id": "5s-G1FcQlBIX",
        "colab": {
          "base_uri": "https://localhost:8080/"
        },
        "outputId": "002e05dc-1ce5-4e71-c0ee-a56efa92e5ed"
      },
      "source": [
        "#Install Huggingface Transforms library from which the pretrained model can be used. \n",
        "\n",
        "!pip install transformers"
      ],
      "execution_count": 2,
      "outputs": [
        {
          "output_type": "stream",
          "text": [
            "Collecting transformers\n",
            "\u001b[?25l  Downloading https://files.pythonhosted.org/packages/99/84/7bc03215279f603125d844bf81c3fb3f2d50fe8e511546eb4897e4be2067/transformers-4.0.0-py3-none-any.whl (1.4MB)\n",
            "\u001b[K     |████████████████████████████████| 1.4MB 16.7MB/s \n",
            "\u001b[?25hRequirement already satisfied: requests in /usr/local/lib/python3.6/dist-packages (from transformers) (2.23.0)\n",
            "Requirement already satisfied: numpy in /usr/local/lib/python3.6/dist-packages (from transformers) (1.18.5)\n",
            "Requirement already satisfied: regex!=2019.12.17 in /usr/local/lib/python3.6/dist-packages (from transformers) (2019.12.20)\n",
            "Requirement already satisfied: tqdm>=4.27 in /usr/local/lib/python3.6/dist-packages (from transformers) (4.41.1)\n",
            "Requirement already satisfied: packaging in /usr/local/lib/python3.6/dist-packages (from transformers) (20.4)\n",
            "Collecting sacremoses\n",
            "\u001b[?25l  Downloading https://files.pythonhosted.org/packages/7d/34/09d19aff26edcc8eb2a01bed8e98f13a1537005d31e95233fd48216eed10/sacremoses-0.0.43.tar.gz (883kB)\n",
            "\u001b[K     |████████████████████████████████| 890kB 53.5MB/s \n",
            "\u001b[?25hCollecting tokenizers==0.9.4\n",
            "\u001b[?25l  Downloading https://files.pythonhosted.org/packages/0f/1c/e789a8b12e28be5bc1ce2156cf87cb522b379be9cadc7ad8091a4cc107c4/tokenizers-0.9.4-cp36-cp36m-manylinux2010_x86_64.whl (2.9MB)\n",
            "\u001b[K     |████████████████████████████████| 2.9MB 52.6MB/s \n",
            "\u001b[?25hRequirement already satisfied: filelock in /usr/local/lib/python3.6/dist-packages (from transformers) (3.0.12)\n",
            "Requirement already satisfied: dataclasses; python_version < \"3.7\" in /usr/local/lib/python3.6/dist-packages (from transformers) (0.8)\n",
            "Requirement already satisfied: idna<3,>=2.5 in /usr/local/lib/python3.6/dist-packages (from requests->transformers) (2.10)\n",
            "Requirement already satisfied: certifi>=2017.4.17 in /usr/local/lib/python3.6/dist-packages (from requests->transformers) (2020.11.8)\n",
            "Requirement already satisfied: chardet<4,>=3.0.2 in /usr/local/lib/python3.6/dist-packages (from requests->transformers) (3.0.4)\n",
            "Requirement already satisfied: urllib3!=1.25.0,!=1.25.1,<1.26,>=1.21.1 in /usr/local/lib/python3.6/dist-packages (from requests->transformers) (1.24.3)\n",
            "Requirement already satisfied: six in /usr/local/lib/python3.6/dist-packages (from packaging->transformers) (1.15.0)\n",
            "Requirement already satisfied: pyparsing>=2.0.2 in /usr/local/lib/python3.6/dist-packages (from packaging->transformers) (2.4.7)\n",
            "Requirement already satisfied: click in /usr/local/lib/python3.6/dist-packages (from sacremoses->transformers) (7.1.2)\n",
            "Requirement already satisfied: joblib in /usr/local/lib/python3.6/dist-packages (from sacremoses->transformers) (0.17.0)\n",
            "Building wheels for collected packages: sacremoses\n",
            "  Building wheel for sacremoses (setup.py) ... \u001b[?25l\u001b[?25hdone\n",
            "  Created wheel for sacremoses: filename=sacremoses-0.0.43-cp36-none-any.whl size=893257 sha256=37a86389120f5ef63b96e2ecc5045758ddb5acc40136a1843abeecdd2ecf43a2\n",
            "  Stored in directory: /root/.cache/pip/wheels/29/3c/fd/7ce5c3f0666dab31a50123635e6fb5e19ceb42ce38d4e58f45\n",
            "Successfully built sacremoses\n",
            "Installing collected packages: sacremoses, tokenizers, transformers\n",
            "Successfully installed sacremoses-0.0.43 tokenizers-0.9.4 transformers-4.0.0\n"
          ],
          "name": "stdout"
        }
      ]
    },
    {
      "cell_type": "code",
      "metadata": {
        "id": "etjlRPuNjC82"
      },
      "source": [
        "#For one hot encoding the labels that will be used in the classification. \n",
        "from sklearn import preprocessing\n",
        "#Splitting the Dataset into train and test\n",
        "from sklearn.model_selection import train_test_split\n",
        "from sklearn.metrics import classification_report\n",
        "\n",
        "#Data analysis, creation and manipulation libraries \n",
        "import pandas as pd\n",
        "#scientific library \n",
        "import numpy as np\n",
        "import re\n",
        "\n",
        "#tensorflow library for Deep learning (here)\n",
        "import tensorflow as tf\n",
        "\n",
        "#importing the pretrained models. \n",
        "from transformers import (TFBertForSequenceClassification, \n",
        "                          BertTokenizer)\n",
        "from transformers import TFTrainer, TFTrainingArguments\n",
        "from transformers import DistilBertTokenizerFast , TFDistilBertForSequenceClassification\n",
        "from transformers import BertTokenizer, TFBertForSequenceClassification , TFTrainer, TFTrainingArguments\n",
        "\n",
        "import pickle\n",
        "import time \n",
        "import os\n",
        "\n",
        "import matplotlib as mpl\n",
        "import matplotlib.pyplot as plt\n",
        "import seaborn as sns\n",
        "from sklearn.metrics import confusion_matrix\n",
        "from sklearn.metrics import roc_auc_score \n",
        "\n",
        "from sklearn.utils import class_weight"
      ],
      "execution_count": 3,
      "outputs": []
    },
    {
      "cell_type": "markdown",
      "metadata": {
        "id": "4OFwcqHhaUI3"
      },
      "source": [
        "### Create Dataset"
      ]
    },
    {
      "cell_type": "code",
      "metadata": {
        "id": "1MFjZ5JZykYZ"
      },
      "source": [
        "# Read the CSV dataset \n",
        "path_to_dataset ='/content/drive/My Drive/COLIEE Retrieval /COLIEE Dry Run Data /preprocessed_data/bert_data/'\n",
        "train_classification_data = pd.read_csv(path_to_dataset+'top10_similar_up_and_downsampled_classification_dataset.csv',index_col=0)\n",
        "test_classification_data = pd.read_csv(path_to_dataset+'classification_test_dataset.csv',index_col=0)"
      ],
      "execution_count": 4,
      "outputs": []
    },
    {
      "cell_type": "code",
      "metadata": {
        "colab": {
          "base_uri": "https://localhost:8080/"
        },
        "id": "lBI0PNh4SPAy",
        "outputId": "64df4f5d-a36d-446c-c971-5f298ca946ca"
      },
      "source": [
        "# 595 times Label 1 oversampled\n",
        "train_classification_data.shape"
      ],
      "execution_count": null,
      "outputs": [
        {
          "output_type": "execute_result",
          "data": {
            "text/plain": [
              "(18000, 5)"
            ]
          },
          "metadata": {
            "tags": []
          },
          "execution_count": 5
        }
      ]
    },
    {
      "cell_type": "code",
      "metadata": {
        "id": "JGnkZ1cduuTl",
        "colab": {
          "base_uri": "https://localhost:8080/",
          "height": 204
        },
        "outputId": "ca589af3-9b2a-474a-be83-9dfcb922ecec"
      },
      "source": [
        "train_classification_data.head()"
      ],
      "execution_count": null,
      "outputs": [
        {
          "output_type": "execute_result",
          "data": {
            "text/html": [
              "<div>\n",
              "<style scoped>\n",
              "    .dataframe tbody tr th:only-of-type {\n",
              "        vertical-align: middle;\n",
              "    }\n",
              "\n",
              "    .dataframe tbody tr th {\n",
              "        vertical-align: top;\n",
              "    }\n",
              "\n",
              "    .dataframe thead th {\n",
              "        text-align: right;\n",
              "    }\n",
              "</style>\n",
              "<table border=\"1\" class=\"dataframe\">\n",
              "  <thead>\n",
              "    <tr style=\"text-align: right;\">\n",
              "      <th></th>\n",
              "      <th>Serial_Num</th>\n",
              "      <th>ID</th>\n",
              "      <th>Sequence</th>\n",
              "      <th>Article_number</th>\n",
              "      <th>Label</th>\n",
              "    </tr>\n",
              "  </thead>\n",
              "  <tbody>\n",
              "    <tr>\n",
              "      <th>0</th>\n",
              "      <td>1</td>\n",
              "      <td>H21-1-1</td>\n",
              "      <td>Acceptance made by a minor that received an o...</td>\n",
              "      <td>5</td>\n",
              "      <td>1</td>\n",
              "    </tr>\n",
              "    <tr>\n",
              "      <th>1</th>\n",
              "      <td>2</td>\n",
              "      <td>H21-1-2</td>\n",
              "      <td>If a minor, after getting permission for carr...</td>\n",
              "      <td>6</td>\n",
              "      <td>1</td>\n",
              "    </tr>\n",
              "    <tr>\n",
              "      <th>2</th>\n",
              "      <td>3</td>\n",
              "      <td>H21-1-3</td>\n",
              "      <td>The purchase of daily household items may not...</td>\n",
              "      <td>9</td>\n",
              "      <td>1</td>\n",
              "    </tr>\n",
              "    <tr>\n",
              "      <th>3</th>\n",
              "      <td>4</td>\n",
              "      <td>H21-1-4</td>\n",
              "      <td>If a person under curatorship performs, witho...</td>\n",
              "      <td>13</td>\n",
              "      <td>1</td>\n",
              "    </tr>\n",
              "    <tr>\n",
              "      <th>4</th>\n",
              "      <td>4</td>\n",
              "      <td>H21-1-4</td>\n",
              "      <td>If a person under curatorship performs, witho...</td>\n",
              "      <td>120</td>\n",
              "      <td>1</td>\n",
              "    </tr>\n",
              "  </tbody>\n",
              "</table>\n",
              "</div>"
            ],
            "text/plain": [
              "   Serial_Num       ID  ... Article_number Label\n",
              "0           1  H21-1-1  ...              5     1\n",
              "1           2  H21-1-2  ...              6     1\n",
              "2           3  H21-1-3  ...              9     1\n",
              "3           4  H21-1-4  ...             13     1\n",
              "4           4  H21-1-4  ...            120     1\n",
              "\n",
              "[5 rows x 5 columns]"
            ]
          },
          "metadata": {
            "tags": []
          },
          "execution_count": 6
        }
      ]
    },
    {
      "cell_type": "code",
      "metadata": {
        "id": "HtpzIoV70Dd-",
        "colab": {
          "base_uri": "https://localhost:8080/",
          "height": 204
        },
        "outputId": "907199f0-b7df-4fcc-a360-93cacc38ae0e"
      },
      "source": [
        "train_classification_data.tail()"
      ],
      "execution_count": null,
      "outputs": [
        {
          "output_type": "execute_result",
          "data": {
            "text/html": [
              "<div>\n",
              "<style scoped>\n",
              "    .dataframe tbody tr th:only-of-type {\n",
              "        vertical-align: middle;\n",
              "    }\n",
              "\n",
              "    .dataframe tbody tr th {\n",
              "        vertical-align: top;\n",
              "    }\n",
              "\n",
              "    .dataframe thead th {\n",
              "        text-align: right;\n",
              "    }\n",
              "</style>\n",
              "<table border=\"1\" class=\"dataframe\">\n",
              "  <thead>\n",
              "    <tr style=\"text-align: right;\">\n",
              "      <th></th>\n",
              "      <th>Serial_Num</th>\n",
              "      <th>ID</th>\n",
              "      <th>Sequence</th>\n",
              "      <th>Article_number</th>\n",
              "      <th>Label</th>\n",
              "    </tr>\n",
              "  </thead>\n",
              "  <tbody>\n",
              "    <tr>\n",
              "      <th>539283</th>\n",
              "      <td>695</td>\n",
              "      <td>H24-30-3</td>\n",
              "      <td>In cases where A claims purchase money of mov...</td>\n",
              "      <td>689</td>\n",
              "      <td>0</td>\n",
              "    </tr>\n",
              "    <tr>\n",
              "      <th>539219</th>\n",
              "      <td>695</td>\n",
              "      <td>H24-30-3</td>\n",
              "      <td>In cases where A claims purchase money of mov...</td>\n",
              "      <td>632</td>\n",
              "      <td>0</td>\n",
              "    </tr>\n",
              "    <tr>\n",
              "      <th>539111</th>\n",
              "      <td>695</td>\n",
              "      <td>H24-30-3</td>\n",
              "      <td>In cases where A claims purchase money of mov...</td>\n",
              "      <td>537</td>\n",
              "      <td>0</td>\n",
              "    </tr>\n",
              "    <tr>\n",
              "      <th>539112</th>\n",
              "      <td>695</td>\n",
              "      <td>H24-30-3</td>\n",
              "      <td>In cases where A claims purchase money of mov...</td>\n",
              "      <td>538</td>\n",
              "      <td>0</td>\n",
              "    </tr>\n",
              "    <tr>\n",
              "      <th>539114</th>\n",
              "      <td>695</td>\n",
              "      <td>H24-30-3</td>\n",
              "      <td>In cases where A claims purchase money of mov...</td>\n",
              "      <td>539_2</td>\n",
              "      <td>0</td>\n",
              "    </tr>\n",
              "  </tbody>\n",
              "</table>\n",
              "</div>"
            ],
            "text/plain": [
              "        Serial_Num        ID  ... Article_number Label\n",
              "539283         695  H24-30-3  ...            689     0\n",
              "539219         695  H24-30-3  ...            632     0\n",
              "539111         695  H24-30-3  ...            537     0\n",
              "539112         695  H24-30-3  ...            538     0\n",
              "539114         695  H24-30-3  ...          539_2     0\n",
              "\n",
              "[5 rows x 5 columns]"
            ]
          },
          "metadata": {
            "tags": []
          },
          "execution_count": 7
        }
      ]
    },
    {
      "cell_type": "code",
      "metadata": {
        "id": "3wixa4w5uu93",
        "colab": {
          "base_uri": "https://localhost:8080/",
          "height": 419
        },
        "outputId": "56227088-7f3b-4798-c4a0-a9325cb9fbe8"
      },
      "source": [
        "test_classification_data"
      ],
      "execution_count": null,
      "outputs": [
        {
          "output_type": "execute_result",
          "data": {
            "text/html": [
              "<div>\n",
              "<style scoped>\n",
              "    .dataframe tbody tr th:only-of-type {\n",
              "        vertical-align: middle;\n",
              "    }\n",
              "\n",
              "    .dataframe tbody tr th {\n",
              "        vertical-align: top;\n",
              "    }\n",
              "\n",
              "    .dataframe thead th {\n",
              "        text-align: right;\n",
              "    }\n",
              "</style>\n",
              "<table border=\"1\" class=\"dataframe\">\n",
              "  <thead>\n",
              "    <tr style=\"text-align: right;\">\n",
              "      <th></th>\n",
              "      <th>ID</th>\n",
              "      <th>Sequence</th>\n",
              "      <th>Article_number</th>\n",
              "      <th>Label</th>\n",
              "    </tr>\n",
              "  </thead>\n",
              "  <tbody>\n",
              "    <tr>\n",
              "      <th>0</th>\n",
              "      <td>R01-1-A</td>\n",
              "      <td>Acceptance made by a minor that received an o...</td>\n",
              "      <td>1</td>\n",
              "      <td>0</td>\n",
              "    </tr>\n",
              "    <tr>\n",
              "      <th>1</th>\n",
              "      <td>R01-1-A</td>\n",
              "      <td>Acceptance made by a minor that received an o...</td>\n",
              "      <td>2</td>\n",
              "      <td>0</td>\n",
              "    </tr>\n",
              "    <tr>\n",
              "      <th>2</th>\n",
              "      <td>R01-1-A</td>\n",
              "      <td>Acceptance made by a minor that received an o...</td>\n",
              "      <td>3</td>\n",
              "      <td>0</td>\n",
              "    </tr>\n",
              "    <tr>\n",
              "      <th>3</th>\n",
              "      <td>R01-1-A</td>\n",
              "      <td>Acceptance made by a minor that received an o...</td>\n",
              "      <td>3_2</td>\n",
              "      <td>0</td>\n",
              "    </tr>\n",
              "    <tr>\n",
              "      <th>4</th>\n",
              "      <td>R01-1-A</td>\n",
              "      <td>Acceptance made by a minor that received an o...</td>\n",
              "      <td>4</td>\n",
              "      <td>0</td>\n",
              "    </tr>\n",
              "    <tr>\n",
              "      <th>...</th>\n",
              "      <td>...</td>\n",
              "      <td>...</td>\n",
              "      <td>...</td>\n",
              "      <td>...</td>\n",
              "    </tr>\n",
              "    <tr>\n",
              "      <th>86907</th>\n",
              "      <td>R01-37-U</td>\n",
              "      <td>In cases where it is assumed, due to the natu...</td>\n",
              "      <td>721</td>\n",
              "      <td>0</td>\n",
              "    </tr>\n",
              "    <tr>\n",
              "      <th>86908</th>\n",
              "      <td>R01-37-U</td>\n",
              "      <td>In cases where it is assumed, due to the natu...</td>\n",
              "      <td>722</td>\n",
              "      <td>0</td>\n",
              "    </tr>\n",
              "    <tr>\n",
              "      <th>86909</th>\n",
              "      <td>R01-37-U</td>\n",
              "      <td>In cases where it is assumed, due to the natu...</td>\n",
              "      <td>723</td>\n",
              "      <td>0</td>\n",
              "    </tr>\n",
              "    <tr>\n",
              "      <th>86910</th>\n",
              "      <td>R01-37-U</td>\n",
              "      <td>In cases where it is assumed, due to the natu...</td>\n",
              "      <td>724</td>\n",
              "      <td>0</td>\n",
              "    </tr>\n",
              "    <tr>\n",
              "      <th>86911</th>\n",
              "      <td>R01-37-U</td>\n",
              "      <td>In cases where it is assumed, due to the natu...</td>\n",
              "      <td>724_2</td>\n",
              "      <td>0</td>\n",
              "    </tr>\n",
              "  </tbody>\n",
              "</table>\n",
              "<p>86912 rows × 4 columns</p>\n",
              "</div>"
            ],
            "text/plain": [
              "             ID  ... Label\n",
              "0       R01-1-A  ...     0\n",
              "1       R01-1-A  ...     0\n",
              "2       R01-1-A  ...     0\n",
              "3       R01-1-A  ...     0\n",
              "4       R01-1-A  ...     0\n",
              "...         ...  ...   ...\n",
              "86907  R01-37-U  ...     0\n",
              "86908  R01-37-U  ...     0\n",
              "86909  R01-37-U  ...     0\n",
              "86910  R01-37-U  ...     0\n",
              "86911  R01-37-U  ...     0\n",
              "\n",
              "[86912 rows x 4 columns]"
            ]
          },
          "metadata": {
            "tags": []
          },
          "execution_count": 8
        }
      ]
    },
    {
      "cell_type": "code",
      "metadata": {
        "id": "SF2qVWRHxWZq",
        "colab": {
          "base_uri": "https://localhost:8080/",
          "height": 115,
          "referenced_widgets": [
            "f3ac08c764a244c7b8b039fff677ff58",
            "0794d5fdbc9d42dabded8b4917aff838",
            "8d73b2528627491caa94451e7fb8e35e",
            "da548713df2f4756a1dee7d3bde8860d",
            "7a032f3835fd4edfb486db40dea67f69",
            "718a4d82fd5346478f0889d0d1ec8846",
            "0b888a50242f436d87ed5509b6712793",
            "c18dd89f58f04e038a9564a519cc9eeb",
            "4442318bd8f64897b560437979c05c24",
            "c161a0109b0749c7bc646809446accb7",
            "898667f77eba41598118b6b11ed1dc0a",
            "ac8c36c48aa34bf5b6b38ffe958e608d",
            "ca166da09d474bcbbd6a2c8b3de9ff72",
            "bfeb88a318ed49abb78097090492c5b5",
            "7888ed47615b4abdb295e8a0bcaf2a2d",
            "78a1da05c7d343b8bde86459648c19f1"
          ]
        },
        "outputId": "8c5b5bc1-d5fb-4b31-a4fb-03a499d2a479"
      },
      "source": [
        "#Initialising the tokenizer that will split the sequence into Byte-Pair Encoding. Subword embeddings that were used while training the DistilBert model. \n",
        "\n",
        "distilbert_tokenizer = DistilBertTokenizerFast.from_pretrained(\"distilbert-base-uncased\")\n"
      ],
      "execution_count": 5,
      "outputs": [
        {
          "output_type": "display_data",
          "data": {
            "application/vnd.jupyter.widget-view+json": {
              "model_id": "f3ac08c764a244c7b8b039fff677ff58",
              "version_minor": 0,
              "version_major": 2
            },
            "text/plain": [
              "HBox(children=(FloatProgress(value=0.0, description='Downloading', max=231508.0, style=ProgressStyle(descripti…"
            ]
          },
          "metadata": {
            "tags": []
          }
        },
        {
          "output_type": "stream",
          "text": [
            "\n"
          ],
          "name": "stdout"
        },
        {
          "output_type": "display_data",
          "data": {
            "application/vnd.jupyter.widget-view+json": {
              "model_id": "4442318bd8f64897b560437979c05c24",
              "version_minor": 0,
              "version_major": 2
            },
            "text/plain": [
              "HBox(children=(FloatProgress(value=0.0, description='Downloading', max=466062.0, style=ProgressStyle(descripti…"
            ]
          },
          "metadata": {
            "tags": []
          }
        },
        {
          "output_type": "stream",
          "text": [
            "\n"
          ],
          "name": "stdout"
        }
      ]
    },
    {
      "cell_type": "code",
      "metadata": {
        "id": "ASHlmh2HlKgZ"
      },
      "source": [
        "def create_distilbert_tokenised_data(data,data_labels,path_to_save):\n",
        "\n",
        "    start = time.time()\n",
        "\n",
        "    train_encodings = distilbert_tokenizer(data, truncation=True, padding=True) # DistilBert\n",
        "    \n",
        "    train_dataset = tf.data.Dataset.from_tensor_slices((\n",
        "        dict(train_encodings),\n",
        "        data_labels\n",
        "    ))\n",
        "    #https://www.tensorflow.org/api_docs/python/tf/data/experimental/load\n",
        "    tf.data.experimental.save(train_dataset, path_to_save)\n",
        "\n",
        "    del(train_encodings)\n",
        "    del(train_dataset)\n",
        "    end = time.time()\n",
        "\n",
        "    total = end - start\n",
        "    print('Time taken for encoding and saving : {}'.format(total/60))\n",
        "\n",
        "    train_dataset = tf.data.experimental.load(path_to_save,\n",
        "    ({'input_ids': tf.TensorSpec(shape=(512,), dtype=tf.int32, name=None), 'attention_mask': tf.TensorSpec(shape=(512,), dtype=tf.int32, name=None)}, tf.TensorSpec(shape=(), dtype=tf.int32, name=None)))\n",
        "\n",
        "\n",
        "    return train_dataset"
      ],
      "execution_count": 6,
      "outputs": []
    },
    {
      "cell_type": "code",
      "metadata": {
        "id": "okwZ-N2BjQmY"
      },
      "source": [
        "#Split the dataset into a training and testing modules that will be used for training and evaluation. \n",
        "\n",
        "def create_classification_dataset(path_to_dataset,train_classification_data,test_classification_data):\n",
        "    \n",
        "    '''\n",
        "    Train , Val and test dataset with DistilBert Encodings.\n",
        "    '''\n",
        "    train_dataset_path = path_to_dataset+'top10_similar_up_and_downsampled_train_dataset'\n",
        "    validation_dataset_path = path_to_dataset+'top10_similar_up_and_downsampled_validation_dataset'\n",
        "    test_dataset_path = path_to_dataset+'test_dataset'\n",
        "\n",
        "    if os.path.exists(train_dataset_path) and os.path.exists(validation_dataset_path):\n",
        "\n",
        "        train_dataset = tf.data.experimental.load(train_dataset_path,\n",
        "        ({'input_ids': tf.TensorSpec(shape=(512,), dtype=tf.int32, name=None), 'attention_mask': tf.TensorSpec(shape=(512,), dtype=tf.int32, name=None)}, tf.TensorSpec(shape=(), dtype=tf.int32, name=None)))\n",
        "        \n",
        "        print(\"Train Dataset loaded\")\n",
        "\n",
        "        validation_dataset = tf.data.experimental.load(validation_dataset_path,\n",
        "        ({'input_ids': tf.TensorSpec(shape=(512,), dtype=tf.int32, name=None), 'attention_mask': tf.TensorSpec(shape=(512,), dtype=tf.int32, name=None)}, tf.TensorSpec(shape=(), dtype=tf.int32, name=None)))\n",
        "\n",
        "        print(\"Validation Dataset loaded\")\n",
        "\n",
        "    else : \n",
        "        \n",
        "        X = list(train_classification_data['Sequence'])\n",
        "        y = list(train_classification_data['Label'])\n",
        "\n",
        "\n",
        "        X_train, X_val, y_train, y_val = train_test_split(X, y, test_size=0.1, random_state=13)\n",
        "        print(\"Train dataset shape: {0} \\nValidation dataset shape: {1}\".format(len(X_train), len(X_val)))\n",
        "\n",
        "        #Custom Tf.data.Dataset object creation according to the input data. \n",
        "        train_dataset = create_distilbert_tokenised_data(X_train,y_train,train_dataset_path)\n",
        "\n",
        "        # train_dataset_1 = create_distilbert_tokenised_data(X_train[:100000],y_train[:100000],path_to_dataset+'595_train_dataset_1')\n",
        "        # train_dataset_2 = create_distilbert_tokenised_data(X_train[100000:200000],y_train[100000:200000],path_to_dataset+'595_train_dataset_2')\n",
        "        # train_dataset_3 = create_distilbert_tokenised_data(X_train[200000:300000],y_train[200000:300000],path_to_dataset+'595_train_dataset_3')\n",
        "        # train_dataset_4 = create_distilbert_tokenised_data(X_train[300000:400000],y_train[300000:400000],path_to_dataset+'595_train_dataset_4')\n",
        "        # train_dataset_5 = create_distilbert_tokenised_data(X_train[400000:500000],y_train[400000:500000],path_to_dataset+'595_train_dataset_5')\n",
        "        # train_dataset_6 = create_distilbert_tokenised_data(X_train[500000:600000],y_train[500000:600000],path_to_dataset+'595_train_dataset_6')\n",
        "        # train_dataset_7 = create_distilbert_tokenised_data(X_train[600000:700000],y_train[600000:700000],path_to_dataset+'595_train_dataset_7')\n",
        "        # train_dataset_8 = create_distilbert_tokenised_data(X_train[700000:800000],y_train[700000:800000],path_to_dataset+'595_train_dataset_8')\n",
        "        # train_dataset_9 = create_distilbert_tokenised_data(X_train[800000:900000],y_train[800000:900000],path_to_dataset+'595_train_dataset_9')\n",
        "        # train_dataset_10 = create_distilbert_tokenised_data(X_train[900000:],y_train[900000:],path_to_dataset+'595_train_dataset_10')\n",
        "\n",
        "        # train_dataset = train_dataset_1.concatenate(train_dataset_2)\n",
        "        # train_dataset = train_dataset.concatenate(train_dataset_3)\n",
        "        # train_dataset = train_dataset.concatenate(train_dataset_4)\n",
        "        # train_dataset = train_dataset.concatenate(train_dataset_5)\n",
        "        # train_dataset = train_dataset.concatenate(train_dataset_6)\n",
        "        # train_dataset = train_dataset.concatenate(train_dataset_7)\n",
        "        # train_dataset = train_dataset.concatenate(train_dataset_8)\n",
        "        # train_dataset = train_dataset.concatenate(train_dataset_9)\n",
        "        # train_dataset = train_dataset.concatenate(train_dataset_10)\n",
        "\n",
        "\n",
        "        tf.data.experimental.save(train_dataset, train_dataset_path)\n",
        "        train_dataset = tf.data.experimental.load(train_dataset_path,\n",
        "            ({'input_ids': tf.TensorSpec(shape=(512,), dtype=tf.int32, name=None), 'attention_mask': tf.TensorSpec(shape=(512,), dtype=tf.int32, name=None)}, tf.TensorSpec(shape=(), dtype=tf.int32, name=None)))\n",
        "\n",
        "        print(\"Train Dataset created and saved .\")\n",
        "\n",
        "        validation_dataset = create_distilbert_tokenised_data(X_val,y_val,validation_dataset_path)\n",
        "\n",
        "        print(\"Validation Dataset created and saved .\")\n",
        "\n",
        "    if os.path.exists(path_to_dataset+'test_dataset') == True:\n",
        "\n",
        "        test_dataset = tf.data.experimental.load(test_dataset_path,\n",
        "        ({'input_ids': tf.TensorSpec(shape=(512,), dtype=tf.int32, name=None), 'attention_mask': tf.TensorSpec(shape=(512,), dtype=tf.int32, name=None)}, tf.TensorSpec(shape=(), dtype=tf.int32, name=None)))\n",
        "\n",
        "        print(\"Test Dataset loaded\")\n",
        "    \n",
        "    else : \n",
        "\n",
        "        X_test = list(test_classification_data['Sequence'])\n",
        "        y_test = list(test_classification_data['Label'])\n",
        "        start = time.time()\n",
        "\n",
        "        test_encodings = distilbert_tokenizer(X_test, truncation=True, padding=True)\n",
        "        \n",
        "        test_dataset = tf.data.Dataset.from_tensor_slices((\n",
        "            dict(test_encodings),\n",
        "            y_test))\n",
        "        #https://www.tensorflow.org/api_docs/python/tf/data/experimental/load\n",
        "        tf.data.experimental.save(test_dataset, test_dataset_path)\n",
        "\n",
        "        del(test_encodings)\n",
        "        del(test_dataset)\n",
        "        end = time.time()\n",
        "\n",
        "        total = end - start\n",
        "        print('Time taken for encoding and saving : {}'.format(total/60))\n",
        "\n",
        "        test_dataset = tf.data.experimental.load(test_dataset_path,\n",
        "        ({'input_ids': tf.TensorSpec(shape=(512,), dtype=tf.int32, name=None), 'attention_mask': tf.TensorSpec(shape=(512,), dtype=tf.int32, name=None)}, tf.TensorSpec(shape=(), dtype=tf.int32, name=None)))\n",
        "\n",
        "        print(\"Test Dataset created and saved .\")\n",
        "\n",
        "\n",
        "    return train_dataset , validation_dataset , test_dataset\n",
        "\n"
      ],
      "execution_count": 7,
      "outputs": []
    },
    {
      "cell_type": "code",
      "metadata": {
        "id": "b4XfOR-bt1T-",
        "colab": {
          "base_uri": "https://localhost:8080/"
        },
        "outputId": "20095a07-bec2-4f7c-913e-a3be1dab8a88"
      },
      "source": [
        "path_to_tfds_bert_data = '/content/drive/My Drive/COLIEE Retrieval /tfds_bert_data/'\n",
        "train_dataset , validation_dataset , test_dataset = create_classification_dataset(path_to_tfds_bert_data,train_classification_data,test_classification_data)"
      ],
      "execution_count": 8,
      "outputs": [
        {
          "output_type": "stream",
          "text": [
            "Train Dataset loaded\n",
            "Validation Dataset loaded\n",
            "Test Dataset loaded\n"
          ],
          "name": "stdout"
        }
      ]
    },
    {
      "cell_type": "markdown",
      "metadata": {
        "id": "aIZt8cypCOGX"
      },
      "source": [
        "This way the whole dataset can be encoded / tokenised efficiently without clogging up the memory. "
      ]
    },
    {
      "cell_type": "code",
      "metadata": {
        "id": "SXHBHiAzCyUG"
      },
      "source": [
        "#calculate class weights\n",
        "\n",
        "X = list(train_classification_data['Sequence'])\n",
        "y = list(train_classification_data['Label'])\n",
        "\n",
        "X_train, X_val, y_train, y_val = train_test_split(X, y, test_size=0.1, random_state=13)\n",
        "\n",
        "class_weights = class_weight.compute_class_weight('balanced',\n",
        "                                                 np.unique(y_train),\n",
        "                                                 y_train)\n",
        "\n",
        "class_weights = dict(enumerate(class_weights))\n"
      ],
      "execution_count": null,
      "outputs": []
    },
    {
      "cell_type": "code",
      "metadata": {
        "colab": {
          "base_uri": "https://localhost:8080/"
        },
        "id": "S7ee8BuMEabT",
        "outputId": "a7b5573e-357f-4f79-bced-3ac8e6c89bbf"
      },
      "source": [
        "class_weights"
      ],
      "execution_count": null,
      "outputs": [
        {
          "output_type": "execute_result",
          "data": {
            "text/plain": [
              "{0: 1.004339739615623, 1: 0.9956976029502151}"
            ]
          },
          "metadata": {
            "tags": []
          },
          "execution_count": 48
        }
      ]
    },
    {
      "cell_type": "markdown",
      "metadata": {
        "id": "-LiB7MV4aZ4O"
      },
      "source": [
        "### Finetune model"
      ]
    },
    {
      "cell_type": "code",
      "metadata": {
        "id": "Iq-p_-rHtJE-",
        "colab": {
          "base_uri": "https://localhost:8080/",
          "height": 220,
          "referenced_widgets": [
            "8eeb0c409e4a48f49aa3503febbbedc8",
            "c7e35e823562472d9fc6331a9c6ad468",
            "7de6adc0337843e5b9db2c8150f6c085",
            "cf5445cbe51b42d19e813ae94c399466",
            "ebf7cb3f91684b0da05229c83bb66eb8",
            "0cd69276ea104c7db24b15600a7af502",
            "75405825b5fa4c5f90bd73def76e4c2d",
            "163d918b0af84107a13885ac65b70a75",
            "fc427d6109704eeb92c2e7371477f3d9",
            "f4692d08827647c7b62643a4cb1ae576",
            "c53c0ed216dd443cbad3fbbedc6150fa",
            "e26e92019c3f46108a7cbb7410d7bbdc",
            "ad8b0eef44f047068d0fabe7f399ff68",
            "092a834a44a84d3ba33a179d7638d045",
            "1d1b868fe5ff4a85bc67d0f4ba245b77",
            "082b2d60def245588730a832afe632e4"
          ]
        },
        "outputId": "b51a0617-fdab-476d-d3c7-65dba03135dd"
      },
      "source": [
        "# We classify two labels in this example. In case of multiclass classification, adjust num_labels value\n",
        "\n",
        "model = TFDistilBertForSequenceClassification.from_pretrained('distilbert-base-uncased',\n",
        "                                                              num_labels=2)"
      ],
      "execution_count": null,
      "outputs": [
        {
          "output_type": "display_data",
          "data": {
            "application/vnd.jupyter.widget-view+json": {
              "model_id": "8eeb0c409e4a48f49aa3503febbbedc8",
              "version_minor": 0,
              "version_major": 2
            },
            "text/plain": [
              "HBox(children=(FloatProgress(value=0.0, description='Downloading', max=442.0, style=ProgressStyle(description_…"
            ]
          },
          "metadata": {
            "tags": []
          }
        },
        {
          "output_type": "stream",
          "text": [
            "\n"
          ],
          "name": "stdout"
        },
        {
          "output_type": "display_data",
          "data": {
            "application/vnd.jupyter.widget-view+json": {
              "model_id": "fc427d6109704eeb92c2e7371477f3d9",
              "version_minor": 0,
              "version_major": 2
            },
            "text/plain": [
              "HBox(children=(FloatProgress(value=0.0, description='Downloading', max=363423424.0, style=ProgressStyle(descri…"
            ]
          },
          "metadata": {
            "tags": []
          }
        },
        {
          "output_type": "stream",
          "text": [
            "\n"
          ],
          "name": "stdout"
        },
        {
          "output_type": "stream",
          "text": [
            "Some layers from the model checkpoint at distilbert-base-uncased were not used when initializing TFDistilBertForSequenceClassification: ['vocab_projector', 'vocab_layer_norm', 'vocab_transform', 'activation_13']\n",
            "- This IS expected if you are initializing TFDistilBertForSequenceClassification from the checkpoint of a model trained on another task or with another architecture (e.g. initializing a BertForSequenceClassification model from a BertForPreTraining model).\n",
            "- This IS NOT expected if you are initializing TFDistilBertForSequenceClassification from the checkpoint of a model that you expect to be exactly identical (initializing a BertForSequenceClassification model from a BertForSequenceClassification model).\n",
            "Some layers of TFDistilBertForSequenceClassification were not initialized from the model checkpoint at distilbert-base-uncased and are newly initialized: ['pre_classifier', 'classifier', 'dropout_209']\n",
            "You should probably TRAIN this model on a down-stream task to be able to use it for predictions and inference.\n"
          ],
          "name": "stderr"
        }
      ]
    },
    {
      "cell_type": "code",
      "metadata": {
        "id": "Ww85JVp9tN5R"
      },
      "source": [
        "# intialising the optimisers , loss function and evaluation metric\n",
        "#model.compute_loss\n",
        "optimizer = tf.keras.optimizers.Adam(learning_rate=5e-5)\n",
        "model.compile(optimizer=optimizer, loss=model.compute_loss, metrics=['accuracy'])\n",
        " \n",
        "# Calling the training function for fine tuniong the pretrained model \n",
        "model.fit(train_dataset.shuffle(100).batch(8), #Batch size \n",
        "          epochs=4,\n",
        "          batch_size=8,\n",
        "          validation_data=validation_dataset.shuffle(100).batch(8),use_multiprocessing = True,workers = 4 )#, class_weight = class_weights)"
      ],
      "execution_count": null,
      "outputs": []
    },
    {
      "cell_type": "markdown",
      "metadata": {
        "id": "mLUYyIqlbdTW"
      },
      "source": [
        "Model architecture for TFDistilBertForSequenceClassification\n",
        "\n",
        "    class TFDistilBertForSequenceClassification(TFDistilBertPreTrainedModel, TFSequenceClassificationLoss):\n",
        "            def __init__(self, config, *inputs, **kwargs):\n",
        "                super().__init__(config, *inputs, **kwargs)\n",
        "                self.num_labels = config.num_labels\n",
        "\n",
        "                self.distilbert = TFDistilBertMainLayer(config, name=\"distilbert\")\n",
        "                self.pre_classifier = tf.keras.layers.Dense(\n",
        "                    config.dim,\n",
        "                    kernel_initializer=get_initializer(config.initializer_range),\n",
        "                    activation=\"relu\",\n",
        "                    name=\"pre_classifier\",\n",
        "                )\n",
        "                self.classifier = tf.keras.layers.Dense(\n",
        "                    config.num_labels, kernel_initializer=get_initializer(config.initializer_range), name=\"classifier\"\n",
        "                )\n",
        "                self.dropout = tf.keras.layers.Dropout(config.seq_classif_dropout)\n",
        "                @add_start_docstrings_to_callable(DISTILBERT_INPUTS_DOCSTRING.format(\"batch_size, sequence_length\"))\n",
        "                @add_code_sample_docstrings(\n",
        "        tokenizer_class=_TOKENIZER_FOR_DOC,\n",
        "        checkpoint=\"distilbert-base-uncased\",\n",
        "        output_type=TFSequenceClassifierOutput,\n",
        "        config_class=_CONFIG_FOR_DOC,\n",
        "                )\n",
        "        def call(\n",
        "        self,\n",
        "        inputs=None,\n",
        "        attention_mask=None,\n",
        "        head_mask=None,\n",
        "        inputs_embeds=None,\n",
        "        output_attentions=None,\n",
        "        output_hidden_states=None,\n",
        "        return_dict=None,\n",
        "        labels=None,\n",
        "        training=False,\n",
        "        ):\n",
        "        r\"\"\"\n",
        "        labels (:obj:`tf.Tensor` of shape :obj:`(batch_size,)`, `optional`):\n",
        "            Labels for computing the sequence classification/regression loss.\n",
        "            Indices should be in ``[0, ..., config.num_labels - 1]``.\n",
        "            If ``config.num_labels == 1`` a regression loss is computed (Mean-Square loss),\n",
        "            If ``config.num_labels > 1`` a classification loss is computed (Cross-Entropy).\n",
        "        \"\"\"\n",
        "        return_dict = return_dict if return_dict is not None else self.distilbert.return_dict\n",
        "        if isinstance(inputs, (tuple, list)):\n",
        "            labels = inputs[7] if len(inputs) > 7 else labels\n",
        "            if len(inputs) > 7:\n",
        "                inputs = inputs[:7]\n",
        "        elif isinstance(inputs, (dict, BatchEncoding)):\n",
        "            labels = inputs.pop(\"labels\", labels)\n",
        "\n",
        "        distilbert_output = self.distilbert(\n",
        "            inputs,\n",
        "            attention_mask=attention_mask,\n",
        "            head_mask=head_mask,\n",
        "            inputs_embeds=inputs_embeds,\n",
        "            output_attentions=output_attentions,\n",
        "            output_hidden_states=output_hidden_states,\n",
        "            return_dict=return_dict,\n",
        "            training=training,\n",
        "        )\n",
        "\n",
        "        hidden_state = distilbert_output[0]  # (bs, seq_len, dim)\n",
        "        pooled_output = hidden_state[:, 0]  # (bs, dim)\n",
        "        pooled_output = self.pre_classifier(pooled_output)  # (bs, dim)\n",
        "        pooled_output = self.dropout(pooled_output, training=training)  # (bs, dim)\n",
        "        logits = self.classifier(pooled_output)  # (bs, dim)\n",
        "\n",
        "        loss = None if labels is None else self.compute_loss(labels, logits)\n",
        "\n",
        "        if not return_dict:\n",
        "            output = (logits,) + distilbert_output[1:]\n",
        "            return ((loss,) + output) if loss is not None else output\n",
        "\n",
        "        return TFSequenceClassifierOutput(\n",
        "            loss=loss,\n",
        "            logits=logits,\n",
        "            hidden_states=distilbert_output.hidden_states,\n",
        "            attentions=distilbert_output.attentions,\n",
        "        )\n"
      ]
    },
    {
      "cell_type": "code",
      "metadata": {
        "id": "FmV_hwV7tQaN",
        "colab": {
          "base_uri": "https://localhost:8080/"
        },
        "outputId": "17c0627e-d4a2-496a-e61b-24f09d70c20e"
      },
      "source": [
        "# Model architecture \n",
        "model.summary()"
      ],
      "execution_count": null,
      "outputs": [
        {
          "output_type": "stream",
          "text": [
            "Model: \"tf_distil_bert_for_sequence_classification\"\n",
            "_________________________________________________________________\n",
            "Layer (type)                 Output Shape              Param #   \n",
            "=================================================================\n",
            "distilbert (TFDistilBertMain multiple                  66362880  \n",
            "_________________________________________________________________\n",
            "pre_classifier (Dense)       multiple                  590592    \n",
            "_________________________________________________________________\n",
            "classifier (Dense)           multiple                  1538      \n",
            "_________________________________________________________________\n",
            "dropout_19 (Dropout)         multiple                  0         \n",
            "=================================================================\n",
            "Total params: 66,955,010\n",
            "Trainable params: 66,955,010\n",
            "Non-trainable params: 0\n",
            "_________________________________________________________________\n"
          ],
          "name": "stdout"
        }
      ]
    },
    {
      "cell_type": "code",
      "metadata": {
        "id": "lMPo-xQ8tTIJ"
      },
      "source": [
        "#Saving the model after the training. \n",
        "\n",
        "FOLDERNAME = \"top_10_similar_up_and_downsample\"\n",
        "\n",
        "model.save_pretrained(\"/content/drive/My Drive/COLIEE Retrieval /bert_model/\"+FOLDERNAME)"
      ],
      "execution_count": null,
      "outputs": []
    },
    {
      "cell_type": "code",
      "metadata": {
        "id": "Yj7bsyTwtYiA",
        "colab": {
          "base_uri": "https://localhost:8080/"
        },
        "outputId": "7e4e44ce-3811-42ff-e5b2-038c4e8ebbe2"
      },
      "source": [
        "# loading the fintuned model \n",
        "\n",
        "loaded_model = TFDistilBertForSequenceClassification.from_pretrained(\"/content/drive/My Drive/COLIEE Retrieval /bert_model/\"+FOLDERNAME)"
      ],
      "execution_count": null,
      "outputs": [
        {
          "output_type": "stream",
          "text": [
            "Some layers from the model checkpoint at /content/drive/My Drive/COLIEE Retrieval /bert_model were not used when initializing TFDistilBertForSequenceClassification: ['dropout_19']\n",
            "- This IS expected if you are initializing TFDistilBertForSequenceClassification from the checkpoint of a model trained on another task or with another architecture (e.g. initializing a BertForSequenceClassification model from a BertForPreTraining model).\n",
            "- This IS NOT expected if you are initializing TFDistilBertForSequenceClassification from the checkpoint of a model that you expect to be exactly identical (initializing a BertForSequenceClassification model from a BertForSequenceClassification model).\n",
            "Some layers of TFDistilBertForSequenceClassification were not initialized from the model checkpoint at /content/drive/My Drive/COLIEE Retrieval /bert_model and are newly initialized: ['dropout_59']\n",
            "You should probably TRAIN this model on a down-stream task to be able to use it for predictions and inference.\n"
          ],
          "name": "stderr"
        }
      ]
    },
    {
      "cell_type": "code",
      "metadata": {
        "id": "IniJ7toYN2Ok",
        "colab": {
          "base_uri": "https://localhost:8080/"
        },
        "outputId": "f393e9e3-d9dd-4be5-fb97-19a9d88c048e"
      },
      "source": [
        "loaded_model.summary()"
      ],
      "execution_count": null,
      "outputs": [
        {
          "output_type": "stream",
          "text": [
            "Model: \"tf_distil_bert_for_sequence_classification_2\"\n",
            "_________________________________________________________________\n",
            "Layer (type)                 Output Shape              Param #   \n",
            "=================================================================\n",
            "distilbert (TFDistilBertMain multiple                  66362880  \n",
            "_________________________________________________________________\n",
            "pre_classifier (Dense)       multiple                  590592    \n",
            "_________________________________________________________________\n",
            "classifier (Dense)           multiple                  1538      \n",
            "_________________________________________________________________\n",
            "dropout_59 (Dropout)         multiple                  0         \n",
            "=================================================================\n",
            "Total params: 66,955,010\n",
            "Trainable params: 66,955,010\n",
            "Non-trainable params: 0\n",
            "_________________________________________________________________\n"
          ],
          "name": "stdout"
        }
      ]
    },
    {
      "cell_type": "markdown",
      "metadata": {
        "id": "y5r8R1o1aiOK"
      },
      "source": [
        "### Finetuned model Evaluation"
      ]
    },
    {
      "cell_type": "code",
      "metadata": {
        "id": "PzZmRANOdqO8"
      },
      "source": [
        "#Evaluation \n",
        "\n",
        "# Tokeinising the test dataset (Due to the memory error the test set was reduced to 100 instances . But this issue has to be resolved)\n",
        "# test_enc = distilbert_tokenizer(X_test, truncation=True, padding=True,return_tensors='tf')\n",
        "\n",
        "# After tokenising the test dataset, it is fed into the loaded fintuned model for calculating the sentence embeddings and fed into the classifier.  Logits value are calculated in the classifier layer. \n",
        "# tf_out = loaded_model(test_enc)\n",
        "tf_out = loaded_model.predict(test_dataset.shuffle(100).batch(8))\n",
        "\n",
        "#The final output of the finetuned model is not a probability value since the last layer is not a softmax or a sigmoid layer. So the final output is fed into a Softmax layer to convert it into a probability value. \n",
        "tf_predictions = tf.nn.softmax(tf_out[0], axis=-1)\n",
        "\n",
        "#The label with higher probability is chosen as the predicted probability. \n",
        "predicted_label = tf.argmax(tf_predictions, axis=1)\n",
        "\n",
        "#Covnert the predicted value from a tensor to a array for evaluation. \n",
        "predicted_label_array=predicted_label.numpy()\n"
      ],
      "execution_count": null,
      "outputs": []
    },
    {
      "cell_type": "code",
      "metadata": {
        "id": "t_JH-s0jhUHW",
        "colab": {
          "base_uri": "https://localhost:8080/"
        },
        "outputId": "7d99b955-7d84-4446-debc-b7f43f1d6d10"
      },
      "source": [
        "tf_out[0].shape"
      ],
      "execution_count": null,
      "outputs": [
        {
          "output_type": "execute_result",
          "data": {
            "text/plain": [
              "(86912, 2)"
            ]
          },
          "metadata": {
            "tags": []
          },
          "execution_count": 97
        }
      ]
    },
    {
      "cell_type": "code",
      "metadata": {
        "id": "WSJAtP-Yhm4A",
        "colab": {
          "base_uri": "https://localhost:8080/"
        },
        "outputId": "d0122879-42ef-4f47-93e3-06edaffcc3b6"
      },
      "source": [
        "tf_predictions.shape"
      ],
      "execution_count": null,
      "outputs": [
        {
          "output_type": "execute_result",
          "data": {
            "text/plain": [
              "TensorShape([86912, 2])"
            ]
          },
          "metadata": {
            "tags": []
          },
          "execution_count": 16
        }
      ]
    },
    {
      "cell_type": "code",
      "metadata": {
        "id": "xPeGFxNxhqTJ",
        "colab": {
          "base_uri": "https://localhost:8080/"
        },
        "outputId": "3bc06400-fb33-433c-ab3c-32c98eb6d13b"
      },
      "source": [
        "# print(predicted_label_array)\n",
        "print(predicted_label_array.shape)"
      ],
      "execution_count": null,
      "outputs": [
        {
          "output_type": "stream",
          "text": [
            "(86912,)\n"
          ],
          "name": "stdout"
        }
      ]
    },
    {
      "cell_type": "code",
      "metadata": {
        "colab": {
          "base_uri": "https://localhost:8080/"
        },
        "id": "fglgaOaJuHpH",
        "outputId": "a85a402d-1e8c-418e-9fb5-04da8f47eb65"
      },
      "source": [
        "predicted_label_array[1]"
      ],
      "execution_count": null,
      "outputs": [
        {
          "output_type": "execute_result",
          "data": {
            "text/plain": [
              "0"
            ]
          },
          "metadata": {
            "tags": []
          },
          "execution_count": 21
        }
      ]
    },
    {
      "cell_type": "code",
      "metadata": {
        "id": "-a6W4yRzk0fu"
      },
      "source": [
        "y_val_list = list(validation_dataset.as_numpy_iterator())\n",
        "y_val = [y[-1] for y in y_val_list]"
      ],
      "execution_count": null,
      "outputs": []
    },
    {
      "cell_type": "code",
      "metadata": {
        "id": "mCQ_feIIn_ZN",
        "colab": {
          "base_uri": "https://localhost:8080/"
        },
        "outputId": "085443c2-6102-47c0-88b7-04148e2313d8"
      },
      "source": [
        "len(y_val)"
      ],
      "execution_count": null,
      "outputs": [
        {
          "output_type": "execute_result",
          "data": {
            "text/plain": [
              "62842"
            ]
          },
          "metadata": {
            "tags": []
          },
          "execution_count": 34
        }
      ]
    },
    {
      "cell_type": "code",
      "metadata": {
        "id": "6LvM_b6QOjjC",
        "colab": {
          "base_uri": "https://localhost:8080/"
        },
        "outputId": "b1f08b00-749d-498b-f76c-67577d8a6091"
      },
      "source": [
        "y_test = list(test_classification_data['Label'])\n",
        "len(y_test)"
      ],
      "execution_count": null,
      "outputs": [
        {
          "output_type": "execute_result",
          "data": {
            "text/plain": [
              "86912"
            ]
          },
          "metadata": {
            "tags": []
          },
          "execution_count": 98
        }
      ]
    },
    {
      "cell_type": "code",
      "metadata": {
        "id": "AU1LABSVxG2y"
      },
      "source": [
        "c = 0\n",
        "for i in range(len(predicted_label_array)):\n",
        "    if predicted_label_array[i] == 1:\n",
        "        c = c + 1"
      ],
      "execution_count": null,
      "outputs": []
    },
    {
      "cell_type": "code",
      "metadata": {
        "id": "Xg16SmxGxSDz",
        "colab": {
          "base_uri": "https://localhost:8080/"
        },
        "outputId": "5cc71374-1d0b-4004-8381-1a6719b451a1"
      },
      "source": [
        "print(c)"
      ],
      "execution_count": null,
      "outputs": [
        {
          "output_type": "stream",
          "text": [
            "1790\n"
          ],
          "name": "stdout"
        }
      ]
    },
    {
      "cell_type": "code",
      "metadata": {
        "id": "VPw9RPcTe0PL",
        "colab": {
          "base_uri": "https://localhost:8080/"
        },
        "outputId": "ecdfc0f0-594e-4a81-e1a5-d81f7eb104b1"
      },
      "source": [
        "#Evaluation of the model's performance using confusion matrix. \n",
        "\n",
        "print(classification_report(y_test, predicted_label_array))"
      ],
      "execution_count": null,
      "outputs": [
        {
          "output_type": "stream",
          "text": [
            "              precision    recall  f1-score   support\n",
            "\n",
            "           0       1.00      0.98      0.99     86774\n",
            "           1       0.00      0.01      0.00       138\n",
            "\n",
            "    accuracy                           0.98     86912\n",
            "   macro avg       0.50      0.49      0.49     86912\n",
            "weighted avg       1.00      0.98      0.99     86912\n",
            "\n"
          ],
          "name": "stdout"
        }
      ]
    },
    {
      "cell_type": "code",
      "metadata": {
        "id": "-j4vxle61X-4"
      },
      "source": [
        "cm = classification_report(y_test, predicted_label_array)"
      ],
      "execution_count": null,
      "outputs": []
    },
    {
      "cell_type": "code",
      "metadata": {
        "id": "14i78fZUBIuL"
      },
      "source": [
        "def plot_cm(labels, predictions):\n",
        "  cm = confusion_matrix(labels, predictions)\n",
        "  plt.figure(figsize=(5,5))\n",
        "  sns.heatmap(cm, annot=True, fmt=\"d\")\n",
        "  plt.title('Confusion matrix ')\n",
        "  plt.ylabel('Actual label')\n",
        "  plt.xlabel('Predicted label')\n"
      ],
      "execution_count": null,
      "outputs": []
    },
    {
      "cell_type": "code",
      "metadata": {
        "colab": {
          "base_uri": "https://localhost:8080/"
        },
        "id": "AI9rTaqnBjGD",
        "outputId": "c86298c8-7d28-4e0b-9bf4-f181fb6c4661"
      },
      "source": [
        "plot_cm(y_test, predicted_label_array)"
      ],
      "execution_count": null,
      "outputs": [
        {
          "output_type": "display_data",
          "data": {
            "image/png": "[encoded data removed]",
            "text/plain": [
              "<Figure size 360x360 with 2 Axes>"
            ]
          },
          "metadata": {
            "tags": [],
            "needs_background": "light"
          }
        }
      ]
    },
    {
      "cell_type": "code",
      "metadata": {
        "colab": {
          "base_uri": "https://localhost:8080/"
        },
        "id": "FNn2KBDFGffc",
        "outputId": "2bbebad1-b8a4-47ab-e77f-15e50b1fd840"
      },
      "source": [
        "\"{:0.2f}\".format(roc_auc_score(y_test, predicted_label_array)*100.0)"
      ],
      "execution_count": null,
      "outputs": [
        {
          "output_type": "execute_result",
          "data": {
            "application/vnd.google.colaboratory.intrinsic+json": {
              "type": "string"
            },
            "text/plain": [
              "'49.33'"
            ]
          },
          "metadata": {
            "tags": []
          },
          "execution_count": 104
        }
      ]
    },
    {
      "cell_type": "code",
      "metadata": {
        "id": "bsrnM4ubH_f-"
      },
      "source": [
        "preds = tf_predictions.numpy()"
      ],
      "execution_count": null,
      "outputs": []
    },
    {
      "cell_type": "code",
      "metadata": {
        "id": "tx8rauvqNEvD"
      },
      "source": [
        "p0 = preds[:,0]\n",
        "p1 = preds[:,1]"
      ],
      "execution_count": null,
      "outputs": []
    },
    {
      "cell_type": "code",
      "metadata": {
        "colab": {
          "base_uri": "https://localhost:8080/"
        },
        "id": "4BwMr6zoPpg7",
        "outputId": "a9f9e0de-ab9c-4fd8-868f-0ade14b807d0"
      },
      "source": [
        "plt.hist(p0)\n",
        "_ = plt.axvline(x=0.5, color='Red')"
      ],
      "execution_count": null,
      "outputs": [
        {
          "output_type": "display_data",
          "data": {
            "image/png": "[encoded data removed]",
            "text/plain": [
              "<Figure size 432x288 with 1 Axes>"
            ]
          },
          "metadata": {
            "tags": [],
            "needs_background": "light"
          }
        }
      ]
    },
    {
      "cell_type": "code",
      "metadata": {
        "colab": {
          "base_uri": "https://localhost:8080/"
        },
        "id": "_eWUJXsNP1zt",
        "outputId": "37e51501-2de7-4c28-b15d-39d262e05976"
      },
      "source": [
        "plt.hist(p1)\n",
        "_ = plt.axvline(x=0.5, color='Red')"
      ],
      "execution_count": null,
      "outputs": [
        {
          "output_type": "display_data",
          "data": {
            "image/png": "[encoded data removed]",
            "text/plain": [
              "<Figure size 432x288 with 1 Axes>"
            ]
          },
          "metadata": {
            "tags": [],
            "needs_background": "light"
          }
        }
      ]
    },
    {
      "cell_type": "code",
      "metadata": {
        "colab": {
          "base_uri": "https://localhost:8080/"
        },
        "id": "YtpPTcxFFgPn",
        "outputId": "ce0a3453-834d-4b56-a64b-18fd7345c7f6"
      },
      "source": [
        "plt.hist(preds)\n",
        "_ = plt.axvline(x=0.5, color='Red')"
      ],
      "execution_count": null,
      "outputs": [
        {
          "output_type": "display_data",
          "data": {
            "image/png": "[encoded data removed]",
            "text/plain": [
              "<Figure size 432x288 with 1 Axes>"
            ]
          },
          "metadata": {
            "tags": [],
            "needs_background": "light"
          }
        }
      ]
    },
    {
      "cell_type": "markdown",
      "metadata": {
        "id": "QsKp7dcharzD"
      },
      "source": [
        "#### Trec Eval file creation\n"
      ]
    },
    {
      "cell_type": "code",
      "metadata": {
        "id": "wC-8TlBNvXbx"
      },
      "source": [
        "def create_trec_eval_file(classification_test_dataframe,predicted_label_array,result_file_path):\n",
        "    test_id_list = []\n",
        "    article_number_list = []\n",
        "    result = []\n",
        "\n",
        "    for prediction_index in range(len(predicted_label_array)):\n",
        "\n",
        "        if predicted_label_array[prediction_index] == 1:\n",
        "            predicted_label = predicted_label_array[prediction_index]\n",
        "            test_id = classification_test_dataframe['ID'].iloc[prediction_index]\n",
        "            article_number = classification_test_dataframe['Article_number'].iloc[prediction_index]\n",
        "\n",
        "            test_id_list.append(test_id)\n",
        "            article_number_list.append(article_number)\n",
        "    \n",
        "    test_query_result_dict = {}\n",
        "\n",
        "    # for item in range(len(test_id_list)):\n",
        "    #     if test_id_list[item] in test_query_result_dict.keys():\n",
        "    #         test_query_result_dict[test_id_list[item]] = test_query_result_dict[test_id_list[item]] + 1\n",
        "    #     else: \n",
        "    #         test_query_result_dict[test_id_list[item]] = 1\n",
        "    \n",
        "    for item in range(len(test_id_list)):\n",
        "        article_num = str(article_number_list[item])\n",
        "        article_num = re.sub('_','-',article_num)\n",
        "        result.append(test_id_list[item]+\" \"+\"Q0\"+\" \"+article_num+\" \"+\"1\"+\" \"+\"1\"+\" \"+\"OvGU\")\n",
        "\n",
        "    f= open(result_file_path,\"w+\")\n",
        "    for i in range(len(result)):\n",
        "        f.write(result[i]+\"\\n\")\n",
        "    f.close()\n",
        "\n",
        "    return test_id_list,article_number_list #, test_query_result_dict"
      ],
      "execution_count": null,
      "outputs": []
    },
    {
      "cell_type": "code",
      "metadata": {
        "id": "LHrBQzP6IQ6Q"
      },
      "source": [
        "result_file_path = \"/content/drive/My Drive/COLIEE Retrieval /bert_result/top_10_similar_up_and_downsample_test_result.txt\"\n",
        "test_id_list,article_number_list = create_trec_eval_file(test_classification_data,predicted_label_array,result_file_path)"
      ],
      "execution_count": null,
      "outputs": []
    },
    {
      "cell_type": "code",
      "metadata": {
        "id": "YGEC64ZFwmek",
        "colab": {
          "base_uri": "https://localhost:8080/"
        },
        "outputId": "e9d67a1b-8ff8-426f-efe0-b185739bb34e"
      },
      "source": [
        "predicted_label_array[:100]"
      ],
      "execution_count": null,
      "outputs": [
        {
          "output_type": "execute_result",
          "data": {
            "text/plain": [
              "array([0, 0, 0, 0, 1, 0, 0, 0, 0, 0, 0, 0, 0, 0, 0, 0, 0, 1, 0, 0, 0, 0,\n",
              "       0, 0, 0, 0, 0, 0, 0, 0, 0, 0, 0, 0, 0, 0, 0, 0, 0, 0, 0, 0, 0, 0,\n",
              "       0, 0, 0, 0, 0, 0, 0, 0, 0, 0, 0, 0, 0, 0, 0, 0, 0, 0, 1, 0, 0, 0,\n",
              "       0, 0, 0, 0, 0, 0, 0, 0, 0, 0, 0, 0, 0, 0, 0, 0, 0, 0, 0, 0, 0, 0,\n",
              "       0, 0, 0, 0, 0, 0, 0, 0, 0, 1, 0, 0])"
            ]
          },
          "metadata": {
            "tags": []
          },
          "execution_count": 33
        }
      ]
    },
    {
      "cell_type": "code",
      "metadata": {
        "id": "R_CWzPxPyhQw",
        "colab": {
          "base_uri": "https://localhost:8080/"
        },
        "outputId": "feddca56-23cc-4b99-fc6f-e8be309bd0bb"
      },
      "source": [
        "np.array(y_test[:100])"
      ],
      "execution_count": null,
      "outputs": [
        {
          "output_type": "execute_result",
          "data": {
            "text/plain": [
              "array([0, 0, 0, 0, 0, 1, 0, 0, 0, 0, 0, 0, 0, 0, 0, 0, 0, 0, 0, 0, 0, 0,\n",
              "       0, 0, 0, 0, 0, 0, 0, 0, 0, 0, 0, 0, 0, 0, 0, 0, 0, 0, 0, 0, 0, 0,\n",
              "       0, 0, 0, 0, 0, 0, 0, 0, 0, 0, 0, 0, 0, 0, 0, 0, 0, 0, 0, 0, 0, 0,\n",
              "       0, 0, 0, 0, 0, 0, 0, 0, 0, 0, 0, 0, 0, 0, 0, 0, 0, 0, 0, 0, 0, 0,\n",
              "       0, 0, 0, 0, 0, 0, 0, 0, 0, 0, 0, 0])"
            ]
          },
          "metadata": {
            "tags": []
          },
          "execution_count": 29
        }
      ]
    },
    {
      "cell_type": "markdown",
      "metadata": {
        "id": "Y6iqTh3Aep4C"
      },
      "source": [
        "### References: \n",
        "\n",
        "1. https://medium.com/@kaijuneer/fine-tuning-tensorflow-bert-model-for-sentiment-analysis-1119fd6bef49\n",
        "2. https://huggingface.co/transformers/custom_datasets.html\n",
        "\n",
        "manual \n",
        "https://huggingface.co/transformers/preprocessing.html\n",
        "https://huggingface.co/transformers/master/custom_datasets.html\n",
        "\n",
        "blogs\n",
        "\n",
        "https://towardsdatascience.com/working-with-hugging-face-transformers-and-tf-2-0-89bf35e3555a\n",
        "\n",
        "http://jalammar.github.io/a-visual-guide-to-using-bert-for-the-first-time/\n",
        "\n",
        "https://androidkt.com/state-of-the-art-text-classification-using-bert-in-ten-lines-of-tensorflow-2-0/\n",
        "\n",
        "https://www.tensorflow.org/official_models/fine_tuning_bert\n",
        "\n",
        "\n"
      ]
    },
    {
      "cell_type": "markdown",
      "metadata": {
        "id": "lZumS8uNbsWM"
      },
      "source": [
        "### Questions\n",
        "\n",
        "1. How effective Classification task will be in terms of retrieval on an english dataset which is oversampled?"
      ]
    }
  ]
}