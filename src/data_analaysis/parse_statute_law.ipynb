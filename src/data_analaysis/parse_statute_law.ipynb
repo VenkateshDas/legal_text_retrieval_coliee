{
  "nbformat": 4,
  "nbformat_minor": 0,
  "metadata": {
    "colab": {
      "name": "Copy of parse_statute_law.ipynb",
      "provenance": [],
      "collapsed_sections": [],
      "include_colab_link": true
    },
    "kernelspec": {
      "name": "python3",
      "display_name": "Python 3"
    }
  },
  "cells": [
    {
      "cell_type": "markdown",
      "metadata": {
        "id": "view-in-github",
        "colab_type": "text"
      },
      "source": [
        "<a href=\"https://colab.research.google.com/github/VenkateshDas/legal_text_retrieval_coliee/blob/master/Copy_of_parse_statute_law.ipynb\" target=\"_parent\"><img src=\"https://colab.research.google.com/assets/colab-badge.svg\" alt=\"Open In Colab\"/></a>"
      ]
    },
    {
      "cell_type": "code",
      "metadata": {
        "id": "An6zDzPXVRKm",
        "colab_type": "code",
        "outputId": "0e0a406d-b33a-4e6b-8fd2-fc0661cfd210",
        "colab": {
          "base_uri": "https://localhost:8080/",
          "height": 55
        }
      },
      "source": [
        "from google.colab import drive\n",
        "drive.mount('/content/drive')\n"
      ],
      "execution_count": 37,
      "outputs": [
        {
          "output_type": "stream",
          "text": [
            "Drive already mounted at /content/drive; to attempt to forcibly remount, call drive.mount(\"/content/drive\", force_remount=True).\n"
          ],
          "name": "stdout"
        }
      ]
    },
    {
      "cell_type": "code",
      "metadata": {
        "id": "FJjZcYY5yW2L",
        "colab_type": "code",
        "colab": {}
      },
      "source": [
        "import os\n",
        "os.chdir('/content/drive/My Drive/COLIEE Retrieval /Data')"
      ],
      "execution_count": 0,
      "outputs": []
    },
    {
      "cell_type": "markdown",
      "metadata": {
        "id": "IJ91RCEdW_V_",
        "colab_type": "text"
      },
      "source": [
        "#Parsing civil code xml"
      ]
    },
    {
      "cell_type": "code",
      "metadata": {
        "id": "3n9YL71tzWcR",
        "colab_type": "code",
        "colab": {}
      },
      "source": [
        "file_path = '/content/drive/My Drive/COLIEE Retrieval /Data/statute_law.xml'"
      ],
      "execution_count": 0,
      "outputs": []
    },
    {
      "cell_type": "code",
      "metadata": {
        "id": "yI4xjUE0yFdP",
        "colab_type": "code",
        "colab": {}
      },
      "source": [
        "import xml.etree.ElementTree as ET\n",
        "\n",
        "tree = ET.parse(file_path)\n",
        "root = tree.getroot()\n",
        "#root[1].tag\n",
        "#root.attrib\n",
        "#for x in root[1][1][0]:\n",
        "#  print(x.tag, x.attrib,x.text)\n",
        "#for x in root.iter('Article'):\n",
        "#  id=x.attrib['Num']\n",
        "#  print(id)\n"
      ],
      "execution_count": 0,
      "outputs": []
    },
    {
      "cell_type": "code",
      "metadata": {
        "id": "5pxNG15B0H3W",
        "colab_type": "code",
        "colab": {}
      },
      "source": [
        "import re \n",
        "pattern = re.compile('\\t*')\n",
        "i = 0\n",
        "article_num = []\n",
        "article_id = []\n",
        "string_list = []\n",
        "for article in root.iter('Article'):\n",
        "    article_num.append(article.attrib['Num'])\n",
        "    article_id.append(article.attrib['id'])\n",
        "    string_var = []\n",
        "    string = ''\n",
        "    for title in article:\n",
        "        temp1 = title.text\n",
        "        temp1 = re.sub(pattern,'',temp1)\n",
        "        temp1 = re.sub('\\n','',temp1)\n",
        "        # print(temp1)\n",
        "        # string_var.append(title.text)\n",
        "        string_var.append(temp1)\n",
        "        for paragraph in title.iter('Paragraph'):\n",
        "            temp2 = paragraph.text\n",
        "            temp2 = re.sub(pattern,'',temp2)\n",
        "            \n",
        "            # string_var.append(paragraph.text)\n",
        "            # print(temp2) \n",
        "            string_var.append(temp2) \n",
        "            for sentence in paragraph.iter('Sentence'):\n",
        "                temp3 = sentence.text\n",
        "                temp3 = re.sub(pattern,'',temp3)\n",
        "                # print(temp3)\n",
        "                string_var.append(temp3)\n",
        "    string = ''.join(string_var)\n",
        "    string_list.append(string)\n"
      ],
      "execution_count": 0,
      "outputs": []
    },
    {
      "cell_type": "code",
      "metadata": {
        "id": "eAW516a03XGg",
        "colab_type": "code",
        "outputId": "768f74b8-e57c-48fd-c256-77cd9e2b864c",
        "colab": {
          "base_uri": "https://localhost:8080/",
          "height": 70
        }
      },
      "source": [
        "print(len(article_num))\n",
        "print(len(article_id))\n",
        "print(len(string_list))"
      ],
      "execution_count": 51,
      "outputs": [
        {
          "output_type": "stream",
          "text": [
            "782\n",
            "782\n",
            "782\n"
          ],
          "name": "stdout"
        }
      ]
    },
    {
      "cell_type": "code",
      "metadata": {
        "id": "qi08jtxnIlm6",
        "colab_type": "code",
        "outputId": "57a4fe8e-cd49-4b5f-aca1-5785d4774447",
        "colab": {
          "base_uri": "https://localhost:8080/",
          "height": 194
        }
      },
      "source": [
        "import pandas as pd \n",
        "dict = {'Number' : article_num , 'ID' : article_id, 'Article' : string_list }\n",
        "df = pd.DataFrame(dict)\n",
        "for i in range(len(df['Article'])):\n",
        "    df['Article'][i] = re.sub('\\n',' ',df['Article'][i])\n",
        "df.head()"
      ],
      "execution_count": 149,
      "outputs": [
        {
          "output_type": "execute_result",
          "data": {
            "text/html": [
              "<div>\n",
              "<style scoped>\n",
              "    .dataframe tbody tr th:only-of-type {\n",
              "        vertical-align: middle;\n",
              "    }\n",
              "\n",
              "    .dataframe tbody tr th {\n",
              "        vertical-align: top;\n",
              "    }\n",
              "\n",
              "    .dataframe thead th {\n",
              "        text-align: right;\n",
              "    }\n",
              "</style>\n",
              "<table border=\"1\" class=\"dataframe\">\n",
              "  <thead>\n",
              "    <tr style=\"text-align: right;\">\n",
              "      <th></th>\n",
              "      <th>Number</th>\n",
              "      <th>ID</th>\n",
              "      <th>Article</th>\n",
              "    </tr>\n",
              "  </thead>\n",
              "  <tbody>\n",
              "    <tr>\n",
              "      <th>0</th>\n",
              "      <td>1</td>\n",
              "      <td>en_pt1ch1at1</td>\n",
              "      <td>(Fundamental Principles)Article 1 Private righ...</td>\n",
              "    </tr>\n",
              "    <tr>\n",
              "      <th>1</th>\n",
              "      <td>2</td>\n",
              "      <td>en_pt1ch1at2</td>\n",
              "      <td>(Standards for Construction)Article 2 This Cod...</td>\n",
              "    </tr>\n",
              "    <tr>\n",
              "      <th>2</th>\n",
              "      <td>3</td>\n",
              "      <td>en_pt1ch2sc1at1</td>\n",
              "      <td>Article 3 The enjoyment of private rights comm...</td>\n",
              "    </tr>\n",
              "    <tr>\n",
              "      <th>3</th>\n",
              "      <td>3_2</td>\n",
              "      <td>en_pt1ch2sc2at1</td>\n",
              "      <td>Article 3-2 If the person making a juridical a...</td>\n",
              "    </tr>\n",
              "    <tr>\n",
              "      <th>4</th>\n",
              "      <td>4</td>\n",
              "      <td>en_pt1ch2sc3at1</td>\n",
              "      <td>(Age of Majority)Article 4 The age of majority...</td>\n",
              "    </tr>\n",
              "  </tbody>\n",
              "</table>\n",
              "</div>"
            ],
            "text/plain": [
              "  Number               ID                                            Article\n",
              "0      1     en_pt1ch1at1  (Fundamental Principles)Article 1 Private righ...\n",
              "1      2     en_pt1ch1at2  (Standards for Construction)Article 2 This Cod...\n",
              "2      3  en_pt1ch2sc1at1  Article 3 The enjoyment of private rights comm...\n",
              "3    3_2  en_pt1ch2sc2at1  Article 3-2 If the person making a juridical a...\n",
              "4      4  en_pt1ch2sc3at1  (Age of Majority)Article 4 The age of majority..."
            ]
          },
          "metadata": {
            "tags": []
          },
          "execution_count": 149
        }
      ]
    },
    {
      "cell_type": "code",
      "metadata": {
        "id": "xfIv7I38S6vd",
        "colab_type": "code",
        "colab": {}
      },
      "source": [
        "df.to_csv('statute_law_parsed.csv')"
      ],
      "execution_count": 0,
      "outputs": []
    },
    {
      "cell_type": "code",
      "metadata": {
        "id": "jdbp9_IxJUE9",
        "colab_type": "code",
        "colab": {}
      },
      "source": [
        "import pickle\n",
        "\n",
        "f = open('statute_law_parsed_df.pkl','wb')\n",
        "pickle.dump(df,f)"
      ],
      "execution_count": 0,
      "outputs": []
    },
    {
      "cell_type": "code",
      "metadata": {
        "id": "58p3BrDgNvz0",
        "colab_type": "code",
        "outputId": "12121955-c792-497f-87da-06a871dae8f6",
        "colab": {
          "base_uri": "https://localhost:8080/",
          "height": 194
        }
      },
      "source": [
        "files = open('/content/drive/My Drive/COLIEE Retrieval /Data/statute_law_parsed_df.pkl','rb')\n",
        "df_pkl = pickle.load(files)\n",
        "df_pkl.head()"
      ],
      "execution_count": 55,
      "outputs": [
        {
          "output_type": "execute_result",
          "data": {
            "text/html": [
              "<div>\n",
              "<style scoped>\n",
              "    .dataframe tbody tr th:only-of-type {\n",
              "        vertical-align: middle;\n",
              "    }\n",
              "\n",
              "    .dataframe tbody tr th {\n",
              "        vertical-align: top;\n",
              "    }\n",
              "\n",
              "    .dataframe thead th {\n",
              "        text-align: right;\n",
              "    }\n",
              "</style>\n",
              "<table border=\"1\" class=\"dataframe\">\n",
              "  <thead>\n",
              "    <tr style=\"text-align: right;\">\n",
              "      <th></th>\n",
              "      <th>Number</th>\n",
              "      <th>ID</th>\n",
              "      <th>Article</th>\n",
              "    </tr>\n",
              "  </thead>\n",
              "  <tbody>\n",
              "    <tr>\n",
              "      <th>0</th>\n",
              "      <td>1</td>\n",
              "      <td>en_pt1ch1at1</td>\n",
              "      <td>(Fundamental Principles)Article 1 Private righ...</td>\n",
              "    </tr>\n",
              "    <tr>\n",
              "      <th>1</th>\n",
              "      <td>2</td>\n",
              "      <td>en_pt1ch1at2</td>\n",
              "      <td>(Standards for Construction)Article 2 This Cod...</td>\n",
              "    </tr>\n",
              "    <tr>\n",
              "      <th>2</th>\n",
              "      <td>3</td>\n",
              "      <td>en_pt1ch2sc1at1</td>\n",
              "      <td>Article 3 The enjoyment of private rights comm...</td>\n",
              "    </tr>\n",
              "    <tr>\n",
              "      <th>3</th>\n",
              "      <td>3_2</td>\n",
              "      <td>en_pt1ch2sc2at1</td>\n",
              "      <td>Article 3-2 If the person making a juridical a...</td>\n",
              "    </tr>\n",
              "    <tr>\n",
              "      <th>4</th>\n",
              "      <td>4</td>\n",
              "      <td>en_pt1ch2sc3at1</td>\n",
              "      <td>(Age of Majority)Article 4 The age of majority...</td>\n",
              "    </tr>\n",
              "  </tbody>\n",
              "</table>\n",
              "</div>"
            ],
            "text/plain": [
              "  Number               ID                                            Article\n",
              "0      1     en_pt1ch1at1  (Fundamental Principles)Article 1 Private righ...\n",
              "1      2     en_pt1ch1at2  (Standards for Construction)Article 2 This Cod...\n",
              "2      3  en_pt1ch2sc1at1  Article 3 The enjoyment of private rights comm...\n",
              "3    3_2  en_pt1ch2sc2at1  Article 3-2 If the person making a juridical a...\n",
              "4      4  en_pt1ch2sc3at1  (Age of Majority)Article 4 The age of majority..."
            ]
          },
          "metadata": {
            "tags": []
          },
          "execution_count": 55
        }
      ]
    },
    {
      "cell_type": "markdown",
      "metadata": {
        "id": "wAv8-PmuYOtr",
        "colab_type": "text"
      },
      "source": [
        "# Parsing query and articles XML"
      ]
    },
    {
      "cell_type": "code",
      "metadata": {
        "id": "PzjHkKhdYVnp",
        "colab_type": "code",
        "colab": {}
      },
      "source": [
        "relevant_doc_file_path = '/content/drive/My Drive/COLIEE Retrieval /COLIEE2019-StatuteLaw-English Training Data/'"
      ],
      "execution_count": 0,
      "outputs": []
    },
    {
      "cell_type": "code",
      "metadata": {
        "id": "TKJ2yExTY5T8",
        "colab_type": "code",
        "outputId": "d781721c-a384-46db-8215-02ef7958d93f",
        "colab": {
          "base_uri": "https://localhost:8080/",
          "height": 221
        }
      },
      "source": [
        "pattern = re.compile('Article\\s\\d*\\-?\\d')\n",
        "\n",
        "PairID_arr= []\n",
        "text1_arr = []\n",
        "text2_arr = []\n",
        "label_arr = []\n",
        "article_numbers = []\n",
        "\n",
        "for files in os.listdir(relevant_doc_file_path):\n",
        "    if files.endswith('.xml'):\n",
        "        print(files)\n",
        "        xmlp = ET.XMLParser(encoding=\"utf-8\")\n",
        "        tree = ET.parse(relevant_doc_file_path+files, parser = xmlp)\n",
        "        root = tree.getroot()\n",
        "\n",
        "        for pair in root.findall('pair'):\n",
        "            i = 0\n",
        "            j = 0\n",
        "            PairID = pair.get('id')\n",
        "            PairID_arr.append(PairID)\n",
        "            \n",
        "            text1 = pair.find('t1').text\n",
        "            text1_arr.append(text1)\n",
        "\n",
        "            numbers = re.findall(pattern,text1)\n",
        "            article_numbers.append(numbers)\n",
        "            \n",
        "            text2 = pair.find('t2').text\n",
        "            text2_arr.append(text2)\n",
        "\n",
        "            Label = pair.get('label')\n",
        "            label_arr.append(Label)"
      ],
      "execution_count": 0,
      "outputs": [
        {
          "output_type": "stream",
          "text": [
            "riteval_H26.xml\n",
            "riteval_H21.xml\n",
            "riteval_H18.xml\n",
            "riteval_H23.xml\n",
            "riteval_H27.xml\n",
            "riteval_H28.xml\n",
            "riteval_H29.xml\n",
            "riteval_H22.xml\n",
            "riteval_H24.xml\n",
            "riteval_H19.xml\n",
            "riteval_H20.xml\n",
            "riteval_H25.xml\n"
          ],
          "name": "stdout"
        }
      ]
    },
    {
      "cell_type": "code",
      "metadata": {
        "id": "NZfEKz1UbM5o",
        "colab_type": "code",
        "outputId": "22440b10-caad-47c0-d9ee-deb3aa673878",
        "colab": {
          "base_uri": "https://localhost:8080/",
          "height": 289
        }
      },
      "source": [
        "dict_relevant = {'ID' : PairID_arr , 'Query' : text2_arr , 'Article_numbers' : article_numbers , 'Articles' : text1_arr }\n",
        "df_relevant = pd.DataFrame(dict_relevant)\n",
        "df_relevant.head()"
      ],
      "execution_count": 0,
      "outputs": [
        {
          "output_type": "execute_result",
          "data": {
            "text/html": [
              "<div>\n",
              "<style scoped>\n",
              "    .dataframe tbody tr th:only-of-type {\n",
              "        vertical-align: middle;\n",
              "    }\n",
              "\n",
              "    .dataframe tbody tr th {\n",
              "        vertical-align: top;\n",
              "    }\n",
              "\n",
              "    .dataframe thead th {\n",
              "        text-align: right;\n",
              "    }\n",
              "</style>\n",
              "<table border=\"1\" class=\"dataframe\">\n",
              "  <thead>\n",
              "    <tr style=\"text-align: right;\">\n",
              "      <th></th>\n",
              "      <th>ID</th>\n",
              "      <th>Query</th>\n",
              "      <th>Article_numbers</th>\n",
              "      <th>Articles</th>\n",
              "    </tr>\n",
              "  </thead>\n",
              "  <tbody>\n",
              "    <tr>\n",
              "      <th>0</th>\n",
              "      <td>H26-1-A</td>\n",
              "      <td>\\nIf there is a guardian of a minor, the minor...</td>\n",
              "      <td>[Article 737, Article 838]</td>\n",
              "      <td>\\nArticle 737 \\n(1) A minor shall obtain the c...</td>\n",
              "    </tr>\n",
              "    <tr>\n",
              "      <th>1</th>\n",
              "      <td>H26-1-C</td>\n",
              "      <td>\\nA will made by an adult ward may be rescinde...</td>\n",
              "      <td>[Article 962, Article 5, Article 9, Article 13...</td>\n",
              "      <td>\\nArticle 962 \\nThe provisions of Article 5, A...</td>\n",
              "    </tr>\n",
              "    <tr>\n",
              "      <th>2</th>\n",
              "      <td>H26-1-E</td>\n",
              "      <td>\\nThe family court may order the commencement ...</td>\n",
              "      <td>[Article 11, Article 7]</td>\n",
              "      <td>\\nArticle 11 \\nWith respect to any person who ...</td>\n",
              "    </tr>\n",
              "    <tr>\n",
              "      <th>3</th>\n",
              "      <td>H26-1-G</td>\n",
              "      <td>\\nWith respect to any act which requires the c...</td>\n",
              "      <td>[Article 13, Article 9, Article 2, Article 602...</td>\n",
              "      <td>\\nArticle 13 \\n(1) A person under curatorship ...</td>\n",
              "    </tr>\n",
              "    <tr>\n",
              "      <th>4</th>\n",
              "      <td>H26-1-I</td>\n",
              "      <td>\\nThe ruling of commencement of assistance at ...</td>\n",
              "      <td>[Article 15, Article 7, Article 11, Article 17...</td>\n",
              "      <td>\\nArticle 15 \\n(1) With respect to any person ...</td>\n",
              "    </tr>\n",
              "  </tbody>\n",
              "</table>\n",
              "</div>"
            ],
            "text/plain": [
              "        ID  ...                                           Articles\n",
              "0  H26-1-A  ...  \\nArticle 737 \\n(1) A minor shall obtain the c...\n",
              "1  H26-1-C  ...  \\nArticle 962 \\nThe provisions of Article 5, A...\n",
              "2  H26-1-E  ...  \\nArticle 11 \\nWith respect to any person who ...\n",
              "3  H26-1-G  ...  \\nArticle 13 \\n(1) A person under curatorship ...\n",
              "4  H26-1-I  ...  \\nArticle 15 \\n(1) With respect to any person ...\n",
              "\n",
              "[5 rows x 4 columns]"
            ]
          },
          "metadata": {
            "tags": []
          },
          "execution_count": 19
        }
      ]
    },
    {
      "cell_type": "code",
      "metadata": {
        "id": "JUlXGy7yiJ1R",
        "colab_type": "code",
        "outputId": "3f046cfb-32db-4588-87eb-ae30b9b9d1f0",
        "colab": {
          "base_uri": "https://localhost:8080/",
          "height": 34
        }
      },
      "source": [
        "type(df_relevant['Article_numbers'])"
      ],
      "execution_count": 0,
      "outputs": [
        {
          "output_type": "execute_result",
          "data": {
            "text/plain": [
              "pandas.core.series.Series"
            ]
          },
          "metadata": {
            "tags": []
          },
          "execution_count": 23
        }
      ]
    },
    {
      "cell_type": "code",
      "metadata": {
        "id": "K5R91424cBlI",
        "colab_type": "code",
        "outputId": "8850dbbd-f8d3-49f2-97c0-d69cbe5c04af",
        "colab": {
          "base_uri": "https://localhost:8080/",
          "height": 289
        }
      },
      "source": [
        "article_pattern = re.compile('\\d\\d?\\d?\\d?\\-?\\d?')\n",
        "for i in range(len(df_relevant['Article_numbers'])):\n",
        "    for j in range(len(df_relevant['Article_numbers'][i])):\n",
        "        df_relevant['Article_numbers'][i][j] = re.sub('Article\\s','',df_relevant['Article_numbers'][i][j])\n",
        "    df_relevant['Article_numbers'][i] = set(df_relevant['Article_numbers'][i])\n",
        "df_relevant.head()"
      ],
      "execution_count": 0,
      "outputs": [
        {
          "output_type": "execute_result",
          "data": {
            "text/html": [
              "<div>\n",
              "<style scoped>\n",
              "    .dataframe tbody tr th:only-of-type {\n",
              "        vertical-align: middle;\n",
              "    }\n",
              "\n",
              "    .dataframe tbody tr th {\n",
              "        vertical-align: top;\n",
              "    }\n",
              "\n",
              "    .dataframe thead th {\n",
              "        text-align: right;\n",
              "    }\n",
              "</style>\n",
              "<table border=\"1\" class=\"dataframe\">\n",
              "  <thead>\n",
              "    <tr style=\"text-align: right;\">\n",
              "      <th></th>\n",
              "      <th>ID</th>\n",
              "      <th>Query</th>\n",
              "      <th>Article_numbers</th>\n",
              "      <th>Articles</th>\n",
              "    </tr>\n",
              "  </thead>\n",
              "  <tbody>\n",
              "    <tr>\n",
              "      <th>0</th>\n",
              "      <td>H26-1-A</td>\n",
              "      <td>\\nIf there is a guardian of a minor, the minor...</td>\n",
              "      <td>{838, 737}</td>\n",
              "      <td>\\nArticle 737 \\n(1) A minor shall obtain the c...</td>\n",
              "    </tr>\n",
              "    <tr>\n",
              "      <th>1</th>\n",
              "      <td>H26-1-C</td>\n",
              "      <td>\\nA will made by an adult ward may be rescinde...</td>\n",
              "      <td>{5, 9, 17, 962, 13}</td>\n",
              "      <td>\\nArticle 962 \\nThe provisions of Article 5, A...</td>\n",
              "    </tr>\n",
              "    <tr>\n",
              "      <th>2</th>\n",
              "      <td>H26-1-E</td>\n",
              "      <td>\\nThe family court may order the commencement ...</td>\n",
              "      <td>{7, 11}</td>\n",
              "      <td>\\nArticle 11 \\nWith respect to any person who ...</td>\n",
              "    </tr>\n",
              "    <tr>\n",
              "      <th>3</th>\n",
              "      <td>H26-1-G</td>\n",
              "      <td>\\nWith respect to any act which requires the c...</td>\n",
              "      <td>{602, 9, 11, 2, 13}</td>\n",
              "      <td>\\nArticle 13 \\n(1) A person under curatorship ...</td>\n",
              "    </tr>\n",
              "    <tr>\n",
              "      <th>4</th>\n",
              "      <td>H26-1-I</td>\n",
              "      <td>\\nThe ruling of commencement of assistance at ...</td>\n",
              "      <td>{7, 876-9, 17, 11, 15}</td>\n",
              "      <td>\\nArticle 15 \\n(1) With respect to any person ...</td>\n",
              "    </tr>\n",
              "  </tbody>\n",
              "</table>\n",
              "</div>"
            ],
            "text/plain": [
              "        ID  ...                                           Articles\n",
              "0  H26-1-A  ...  \\nArticle 737 \\n(1) A minor shall obtain the c...\n",
              "1  H26-1-C  ...  \\nArticle 962 \\nThe provisions of Article 5, A...\n",
              "2  H26-1-E  ...  \\nArticle 11 \\nWith respect to any person who ...\n",
              "3  H26-1-G  ...  \\nArticle 13 \\n(1) A person under curatorship ...\n",
              "4  H26-1-I  ...  \\nArticle 15 \\n(1) With respect to any person ...\n",
              "\n",
              "[5 rows x 4 columns]"
            ]
          },
          "metadata": {
            "tags": []
          },
          "execution_count": 26
        }
      ]
    },
    {
      "cell_type": "code",
      "metadata": {
        "id": "Xz63wXF6jGmc",
        "colab_type": "code",
        "outputId": "e6146caf-9de1-4478-9955-94f44762ca86",
        "colab": {
          "base_uri": "https://localhost:8080/",
          "height": 54
        }
      },
      "source": [
        "df_relevant['Articles'][3]"
      ],
      "execution_count": 0,
      "outputs": [
        {
          "output_type": "execute_result",
          "data": {
            "text/plain": [
              "'\\nArticle 13 \\n(1) A person under curatorship must obtain the consent of his/her curator if he/she intends to perform any of the following acts;provided, however, that, this shall not apply to the acts provided for in the proviso of Article 9:\\n(i) receive or use any principal;\\n(ii) borrow any money or guarantee any obligation;\\n(iii) perform any act with the purpose of obtaining or relinquishing any right regarding real estate or other valuable property;\\n(iv) take any procedural action;\\n(v) make a gift, make any settlement, or agree to arbitrate (referring to the agreement to arbitrate as provided in paragraph 1, Article 2 of the Arbitration Act (Act No. 138 of 2003));\\n(vi) accept or renounce any inheritance, or partition any estate;\\n(vii) refuse an offer of a gift, renounce any bequest, accept the offer of gift with burden, or accept any bequest with burden;\\n(viii) effect any new construction, renovation, expansion, or major repairs; or\\n(ix) make any lease agreement with a term which exceeds the period set forth in Article 602.\\n(2) At the request of the person provided in the main clause of Article 11, or any curator or any supervisor of the curator, the family court may make a ruling that the person under curatorship must obtain the consent of his/her curator even in cases he/she intends to perform any act other than those set forth in each item of the preceding paragraph;provided, however, that this shall not apply to the acts provided for in the proviso to Article 9,\\n(3) With respect to any act which requires the consent of the curator, if the curator does not give consent in cases where the interest of the person under curatorship is unlikely to be prejudiced, the family court may, at the request of the person under curatorship, give permission in lieu of the consent of the curator.\\n(4) An act which requires the consent of the curator may be rescinded if it was performed without such consent or any permission in lieu thereof.\\n'"
            ]
          },
          "metadata": {
            "tags": []
          },
          "execution_count": 25
        }
      ]
    },
    {
      "cell_type": "code",
      "metadata": {
        "id": "ro5rLL0Lk1_f",
        "colab_type": "code",
        "colab": {}
      },
      "source": [
        "df_relevant.to_csv('query_relevant_articles_parsed.csv')"
      ],
      "execution_count": 0,
      "outputs": []
    },
    {
      "cell_type": "code",
      "metadata": {
        "id": "D1cncU7plUEq",
        "colab_type": "code",
        "colab": {}
      },
      "source": [
        "f = open('query_relevant_articles_parsed_df.pkl','wb')\n",
        "pickle.dump(df_relevant,f)"
      ],
      "execution_count": 0,
      "outputs": []
    },
    {
      "cell_type": "code",
      "metadata": {
        "id": "ZEeMdlAOlimB",
        "colab_type": "code",
        "outputId": "ee21ce1f-d48b-4118-ebfa-a601ae8014a0",
        "colab": {
          "base_uri": "https://localhost:8080/",
          "height": 289
        }
      },
      "source": [
        "files_relevant = open('/content/drive/My Drive/COLIEE Retrieval /Data/query_relevant_articles_parsed_df.pkl','rb')\n",
        "df_relevant_pkl = pickle.load(files_relevant)\n",
        "df_relevant_pkl.head()"
      ],
      "execution_count": 0,
      "outputs": [
        {
          "output_type": "execute_result",
          "data": {
            "text/html": [
              "<div>\n",
              "<style scoped>\n",
              "    .dataframe tbody tr th:only-of-type {\n",
              "        vertical-align: middle;\n",
              "    }\n",
              "\n",
              "    .dataframe tbody tr th {\n",
              "        vertical-align: top;\n",
              "    }\n",
              "\n",
              "    .dataframe thead th {\n",
              "        text-align: right;\n",
              "    }\n",
              "</style>\n",
              "<table border=\"1\" class=\"dataframe\">\n",
              "  <thead>\n",
              "    <tr style=\"text-align: right;\">\n",
              "      <th></th>\n",
              "      <th>ID</th>\n",
              "      <th>Query</th>\n",
              "      <th>Article_numbers</th>\n",
              "      <th>Articles</th>\n",
              "    </tr>\n",
              "  </thead>\n",
              "  <tbody>\n",
              "    <tr>\n",
              "      <th>0</th>\n",
              "      <td>H26-1-A</td>\n",
              "      <td>\\nIf there is a guardian of a minor, the minor...</td>\n",
              "      <td>{838, 737}</td>\n",
              "      <td>\\nArticle 737 \\n(1) A minor shall obtain the c...</td>\n",
              "    </tr>\n",
              "    <tr>\n",
              "      <th>1</th>\n",
              "      <td>H26-1-C</td>\n",
              "      <td>\\nA will made by an adult ward may be rescinde...</td>\n",
              "      <td>{5, 9, 17, 962, 13}</td>\n",
              "      <td>\\nArticle 962 \\nThe provisions of Article 5, A...</td>\n",
              "    </tr>\n",
              "    <tr>\n",
              "      <th>2</th>\n",
              "      <td>H26-1-E</td>\n",
              "      <td>\\nThe family court may order the commencement ...</td>\n",
              "      <td>{7, 11}</td>\n",
              "      <td>\\nArticle 11 \\nWith respect to any person who ...</td>\n",
              "    </tr>\n",
              "    <tr>\n",
              "      <th>3</th>\n",
              "      <td>H26-1-G</td>\n",
              "      <td>\\nWith respect to any act which requires the c...</td>\n",
              "      <td>{602, 9, 11, 2, 13}</td>\n",
              "      <td>\\nArticle 13 \\n(1) A person under curatorship ...</td>\n",
              "    </tr>\n",
              "    <tr>\n",
              "      <th>4</th>\n",
              "      <td>H26-1-I</td>\n",
              "      <td>\\nThe ruling of commencement of assistance at ...</td>\n",
              "      <td>{7, 876-9, 17, 11, 15}</td>\n",
              "      <td>\\nArticle 15 \\n(1) With respect to any person ...</td>\n",
              "    </tr>\n",
              "  </tbody>\n",
              "</table>\n",
              "</div>"
            ],
            "text/plain": [
              "        ID  ...                                           Articles\n",
              "0  H26-1-A  ...  \\nArticle 737 \\n(1) A minor shall obtain the c...\n",
              "1  H26-1-C  ...  \\nArticle 962 \\nThe provisions of Article 5, A...\n",
              "2  H26-1-E  ...  \\nArticle 11 \\nWith respect to any person who ...\n",
              "3  H26-1-G  ...  \\nArticle 13 \\n(1) A person under curatorship ...\n",
              "4  H26-1-I  ...  \\nArticle 15 \\n(1) With respect to any person ...\n",
              "\n",
              "[5 rows x 4 columns]"
            ]
          },
          "metadata": {
            "tags": []
          },
          "execution_count": 29
        }
      ]
    },
    {
      "cell_type": "code",
      "metadata": {
        "id": "yoexjAtKl8Nt",
        "colab_type": "code",
        "outputId": "1f55696b-3552-4825-8897-0e950ba23438",
        "colab": {
          "base_uri": "https://localhost:8080/",
          "height": 34
        }
      },
      "source": [
        "df_relevant_pkl.shape"
      ],
      "execution_count": 0,
      "outputs": [
        {
          "output_type": "execute_result",
          "data": {
            "text/plain": [
              "(716, 4)"
            ]
          },
          "metadata": {
            "tags": []
          },
          "execution_count": 30
        }
      ]
    },
    {
      "cell_type": "markdown",
      "metadata": {
        "id": "p3eh4k5OI-mN",
        "colab_type": "text"
      },
      "source": [
        "#Preprocessing Articles and Queries"
      ]
    },
    {
      "cell_type": "code",
      "metadata": {
        "id": "f4v89BV3mC1h",
        "colab_type": "code",
        "colab": {}
      },
      "source": [
        "import nltk\n",
        "import string\n",
        "from bs4 import BeautifulSoup\n",
        "from nltk.corpus import stopwords\n",
        "from nltk.tokenize import RegexpTokenizer\n",
        "from nltk.stem import WordNetLemmatizer\n",
        "from nltk.stem import PorterStemmer"
      ],
      "execution_count": 0,
      "outputs": []
    },
    {
      "cell_type": "markdown",
      "metadata": {
        "id": "7O_BsQ2wQJxj",
        "colab_type": "text"
      },
      "source": [
        "#remove punctuation"
      ]
    },
    {
      "cell_type": "code",
      "metadata": {
        "id": "ZH3YjzonQQg4",
        "colab_type": "code",
        "colab": {}
      },
      "source": [
        "def remove_punctuation(text):\n",
        "  no_punc = \"\".join([c for c in text if c not in string.punctuation])\n",
        "  return no_punc\n",
        "\n",
        "df['Article']=df['Article'].apply(remove_punctuation)\n",
        "#df['Article'][3]\n"
      ],
      "execution_count": 0,
      "outputs": []
    },
    {
      "cell_type": "markdown",
      "metadata": {
        "id": "OhszHgoDYr5q",
        "colab_type": "text"
      },
      "source": [
        "#Tokenize"
      ]
    },
    {
      "cell_type": "code",
      "metadata": {
        "id": "liqrSrgxY9j0",
        "colab_type": "code",
        "colab": {}
      },
      "source": [
        "tokenizer = RegexpTokenizer('\\w+|\\$[\\d\\.]+|\\S+')\n",
        "s = \"Good muffins cost $3.88\\nin New York.  Please buy me\\ntwo of them.\\n\\nThanks.\"\n",
        "\n",
        "df['Article']= df['Article'].apply(lambda x: tokenizer.tokenize(x.lower()))\n",
        "## only can run once"
      ],
      "execution_count": 0,
      "outputs": []
    },
    {
      "cell_type": "code",
      "metadata": {
        "id": "K0YPUEfgrLX5",
        "colab_type": "code",
        "colab": {
          "base_uri": "https://localhost:8080/",
          "height": 230
        },
        "outputId": "da3d8a14-dcac-48c4-ca6b-512396b61cc2"
      },
      "source": [
        "df['Article'].head"
      ],
      "execution_count": 154,
      "outputs": [
        {
          "output_type": "execute_result",
          "data": {
            "text/plain": [
              "<bound method NDFrame.head of 0      [fundamental, principlesarticle, 1, private, r...\n",
              "1      [standards, for, constructionarticle, 2, this,...\n",
              "2      [article, 3, the, enjoyment, of, private, righ...\n",
              "3      [article, 32, if, the, person, making, a, juri...\n",
              "4      [age, of, majorityarticle, 4, the, age, of, ma...\n",
              "                             ...                        \n",
              "777    [fetus, capacity, to, hold, rights, regarding,...\n",
              "778    [method, of, compensation, for, loss, or, dama...\n",
              "779    [recovery, in, defamationarticle, 723, the, co...\n",
              "780    [extinctive, prescription, of, claim, for, com...\n",
              "781    [extinctive, prescription, of, claim, for, com...\n",
              "Name: Article, Length: 782, dtype: object>"
            ]
          },
          "metadata": {
            "tags": []
          },
          "execution_count": 154
        }
      ]
    },
    {
      "cell_type": "markdown",
      "metadata": {
        "id": "ui_vZI8ys_g4",
        "colab_type": "text"
      },
      "source": [
        "#Stop word removal"
      ]
    },
    {
      "cell_type": "code",
      "metadata": {
        "id": "AgbVENG3tIA8",
        "colab_type": "code",
        "colab": {}
      },
      "source": [
        "nltk.download('stopwords')\n",
        "print(stopwords.words('english'))\n",
        "def stop_word_removal(text):\n",
        "  words = [w for w in text if w not in stopwords.words('english')]\n",
        "  return words\n",
        "df['Article']=df['Article'].apply(lambda x: stop_word_removal(x))\n"
      ],
      "execution_count": 0,
      "outputs": []
    },
    {
      "cell_type": "code",
      "metadata": {
        "id": "2HG10la2wjxR",
        "colab_type": "code",
        "colab": {
          "base_uri": "https://localhost:8080/",
          "height": 124
        },
        "outputId": "ec1f273a-dfab-41b4-c587-3b7a5212e2d8"
      },
      "source": [
        "df['Article'].head()"
      ],
      "execution_count": 167,
      "outputs": [
        {
          "output_type": "execute_result",
          "data": {
            "text/plain": [
              "0    [fundamental, principlesarticle, 1, private, r...\n",
              "1    [standards, constructionarticle, 2, code, must...\n",
              "2    [article, 3, enjoyment, private, rights, comme...\n",
              "3    [article, 32, person, making, juridical, act, ...\n",
              "4    [age, majorityarticle, 4, age, majority, 20, y...\n",
              "Name: Article, dtype: object"
            ]
          },
          "metadata": {
            "tags": []
          },
          "execution_count": 167
        }
      ]
    },
    {
      "cell_type": "markdown",
      "metadata": {
        "id": "sOYamvtlw1Um",
        "colab_type": "text"
      },
      "source": [
        "#Lemmatizer\n"
      ]
    },
    {
      "cell_type": "code",
      "metadata": {
        "id": "_yX856p1u9kw",
        "colab_type": "code",
        "colab": {
          "base_uri": "https://localhost:8080/",
          "height": 266
        },
        "outputId": "3a278834-123a-44b3-cc58-6632b2517d7e"
      },
      "source": [
        "lemmatizer = WordNetLemmatizer()\n",
        "nltk.download('wordnet')\n",
        "def word_lemmatizer(text):\n",
        "  lemm_text = [lemmatizer.lemmatize(i) for i in text]\n",
        "  return lemm_text\n",
        "\n",
        "df['Article'].apply(lambda x: word_lemmatizer(x))"
      ],
      "execution_count": 170,
      "outputs": [
        {
          "output_type": "stream",
          "text": [
            "[nltk_data] Downloading package wordnet to /root/nltk_data...\n",
            "[nltk_data]   Unzipping corpora/wordnet.zip.\n"
          ],
          "name": "stdout"
        },
        {
          "output_type": "execute_result",
          "data": {
            "text/plain": [
              "0      [fundamental, principlesarticle, 1, private, r...\n",
              "1      [standard, constructionarticle, 2, code, must,...\n",
              "2      [article, 3, enjoyment, private, right, commen...\n",
              "3      [article, 32, person, making, juridical, act, ...\n",
              "4      [age, majorityarticle, 4, age, majority, 20, y...\n",
              "                             ...                        \n",
              "777    [fetus, capacity, hold, right, regarding, clai...\n",
              "778    [method, compensation, loss, damage, deduction...\n",
              "779    [recovery, defamationarticle, 723, court, may,...\n",
              "780    [extinctive, prescription, claim, compensation...\n",
              "781    [extinctive, prescription, claim, compensation...\n",
              "Name: Article, Length: 782, dtype: object"
            ]
          },
          "metadata": {
            "tags": []
          },
          "execution_count": 170
        }
      ]
    },
    {
      "cell_type": "markdown",
      "metadata": {
        "id": "SRo388HnyIzT",
        "colab_type": "text"
      },
      "source": [
        "#Stemmimng"
      ]
    },
    {
      "cell_type": "code",
      "metadata": {
        "id": "1xsr7i56yLDe",
        "colab_type": "code",
        "colab": {}
      },
      "source": [
        "stemmer = PorterStemmer()\n",
        "def word_stemmer(text):\n",
        "  stemm_text = \" \".join([stemmer.stem(i) for i in text])\n",
        "  return stemm_text\n",
        "df['Article'] = df['Article'].apply(lambda x: word_stemmer(x))"
      ],
      "execution_count": 0,
      "outputs": []
    },
    {
      "cell_type": "code",
      "metadata": {
        "id": "6prba8p3ycV9",
        "colab_type": "code",
        "colab": {
          "base_uri": "https://localhost:8080/",
          "height": 212
        },
        "outputId": "e78c046f-6ca1-438a-c336-202041985830"
      },
      "source": [
        "df['Article'].head(10)"
      ],
      "execution_count": 174,
      "outputs": [
        {
          "output_type": "execute_result",
          "data": {
            "text/plain": [
              "0    fundament principlesarticl 1 privat right must...\n",
              "1    standard constructionarticl 2 code must constr...\n",
              "2    articl 3 enjoy privat right commenc birth unle...\n",
              "3    articl 32 person make jurid act mental capac m...\n",
              "4           age majorityarticl 4 age major 20 year age\n",
              "5    jurid act minorsarticl 5 minor must obtain con...\n",
              "6    permiss minor conduct businessarticl 6 minor p...\n",
              "7    decis commenc guardianshiparticl 7 famili cour...\n",
              "8    adult ward adult guardiansarticl 8 person subj...\n",
              "9    jurid act adult ward guardianshiparticl 9 juri...\n",
              "Name: Article, dtype: object"
            ]
          },
          "metadata": {
            "tags": []
          },
          "execution_count": 174
        }
      ]
    }
  ]
}