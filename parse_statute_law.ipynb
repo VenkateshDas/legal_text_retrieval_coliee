{
  "nbformat": 4,
  "nbformat_minor": 0,
  "metadata": {
    "colab": {
      "name": "parse_statute_law.ipynb",
      "provenance": [],
      "collapsed_sections": [],
      "authorship_tag": "ABX9TyNhRmjfGUcgDFEPnpE9ZIJA",
      "include_colab_link": true
    },
    "kernelspec": {
      "name": "python3",
      "display_name": "Python 3"
    }
  },
  "cells": [
    {
      "cell_type": "markdown",
      "metadata": {
        "id": "view-in-github",
        "colab_type": "text"
      },
      "source": [
        "<a href=\"https://colab.research.google.com/github/VenkateshDas/legal_text_retrieval_coliee/blob/master/parse_statute_law.ipynb\" target=\"_parent\"><img src=\"https://colab.research.google.com/assets/colab-badge.svg\" alt=\"Open In Colab\"/></a>"
      ]
    },
    {
      "cell_type": "code",
      "metadata": {
        "id": "An6zDzPXVRKm",
        "colab_type": "code",
        "colab": {
          "base_uri": "https://localhost:8080/",
          "height": 122
        },
        "outputId": "c72bb5ae-d77d-42b9-b544-86007b7ea993"
      },
      "source": [
        "from google.colab import drive\n",
        "drive.mount('/content/drive')"
      ],
      "execution_count": 1,
      "outputs": [
        {
          "output_type": "stream",
          "text": [
            "Go to this URL in a browser: https://accounts.google.com/o/oauth2/auth?client_id=947318989803-6bn6qk8qdgf4n4g3pfee6491hc0brc4i.apps.googleusercontent.com&redirect_uri=urn%3aietf%3awg%3aoauth%3a2.0%3aoob&response_type=code&scope=email%20https%3a%2f%2fwww.googleapis.com%2fauth%2fdocs.test%20https%3a%2f%2fwww.googleapis.com%2fauth%2fdrive%20https%3a%2f%2fwww.googleapis.com%2fauth%2fdrive.photos.readonly%20https%3a%2f%2fwww.googleapis.com%2fauth%2fpeopleapi.readonly\n",
            "\n",
            "Enter your authorization code:\n",
            "··········\n",
            "Mounted at /content/drive\n"
          ],
          "name": "stdout"
        }
      ]
    },
    {
      "cell_type": "code",
      "metadata": {
        "id": "Aq1PWQjiV1mj",
        "colab_type": "code",
        "colab": {}
      },
      "source": [
        "import os \n",
        "os.chdir('/content/drive/My Drive/COLIEE Retrieval /Data')"
      ],
      "execution_count": 0,
      "outputs": []
    },
    {
      "cell_type": "markdown",
      "metadata": {
        "id": "IJ91RCEdW_V_",
        "colab_type": "text"
      },
      "source": [
        "#Parsing civil code xml"
      ]
    },
    {
      "cell_type": "code",
      "metadata": {
        "id": "3n9YL71tzWcR",
        "colab_type": "code",
        "colab": {}
      },
      "source": [
        "file_path = '/content/drive/My Drive/COLIEE Retrieval /Data/statute_law.xml'"
      ],
      "execution_count": 0,
      "outputs": []
    },
    {
      "cell_type": "code",
      "metadata": {
        "id": "yI4xjUE0yFdP",
        "colab_type": "code",
        "colab": {}
      },
      "source": [
        "import xml.etree.ElementTree as ET\n",
        "\n",
        "tree = ET.parse(file_path)\n",
        "root = tree.getroot()\n"
      ],
      "execution_count": 0,
      "outputs": []
    },
    {
      "cell_type": "code",
      "metadata": {
        "id": "5pxNG15B0H3W",
        "colab_type": "code",
        "colab": {}
      },
      "source": [
        "import re \n",
        "pattern = re.compile('\\t*')\n",
        "i = 0\n",
        "article_num = []\n",
        "article_id = []\n",
        "string_list = []\n",
        "for article in root.iter('Article'):\n",
        "    article_num.append(article.attrib['Num'])\n",
        "    article_id.append(article.attrib['id'])\n",
        "    string_var = []\n",
        "    string = ''\n",
        "    for title in article:\n",
        "        temp1 = title.text\n",
        "        temp1 = re.sub(pattern,'',temp1)\n",
        "        temp1 = re.sub('\\n','',temp1)\n",
        "        # print(temp1)\n",
        "        # string_var.append(title.text)\n",
        "        string_var.append(temp1)\n",
        "        for paragraph in title.iter('Paragraph'):\n",
        "            temp2 = paragraph.text\n",
        "            temp2 = re.sub(pattern,'',temp2)\n",
        "            \n",
        "            # string_var.append(paragraph.text)\n",
        "            # print(temp2) \n",
        "            string_var.append(temp2) \n",
        "            for sentence in paragraph.iter('Sentence'):\n",
        "                temp3 = sentence.text\n",
        "                temp3 = re.sub(pattern,'',temp3)\n",
        "                # print(temp3)\n",
        "                string_var.append(temp3)\n",
        "    string = ''.join(string_var)\n",
        "    string_list.append(string)\n"
      ],
      "execution_count": 0,
      "outputs": []
    },
    {
      "cell_type": "code",
      "metadata": {
        "id": "eAW516a03XGg",
        "colab_type": "code",
        "outputId": "05c6fb2c-b123-4a16-e901-dffde3f792f8",
        "colab": {
          "base_uri": "https://localhost:8080/",
          "height": 68
        }
      },
      "source": [
        "print(len(article_num))\n",
        "print(len(article_id))\n",
        "print(len(string_list))"
      ],
      "execution_count": 7,
      "outputs": [
        {
          "output_type": "stream",
          "text": [
            "782\n",
            "782\n",
            "782\n"
          ],
          "name": "stdout"
        }
      ]
    },
    {
      "cell_type": "code",
      "metadata": {
        "id": "qi08jtxnIlm6",
        "colab_type": "code",
        "outputId": "a026245b-6b05-48ff-ead1-91f343de958f",
        "colab": {
          "base_uri": "https://localhost:8080/",
          "height": 204
        }
      },
      "source": [
        "import pandas as pd \n",
        "dict = {'Number' : article_num , 'ID' : article_id, 'Article' : string_list }\n",
        "df = pd.DataFrame(dict)\n",
        "for i in range(len(df['Article'])):\n",
        "    df['Article'][i] = re.sub('\\n',' ',df['Article'][i])\n",
        "df.head()"
      ],
      "execution_count": 8,
      "outputs": [
        {
          "output_type": "execute_result",
          "data": {
            "text/html": [
              "<div>\n",
              "<style scoped>\n",
              "    .dataframe tbody tr th:only-of-type {\n",
              "        vertical-align: middle;\n",
              "    }\n",
              "\n",
              "    .dataframe tbody tr th {\n",
              "        vertical-align: top;\n",
              "    }\n",
              "\n",
              "    .dataframe thead th {\n",
              "        text-align: right;\n",
              "    }\n",
              "</style>\n",
              "<table border=\"1\" class=\"dataframe\">\n",
              "  <thead>\n",
              "    <tr style=\"text-align: right;\">\n",
              "      <th></th>\n",
              "      <th>Number</th>\n",
              "      <th>ID</th>\n",
              "      <th>Article</th>\n",
              "    </tr>\n",
              "  </thead>\n",
              "  <tbody>\n",
              "    <tr>\n",
              "      <th>0</th>\n",
              "      <td>1</td>\n",
              "      <td>en_pt1ch1at1</td>\n",
              "      <td>(Fundamental Principles)Article 1 Private righ...</td>\n",
              "    </tr>\n",
              "    <tr>\n",
              "      <th>1</th>\n",
              "      <td>2</td>\n",
              "      <td>en_pt1ch1at2</td>\n",
              "      <td>(Standards for Construction)Article 2 This Cod...</td>\n",
              "    </tr>\n",
              "    <tr>\n",
              "      <th>2</th>\n",
              "      <td>3</td>\n",
              "      <td>en_pt1ch2sc1at1</td>\n",
              "      <td>Article 3 The enjoyment of private rights comm...</td>\n",
              "    </tr>\n",
              "    <tr>\n",
              "      <th>3</th>\n",
              "      <td>3_2</td>\n",
              "      <td>en_pt1ch2sc2at1</td>\n",
              "      <td>Article 3-2 If the person making a juridical a...</td>\n",
              "    </tr>\n",
              "    <tr>\n",
              "      <th>4</th>\n",
              "      <td>4</td>\n",
              "      <td>en_pt1ch2sc3at1</td>\n",
              "      <td>(Age of Majority)Article 4 The age of majority...</td>\n",
              "    </tr>\n",
              "  </tbody>\n",
              "</table>\n",
              "</div>"
            ],
            "text/plain": [
              "  Number               ID                                            Article\n",
              "0      1     en_pt1ch1at1  (Fundamental Principles)Article 1 Private righ...\n",
              "1      2     en_pt1ch1at2  (Standards for Construction)Article 2 This Cod...\n",
              "2      3  en_pt1ch2sc1at1  Article 3 The enjoyment of private rights comm...\n",
              "3    3_2  en_pt1ch2sc2at1  Article 3-2 If the person making a juridical a...\n",
              "4      4  en_pt1ch2sc3at1  (Age of Majority)Article 4 The age of majority..."
            ]
          },
          "metadata": {
            "tags": []
          },
          "execution_count": 8
        }
      ]
    },
    {
      "cell_type": "code",
      "metadata": {
        "id": "xfIv7I38S6vd",
        "colab_type": "code",
        "colab": {}
      },
      "source": [
        "df.to_csv('statute_law_parsed.csv')"
      ],
      "execution_count": 0,
      "outputs": []
    },
    {
      "cell_type": "code",
      "metadata": {
        "id": "jdbp9_IxJUE9",
        "colab_type": "code",
        "colab": {}
      },
      "source": [
        "import pickle\n",
        "\n",
        "f = open('statute_law_parsed_df.pkl','wb')\n",
        "pickle.dump(df,f)"
      ],
      "execution_count": 0,
      "outputs": []
    },
    {
      "cell_type": "code",
      "metadata": {
        "id": "58p3BrDgNvz0",
        "colab_type": "code",
        "outputId": "f17cb937-f5aa-4f62-bd4d-3d7a7b61ee93",
        "colab": {
          "base_uri": "https://localhost:8080/",
          "height": 204
        }
      },
      "source": [
        "files = open('/content/drive/My Drive/COLIEE Retrieval /Data/statute_law_parsed_df.pkl','rb')\n",
        "df_pkl = pickle.load(files)\n",
        "df_pkl.head()"
      ],
      "execution_count": 11,
      "outputs": [
        {
          "output_type": "execute_result",
          "data": {
            "text/html": [
              "<div>\n",
              "<style scoped>\n",
              "    .dataframe tbody tr th:only-of-type {\n",
              "        vertical-align: middle;\n",
              "    }\n",
              "\n",
              "    .dataframe tbody tr th {\n",
              "        vertical-align: top;\n",
              "    }\n",
              "\n",
              "    .dataframe thead th {\n",
              "        text-align: right;\n",
              "    }\n",
              "</style>\n",
              "<table border=\"1\" class=\"dataframe\">\n",
              "  <thead>\n",
              "    <tr style=\"text-align: right;\">\n",
              "      <th></th>\n",
              "      <th>Number</th>\n",
              "      <th>ID</th>\n",
              "      <th>Article</th>\n",
              "    </tr>\n",
              "  </thead>\n",
              "  <tbody>\n",
              "    <tr>\n",
              "      <th>0</th>\n",
              "      <td>1</td>\n",
              "      <td>en_pt1ch1at1</td>\n",
              "      <td>(Fundamental Principles)Article 1 Private righ...</td>\n",
              "    </tr>\n",
              "    <tr>\n",
              "      <th>1</th>\n",
              "      <td>2</td>\n",
              "      <td>en_pt1ch1at2</td>\n",
              "      <td>(Standards for Construction)Article 2 This Cod...</td>\n",
              "    </tr>\n",
              "    <tr>\n",
              "      <th>2</th>\n",
              "      <td>3</td>\n",
              "      <td>en_pt1ch2sc1at1</td>\n",
              "      <td>Article 3 The enjoyment of private rights comm...</td>\n",
              "    </tr>\n",
              "    <tr>\n",
              "      <th>3</th>\n",
              "      <td>3_2</td>\n",
              "      <td>en_pt1ch2sc2at1</td>\n",
              "      <td>Article 3-2 If the person making a juridical a...</td>\n",
              "    </tr>\n",
              "    <tr>\n",
              "      <th>4</th>\n",
              "      <td>4</td>\n",
              "      <td>en_pt1ch2sc3at1</td>\n",
              "      <td>(Age of Majority)Article 4 The age of majority...</td>\n",
              "    </tr>\n",
              "  </tbody>\n",
              "</table>\n",
              "</div>"
            ],
            "text/plain": [
              "  Number               ID                                            Article\n",
              "0      1     en_pt1ch1at1  (Fundamental Principles)Article 1 Private righ...\n",
              "1      2     en_pt1ch1at2  (Standards for Construction)Article 2 This Cod...\n",
              "2      3  en_pt1ch2sc1at1  Article 3 The enjoyment of private rights comm...\n",
              "3    3_2  en_pt1ch2sc2at1  Article 3-2 If the person making a juridical a...\n",
              "4      4  en_pt1ch2sc3at1  (Age of Majority)Article 4 The age of majority..."
            ]
          },
          "metadata": {
            "tags": []
          },
          "execution_count": 11
        }
      ]
    },
    {
      "cell_type": "markdown",
      "metadata": {
        "id": "wAv8-PmuYOtr",
        "colab_type": "text"
      },
      "source": [
        "# Parsing query and articles XML"
      ]
    },
    {
      "cell_type": "code",
      "metadata": {
        "id": "PzjHkKhdYVnp",
        "colab_type": "code",
        "colab": {}
      },
      "source": [
        "relevant_doc_file_path = '/content/drive/My Drive/COLIEE Retrieval /COLIEE2019-StatuteLaw-English Training Data/'"
      ],
      "execution_count": 0,
      "outputs": []
    },
    {
      "cell_type": "code",
      "metadata": {
        "id": "TKJ2yExTY5T8",
        "colab_type": "code",
        "colab": {
          "base_uri": "https://localhost:8080/",
          "height": 221
        },
        "outputId": "d781721c-a384-46db-8215-02ef7958d93f"
      },
      "source": [
        "pattern = re.compile('Article\\s\\d*\\-?\\d')\n",
        "\n",
        "PairID_arr= []\n",
        "text1_arr = []\n",
        "text2_arr = []\n",
        "label_arr = []\n",
        "article_numbers = []\n",
        "\n",
        "for files in os.listdir(relevant_doc_file_path):\n",
        "    if files.endswith('.xml'):\n",
        "        print(files)\n",
        "        xmlp = ET.XMLParser(encoding=\"utf-8\")\n",
        "        tree = ET.parse(relevant_doc_file_path+files, parser = xmlp)\n",
        "        root = tree.getroot()\n",
        "\n",
        "        for pair in root.findall('pair'):\n",
        "            i = 0\n",
        "            j = 0\n",
        "            PairID = pair.get('id')\n",
        "            PairID_arr.append(PairID)\n",
        "            \n",
        "            text1 = pair.find('t1').text\n",
        "            text1_arr.append(text1)\n",
        "\n",
        "            numbers = re.findall(pattern,text1)\n",
        "            article_numbers.append(numbers)\n",
        "            \n",
        "            text2 = pair.find('t2').text\n",
        "            text2_arr.append(text2)\n",
        "\n",
        "            Label = pair.get('label')\n",
        "            label_arr.append(Label)"
      ],
      "execution_count": 18,
      "outputs": [
        {
          "output_type": "stream",
          "text": [
            "riteval_H26.xml\n",
            "riteval_H21.xml\n",
            "riteval_H18.xml\n",
            "riteval_H23.xml\n",
            "riteval_H27.xml\n",
            "riteval_H28.xml\n",
            "riteval_H29.xml\n",
            "riteval_H22.xml\n",
            "riteval_H24.xml\n",
            "riteval_H19.xml\n",
            "riteval_H20.xml\n",
            "riteval_H25.xml\n"
          ],
          "name": "stdout"
        }
      ]
    },
    {
      "cell_type": "code",
      "metadata": {
        "id": "NZfEKz1UbM5o",
        "colab_type": "code",
        "colab": {
          "base_uri": "https://localhost:8080/",
          "height": 289
        },
        "outputId": "22440b10-caad-47c0-d9ee-deb3aa673878"
      },
      "source": [
        "dict_relevant = {'ID' : PairID_arr , 'Query' : text2_arr , 'Article_numbers' : article_numbers , 'Articles' : text1_arr }\n",
        "df_relevant = pd.DataFrame(dict_relevant)\n",
        "df_relevant.head()"
      ],
      "execution_count": 19,
      "outputs": [
        {
          "output_type": "execute_result",
          "data": {
            "text/html": [
              "<div>\n",
              "<style scoped>\n",
              "    .dataframe tbody tr th:only-of-type {\n",
              "        vertical-align: middle;\n",
              "    }\n",
              "\n",
              "    .dataframe tbody tr th {\n",
              "        vertical-align: top;\n",
              "    }\n",
              "\n",
              "    .dataframe thead th {\n",
              "        text-align: right;\n",
              "    }\n",
              "</style>\n",
              "<table border=\"1\" class=\"dataframe\">\n",
              "  <thead>\n",
              "    <tr style=\"text-align: right;\">\n",
              "      <th></th>\n",
              "      <th>ID</th>\n",
              "      <th>Query</th>\n",
              "      <th>Article_numbers</th>\n",
              "      <th>Articles</th>\n",
              "    </tr>\n",
              "  </thead>\n",
              "  <tbody>\n",
              "    <tr>\n",
              "      <th>0</th>\n",
              "      <td>H26-1-A</td>\n",
              "      <td>\\nIf there is a guardian of a minor, the minor...</td>\n",
              "      <td>[Article 737, Article 838]</td>\n",
              "      <td>\\nArticle 737 \\n(1) A minor shall obtain the c...</td>\n",
              "    </tr>\n",
              "    <tr>\n",
              "      <th>1</th>\n",
              "      <td>H26-1-C</td>\n",
              "      <td>\\nA will made by an adult ward may be rescinde...</td>\n",
              "      <td>[Article 962, Article 5, Article 9, Article 13...</td>\n",
              "      <td>\\nArticle 962 \\nThe provisions of Article 5, A...</td>\n",
              "    </tr>\n",
              "    <tr>\n",
              "      <th>2</th>\n",
              "      <td>H26-1-E</td>\n",
              "      <td>\\nThe family court may order the commencement ...</td>\n",
              "      <td>[Article 11, Article 7]</td>\n",
              "      <td>\\nArticle 11 \\nWith respect to any person who ...</td>\n",
              "    </tr>\n",
              "    <tr>\n",
              "      <th>3</th>\n",
              "      <td>H26-1-G</td>\n",
              "      <td>\\nWith respect to any act which requires the c...</td>\n",
              "      <td>[Article 13, Article 9, Article 2, Article 602...</td>\n",
              "      <td>\\nArticle 13 \\n(1) A person under curatorship ...</td>\n",
              "    </tr>\n",
              "    <tr>\n",
              "      <th>4</th>\n",
              "      <td>H26-1-I</td>\n",
              "      <td>\\nThe ruling of commencement of assistance at ...</td>\n",
              "      <td>[Article 15, Article 7, Article 11, Article 17...</td>\n",
              "      <td>\\nArticle 15 \\n(1) With respect to any person ...</td>\n",
              "    </tr>\n",
              "  </tbody>\n",
              "</table>\n",
              "</div>"
            ],
            "text/plain": [
              "        ID  ...                                           Articles\n",
              "0  H26-1-A  ...  \\nArticle 737 \\n(1) A minor shall obtain the c...\n",
              "1  H26-1-C  ...  \\nArticle 962 \\nThe provisions of Article 5, A...\n",
              "2  H26-1-E  ...  \\nArticle 11 \\nWith respect to any person who ...\n",
              "3  H26-1-G  ...  \\nArticle 13 \\n(1) A person under curatorship ...\n",
              "4  H26-1-I  ...  \\nArticle 15 \\n(1) With respect to any person ...\n",
              "\n",
              "[5 rows x 4 columns]"
            ]
          },
          "metadata": {
            "tags": []
          },
          "execution_count": 19
        }
      ]
    },
    {
      "cell_type": "code",
      "metadata": {
        "id": "JUlXGy7yiJ1R",
        "colab_type": "code",
        "colab": {
          "base_uri": "https://localhost:8080/",
          "height": 34
        },
        "outputId": "3f046cfb-32db-4588-87eb-ae30b9b9d1f0"
      },
      "source": [
        "type(df_relevant['Article_numbers'])"
      ],
      "execution_count": 23,
      "outputs": [
        {
          "output_type": "execute_result",
          "data": {
            "text/plain": [
              "pandas.core.series.Series"
            ]
          },
          "metadata": {
            "tags": []
          },
          "execution_count": 23
        }
      ]
    },
    {
      "cell_type": "code",
      "metadata": {
        "id": "K5R91424cBlI",
        "colab_type": "code",
        "colab": {
          "base_uri": "https://localhost:8080/",
          "height": 289
        },
        "outputId": "8850dbbd-f8d3-49f2-97c0-d69cbe5c04af"
      },
      "source": [
        "article_pattern = re.compile('\\d\\d?\\d?\\d?\\-?\\d?')\n",
        "for i in range(len(df_relevant['Article_numbers'])):\n",
        "    for j in range(len(df_relevant['Article_numbers'][i])):\n",
        "        df_relevant['Article_numbers'][i][j] = re.sub('Article\\s','',df_relevant['Article_numbers'][i][j])\n",
        "    df_relevant['Article_numbers'][i] = set(df_relevant['Article_numbers'][i])\n",
        "df_relevant.head()"
      ],
      "execution_count": 26,
      "outputs": [
        {
          "output_type": "execute_result",
          "data": {
            "text/html": [
              "<div>\n",
              "<style scoped>\n",
              "    .dataframe tbody tr th:only-of-type {\n",
              "        vertical-align: middle;\n",
              "    }\n",
              "\n",
              "    .dataframe tbody tr th {\n",
              "        vertical-align: top;\n",
              "    }\n",
              "\n",
              "    .dataframe thead th {\n",
              "        text-align: right;\n",
              "    }\n",
              "</style>\n",
              "<table border=\"1\" class=\"dataframe\">\n",
              "  <thead>\n",
              "    <tr style=\"text-align: right;\">\n",
              "      <th></th>\n",
              "      <th>ID</th>\n",
              "      <th>Query</th>\n",
              "      <th>Article_numbers</th>\n",
              "      <th>Articles</th>\n",
              "    </tr>\n",
              "  </thead>\n",
              "  <tbody>\n",
              "    <tr>\n",
              "      <th>0</th>\n",
              "      <td>H26-1-A</td>\n",
              "      <td>\\nIf there is a guardian of a minor, the minor...</td>\n",
              "      <td>{838, 737}</td>\n",
              "      <td>\\nArticle 737 \\n(1) A minor shall obtain the c...</td>\n",
              "    </tr>\n",
              "    <tr>\n",
              "      <th>1</th>\n",
              "      <td>H26-1-C</td>\n",
              "      <td>\\nA will made by an adult ward may be rescinde...</td>\n",
              "      <td>{5, 9, 17, 962, 13}</td>\n",
              "      <td>\\nArticle 962 \\nThe provisions of Article 5, A...</td>\n",
              "    </tr>\n",
              "    <tr>\n",
              "      <th>2</th>\n",
              "      <td>H26-1-E</td>\n",
              "      <td>\\nThe family court may order the commencement ...</td>\n",
              "      <td>{7, 11}</td>\n",
              "      <td>\\nArticle 11 \\nWith respect to any person who ...</td>\n",
              "    </tr>\n",
              "    <tr>\n",
              "      <th>3</th>\n",
              "      <td>H26-1-G</td>\n",
              "      <td>\\nWith respect to any act which requires the c...</td>\n",
              "      <td>{602, 9, 11, 2, 13}</td>\n",
              "      <td>\\nArticle 13 \\n(1) A person under curatorship ...</td>\n",
              "    </tr>\n",
              "    <tr>\n",
              "      <th>4</th>\n",
              "      <td>H26-1-I</td>\n",
              "      <td>\\nThe ruling of commencement of assistance at ...</td>\n",
              "      <td>{7, 876-9, 17, 11, 15}</td>\n",
              "      <td>\\nArticle 15 \\n(1) With respect to any person ...</td>\n",
              "    </tr>\n",
              "  </tbody>\n",
              "</table>\n",
              "</div>"
            ],
            "text/plain": [
              "        ID  ...                                           Articles\n",
              "0  H26-1-A  ...  \\nArticle 737 \\n(1) A minor shall obtain the c...\n",
              "1  H26-1-C  ...  \\nArticle 962 \\nThe provisions of Article 5, A...\n",
              "2  H26-1-E  ...  \\nArticle 11 \\nWith respect to any person who ...\n",
              "3  H26-1-G  ...  \\nArticle 13 \\n(1) A person under curatorship ...\n",
              "4  H26-1-I  ...  \\nArticle 15 \\n(1) With respect to any person ...\n",
              "\n",
              "[5 rows x 4 columns]"
            ]
          },
          "metadata": {
            "tags": []
          },
          "execution_count": 26
        }
      ]
    },
    {
      "cell_type": "code",
      "metadata": {
        "id": "Xz63wXF6jGmc",
        "colab_type": "code",
        "colab": {
          "base_uri": "https://localhost:8080/",
          "height": 54
        },
        "outputId": "e6146caf-9de1-4478-9955-94f44762ca86"
      },
      "source": [
        "df_relevant['Articles'][3]"
      ],
      "execution_count": 25,
      "outputs": [
        {
          "output_type": "execute_result",
          "data": {
            "text/plain": [
              "'\\nArticle 13 \\n(1) A person under curatorship must obtain the consent of his/her curator if he/she intends to perform any of the following acts;provided, however, that, this shall not apply to the acts provided for in the proviso of Article 9:\\n(i) receive or use any principal;\\n(ii) borrow any money or guarantee any obligation;\\n(iii) perform any act with the purpose of obtaining or relinquishing any right regarding real estate or other valuable property;\\n(iv) take any procedural action;\\n(v) make a gift, make any settlement, or agree to arbitrate (referring to the agreement to arbitrate as provided in paragraph 1, Article 2 of the Arbitration Act (Act No. 138 of 2003));\\n(vi) accept or renounce any inheritance, or partition any estate;\\n(vii) refuse an offer of a gift, renounce any bequest, accept the offer of gift with burden, or accept any bequest with burden;\\n(viii) effect any new construction, renovation, expansion, or major repairs; or\\n(ix) make any lease agreement with a term which exceeds the period set forth in Article 602.\\n(2) At the request of the person provided in the main clause of Article 11, or any curator or any supervisor of the curator, the family court may make a ruling that the person under curatorship must obtain the consent of his/her curator even in cases he/she intends to perform any act other than those set forth in each item of the preceding paragraph;provided, however, that this shall not apply to the acts provided for in the proviso to Article 9,\\n(3) With respect to any act which requires the consent of the curator, if the curator does not give consent in cases where the interest of the person under curatorship is unlikely to be prejudiced, the family court may, at the request of the person under curatorship, give permission in lieu of the consent of the curator.\\n(4) An act which requires the consent of the curator may be rescinded if it was performed without such consent or any permission in lieu thereof.\\n'"
            ]
          },
          "metadata": {
            "tags": []
          },
          "execution_count": 25
        }
      ]
    },
    {
      "cell_type": "code",
      "metadata": {
        "id": "ro5rLL0Lk1_f",
        "colab_type": "code",
        "colab": {}
      },
      "source": [
        "df_relevant.to_csv('query_relevant_articles_parsed.csv')"
      ],
      "execution_count": 0,
      "outputs": []
    },
    {
      "cell_type": "code",
      "metadata": {
        "id": "D1cncU7plUEq",
        "colab_type": "code",
        "colab": {}
      },
      "source": [
        "f = open('query_relevant_articles_parsed_df.pkl','wb')\n",
        "pickle.dump(df_relevant,f)"
      ],
      "execution_count": 0,
      "outputs": []
    },
    {
      "cell_type": "code",
      "metadata": {
        "id": "ZEeMdlAOlimB",
        "colab_type": "code",
        "colab": {
          "base_uri": "https://localhost:8080/",
          "height": 289
        },
        "outputId": "ee21ce1f-d48b-4118-ebfa-a601ae8014a0"
      },
      "source": [
        "files_relevant = open('/content/drive/My Drive/COLIEE Retrieval /Data/query_relevant_articles_parsed_df.pkl','rb')\n",
        "df_relevant_pkl = pickle.load(files_relevant)\n",
        "df_relevant_pkl.head()"
      ],
      "execution_count": 29,
      "outputs": [
        {
          "output_type": "execute_result",
          "data": {
            "text/html": [
              "<div>\n",
              "<style scoped>\n",
              "    .dataframe tbody tr th:only-of-type {\n",
              "        vertical-align: middle;\n",
              "    }\n",
              "\n",
              "    .dataframe tbody tr th {\n",
              "        vertical-align: top;\n",
              "    }\n",
              "\n",
              "    .dataframe thead th {\n",
              "        text-align: right;\n",
              "    }\n",
              "</style>\n",
              "<table border=\"1\" class=\"dataframe\">\n",
              "  <thead>\n",
              "    <tr style=\"text-align: right;\">\n",
              "      <th></th>\n",
              "      <th>ID</th>\n",
              "      <th>Query</th>\n",
              "      <th>Article_numbers</th>\n",
              "      <th>Articles</th>\n",
              "    </tr>\n",
              "  </thead>\n",
              "  <tbody>\n",
              "    <tr>\n",
              "      <th>0</th>\n",
              "      <td>H26-1-A</td>\n",
              "      <td>\\nIf there is a guardian of a minor, the minor...</td>\n",
              "      <td>{838, 737}</td>\n",
              "      <td>\\nArticle 737 \\n(1) A minor shall obtain the c...</td>\n",
              "    </tr>\n",
              "    <tr>\n",
              "      <th>1</th>\n",
              "      <td>H26-1-C</td>\n",
              "      <td>\\nA will made by an adult ward may be rescinde...</td>\n",
              "      <td>{5, 9, 17, 962, 13}</td>\n",
              "      <td>\\nArticle 962 \\nThe provisions of Article 5, A...</td>\n",
              "    </tr>\n",
              "    <tr>\n",
              "      <th>2</th>\n",
              "      <td>H26-1-E</td>\n",
              "      <td>\\nThe family court may order the commencement ...</td>\n",
              "      <td>{7, 11}</td>\n",
              "      <td>\\nArticle 11 \\nWith respect to any person who ...</td>\n",
              "    </tr>\n",
              "    <tr>\n",
              "      <th>3</th>\n",
              "      <td>H26-1-G</td>\n",
              "      <td>\\nWith respect to any act which requires the c...</td>\n",
              "      <td>{602, 9, 11, 2, 13}</td>\n",
              "      <td>\\nArticle 13 \\n(1) A person under curatorship ...</td>\n",
              "    </tr>\n",
              "    <tr>\n",
              "      <th>4</th>\n",
              "      <td>H26-1-I</td>\n",
              "      <td>\\nThe ruling of commencement of assistance at ...</td>\n",
              "      <td>{7, 876-9, 17, 11, 15}</td>\n",
              "      <td>\\nArticle 15 \\n(1) With respect to any person ...</td>\n",
              "    </tr>\n",
              "  </tbody>\n",
              "</table>\n",
              "</div>"
            ],
            "text/plain": [
              "        ID  ...                                           Articles\n",
              "0  H26-1-A  ...  \\nArticle 737 \\n(1) A minor shall obtain the c...\n",
              "1  H26-1-C  ...  \\nArticle 962 \\nThe provisions of Article 5, A...\n",
              "2  H26-1-E  ...  \\nArticle 11 \\nWith respect to any person who ...\n",
              "3  H26-1-G  ...  \\nArticle 13 \\n(1) A person under curatorship ...\n",
              "4  H26-1-I  ...  \\nArticle 15 \\n(1) With respect to any person ...\n",
              "\n",
              "[5 rows x 4 columns]"
            ]
          },
          "metadata": {
            "tags": []
          },
          "execution_count": 29
        }
      ]
    },
    {
      "cell_type": "code",
      "metadata": {
        "id": "yoexjAtKl8Nt",
        "colab_type": "code",
        "colab": {
          "base_uri": "https://localhost:8080/",
          "height": 34
        },
        "outputId": "1f55696b-3552-4825-8897-0e950ba23438"
      },
      "source": [
        "df_relevant_pkl.shape"
      ],
      "execution_count": 30,
      "outputs": [
        {
          "output_type": "execute_result",
          "data": {
            "text/plain": [
              "(716, 4)"
            ]
          },
          "metadata": {
            "tags": []
          },
          "execution_count": 30
        }
      ]
    },
    {
      "cell_type": "code",
      "metadata": {
        "id": "f4v89BV3mC1h",
        "colab_type": "code",
        "colab": {}
      },
      "source": [
        ""
      ],
      "execution_count": 0,
      "outputs": []
    }
  ]
}