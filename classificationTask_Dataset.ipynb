{
  "nbformat": 4,
  "nbformat_minor": 0,
  "metadata": {
    "colab": {
      "name": "classificationTask_Dataset.ipynb",
      "provenance": [],
      "collapsed_sections": [],
      "mount_file_id": "1nK5v6ntCWqTS4u_Y2vFkeRMC1oA3Q_DK",
      "authorship_tag": "ABX9TyORDctVM4xny5kyj6BWSFib",
      "include_colab_link": true
    },
    "kernelspec": {
      "name": "python3",
      "display_name": "Python 3"
    }
  },
  "cells": [
    {
      "cell_type": "markdown",
      "metadata": {
        "id": "view-in-github",
        "colab_type": "text"
      },
      "source": [
        "<a href=\"https://colab.research.google.com/github/VenkateshDas/legal_text_retrieval_coliee/blob/master/classificationTask_Dataset.ipynb\" target=\"_parent\"><img src=\"https://colab.research.google.com/assets/colab-badge.svg\" alt=\"Open In Colab\"/></a>"
      ]
    },
    {
      "cell_type": "markdown",
      "metadata": {
        "id": "_TpOJASjpzdf"
      },
      "source": [
        "### Steps involved\n",
        "\n",
        "Dataset creation : \n",
        "\n",
        "1.   Read the pickle files. \"Cleaned Civil code\" and \"Cleaned Ground truth\" \n",
        "2.   Create a dataset with columns : \n",
        "    ID , Query , Article , Label\n",
        "3. Should there be any preprocess on the Dataset? \n",
        "4. Run a loop to concatenate query with every article. If the Relevant article number matches the article number then label it as \"1\" else \"0\". \n",
        "5. Then extract only the instances with label 1. \n",
        "6. Duplicate the rows of the dataset 100 times. \n",
        "7. Concatenate the duplicated or oversampled dataset with the dataset that contains the label 0 instances. \n",
        "8. Concatenate the Query and Article into a single stirng which will be fed as an input to the Transformer model. (Should I use the separate [SEP] token between Query and Article?)\n",
        "\n",
        "\n",
        "\n"
      ]
    },
    {
      "cell_type": "markdown",
      "metadata": {
        "id": "o64MjSUScdek"
      },
      "source": [
        "### Setup "
      ]
    },
    {
      "cell_type": "code",
      "metadata": {
        "id": "SDTOHsTN-STM"
      },
      "source": [
        "import os\n",
        "import re\n",
        "import ast\n",
        "import sys\n",
        "import pandas as pd\n",
        "import xml.etree.ElementTree as ET"
      ],
      "execution_count": null,
      "outputs": []
    },
    {
      "cell_type": "code",
      "metadata": {
        "id": "sYNVyQkgpvOB"
      },
      "source": [
        "os.chdir('/content/drive/My Drive/COLIEE Retrieval /COLIEE Dry Run Data /preprocessed_data/')\n",
        "\n",
        "query_dataframe = pd.read_pickle('cleaned_ground_truth.pkl')\n",
        "civil_code_dataframe = pd.read_pickle('cleaned_civil_code.pkl')\n"
      ],
      "execution_count": null,
      "outputs": []
    },
    {
      "cell_type": "code",
      "metadata": {
        "id": "N8UZ1iKNc-O-",
        "colab": {
          "base_uri": "https://localhost:8080/",
          "height": 306
        },
        "outputId": "1720c382-6a2e-4089-e66b-c65f5a139459"
      },
      "source": [
        "query_dataframe.head()"
      ],
      "execution_count": null,
      "outputs": [
        {
          "output_type": "execute_result",
          "data": {
            "text/html": [
              "<div>\n",
              "<style scoped>\n",
              "    .dataframe tbody tr th:only-of-type {\n",
              "        vertical-align: middle;\n",
              "    }\n",
              "\n",
              "    .dataframe tbody tr th {\n",
              "        vertical-align: top;\n",
              "    }\n",
              "\n",
              "    .dataframe thead th {\n",
              "        text-align: right;\n",
              "    }\n",
              "</style>\n",
              "<table border=\"1\" class=\"dataframe\">\n",
              "  <thead>\n",
              "    <tr style=\"text-align: right;\">\n",
              "      <th></th>\n",
              "      <th>ID</th>\n",
              "      <th>Query</th>\n",
              "      <th>Article_numbers</th>\n",
              "      <th>Query_tokens</th>\n",
              "      <th>Query_lemma</th>\n",
              "      <th>Query_pos</th>\n",
              "      <th>Articles</th>\n",
              "    </tr>\n",
              "  </thead>\n",
              "  <tbody>\n",
              "    <tr>\n",
              "      <th>0</th>\n",
              "      <td>H21-1-1</td>\n",
              "      <td>Acceptance made by a minor that received an o...</td>\n",
              "      <td>['5']</td>\n",
              "      <td>['acceptance', 'made', 'minor', 'received', 'o...</td>\n",
              "      <td>['acceptance', 'make', 'minor', 'receive', 'of...</td>\n",
              "      <td>['NOUN', 'VERB', 'NOUN', 'VERB', 'NOUN', 'NOUN...</td>\n",
              "      <td>\\nArticle 5\\n(1) A minor must obtain the conse...</td>\n",
              "    </tr>\n",
              "    <tr>\n",
              "      <th>1</th>\n",
              "      <td>H21-1-2</td>\n",
              "      <td>If a minor, after getting permission for carr...</td>\n",
              "      <td>['6']</td>\n",
              "      <td>['minor', 'getting', 'permission', 'carrying',...</td>\n",
              "      <td>['minor', 'get', 'permission', 'carry', 'busin...</td>\n",
              "      <td>['ADJ', 'VERB', 'NOUN', 'VERB', 'NOUN', 'ADJ',...</td>\n",
              "      <td>\\nArticle 6\\n(1) A minor who is permitted to c...</td>\n",
              "    </tr>\n",
              "    <tr>\n",
              "      <th>2</th>\n",
              "      <td>H21-1-3</td>\n",
              "      <td>The purchase of daily household items may not...</td>\n",
              "      <td>['9']</td>\n",
              "      <td>['purchase', 'daily', 'household', 'items', 'm...</td>\n",
              "      <td>['purchase', 'daily', 'household', 'item', 'ma...</td>\n",
              "      <td>['NOUN', 'ADJ', 'NOUN', 'NOUN', 'VERB', 'ADV',...</td>\n",
              "      <td>\\nArticle 9\\nA juridical act performed by an a...</td>\n",
              "    </tr>\n",
              "    <tr>\n",
              "      <th>3</th>\n",
              "      <td>H21-1-4</td>\n",
              "      <td>If a person under curatorship performs, witho...</td>\n",
              "      <td>['13', '120', '122']</td>\n",
              "      <td>['person', 'curatorship', 'performs', 'without...</td>\n",
              "      <td>['person', 'curatorship', 'perform', 'without'...</td>\n",
              "      <td>['NOUN', 'NOUN', 'NOUN', 'ADP', 'VERB', 'NOUN'...</td>\n",
              "      <td>\\nArticle 13\\n(1) A person under curatorship m...</td>\n",
              "    </tr>\n",
              "    <tr>\n",
              "      <th>4</th>\n",
              "      <td>H21-1-5</td>\n",
              "      <td>The person in question may not request a  com...</td>\n",
              "      <td>['7', '11']</td>\n",
              "      <td>['person', 'question', 'may', 'not', 'request'...</td>\n",
              "      <td>['person', 'question', 'may', 'not', 'request'...</td>\n",
              "      <td>['NOUN', 'NOUN', 'VERB', 'ADV', 'VERB', 'NOUN'...</td>\n",
              "      <td>\\nArticle 7\\nThe family court may decide to co...</td>\n",
              "    </tr>\n",
              "  </tbody>\n",
              "</table>\n",
              "</div>"
            ],
            "text/plain": [
              "        ID  ...                                           Articles\n",
              "0  H21-1-1  ...  \\nArticle 5\\n(1) A minor must obtain the conse...\n",
              "1  H21-1-2  ...  \\nArticle 6\\n(1) A minor who is permitted to c...\n",
              "2  H21-1-3  ...  \\nArticle 9\\nA juridical act performed by an a...\n",
              "3  H21-1-4  ...  \\nArticle 13\\n(1) A person under curatorship m...\n",
              "4  H21-1-5  ...  \\nArticle 7\\nThe family court may decide to co...\n",
              "\n",
              "[5 rows x 7 columns]"
            ]
          },
          "metadata": {
            "tags": []
          },
          "execution_count": 3
        }
      ]
    },
    {
      "cell_type": "code",
      "metadata": {
        "id": "j7DIvAo2dDpJ",
        "colab": {
          "base_uri": "https://localhost:8080/",
          "height": 428
        },
        "outputId": "e74da560-3b8d-427c-e486-3f5b8ee4bbfc"
      },
      "source": [
        "civil_code_dataframe.tail()"
      ],
      "execution_count": null,
      "outputs": [
        {
          "output_type": "execute_result",
          "data": {
            "text/html": [
              "<div>\n",
              "<style scoped>\n",
              "    .dataframe tbody tr th:only-of-type {\n",
              "        vertical-align: middle;\n",
              "    }\n",
              "\n",
              "    .dataframe tbody tr th {\n",
              "        vertical-align: top;\n",
              "    }\n",
              "\n",
              "    .dataframe thead th {\n",
              "        text-align: right;\n",
              "    }\n",
              "</style>\n",
              "<table border=\"1\" class=\"dataframe\">\n",
              "  <thead>\n",
              "    <tr style=\"text-align: right;\">\n",
              "      <th></th>\n",
              "      <th>Article_number</th>\n",
              "      <th>Referenced_article_num</th>\n",
              "      <th>Article_description</th>\n",
              "      <th>Article_titles</th>\n",
              "      <th>Article_description_tokens</th>\n",
              "      <th>Article_description_lemmas</th>\n",
              "      <th>Article_description_pos</th>\n",
              "      <th>Article_desc_bigrams</th>\n",
              "      <th>Article_desc_trigrams</th>\n",
              "      <th>Article_bi_tri_grams</th>\n",
              "      <th>Combined_lemma_Bi_tri</th>\n",
              "      <th>Article_title_tokens</th>\n",
              "      <th>Article_title_lemma</th>\n",
              "      <th>Article_title_pos</th>\n",
              "    </tr>\n",
              "  </thead>\n",
              "  <tbody>\n",
              "    <tr>\n",
              "      <th>772</th>\n",
              "      <td>721</td>\n",
              "      <td>{}</td>\n",
              "      <td>(Fetus' Capacity to Hold Rights Regarding Clai...</td>\n",
              "      <td>(Fetus' Capacity to Hold Rights Regarding Clai...</td>\n",
              "      <td>[fetus, capacity, hold, rights, regarding, cla...</td>\n",
              "      <td>[fetus, capacity, hold, right, regard, claim, ...</td>\n",
              "      <td>[X, NOUN, VERB, NOUN, VERB, NOUN, NOUN, NOUN, ...</td>\n",
              "      <td>[fetus_capacity, capacity_hold, hold_right, ri...</td>\n",
              "      <td>[fetus_capacity_hold, capacity_hold_right, hol...</td>\n",
              "      <td>[fetus_capacity, capacity_hold, hold_right, ri...</td>\n",
              "      <td>[fetus, capacity, hold, right, regard, claim, ...</td>\n",
              "      <td>[fetus, capacity, hold, rights, regarding, cla...</td>\n",
              "      <td>[fetus, capacity, hold, right, regard, claim, ...</td>\n",
              "      <td>[X, NOUN, VERB, NOUN, VERB, NOUN, NOUN, NOUN, ...</td>\n",
              "    </tr>\n",
              "    <tr>\n",
              "      <th>773</th>\n",
              "      <td>722</td>\n",
              "      <td>{}</td>\n",
              "      <td>(Method of Compensation for Loss or Damage, De...</td>\n",
              "      <td>(Method of Compensation for Loss or Damage, De...</td>\n",
              "      <td>[method, compensation, loss, damage, deduction...</td>\n",
              "      <td>[method, compensation, loss, damage, deduction...</td>\n",
              "      <td>[NOUN, NOUN, NOUN, NOUN, NOUN, ADJ, NOUN, ADJ,...</td>\n",
              "      <td>[method_compensation, compensation_loss, loss_...</td>\n",
              "      <td>[method_compensation_loss, compensation_loss_d...</td>\n",
              "      <td>[method_compensation, compensation_loss, loss_...</td>\n",
              "      <td>[method, compensation, loss, damage, deduction...</td>\n",
              "      <td>[method, compensation, loss, damage, deduction...</td>\n",
              "      <td>[method, compensation, loss, damage, deduction...</td>\n",
              "      <td>[NOUN, NOUN, NOUN, NOUN, NOUN, ADJ, NOUN, ADJ,...</td>\n",
              "    </tr>\n",
              "    <tr>\n",
              "      <th>774</th>\n",
              "      <td>723</td>\n",
              "      <td>{}</td>\n",
              "      <td>(Recovery in Defamation) Article_723  The cour...</td>\n",
              "      <td>(Recovery in Defamation)</td>\n",
              "      <td>[recovery, defamation, article_723, court, may...</td>\n",
              "      <td>[recovery, defamation, article_723, court, may...</td>\n",
              "      <td>[NOUN, NOUN, X, NOUN, VERB, VERB, NOUN, VERB, ...</td>\n",
              "      <td>[recovery_defamation, defamation_article_723, ...</td>\n",
              "      <td>[recovery_defamation_article_723, defamation_a...</td>\n",
              "      <td>[recovery_defamation, defamation_article_723, ...</td>\n",
              "      <td>[recovery, defamation, article_723, court, may...</td>\n",
              "      <td>[recovery, defamation]</td>\n",
              "      <td>[recovery, defamation]</td>\n",
              "      <td>[NOUN, NOUN]</td>\n",
              "    </tr>\n",
              "    <tr>\n",
              "      <th>775</th>\n",
              "      <td>724</td>\n",
              "      <td>{}</td>\n",
              "      <td>(Extinctive Prescription of Claim for Compensa...</td>\n",
              "      <td>(Extinctive Prescription of Claim for Compensa...</td>\n",
              "      <td>[extinctive, prescription, claim, compensation...</td>\n",
              "      <td>[extinctive, prescription, claim, compensation...</td>\n",
              "      <td>[ADJ, NOUN, NOUN, NOUN, NOUN, NOUN, VERB, NOUN...</td>\n",
              "      <td>[extinctive_prescription, prescription_claim, ...</td>\n",
              "      <td>[extinctive_prescription_claim, prescription_c...</td>\n",
              "      <td>[extinctive_prescription, prescription_claim, ...</td>\n",
              "      <td>[extinctive, prescription, claim, compensation...</td>\n",
              "      <td>[extinctive, prescription, claim, compensation...</td>\n",
              "      <td>[extinctive, prescription, claim, compensation...</td>\n",
              "      <td>[ADJ, NOUN, NOUN, NOUN, NOUN, NOUN, VERB, NOUN]</td>\n",
              "    </tr>\n",
              "    <tr>\n",
              "      <th>776</th>\n",
              "      <td>724_2</td>\n",
              "      <td>{}</td>\n",
              "      <td>(Extinctive Prescription of Claim for Compensa...</td>\n",
              "      <td>(Extinctive Prescription of Claim for Compensa...</td>\n",
              "      <td>[extinctive, prescription, claim, compensation...</td>\n",
              "      <td>[extinctive, prescription, claim, compensation...</td>\n",
              "      <td>[ADJ, NOUN, NOUN, NOUN, NOUN, NOUN, VERB, NOUN...</td>\n",
              "      <td>[extinctive_prescription, prescription_claim, ...</td>\n",
              "      <td>[extinctive_prescription_claim, prescription_c...</td>\n",
              "      <td>[extinctive_prescription, prescription_claim, ...</td>\n",
              "      <td>[extinctive, prescription, claim, compensation...</td>\n",
              "      <td>[extinctive, prescription, claim, compensation...</td>\n",
              "      <td>[extinctive, prescription, claim, compensation...</td>\n",
              "      <td>[ADJ, NOUN, NOUN, NOUN, NOUN, NOUN, VERB, NOUN...</td>\n",
              "    </tr>\n",
              "  </tbody>\n",
              "</table>\n",
              "</div>"
            ],
            "text/plain": [
              "    Article_number  ...                                  Article_title_pos\n",
              "772            721  ...  [X, NOUN, VERB, NOUN, VERB, NOUN, NOUN, NOUN, ...\n",
              "773            722  ...  [NOUN, NOUN, NOUN, NOUN, NOUN, ADJ, NOUN, ADJ,...\n",
              "774            723  ...                                       [NOUN, NOUN]\n",
              "775            724  ...    [ADJ, NOUN, NOUN, NOUN, NOUN, NOUN, VERB, NOUN]\n",
              "776          724_2  ...  [ADJ, NOUN, NOUN, NOUN, NOUN, NOUN, VERB, NOUN...\n",
              "\n",
              "[5 rows x 14 columns]"
            ]
          },
          "metadata": {
            "tags": []
          },
          "execution_count": 4
        }
      ]
    },
    {
      "cell_type": "code",
      "metadata": {
        "id": "5Ufn8q2261bT",
        "colab": {
          "base_uri": "https://localhost:8080/"
        },
        "outputId": "94118298-8c6f-4b01-843a-1828ef27ce7a"
      },
      "source": [
        "civil_code_dataframe.shape[0]"
      ],
      "execution_count": null,
      "outputs": [
        {
          "output_type": "execute_result",
          "data": {
            "text/plain": [
              "776"
            ]
          },
          "metadata": {
            "tags": []
          },
          "execution_count": 5
        }
      ]
    },
    {
      "cell_type": "code",
      "metadata": {
        "id": "elpWBaGIlgOd",
        "colab": {
          "base_uri": "https://localhost:8080/"
        },
        "outputId": "6e631602-8bae-4b4d-8e31-58ba493fb7b4"
      },
      "source": [
        "query_dataframe.shape[0]"
      ],
      "execution_count": null,
      "outputs": [
        {
          "output_type": "execute_result",
          "data": {
            "text/plain": [
              "695"
            ]
          },
          "metadata": {
            "tags": []
          },
          "execution_count": 6
        }
      ]
    },
    {
      "cell_type": "code",
      "metadata": {
        "id": "Hg5WMs-ZDtH4",
        "colab": {
          "base_uri": "https://localhost:8080/"
        },
        "outputId": "8b59f663-0fb3-4b68-ff25-4f4ba344213d"
      },
      "source": [
        "query_dataframe.iloc[186]"
      ],
      "execution_count": null,
      "outputs": [
        {
          "output_type": "execute_result",
          "data": {
            "text/plain": [
              "ID                                                           H29-2-A\n",
              "Query               The person under curatorship A sold A's land ...\n",
              "Article_numbers                                               ['20']\n",
              "Query_tokens       ['person', 'curatorship', 'sold', \"'s\", 'land'...\n",
              "Query_lemma        ['person', 'curatorship', 'sell', \"'s\", 'land'...\n",
              "Query_pos          ['NOUN', 'NOUN', 'VERB', 'PART', 'NOUN', 'PUNC...\n",
              "Articles           \\nArticle 20\\n(1) After a person with qualifie...\n",
              "Name: 186, dtype: object"
            ]
          },
          "metadata": {
            "tags": []
          },
          "execution_count": 7
        }
      ]
    },
    {
      "cell_type": "markdown",
      "metadata": {
        "id": "V96eBw8Tc1oZ"
      },
      "source": [
        "### Classification Traning dataset"
      ]
    },
    {
      "cell_type": "code",
      "metadata": {
        "id": "YkIgW_kxdPI5",
        "colab": {
          "base_uri": "https://localhost:8080/"
        },
        "outputId": "fd9f216d-eb3f-46dd-9354-03db0307171f"
      },
      "source": [
        "basic_classification_data_dict = {}\n",
        "\n",
        "serial_num = 0\n",
        "serial_num_list = []\n",
        "id_list = []\n",
        "query_list = []\n",
        "relevant_article_number_list = []\n",
        "article_number_list = []\n",
        "article_list = []\n",
        "\n",
        "for query_item in range(query_dataframe.shape[0]):\n",
        "    print(query_item)\n",
        "    serial_num = serial_num + 1\n",
        "    for civil_code in range(civil_code_dataframe.shape[0]):\n",
        "        id = query_dataframe.iloc[query_item]['ID']\n",
        "        query = query_dataframe.iloc[query_item]['Query']\n",
        "        relevant_article_number = query_dataframe.iloc[query_item]['Article_numbers']\n",
        "        article_number = civil_code_dataframe.iloc[civil_code]['Article_number']\n",
        "        article = civil_code_dataframe.iloc[civil_code]['Article_description']\n",
        "\n",
        "        serial_num_list.append(serial_num)\n",
        "        id_list.append(id)\n",
        "        query_list.append(query)\n",
        "        relevant_article_number_list.append(relevant_article_number)\n",
        "        article_number_list.append(article_number)\n",
        "        article_list.append(article)\n",
        "\n",
        "        \n",
        "basic_classification_data_dict.update({'Serial_Num':serial_num_list,'ID':id_list , 'Query': query_list , 'Relevant_article_number':relevant_article_number_list,'Article_number':article_number_list,'Article':article_list})\n",
        "    \n"
      ],
      "execution_count": null,
      "outputs": [
        {
          "output_type": "stream",
          "text": [
            "0\n",
            "1\n",
            "2\n",
            "3\n",
            "4\n",
            "5\n",
            "6\n",
            "7\n",
            "8\n",
            "9\n",
            "10\n",
            "11\n",
            "12\n",
            "13\n",
            "14\n",
            "15\n",
            "16\n",
            "17\n",
            "18\n",
            "19\n",
            "20\n",
            "21\n",
            "22\n",
            "23\n",
            "24\n",
            "25\n",
            "26\n",
            "27\n",
            "28\n",
            "29\n",
            "30\n",
            "31\n",
            "32\n",
            "33\n",
            "34\n",
            "35\n",
            "36\n",
            "37\n",
            "38\n",
            "39\n",
            "40\n",
            "41\n",
            "42\n",
            "43\n",
            "44\n",
            "45\n",
            "46\n",
            "47\n",
            "48\n",
            "49\n",
            "50\n",
            "51\n",
            "52\n",
            "53\n",
            "54\n",
            "55\n",
            "56\n",
            "57\n",
            "58\n",
            "59\n",
            "60\n",
            "61\n",
            "62\n",
            "63\n",
            "64\n",
            "65\n",
            "66\n",
            "67\n",
            "68\n",
            "69\n",
            "70\n",
            "71\n",
            "72\n",
            "73\n",
            "74\n",
            "75\n",
            "76\n",
            "77\n",
            "78\n",
            "79\n",
            "80\n",
            "81\n",
            "82\n",
            "83\n",
            "84\n",
            "85\n",
            "86\n",
            "87\n",
            "88\n",
            "89\n",
            "90\n",
            "91\n",
            "92\n",
            "93\n",
            "94\n",
            "95\n",
            "96\n",
            "97\n",
            "98\n",
            "99\n",
            "100\n",
            "101\n",
            "102\n",
            "103\n",
            "104\n",
            "105\n",
            "106\n",
            "107\n",
            "108\n",
            "109\n",
            "110\n",
            "111\n",
            "112\n",
            "113\n",
            "114\n",
            "115\n",
            "116\n",
            "117\n",
            "118\n",
            "119\n",
            "120\n",
            "121\n",
            "122\n",
            "123\n",
            "124\n",
            "125\n",
            "126\n",
            "127\n",
            "128\n",
            "129\n",
            "130\n",
            "131\n",
            "132\n",
            "133\n",
            "134\n",
            "135\n",
            "136\n",
            "137\n",
            "138\n",
            "139\n",
            "140\n",
            "141\n",
            "142\n",
            "143\n",
            "144\n",
            "145\n",
            "146\n",
            "147\n",
            "148\n",
            "149\n",
            "150\n",
            "151\n",
            "152\n",
            "153\n",
            "154\n",
            "155\n",
            "156\n",
            "157\n",
            "158\n",
            "159\n",
            "160\n",
            "161\n",
            "162\n",
            "163\n",
            "164\n",
            "165\n",
            "166\n",
            "167\n",
            "168\n",
            "169\n",
            "170\n",
            "171\n",
            "172\n",
            "173\n",
            "174\n",
            "175\n",
            "176\n",
            "177\n",
            "178\n",
            "179\n",
            "180\n",
            "181\n",
            "182\n",
            "183\n",
            "184\n",
            "185\n",
            "186\n",
            "187\n",
            "188\n",
            "189\n",
            "190\n",
            "191\n",
            "192\n",
            "193\n",
            "194\n",
            "195\n",
            "196\n",
            "197\n",
            "198\n",
            "199\n",
            "200\n",
            "201\n",
            "202\n",
            "203\n",
            "204\n",
            "205\n",
            "206\n",
            "207\n",
            "208\n",
            "209\n",
            "210\n",
            "211\n",
            "212\n",
            "213\n",
            "214\n",
            "215\n",
            "216\n",
            "217\n",
            "218\n",
            "219\n",
            "220\n",
            "221\n",
            "222\n",
            "223\n",
            "224\n",
            "225\n",
            "226\n",
            "227\n",
            "228\n",
            "229\n",
            "230\n",
            "231\n",
            "232\n",
            "233\n",
            "234\n",
            "235\n",
            "236\n",
            "237\n",
            "238\n",
            "239\n",
            "240\n",
            "241\n",
            "242\n",
            "243\n",
            "244\n",
            "245\n",
            "246\n",
            "247\n",
            "248\n",
            "249\n",
            "250\n",
            "251\n",
            "252\n",
            "253\n",
            "254\n",
            "255\n",
            "256\n",
            "257\n",
            "258\n",
            "259\n",
            "260\n",
            "261\n",
            "262\n",
            "263\n",
            "264\n",
            "265\n",
            "266\n",
            "267\n",
            "268\n",
            "269\n",
            "270\n",
            "271\n",
            "272\n",
            "273\n",
            "274\n",
            "275\n",
            "276\n",
            "277\n",
            "278\n",
            "279\n",
            "280\n",
            "281\n",
            "282\n",
            "283\n",
            "284\n",
            "285\n",
            "286\n",
            "287\n",
            "288\n",
            "289\n",
            "290\n",
            "291\n",
            "292\n",
            "293\n",
            "294\n",
            "295\n",
            "296\n",
            "297\n",
            "298\n",
            "299\n",
            "300\n",
            "301\n",
            "302\n",
            "303\n",
            "304\n",
            "305\n",
            "306\n",
            "307\n",
            "308\n",
            "309\n",
            "310\n",
            "311\n",
            "312\n",
            "313\n",
            "314\n",
            "315\n",
            "316\n",
            "317\n",
            "318\n",
            "319\n",
            "320\n",
            "321\n",
            "322\n",
            "323\n",
            "324\n",
            "325\n",
            "326\n",
            "327\n",
            "328\n",
            "329\n",
            "330\n",
            "331\n",
            "332\n",
            "333\n",
            "334\n",
            "335\n",
            "336\n",
            "337\n",
            "338\n",
            "339\n",
            "340\n",
            "341\n",
            "342\n",
            "343\n",
            "344\n",
            "345\n",
            "346\n",
            "347\n",
            "348\n",
            "349\n",
            "350\n",
            "351\n",
            "352\n",
            "353\n",
            "354\n",
            "355\n",
            "356\n",
            "357\n",
            "358\n",
            "359\n",
            "360\n",
            "361\n",
            "362\n",
            "363\n",
            "364\n",
            "365\n",
            "366\n",
            "367\n",
            "368\n",
            "369\n",
            "370\n",
            "371\n",
            "372\n",
            "373\n",
            "374\n",
            "375\n",
            "376\n",
            "377\n",
            "378\n",
            "379\n",
            "380\n",
            "381\n",
            "382\n",
            "383\n",
            "384\n",
            "385\n",
            "386\n",
            "387\n",
            "388\n",
            "389\n",
            "390\n",
            "391\n",
            "392\n",
            "393\n",
            "394\n",
            "395\n",
            "396\n",
            "397\n",
            "398\n",
            "399\n",
            "400\n",
            "401\n",
            "402\n",
            "403\n",
            "404\n",
            "405\n",
            "406\n",
            "407\n",
            "408\n",
            "409\n",
            "410\n",
            "411\n",
            "412\n",
            "413\n",
            "414\n",
            "415\n",
            "416\n",
            "417\n",
            "418\n",
            "419\n",
            "420\n",
            "421\n",
            "422\n",
            "423\n",
            "424\n",
            "425\n",
            "426\n",
            "427\n",
            "428\n",
            "429\n",
            "430\n",
            "431\n",
            "432\n",
            "433\n",
            "434\n",
            "435\n",
            "436\n",
            "437\n",
            "438\n",
            "439\n",
            "440\n",
            "441\n",
            "442\n",
            "443\n",
            "444\n",
            "445\n",
            "446\n",
            "447\n",
            "448\n",
            "449\n",
            "450\n",
            "451\n",
            "452\n",
            "453\n",
            "454\n",
            "455\n",
            "456\n",
            "457\n",
            "458\n",
            "459\n",
            "460\n",
            "461\n",
            "462\n",
            "463\n",
            "464\n",
            "465\n",
            "466\n",
            "467\n",
            "468\n",
            "469\n",
            "470\n",
            "471\n",
            "472\n",
            "473\n",
            "474\n",
            "475\n",
            "476\n",
            "477\n",
            "478\n",
            "479\n",
            "480\n",
            "481\n",
            "482\n",
            "483\n",
            "484\n",
            "485\n",
            "486\n",
            "487\n",
            "488\n",
            "489\n",
            "490\n",
            "491\n",
            "492\n",
            "493\n",
            "494\n",
            "495\n",
            "496\n",
            "497\n",
            "498\n",
            "499\n",
            "500\n",
            "501\n",
            "502\n",
            "503\n",
            "504\n",
            "505\n",
            "506\n",
            "507\n",
            "508\n",
            "509\n",
            "510\n",
            "511\n",
            "512\n",
            "513\n",
            "514\n",
            "515\n",
            "516\n",
            "517\n",
            "518\n",
            "519\n",
            "520\n",
            "521\n",
            "522\n",
            "523\n",
            "524\n",
            "525\n",
            "526\n",
            "527\n",
            "528\n",
            "529\n",
            "530\n",
            "531\n",
            "532\n",
            "533\n",
            "534\n",
            "535\n",
            "536\n",
            "537\n",
            "538\n",
            "539\n",
            "540\n",
            "541\n",
            "542\n",
            "543\n",
            "544\n",
            "545\n",
            "546\n",
            "547\n",
            "548\n",
            "549\n",
            "550\n",
            "551\n",
            "552\n",
            "553\n",
            "554\n",
            "555\n",
            "556\n",
            "557\n",
            "558\n",
            "559\n",
            "560\n",
            "561\n",
            "562\n",
            "563\n",
            "564\n",
            "565\n",
            "566\n",
            "567\n",
            "568\n",
            "569\n",
            "570\n",
            "571\n",
            "572\n",
            "573\n",
            "574\n",
            "575\n",
            "576\n",
            "577\n",
            "578\n",
            "579\n",
            "580\n",
            "581\n",
            "582\n",
            "583\n",
            "584\n",
            "585\n",
            "586\n",
            "587\n",
            "588\n",
            "589\n",
            "590\n",
            "591\n",
            "592\n",
            "593\n",
            "594\n",
            "595\n",
            "596\n",
            "597\n",
            "598\n",
            "599\n",
            "600\n",
            "601\n",
            "602\n",
            "603\n",
            "604\n",
            "605\n",
            "606\n",
            "607\n",
            "608\n",
            "609\n",
            "610\n",
            "611\n",
            "612\n",
            "613\n",
            "614\n",
            "615\n",
            "616\n",
            "617\n",
            "618\n",
            "619\n",
            "620\n",
            "621\n",
            "622\n",
            "623\n",
            "624\n",
            "625\n",
            "626\n",
            "627\n",
            "628\n",
            "629\n",
            "630\n",
            "631\n",
            "632\n",
            "633\n",
            "634\n",
            "635\n",
            "636\n",
            "637\n",
            "638\n",
            "639\n",
            "640\n",
            "641\n",
            "642\n",
            "643\n",
            "644\n",
            "645\n",
            "646\n",
            "647\n",
            "648\n",
            "649\n",
            "650\n",
            "651\n",
            "652\n",
            "653\n",
            "654\n",
            "655\n",
            "656\n",
            "657\n",
            "658\n",
            "659\n",
            "660\n",
            "661\n",
            "662\n",
            "663\n",
            "664\n",
            "665\n",
            "666\n",
            "667\n",
            "668\n",
            "669\n",
            "670\n",
            "671\n",
            "672\n",
            "673\n",
            "674\n",
            "675\n",
            "676\n",
            "677\n",
            "678\n",
            "679\n",
            "680\n",
            "681\n",
            "682\n",
            "683\n",
            "684\n",
            "685\n",
            "686\n",
            "687\n",
            "688\n",
            "689\n",
            "690\n",
            "691\n",
            "692\n",
            "693\n",
            "694\n"
          ],
          "name": "stdout"
        }
      ]
    },
    {
      "cell_type": "code",
      "metadata": {
        "id": "PLsDP-6QjanA"
      },
      "source": [
        "# columns = ['ID','Query','Relevant_article_number','Article_number','Article']\n",
        "basic_classification_dataframe = pd.DataFrame.from_dict(basic_classification_data_dict,orient = 'columns')"
      ],
      "execution_count": null,
      "outputs": []
    },
    {
      "cell_type": "code",
      "metadata": {
        "id": "1p5FYa6JtI5A",
        "colab": {
          "base_uri": "https://localhost:8080/",
          "height": 204
        },
        "outputId": "51723f52-b17a-4e67-ce2f-e0f43bd782d1"
      },
      "source": [
        "basic_classification_dataframe.head()"
      ],
      "execution_count": null,
      "outputs": [
        {
          "output_type": "execute_result",
          "data": {
            "text/html": [
              "<div>\n",
              "<style scoped>\n",
              "    .dataframe tbody tr th:only-of-type {\n",
              "        vertical-align: middle;\n",
              "    }\n",
              "\n",
              "    .dataframe tbody tr th {\n",
              "        vertical-align: top;\n",
              "    }\n",
              "\n",
              "    .dataframe thead th {\n",
              "        text-align: right;\n",
              "    }\n",
              "</style>\n",
              "<table border=\"1\" class=\"dataframe\">\n",
              "  <thead>\n",
              "    <tr style=\"text-align: right;\">\n",
              "      <th></th>\n",
              "      <th>Serial_Num</th>\n",
              "      <th>ID</th>\n",
              "      <th>Query</th>\n",
              "      <th>Relevant_article_number</th>\n",
              "      <th>Article_number</th>\n",
              "      <th>Article</th>\n",
              "    </tr>\n",
              "  </thead>\n",
              "  <tbody>\n",
              "    <tr>\n",
              "      <th>0</th>\n",
              "      <td>1</td>\n",
              "      <td>H21-1-1</td>\n",
              "      <td>Acceptance made by a minor that received an o...</td>\n",
              "      <td>['5']</td>\n",
              "      <td>1</td>\n",
              "      <td>(Fundamental Principles) Article_1  (1) Privat...</td>\n",
              "    </tr>\n",
              "    <tr>\n",
              "      <th>1</th>\n",
              "      <td>1</td>\n",
              "      <td>H21-1-1</td>\n",
              "      <td>Acceptance made by a minor that received an o...</td>\n",
              "      <td>['5']</td>\n",
              "      <td>2</td>\n",
              "      <td>(Standards for Construction) Article_2  This C...</td>\n",
              "    </tr>\n",
              "    <tr>\n",
              "      <th>2</th>\n",
              "      <td>1</td>\n",
              "      <td>H21-1-1</td>\n",
              "      <td>Acceptance made by a minor that received an o...</td>\n",
              "      <td>['5']</td>\n",
              "      <td>3</td>\n",
              "      <td>Article 3  (1) The enjoyment of private rights...</td>\n",
              "    </tr>\n",
              "    <tr>\n",
              "      <th>3</th>\n",
              "      <td>1</td>\n",
              "      <td>H21-1-1</td>\n",
              "      <td>Acceptance made by a minor that received an o...</td>\n",
              "      <td>['5']</td>\n",
              "      <td>3_2</td>\n",
              "      <td>Article 3-2  If the person making a juridical ...</td>\n",
              "    </tr>\n",
              "    <tr>\n",
              "      <th>4</th>\n",
              "      <td>1</td>\n",
              "      <td>H21-1-1</td>\n",
              "      <td>Acceptance made by a minor that received an o...</td>\n",
              "      <td>['5']</td>\n",
              "      <td>4</td>\n",
              "      <td>(Age of Majority) Article_4  The age of majori...</td>\n",
              "    </tr>\n",
              "  </tbody>\n",
              "</table>\n",
              "</div>"
            ],
            "text/plain": [
              "   Serial_Num  ...                                            Article\n",
              "0           1  ...  (Fundamental Principles) Article_1  (1) Privat...\n",
              "1           1  ...  (Standards for Construction) Article_2  This C...\n",
              "2           1  ...  Article 3  (1) The enjoyment of private rights...\n",
              "3           1  ...  Article 3-2  If the person making a juridical ...\n",
              "4           1  ...  (Age of Majority) Article_4  The age of majori...\n",
              "\n",
              "[5 rows x 6 columns]"
            ]
          },
          "metadata": {
            "tags": []
          },
          "execution_count": 6
        }
      ]
    },
    {
      "cell_type": "code",
      "metadata": {
        "id": "BG75h3ygTCnF",
        "colab": {
          "base_uri": "https://localhost:8080/",
          "height": 35
        },
        "outputId": "47417e03-408d-43aa-b599-67ae53d7c8b7"
      },
      "source": [
        "basic_classification_dataframe['Article_number'].iloc[0].split()[0]"
      ],
      "execution_count": null,
      "outputs": [
        {
          "output_type": "execute_result",
          "data": {
            "application/vnd.google.colaboratory.intrinsic+json": {
              "type": "string"
            },
            "text/plain": [
              "'1'"
            ]
          },
          "metadata": {
            "tags": []
          },
          "execution_count": 12
        }
      ]
    },
    {
      "cell_type": "markdown",
      "metadata": {
        "id": "kjsUJ-5RdlZA"
      },
      "source": [
        "#### Oversample training dataset (Relevant class)"
      ]
    },
    {
      "cell_type": "code",
      "metadata": {
        "id": "PdvFd36c4awR",
        "colab": {
          "base_uri": "https://localhost:8080/"
        },
        "outputId": "b45a1474-4df2-4bbc-f668-7379a45c064a"
      },
      "source": [
        "basic_classification_dataframe['label'] = 0\n",
        "correct_labels = 0\n",
        "\n",
        "for index in range(basic_classification_dataframe.shape[0]):\n",
        "    if basic_classification_dataframe['Article_number'].iloc[index].split()[0] in ast.literal_eval(basic_classification_dataframe.iloc[index]['Relevant_article_number']):\n",
        "        correct_labels = correct_labels + 1\n",
        "        basic_classification_dataframe['label'].iloc[index] = 1\n",
        "\n",
        "print(correct_labels)\n"
      ],
      "execution_count": null,
      "outputs": [
        {
          "output_type": "stream",
          "text": [
            "/usr/local/lib/python3.6/dist-packages/pandas/core/indexing.py:670: SettingWithCopyWarning: \n",
            "A value is trying to be set on a copy of a slice from a DataFrame\n",
            "\n",
            "See the caveats in the documentation: https://pandas.pydata.org/pandas-docs/stable/user_guide/indexing.html#returning-a-view-versus-a-copy\n",
            "  iloc._setitem_with_indexer(indexer, value)\n"
          ],
          "name": "stderr"
        },
        {
          "output_type": "stream",
          "text": [
            "900\n"
          ],
          "name": "stdout"
        }
      ]
    },
    {
      "cell_type": "code",
      "metadata": {
        "id": "Nmfwr0XKhwjT",
        "colab": {
          "base_uri": "https://localhost:8080/",
          "height": 154
        },
        "outputId": "b434c563-7769-4f84-b4da-b8ba0a6910e0"
      },
      "source": [
        "#one preprocessing is the change of Reference Article to Ref_Article\n",
        "basic_classification_dataframe['Query'].iloc[2341]+' '+basic_classification_dataframe['Article'].iloc[2341]"
      ],
      "execution_count": null,
      "outputs": [
        {
          "output_type": "execute_result",
          "data": {
            "application/vnd.google.colaboratory.intrinsic+json": {
              "type": "string"
            },
            "text/plain": [
              "\" If a person under curatorship performs, without getting the consent, an act that requires  getting consent from his/her curator, the curator may ratify that act, but may not rescind that act.  (Acts Requiring Consent of Curator) Article_13  (1) A person under curatorship must obtain the consent of the curator in order to perform any of the following acts; provided, however, that this does not apply to an act provided for in the proviso of Ref_Article : (i) receiving or using any property producing civil fruit; (ii) borrowing money or guaranteeing an obligation; (iii) performing an act with the purpose of acquiring or losing any right regarding immovables or other significant property; (iv) suing any procedural act; (v) giving a gift, reaching a settlement, or entering into an arbitration agreement (meaning an arbitration agreement as provided in Ref_Article , paragraph (1) of the Arbitration Act (Act No. 138 of 2003)); (vi) accepting or renouncing a succession or dividing an estate; (vii) refusing an offer of a gift, renouncing a legacy, accepting an offer of gift with burden, or accepting a legacy with burden; (viii) constructing a new building, renovating, expanding, or undertaking major repairs; (ix) granting a lease for a term that exceeds the period set forth in Ref_Article ; or (x) performing any of the acts set forth in the preceding items as a legal representative of a person with qualified legal capacity (meaning a minor, adult ward, or person under curatorship or a person under assistance who is subject to a decision as referred to in Ref_Article , paragraph (1); the same applies hereinafter). (2) At the request of a person as referred to in the main clause of Ref_Article or the curator or curator's supervisor, the family court may decide that the person under curatorship must also obtain the consent of the curator before performing an act other than those set forth in each of the items of the preceding paragraph; provided, however, that this does not apply to an act provided for in the proviso to Ref_Article . (3) If the curator does not consent to an act for which the person under curatorship must obtain the curator's consent even though it is unlikely to prejudice the interests of the person under curatorship, the family court may grant permission that operates in lieu of the curator's consent at the request of the person under curatorship. (4) An act for which the person under curatorship must obtain the curator's consent is voidable if the person performs it without obtaining the curator's consent or a permission that operates in lieu of it. \""
            ]
          },
          "metadata": {
            "tags": []
          },
          "execution_count": 14
        }
      ]
    },
    {
      "cell_type": "code",
      "metadata": {
        "id": "oEpW8A60JY3M"
      },
      "source": [
        "basic_classification_dataframe_cor = basic_classification_dataframe.loc[basic_classification_dataframe['label']==1]\n",
        "basic_classification_dataframe_incor = basic_classification_dataframe.loc[basic_classification_dataframe['label']==0]"
      ],
      "execution_count": null,
      "outputs": []
    },
    {
      "cell_type": "code",
      "metadata": {
        "id": "C6fAzim_c4a3",
        "colab": {
          "base_uri": "https://localhost:8080/",
          "height": 589
        },
        "outputId": "6b256149-d1be-45e8-fd19-2499738fc62b"
      },
      "source": [
        "basic_classification_dataframe_cor"
      ],
      "execution_count": null,
      "outputs": [
        {
          "output_type": "execute_result",
          "data": {
            "text/html": [
              "<div>\n",
              "<style scoped>\n",
              "    .dataframe tbody tr th:only-of-type {\n",
              "        vertical-align: middle;\n",
              "    }\n",
              "\n",
              "    .dataframe tbody tr th {\n",
              "        vertical-align: top;\n",
              "    }\n",
              "\n",
              "    .dataframe thead th {\n",
              "        text-align: right;\n",
              "    }\n",
              "</style>\n",
              "<table border=\"1\" class=\"dataframe\">\n",
              "  <thead>\n",
              "    <tr style=\"text-align: right;\">\n",
              "      <th></th>\n",
              "      <th>Serial_Num</th>\n",
              "      <th>ID</th>\n",
              "      <th>Query</th>\n",
              "      <th>Relevant_article_number</th>\n",
              "      <th>Article_number</th>\n",
              "      <th>Article</th>\n",
              "      <th>label</th>\n",
              "    </tr>\n",
              "  </thead>\n",
              "  <tbody>\n",
              "    <tr>\n",
              "      <th>5</th>\n",
              "      <td>1</td>\n",
              "      <td>H21-1-1</td>\n",
              "      <td>Acceptance made by a minor that received an o...</td>\n",
              "      <td>['5']</td>\n",
              "      <td>5</td>\n",
              "      <td>(Juridical Acts by Minors) Article_5  (1) A mi...</td>\n",
              "      <td>1</td>\n",
              "    </tr>\n",
              "    <tr>\n",
              "      <th>782</th>\n",
              "      <td>2</td>\n",
              "      <td>H21-1-2</td>\n",
              "      <td>If a minor, after getting permission for carr...</td>\n",
              "      <td>['6']</td>\n",
              "      <td>6</td>\n",
              "      <td>(Permission for Minors to Conduct Business) Ar...</td>\n",
              "      <td>1</td>\n",
              "    </tr>\n",
              "    <tr>\n",
              "      <th>1561</th>\n",
              "      <td>3</td>\n",
              "      <td>H21-1-3</td>\n",
              "      <td>The purchase of daily household items may not...</td>\n",
              "      <td>['9']</td>\n",
              "      <td>9</td>\n",
              "      <td>(Juridical Acts by Adult Wards under Guardians...</td>\n",
              "      <td>1</td>\n",
              "    </tr>\n",
              "    <tr>\n",
              "      <th>2341</th>\n",
              "      <td>4</td>\n",
              "      <td>H21-1-4</td>\n",
              "      <td>If a person under curatorship performs, witho...</td>\n",
              "      <td>['13', '120', '122']</td>\n",
              "      <td>13</td>\n",
              "      <td>(Acts Requiring Consent of Curator) Article_13...</td>\n",
              "      <td>1</td>\n",
              "    </tr>\n",
              "    <tr>\n",
              "      <th>2403</th>\n",
              "      <td>4</td>\n",
              "      <td>H21-1-4</td>\n",
              "      <td>If a person under curatorship performs, witho...</td>\n",
              "      <td>['13', '120', '122']</td>\n",
              "      <td>120</td>\n",
              "      <td>(Holder of Right to Rescind) Article_120  (1) ...</td>\n",
              "      <td>1</td>\n",
              "    </tr>\n",
              "    <tr>\n",
              "      <th>...</th>\n",
              "      <td>...</td>\n",
              "      <td>...</td>\n",
              "      <td>...</td>\n",
              "      <td>...</td>\n",
              "      <td>...</td>\n",
              "      <td>...</td>\n",
              "      <td>...</td>\n",
              "    </tr>\n",
              "    <tr>\n",
              "      <th>536202</th>\n",
              "      <td>691</td>\n",
              "      <td>H24-29-1</td>\n",
              "      <td>A plaintiff shall prove that the opponent has...</td>\n",
              "      <td>['712']</td>\n",
              "      <td>712</td>\n",
              "      <td>(Capacity for Liability) Article_712  If a min...</td>\n",
              "      <td>1</td>\n",
              "    </tr>\n",
              "    <tr>\n",
              "      <th>536977</th>\n",
              "      <td>692</td>\n",
              "      <td>H24-29-3</td>\n",
              "      <td>Parents of a person who died by a tort may cl...</td>\n",
              "      <td>['711']</td>\n",
              "      <td>711</td>\n",
              "      <td>(Compensation for Loss or Damage to Close Rela...</td>\n",
              "      <td>1</td>\n",
              "    </tr>\n",
              "    <tr>\n",
              "      <th>537436</th>\n",
              "      <td>693</td>\n",
              "      <td>H24-30-1</td>\n",
              "      <td>In cases where an obligee A demands performan...</td>\n",
              "      <td>['452']</td>\n",
              "      <td>452</td>\n",
              "      <td>(Defense of Demand) Article_452  If an obligee...</td>\n",
              "      <td>1</td>\n",
              "    </tr>\n",
              "    <tr>\n",
              "      <th>538444</th>\n",
              "      <td>694</td>\n",
              "      <td>H24-30-2</td>\n",
              "      <td>In the cases where delivery of the subject ma...</td>\n",
              "      <td>['633']</td>\n",
              "      <td>633</td>\n",
              "      <td>(Timing of Payment of Remuneration) Article_63...</td>\n",
              "      <td>1</td>\n",
              "    </tr>\n",
              "    <tr>\n",
              "      <th>539133</th>\n",
              "      <td>695</td>\n",
              "      <td>H24-30-3</td>\n",
              "      <td>In cases where A claims purchase money of mov...</td>\n",
              "      <td>['555']</td>\n",
              "      <td>555</td>\n",
              "      <td>(Sale) Article_555  A sale becomes effective w...</td>\n",
              "      <td>1</td>\n",
              "    </tr>\n",
              "  </tbody>\n",
              "</table>\n",
              "<p>900 rows × 7 columns</p>\n",
              "</div>"
            ],
            "text/plain": [
              "        Serial_Num  ... label\n",
              "5                1  ...     1\n",
              "782              2  ...     1\n",
              "1561             3  ...     1\n",
              "2341             4  ...     1\n",
              "2403             4  ...     1\n",
              "...            ...  ...   ...\n",
              "536202         691  ...     1\n",
              "536977         692  ...     1\n",
              "537436         693  ...     1\n",
              "538444         694  ...     1\n",
              "539133         695  ...     1\n",
              "\n",
              "[900 rows x 7 columns]"
            ]
          },
          "metadata": {
            "tags": []
          },
          "execution_count": 9
        }
      ]
    },
    {
      "cell_type": "code",
      "metadata": {
        "id": "pptQR4xPc56Z",
        "colab": {
          "base_uri": "https://localhost:8080/",
          "height": 589
        },
        "outputId": "84c7d508-4824-443b-fb00-2a11c1242879"
      },
      "source": [
        "basic_classification_dataframe_incor"
      ],
      "execution_count": null,
      "outputs": [
        {
          "output_type": "execute_result",
          "data": {
            "text/html": [
              "<div>\n",
              "<style scoped>\n",
              "    .dataframe tbody tr th:only-of-type {\n",
              "        vertical-align: middle;\n",
              "    }\n",
              "\n",
              "    .dataframe tbody tr th {\n",
              "        vertical-align: top;\n",
              "    }\n",
              "\n",
              "    .dataframe thead th {\n",
              "        text-align: right;\n",
              "    }\n",
              "</style>\n",
              "<table border=\"1\" class=\"dataframe\">\n",
              "  <thead>\n",
              "    <tr style=\"text-align: right;\">\n",
              "      <th></th>\n",
              "      <th>Serial_Num</th>\n",
              "      <th>ID</th>\n",
              "      <th>Query</th>\n",
              "      <th>Relevant_article_number</th>\n",
              "      <th>Article_number</th>\n",
              "      <th>Article</th>\n",
              "      <th>label</th>\n",
              "    </tr>\n",
              "  </thead>\n",
              "  <tbody>\n",
              "    <tr>\n",
              "      <th>0</th>\n",
              "      <td>1</td>\n",
              "      <td>H21-1-1</td>\n",
              "      <td>Acceptance made by a minor that received an o...</td>\n",
              "      <td>['5']</td>\n",
              "      <td>1</td>\n",
              "      <td>(Fundamental Principles) Article_1  (1) Privat...</td>\n",
              "      <td>0</td>\n",
              "    </tr>\n",
              "    <tr>\n",
              "      <th>1</th>\n",
              "      <td>1</td>\n",
              "      <td>H21-1-1</td>\n",
              "      <td>Acceptance made by a minor that received an o...</td>\n",
              "      <td>['5']</td>\n",
              "      <td>2</td>\n",
              "      <td>(Standards for Construction) Article_2  This C...</td>\n",
              "      <td>0</td>\n",
              "    </tr>\n",
              "    <tr>\n",
              "      <th>2</th>\n",
              "      <td>1</td>\n",
              "      <td>H21-1-1</td>\n",
              "      <td>Acceptance made by a minor that received an o...</td>\n",
              "      <td>['5']</td>\n",
              "      <td>3</td>\n",
              "      <td>Article 3  (1) The enjoyment of private rights...</td>\n",
              "      <td>0</td>\n",
              "    </tr>\n",
              "    <tr>\n",
              "      <th>3</th>\n",
              "      <td>1</td>\n",
              "      <td>H21-1-1</td>\n",
              "      <td>Acceptance made by a minor that received an o...</td>\n",
              "      <td>['5']</td>\n",
              "      <td>3_2</td>\n",
              "      <td>Article 3-2  If the person making a juridical ...</td>\n",
              "      <td>0</td>\n",
              "    </tr>\n",
              "    <tr>\n",
              "      <th>4</th>\n",
              "      <td>1</td>\n",
              "      <td>H21-1-1</td>\n",
              "      <td>Acceptance made by a minor that received an o...</td>\n",
              "      <td>['5']</td>\n",
              "      <td>4</td>\n",
              "      <td>(Age of Majority) Article_4  The age of majori...</td>\n",
              "      <td>0</td>\n",
              "    </tr>\n",
              "    <tr>\n",
              "      <th>...</th>\n",
              "      <td>...</td>\n",
              "      <td>...</td>\n",
              "      <td>...</td>\n",
              "      <td>...</td>\n",
              "      <td>...</td>\n",
              "      <td>...</td>\n",
              "      <td>...</td>\n",
              "    </tr>\n",
              "    <tr>\n",
              "      <th>539315</th>\n",
              "      <td>695</td>\n",
              "      <td>H24-30-3</td>\n",
              "      <td>In cases where A claims purchase money of mov...</td>\n",
              "      <td>['555']</td>\n",
              "      <td>721</td>\n",
              "      <td>(Fetus' Capacity to Hold Rights Regarding Clai...</td>\n",
              "      <td>0</td>\n",
              "    </tr>\n",
              "    <tr>\n",
              "      <th>539316</th>\n",
              "      <td>695</td>\n",
              "      <td>H24-30-3</td>\n",
              "      <td>In cases where A claims purchase money of mov...</td>\n",
              "      <td>['555']</td>\n",
              "      <td>722</td>\n",
              "      <td>(Method of Compensation for Loss or Damage, De...</td>\n",
              "      <td>0</td>\n",
              "    </tr>\n",
              "    <tr>\n",
              "      <th>539317</th>\n",
              "      <td>695</td>\n",
              "      <td>H24-30-3</td>\n",
              "      <td>In cases where A claims purchase money of mov...</td>\n",
              "      <td>['555']</td>\n",
              "      <td>723</td>\n",
              "      <td>(Recovery in Defamation) Article_723  The cour...</td>\n",
              "      <td>0</td>\n",
              "    </tr>\n",
              "    <tr>\n",
              "      <th>539318</th>\n",
              "      <td>695</td>\n",
              "      <td>H24-30-3</td>\n",
              "      <td>In cases where A claims purchase money of mov...</td>\n",
              "      <td>['555']</td>\n",
              "      <td>724</td>\n",
              "      <td>(Extinctive Prescription of Claim for Compensa...</td>\n",
              "      <td>0</td>\n",
              "    </tr>\n",
              "    <tr>\n",
              "      <th>539319</th>\n",
              "      <td>695</td>\n",
              "      <td>H24-30-3</td>\n",
              "      <td>In cases where A claims purchase money of mov...</td>\n",
              "      <td>['555']</td>\n",
              "      <td>724_2</td>\n",
              "      <td>(Extinctive Prescription of Claim for Compensa...</td>\n",
              "      <td>0</td>\n",
              "    </tr>\n",
              "  </tbody>\n",
              "</table>\n",
              "<p>538420 rows × 7 columns</p>\n",
              "</div>"
            ],
            "text/plain": [
              "        Serial_Num  ... label\n",
              "0                1  ...     0\n",
              "1                1  ...     0\n",
              "2                1  ...     0\n",
              "3                1  ...     0\n",
              "4                1  ...     0\n",
              "...            ...  ...   ...\n",
              "539315         695  ...     0\n",
              "539316         695  ...     0\n",
              "539317         695  ...     0\n",
              "539318         695  ...     0\n",
              "539319         695  ...     0\n",
              "\n",
              "[538420 rows x 7 columns]"
            ]
          },
          "metadata": {
            "tags": []
          },
          "execution_count": 10
        }
      ]
    },
    {
      "cell_type": "code",
      "metadata": {
        "colab": {
          "base_uri": "https://localhost:8080/"
        },
        "id": "VvfzhW-THE0s",
        "outputId": "1a3dbeb4-860c-4dad-9fc4-9f2b85faca98"
      },
      "source": [
        "def compute_hcf(x, y):\n",
        "\n",
        "# choose the smaller number\n",
        "    if x > y:\n",
        "        smaller = y\n",
        "    else:\n",
        "        smaller = x\n",
        "    for i in range(1, smaller+1):\n",
        "        if((x % i == 0) and (y % i == 0)):\n",
        "            hcf = i \n",
        "    return hcf\n",
        "\n",
        "\n",
        "\n",
        "\n",
        "total = basic_classification_dataframe.shape[0]\n",
        "incor = basic_classification_dataframe_incor.shape[0]\n",
        "corr = basic_classification_dataframe_cor.shape[0]\n",
        "\n",
        "hcf = compute_hcf(corr,incor)\n",
        "\n",
        "\n",
        "corr_ratio = float(corr/hcf)\n",
        "incorr_ratio = float(incor/hcf)\n",
        "\n",
        "print(str(corr) + \" : \" + str(incor))\n",
        "print(str(corr_ratio) + \" : \" + str(incorr_ratio))\n",
        "\n",
        "corr_per = corr/total\n",
        "incorr_per = incor/total\n",
        "\n",
        "\n",
        "\n",
        "print(str(corr_per*100) + \",\"+ str(incorr_per*100))\n",
        "\n"
      ],
      "execution_count": null,
      "outputs": [
        {
          "output_type": "stream",
          "text": [
            "900 : 538420\n",
            "45.0 : 26921.0\n",
            "0.16687680783208483,99.83312319216792\n"
          ],
          "name": "stdout"
        }
      ]
    },
    {
      "cell_type": "code",
      "metadata": {
        "id": "fSMNI7Yc8JmX"
      },
      "source": [
        ""
      ],
      "execution_count": null,
      "outputs": []
    },
    {
      "cell_type": "code",
      "metadata": {
        "colab": {
          "base_uri": "https://localhost:8080/"
        },
        "id": "UH1mJq6bL6Oy",
        "outputId": "40ada55f-e790-4282-82f9-29d0251d4f6b"
      },
      "source": [
        "#increasing by N times \n",
        "\n",
        "N = 595\n",
        "\n",
        "ovr_corr = corr * N \n",
        "\n",
        "ovr_hcf = compute_hcf(corr,incor)\n",
        "\n",
        "ovrcorr_ratio = float(ovr_corr/ovr_hcf)\n",
        "ovrincorr_ratio = float(incor/ovr_hcf)\n",
        "\n",
        "print(str(ovr_corr) + \" : \" + str(incor))\n",
        "print(str(ovrcorr_ratio) + \" : \" + str(ovrincorr_ratio))\n",
        "\n",
        "over_total = ovr_corr + incor \n",
        "\n",
        "ovrcorr_per = ovr_corr/over_total\n",
        "ovrincorr_per = incor/over_total\n",
        "\n",
        "\n",
        "\n",
        "print(str(ovrcorr_per*100) + \",\"+ str(ovrincorr_per*100))\n"
      ],
      "execution_count": null,
      "outputs": [
        {
          "output_type": "stream",
          "text": [
            "535500 : 538420\n",
            "26775.0 : 26921.0\n",
            "49.8640494636472,50.1359505363528\n"
          ],
          "name": "stdout"
        }
      ]
    },
    {
      "cell_type": "code",
      "metadata": {
        "id": "bvk2Q64Jk1Xw"
      },
      "source": [
        "classification_data_dict = {}\n",
        "\n",
        "combined_sequence_list = []\n",
        "label_list = []\n",
        "\n",
        "\n",
        "for index in range(basic_classification_dataframe.shape[0]):\n",
        "\n",
        "    combined_sequence = basic_classification_dataframe['Query'].iloc[index]+' '+basic_classification_dataframe['Article'].iloc[index]\n",
        "    label = basic_classification_dataframe['label'].iloc[index]\n",
        "\n",
        "    combined_sequence_list.append(combined_sequence)\n",
        "    label_list.append(label)\n",
        "\n",
        "classification_data_dict.update({'Serial_Num':serial_num_list , 'ID':id_list , 'Sequence':combined_sequence_list,'Article_number':article_number_list,'Label':label_list})\n"
      ],
      "execution_count": null,
      "outputs": []
    },
    {
      "cell_type": "code",
      "metadata": {
        "id": "dI4UzdXpm889"
      },
      "source": [
        "classification_dataframe = pd.DataFrame.from_dict(classification_data_dict,orient='columns')"
      ],
      "execution_count": null,
      "outputs": []
    },
    {
      "cell_type": "code",
      "metadata": {
        "id": "K2XLZstxpGI6",
        "colab": {
          "base_uri": "https://localhost:8080/",
          "height": 419
        },
        "outputId": "f4ae0aec-8334-4898-8be5-af5f5419359a"
      },
      "source": [
        "classification_dataframe"
      ],
      "execution_count": null,
      "outputs": [
        {
          "output_type": "execute_result",
          "data": {
            "text/html": [
              "<div>\n",
              "<style scoped>\n",
              "    .dataframe tbody tr th:only-of-type {\n",
              "        vertical-align: middle;\n",
              "    }\n",
              "\n",
              "    .dataframe tbody tr th {\n",
              "        vertical-align: top;\n",
              "    }\n",
              "\n",
              "    .dataframe thead th {\n",
              "        text-align: right;\n",
              "    }\n",
              "</style>\n",
              "<table border=\"1\" class=\"dataframe\">\n",
              "  <thead>\n",
              "    <tr style=\"text-align: right;\">\n",
              "      <th></th>\n",
              "      <th>Serial_Num</th>\n",
              "      <th>ID</th>\n",
              "      <th>Sequence</th>\n",
              "      <th>Article_number</th>\n",
              "      <th>Label</th>\n",
              "    </tr>\n",
              "  </thead>\n",
              "  <tbody>\n",
              "    <tr>\n",
              "      <th>0</th>\n",
              "      <td>1</td>\n",
              "      <td>H21-1-1</td>\n",
              "      <td>Acceptance made by a minor that received an o...</td>\n",
              "      <td>1</td>\n",
              "      <td>0</td>\n",
              "    </tr>\n",
              "    <tr>\n",
              "      <th>1</th>\n",
              "      <td>1</td>\n",
              "      <td>H21-1-1</td>\n",
              "      <td>Acceptance made by a minor that received an o...</td>\n",
              "      <td>2</td>\n",
              "      <td>0</td>\n",
              "    </tr>\n",
              "    <tr>\n",
              "      <th>2</th>\n",
              "      <td>1</td>\n",
              "      <td>H21-1-1</td>\n",
              "      <td>Acceptance made by a minor that received an o...</td>\n",
              "      <td>3</td>\n",
              "      <td>0</td>\n",
              "    </tr>\n",
              "    <tr>\n",
              "      <th>3</th>\n",
              "      <td>1</td>\n",
              "      <td>H21-1-1</td>\n",
              "      <td>Acceptance made by a minor that received an o...</td>\n",
              "      <td>3_2</td>\n",
              "      <td>0</td>\n",
              "    </tr>\n",
              "    <tr>\n",
              "      <th>4</th>\n",
              "      <td>1</td>\n",
              "      <td>H21-1-1</td>\n",
              "      <td>Acceptance made by a minor that received an o...</td>\n",
              "      <td>4</td>\n",
              "      <td>0</td>\n",
              "    </tr>\n",
              "    <tr>\n",
              "      <th>...</th>\n",
              "      <td>...</td>\n",
              "      <td>...</td>\n",
              "      <td>...</td>\n",
              "      <td>...</td>\n",
              "      <td>...</td>\n",
              "    </tr>\n",
              "    <tr>\n",
              "      <th>539315</th>\n",
              "      <td>695</td>\n",
              "      <td>H24-30-3</td>\n",
              "      <td>In cases where A claims purchase money of mov...</td>\n",
              "      <td>721</td>\n",
              "      <td>0</td>\n",
              "    </tr>\n",
              "    <tr>\n",
              "      <th>539316</th>\n",
              "      <td>695</td>\n",
              "      <td>H24-30-3</td>\n",
              "      <td>In cases where A claims purchase money of mov...</td>\n",
              "      <td>722</td>\n",
              "      <td>0</td>\n",
              "    </tr>\n",
              "    <tr>\n",
              "      <th>539317</th>\n",
              "      <td>695</td>\n",
              "      <td>H24-30-3</td>\n",
              "      <td>In cases where A claims purchase money of mov...</td>\n",
              "      <td>723</td>\n",
              "      <td>0</td>\n",
              "    </tr>\n",
              "    <tr>\n",
              "      <th>539318</th>\n",
              "      <td>695</td>\n",
              "      <td>H24-30-3</td>\n",
              "      <td>In cases where A claims purchase money of mov...</td>\n",
              "      <td>724</td>\n",
              "      <td>0</td>\n",
              "    </tr>\n",
              "    <tr>\n",
              "      <th>539319</th>\n",
              "      <td>695</td>\n",
              "      <td>H24-30-3</td>\n",
              "      <td>In cases where A claims purchase money of mov...</td>\n",
              "      <td>724_2</td>\n",
              "      <td>0</td>\n",
              "    </tr>\n",
              "  </tbody>\n",
              "</table>\n",
              "<p>539320 rows × 5 columns</p>\n",
              "</div>"
            ],
            "text/plain": [
              "        Serial_Num        ID  ... Article_number Label\n",
              "0                1   H21-1-1  ...              1     0\n",
              "1                1   H21-1-1  ...              2     0\n",
              "2                1   H21-1-1  ...              3     0\n",
              "3                1   H21-1-1  ...            3_2     0\n",
              "4                1   H21-1-1  ...              4     0\n",
              "...            ...       ...  ...            ...   ...\n",
              "539315         695  H24-30-3  ...            721     0\n",
              "539316         695  H24-30-3  ...            722     0\n",
              "539317         695  H24-30-3  ...            723     0\n",
              "539318         695  H24-30-3  ...            724     0\n",
              "539319         695  H24-30-3  ...          724_2     0\n",
              "\n",
              "[539320 rows x 5 columns]"
            ]
          },
          "metadata": {
            "tags": []
          },
          "execution_count": 20
        }
      ]
    },
    {
      "cell_type": "code",
      "metadata": {
        "id": "Gli9wiSxlyWV"
      },
      "source": [
        "classification_dataframe.to_csv('/content/drive/My Drive/COLIEE Retrieval /COLIEE Dry Run Data /preprocessed_data/bert_data/classification_dataset.csv')"
      ],
      "execution_count": null,
      "outputs": []
    },
    {
      "cell_type": "code",
      "metadata": {
        "id": "jFmBC2Jhpl-a"
      },
      "source": [
        "classification_dataframe_cor = classification_dataframe.loc[basic_classification_dataframe['label']==1]\n",
        "classification_dataframe_incor = classification_dataframe.loc[basic_classification_dataframe['label']==0]"
      ],
      "execution_count": null,
      "outputs": []
    },
    {
      "cell_type": "code",
      "metadata": {
        "id": "B825oUzip3pa",
        "colab": {
          "base_uri": "https://localhost:8080/",
          "height": 204
        },
        "outputId": "fb9644c2-311b-4828-b1fd-c9519733a93e"
      },
      "source": [
        "classification_dataframe_cor.head()"
      ],
      "execution_count": null,
      "outputs": [
        {
          "output_type": "execute_result",
          "data": {
            "text/html": [
              "<div>\n",
              "<style scoped>\n",
              "    .dataframe tbody tr th:only-of-type {\n",
              "        vertical-align: middle;\n",
              "    }\n",
              "\n",
              "    .dataframe tbody tr th {\n",
              "        vertical-align: top;\n",
              "    }\n",
              "\n",
              "    .dataframe thead th {\n",
              "        text-align: right;\n",
              "    }\n",
              "</style>\n",
              "<table border=\"1\" class=\"dataframe\">\n",
              "  <thead>\n",
              "    <tr style=\"text-align: right;\">\n",
              "      <th></th>\n",
              "      <th>ID</th>\n",
              "      <th>Sequence</th>\n",
              "      <th>Article_number</th>\n",
              "      <th>Label</th>\n",
              "    </tr>\n",
              "  </thead>\n",
              "  <tbody>\n",
              "    <tr>\n",
              "      <th>5</th>\n",
              "      <td>H21-1-1</td>\n",
              "      <td>Acceptance made by a minor that received an o...</td>\n",
              "      <td>5</td>\n",
              "      <td>1</td>\n",
              "    </tr>\n",
              "    <tr>\n",
              "      <th>782</th>\n",
              "      <td>H21-1-2</td>\n",
              "      <td>If a minor, after getting permission for carr...</td>\n",
              "      <td>6</td>\n",
              "      <td>1</td>\n",
              "    </tr>\n",
              "    <tr>\n",
              "      <th>1561</th>\n",
              "      <td>H21-1-3</td>\n",
              "      <td>The purchase of daily household items may not...</td>\n",
              "      <td>9</td>\n",
              "      <td>1</td>\n",
              "    </tr>\n",
              "    <tr>\n",
              "      <th>2341</th>\n",
              "      <td>H21-1-4</td>\n",
              "      <td>If a person under curatorship performs, witho...</td>\n",
              "      <td>13</td>\n",
              "      <td>1</td>\n",
              "    </tr>\n",
              "    <tr>\n",
              "      <th>2403</th>\n",
              "      <td>H21-1-4</td>\n",
              "      <td>If a person under curatorship performs, witho...</td>\n",
              "      <td>120</td>\n",
              "      <td>1</td>\n",
              "    </tr>\n",
              "  </tbody>\n",
              "</table>\n",
              "</div>"
            ],
            "text/plain": [
              "           ID  ... Label\n",
              "5     H21-1-1  ...     1\n",
              "782   H21-1-2  ...     1\n",
              "1561  H21-1-3  ...     1\n",
              "2341  H21-1-4  ...     1\n",
              "2403  H21-1-4  ...     1\n",
              "\n",
              "[5 rows x 4 columns]"
            ]
          },
          "metadata": {
            "tags": []
          },
          "execution_count": 54
        }
      ]
    },
    {
      "cell_type": "code",
      "metadata": {
        "id": "42egU9ScfiKu",
        "colab": {
          "base_uri": "https://localhost:8080/",
          "height": 289
        },
        "outputId": "a49f9c6d-99bb-465a-ecfa-f8d93dec7229"
      },
      "source": [
        "basic_classification_dataframe.head()"
      ],
      "execution_count": null,
      "outputs": [
        {
          "output_type": "execute_result",
          "data": {
            "text/html": [
              "<div>\n",
              "<style scoped>\n",
              "    .dataframe tbody tr th:only-of-type {\n",
              "        vertical-align: middle;\n",
              "    }\n",
              "\n",
              "    .dataframe tbody tr th {\n",
              "        vertical-align: top;\n",
              "    }\n",
              "\n",
              "    .dataframe thead th {\n",
              "        text-align: right;\n",
              "    }\n",
              "</style>\n",
              "<table border=\"1\" class=\"dataframe\">\n",
              "  <thead>\n",
              "    <tr style=\"text-align: right;\">\n",
              "      <th></th>\n",
              "      <th>Serial_Num</th>\n",
              "      <th>ID</th>\n",
              "      <th>Query</th>\n",
              "      <th>Relevant_article_number</th>\n",
              "      <th>Article_number</th>\n",
              "      <th>Article</th>\n",
              "      <th>label</th>\n",
              "    </tr>\n",
              "  </thead>\n",
              "  <tbody>\n",
              "    <tr>\n",
              "      <th>0</th>\n",
              "      <td>1</td>\n",
              "      <td>H21-1-1</td>\n",
              "      <td>Acceptance made by a minor that received an o...</td>\n",
              "      <td>['5']</td>\n",
              "      <td>1</td>\n",
              "      <td>(Fundamental Principles) Article_1  (1) Privat...</td>\n",
              "      <td>0</td>\n",
              "    </tr>\n",
              "    <tr>\n",
              "      <th>1</th>\n",
              "      <td>1</td>\n",
              "      <td>H21-1-1</td>\n",
              "      <td>Acceptance made by a minor that received an o...</td>\n",
              "      <td>['5']</td>\n",
              "      <td>2</td>\n",
              "      <td>(Standards for Construction) Article_2  This C...</td>\n",
              "      <td>0</td>\n",
              "    </tr>\n",
              "    <tr>\n",
              "      <th>2</th>\n",
              "      <td>1</td>\n",
              "      <td>H21-1-1</td>\n",
              "      <td>Acceptance made by a minor that received an o...</td>\n",
              "      <td>['5']</td>\n",
              "      <td>3</td>\n",
              "      <td>Article 3  (1) The enjoyment of private rights...</td>\n",
              "      <td>0</td>\n",
              "    </tr>\n",
              "    <tr>\n",
              "      <th>3</th>\n",
              "      <td>1</td>\n",
              "      <td>H21-1-1</td>\n",
              "      <td>Acceptance made by a minor that received an o...</td>\n",
              "      <td>['5']</td>\n",
              "      <td>3_2</td>\n",
              "      <td>Article 3-2  If the person making a juridical ...</td>\n",
              "      <td>0</td>\n",
              "    </tr>\n",
              "    <tr>\n",
              "      <th>4</th>\n",
              "      <td>1</td>\n",
              "      <td>H21-1-1</td>\n",
              "      <td>Acceptance made by a minor that received an o...</td>\n",
              "      <td>['5']</td>\n",
              "      <td>4</td>\n",
              "      <td>(Age of Majority) Article_4  The age of majori...</td>\n",
              "      <td>0</td>\n",
              "    </tr>\n",
              "  </tbody>\n",
              "</table>\n",
              "</div>"
            ],
            "text/plain": [
              "   Serial_Num  ... label\n",
              "0           1  ...     0\n",
              "1           1  ...     0\n",
              "2           1  ...     0\n",
              "3           1  ...     0\n",
              "4           1  ...     0\n",
              "\n",
              "[5 rows x 7 columns]"
            ]
          },
          "metadata": {
            "tags": []
          },
          "execution_count": 55
        }
      ]
    },
    {
      "cell_type": "code",
      "metadata": {
        "id": "mLihrBleHwY8",
        "colab": {
          "base_uri": "https://localhost:8080/"
        },
        "outputId": "99cec4bd-9092-4c68-e392-09be3e652889"
      },
      "source": [
        "basic_classification_dataframe.iloc[57773]"
      ],
      "execution_count": null,
      "outputs": [
        {
          "output_type": "execute_result",
          "data": {
            "text/plain": [
              "Serial_Num                                                                75\n",
              "ID                                                                  H19-13-O\n",
              "Query                       In addition to the fixed principal, revolving...\n",
              "Relevant_article_number                                            ['398_3']\n",
              "Article_number                                                         398_3\n",
              "Article                    (Scope of Secured Claims under Revolving Mortg...\n",
              "label                                                                      1\n",
              "Name: 57773, dtype: object"
            ]
          },
          "metadata": {
            "tags": []
          },
          "execution_count": 56
        }
      ]
    },
    {
      "cell_type": "code",
      "metadata": {
        "id": "NUNu-Pp9Ic0x",
        "colab": {
          "base_uri": "https://localhost:8080/"
        },
        "outputId": "ae5f0e70-03b7-4b82-9675-13d3ff24b074"
      },
      "source": [
        "count = 0\n",
        "for i in basic_classification_dataframe['label']:\n",
        "    if i == 1:\n",
        "        count += 1\n",
        "print(count)"
      ],
      "execution_count": null,
      "outputs": [
        {
          "output_type": "stream",
          "text": [
            "900\n"
          ],
          "name": "stdout"
        }
      ]
    },
    {
      "cell_type": "code",
      "metadata": {
        "id": "fqOJQtvXbFgd",
        "colab": {
          "base_uri": "https://localhost:8080/"
        },
        "outputId": "ba3f1a31-7411-433e-a7fe-2b66a24ef420"
      },
      "source": [
        "import time\n",
        "cn = 0\n",
        "for num in range(query_dataframe.shape[0]):\n",
        "    cn = cn + len(ast.literal_eval(query_dataframe['Article_numbers'].iloc[num])) \n",
        "\n",
        "print(cn)"
      ],
      "execution_count": null,
      "outputs": [
        {
          "output_type": "stream",
          "text": [
            "901\n"
          ],
          "name": "stdout"
        }
      ]
    },
    {
      "cell_type": "code",
      "metadata": {
        "id": "z3MeIoe-fcTw"
      },
      "source": [
        "''' Oversampling the Relevant class in the dataframe '''\n",
        "N_times = 595\n",
        "oversampled_dataframe = pd.concat([classification_dataframe_cor]*N_times, ignore_index=True)"
      ],
      "execution_count": null,
      "outputs": []
    },
    {
      "cell_type": "code",
      "metadata": {
        "id": "uJrlIDe8gZkV",
        "colab": {
          "base_uri": "https://localhost:8080/"
        },
        "outputId": "830cb007-4982-4b4d-af50-d907eacd42c5"
      },
      "source": [
        "oversampled_dataframe.shape"
      ],
      "execution_count": null,
      "outputs": [
        {
          "output_type": "execute_result",
          "data": {
            "text/plain": [
              "(535500, 4)"
            ]
          },
          "metadata": {
            "tags": []
          },
          "execution_count": 60
        }
      ]
    },
    {
      "cell_type": "code",
      "metadata": {
        "id": "NHi1jCelgcL0"
      },
      "source": [
        "''' Concatenate the Oversampled Relevant class and the Irrelevant class '''\n",
        "oversampled_classification_dataframe = pd.concat([oversampled_dataframe,classification_dataframe_incor], ignore_index=True)"
      ],
      "execution_count": null,
      "outputs": []
    },
    {
      "cell_type": "code",
      "metadata": {
        "id": "ZB7VyI0Og4uT",
        "colab": {
          "base_uri": "https://localhost:8080/"
        },
        "outputId": "4ac770fb-f2f7-4c25-8220-a8952ab4ddce"
      },
      "source": [
        "oversampled_classification_dataframe.shape"
      ],
      "execution_count": null,
      "outputs": [
        {
          "output_type": "execute_result",
          "data": {
            "text/plain": [
              "(1073920, 4)"
            ]
          },
          "metadata": {
            "tags": []
          },
          "execution_count": 62
        }
      ]
    },
    {
      "cell_type": "code",
      "metadata": {
        "id": "PlY_zWYEg7IL",
        "colab": {
          "base_uri": "https://localhost:8080/",
          "height": 419
        },
        "outputId": "6dd0c9be-cabd-4f65-8117-8b9109d3279a"
      },
      "source": [
        "oversampled_classification_dataframe"
      ],
      "execution_count": null,
      "outputs": [
        {
          "output_type": "execute_result",
          "data": {
            "text/html": [
              "<div>\n",
              "<style scoped>\n",
              "    .dataframe tbody tr th:only-of-type {\n",
              "        vertical-align: middle;\n",
              "    }\n",
              "\n",
              "    .dataframe tbody tr th {\n",
              "        vertical-align: top;\n",
              "    }\n",
              "\n",
              "    .dataframe thead th {\n",
              "        text-align: right;\n",
              "    }\n",
              "</style>\n",
              "<table border=\"1\" class=\"dataframe\">\n",
              "  <thead>\n",
              "    <tr style=\"text-align: right;\">\n",
              "      <th></th>\n",
              "      <th>ID</th>\n",
              "      <th>Sequence</th>\n",
              "      <th>Article_number</th>\n",
              "      <th>Label</th>\n",
              "    </tr>\n",
              "  </thead>\n",
              "  <tbody>\n",
              "    <tr>\n",
              "      <th>0</th>\n",
              "      <td>H21-1-1</td>\n",
              "      <td>Acceptance made by a minor that received an o...</td>\n",
              "      <td>5</td>\n",
              "      <td>1</td>\n",
              "    </tr>\n",
              "    <tr>\n",
              "      <th>1</th>\n",
              "      <td>H21-1-2</td>\n",
              "      <td>If a minor, after getting permission for carr...</td>\n",
              "      <td>6</td>\n",
              "      <td>1</td>\n",
              "    </tr>\n",
              "    <tr>\n",
              "      <th>2</th>\n",
              "      <td>H21-1-3</td>\n",
              "      <td>The purchase of daily household items may not...</td>\n",
              "      <td>9</td>\n",
              "      <td>1</td>\n",
              "    </tr>\n",
              "    <tr>\n",
              "      <th>3</th>\n",
              "      <td>H21-1-4</td>\n",
              "      <td>If a person under curatorship performs, witho...</td>\n",
              "      <td>13</td>\n",
              "      <td>1</td>\n",
              "    </tr>\n",
              "    <tr>\n",
              "      <th>4</th>\n",
              "      <td>H21-1-4</td>\n",
              "      <td>If a person under curatorship performs, witho...</td>\n",
              "      <td>120</td>\n",
              "      <td>1</td>\n",
              "    </tr>\n",
              "    <tr>\n",
              "      <th>...</th>\n",
              "      <td>...</td>\n",
              "      <td>...</td>\n",
              "      <td>...</td>\n",
              "      <td>...</td>\n",
              "    </tr>\n",
              "    <tr>\n",
              "      <th>1073915</th>\n",
              "      <td>H24-30-3</td>\n",
              "      <td>In cases where A claims purchase money of mov...</td>\n",
              "      <td>721</td>\n",
              "      <td>0</td>\n",
              "    </tr>\n",
              "    <tr>\n",
              "      <th>1073916</th>\n",
              "      <td>H24-30-3</td>\n",
              "      <td>In cases where A claims purchase money of mov...</td>\n",
              "      <td>722</td>\n",
              "      <td>0</td>\n",
              "    </tr>\n",
              "    <tr>\n",
              "      <th>1073917</th>\n",
              "      <td>H24-30-3</td>\n",
              "      <td>In cases where A claims purchase money of mov...</td>\n",
              "      <td>723</td>\n",
              "      <td>0</td>\n",
              "    </tr>\n",
              "    <tr>\n",
              "      <th>1073918</th>\n",
              "      <td>H24-30-3</td>\n",
              "      <td>In cases where A claims purchase money of mov...</td>\n",
              "      <td>724</td>\n",
              "      <td>0</td>\n",
              "    </tr>\n",
              "    <tr>\n",
              "      <th>1073919</th>\n",
              "      <td>H24-30-3</td>\n",
              "      <td>In cases where A claims purchase money of mov...</td>\n",
              "      <td>724_2</td>\n",
              "      <td>0</td>\n",
              "    </tr>\n",
              "  </tbody>\n",
              "</table>\n",
              "<p>1073920 rows × 4 columns</p>\n",
              "</div>"
            ],
            "text/plain": [
              "               ID  ... Label\n",
              "0         H21-1-1  ...     1\n",
              "1         H21-1-2  ...     1\n",
              "2         H21-1-3  ...     1\n",
              "3         H21-1-4  ...     1\n",
              "4         H21-1-4  ...     1\n",
              "...           ...  ...   ...\n",
              "1073915  H24-30-3  ...     0\n",
              "1073916  H24-30-3  ...     0\n",
              "1073917  H24-30-3  ...     0\n",
              "1073918  H24-30-3  ...     0\n",
              "1073919  H24-30-3  ...     0\n",
              "\n",
              "[1073920 rows x 4 columns]"
            ]
          },
          "metadata": {
            "tags": []
          },
          "execution_count": 63
        }
      ]
    },
    {
      "cell_type": "markdown",
      "metadata": {
        "id": "I92fpDWAeOUH"
      },
      "source": [
        "#### Save the oversampled classification training dataset "
      ]
    },
    {
      "cell_type": "code",
      "metadata": {
        "id": "68EqFSiNqb7I"
      },
      "source": [
        "oversampled_classification_dataframe.to_csv('/content/drive/My Drive/COLIEE Retrieval /COLIEE Dry Run Data /preprocessed_data/bert_data/595_times_oversampled_classification_dataset.csv')\n",
        "basic_classification_dataframe.to_csv('/content/drive/My Drive/COLIEE Retrieval /COLIEE Dry Run Data /preprocessed_data/bert_data/basic_classification_dataset.csv')"
      ],
      "execution_count": null,
      "outputs": []
    },
    {
      "cell_type": "code",
      "metadata": {
        "id": "FAxrTG7Vr3uX"
      },
      "source": [
        "oversampled_classification_dataframe.to_pickle('/content/drive/My Drive/COLIEE Retrieval /COLIEE Dry Run Data /preprocessed_data/bert_data/595_times_oversampled_classification_dataset.pkl')\n",
        "basic_classification_dataframe.to_pickle('/content/drive/My Drive/COLIEE Retrieval /COLIEE Dry Run Data /preprocessed_data/bert_data/basic_classification_dataset.pkl')"
      ],
      "execution_count": null,
      "outputs": []
    },
    {
      "cell_type": "markdown",
      "metadata": {
        "id": "xy-1WQ94eZEg"
      },
      "source": [
        "### Classification Test Dataset"
      ]
    },
    {
      "cell_type": "code",
      "metadata": {
        "id": "LDQBeBwOsPTg"
      },
      "source": [
        "df_test_data = pd.read_pickle('test_data/cleaned_formal_test_data.pkl')"
      ],
      "execution_count": null,
      "outputs": []
    },
    {
      "cell_type": "code",
      "metadata": {
        "id": "VdB4I0K1miZe",
        "colab": {
          "base_uri": "https://localhost:8080/",
          "height": 765
        },
        "outputId": "e46aa9fe-7c2c-4f46-9bd1-1a70c4aa8a29"
      },
      "source": [
        "df_test_data.head()"
      ],
      "execution_count": null,
      "outputs": [
        {
          "output_type": "execute_result",
          "data": {
            "text/html": [
              "<div>\n",
              "<style scoped>\n",
              "    .dataframe tbody tr th:only-of-type {\n",
              "        vertical-align: middle;\n",
              "    }\n",
              "\n",
              "    .dataframe tbody tr th {\n",
              "        vertical-align: top;\n",
              "    }\n",
              "\n",
              "    .dataframe thead th {\n",
              "        text-align: right;\n",
              "    }\n",
              "</style>\n",
              "<table border=\"1\" class=\"dataframe\">\n",
              "  <thead>\n",
              "    <tr style=\"text-align: right;\">\n",
              "      <th></th>\n",
              "      <th>ID</th>\n",
              "      <th>Query</th>\n",
              "      <th>Query_tokens</th>\n",
              "      <th>Query_lemma</th>\n",
              "      <th>Query_pos</th>\n",
              "      <th>Expanded_query_tokens</th>\n",
              "      <th>Expanded_query_lemma</th>\n",
              "      <th>Query_bigrams</th>\n",
              "      <th>Query_trigrams</th>\n",
              "      <th>Query_bi_tri_grams</th>\n",
              "      <th>Expanded_query_bi_tri_grams</th>\n",
              "    </tr>\n",
              "  </thead>\n",
              "  <tbody>\n",
              "    <tr>\n",
              "      <th>0</th>\n",
              "      <td>R01-1-A</td>\n",
              "      <td>A contract of sales concluded by a minor may ...</td>\n",
              "      <td>[contract, sales, concluded, minor, may, not, ...</td>\n",
              "      <td>[contract, sale, conclude, minor, may, not, re...</td>\n",
              "      <td>[NOUN, NOUN, VERB, ADJ, VERB, ADV, VERB, VERB,...</td>\n",
              "      <td>[refer, nipper, not, day_by_day, narrow, resci...</td>\n",
              "      <td>[refer, nipper, not, day_by_day, narrow, young...</td>\n",
              "      <td>[contract_sale, sale_conclude, conclude_minor,...</td>\n",
              "      <td>[contract_sale_conclude, sale_conclude_minor, ...</td>\n",
              "      <td>[contract_sale, sale_conclude, conclude_minor,...</td>\n",
              "      <td>[refer, nipper, not, day_by_day, narrow, young...</td>\n",
              "    </tr>\n",
              "    <tr>\n",
              "      <th>1</th>\n",
              "      <td>R01-1-I</td>\n",
              "      <td>A contract of sales concluded by an adult war...</td>\n",
              "      <td>[contract, sales, concluded, adult, ward, may,...</td>\n",
              "      <td>[contract, sale, conclude, adult, ward, may, r...</td>\n",
              "      <td>[NOUN, NOUN, VERB, NOUN, NOUN, VERB, VERB, ADP...</td>\n",
              "      <td>[refer, day_by_day, narrow, rescinded, day-to-...</td>\n",
              "      <td>[refer, day_by_day, narrow, day-to-day, living...</td>\n",
              "      <td>[contract_sale, sale_conclude, conclude_adult,...</td>\n",
              "      <td>[contract_sale_conclude, sale_conclude_adult, ...</td>\n",
              "      <td>[contract_sale, sale_conclude, conclude_adult,...</td>\n",
              "      <td>[refer, day_by_day, narrow, day-to-day, living...</td>\n",
              "    </tr>\n",
              "    <tr>\n",
              "      <th>2</th>\n",
              "      <td>R01-1-U</td>\n",
              "      <td>A contract of guarantee concluded by a person...</td>\n",
              "      <td>[contract, guarantee, concluded, person, curat...</td>\n",
              "      <td>[contract, guarantee, conclude, person, curato...</td>\n",
              "      <td>[NOUN, NOUN, VERB, NOUN, NOUN, VERB, ADV, VERB...</td>\n",
              "      <td>[somebody, not, narrow, rescinded, reason, con...</td>\n",
              "      <td>[somebody, not, narrow, reason, consent, concl...</td>\n",
              "      <td>[contract_guarantee, guarantee_conclude, concl...</td>\n",
              "      <td>[contract_guarantee_conclude, guarantee_conclu...</td>\n",
              "      <td>[contract_guarantee, guarantee_conclude, concl...</td>\n",
              "      <td>[somebody, not, narrow, reason, consent, concl...</td>\n",
              "    </tr>\n",
              "    <tr>\n",
              "      <th>3</th>\n",
              "      <td>R01-1-E</td>\n",
              "      <td>An act which requires the consent of the assi...</td>\n",
              "      <td>[act, requires, consent, assistant, may, resci...</td>\n",
              "      <td>[act, require, consent, assistant, may, rescin...</td>\n",
              "      <td>[NOUN, VERB, NOUN, NOUN, VERB, VERB, NOUN, NOU...</td>\n",
              "      <td>[fellowship, stead, somebody, folk, household,...</td>\n",
              "      <td>[fellowship, stead, somebody, folk, household,...</td>\n",
              "      <td>[act_require, require_consent, consent_assista...</td>\n",
              "      <td>[act_require_consent, require_consent_assistan...</td>\n",
              "      <td>[act_require, require_consent, consent_assista...</td>\n",
              "      <td>[fellowship, stead, somebody, folk, household,...</td>\n",
              "    </tr>\n",
              "    <tr>\n",
              "      <th>4</th>\n",
              "      <td>R01-1-O</td>\n",
              "      <td>The period of the extinctive prescription of ...</td>\n",
              "      <td>[period, extinctive, prescription, right, resc...</td>\n",
              "      <td>[period, extinctive, prescription, right, resc...</td>\n",
              "      <td>[NOUN, ADJ, NOUN, NOUN, VERB, NOUN, VERB, NOUN...</td>\n",
              "      <td>[extinctive, turn, capability, geological_peri...</td>\n",
              "      <td>[extinctive, turn, capability, geological_peri...</td>\n",
              "      <td>[period_extinctive, extinctive_prescription, p...</td>\n",
              "      <td>[period_extinctive_prescription, extinctive_pr...</td>\n",
              "      <td>[period_extinctive, extinctive_prescription, p...</td>\n",
              "      <td>[extinctive, turn, capability, geological_peri...</td>\n",
              "    </tr>\n",
              "  </tbody>\n",
              "</table>\n",
              "</div>"
            ],
            "text/plain": [
              "        ID  ...                        Expanded_query_bi_tri_grams\n",
              "0  R01-1-A  ...  [refer, nipper, not, day_by_day, narrow, young...\n",
              "1  R01-1-I  ...  [refer, day_by_day, narrow, day-to-day, living...\n",
              "2  R01-1-U  ...  [somebody, not, narrow, reason, consent, concl...\n",
              "3  R01-1-E  ...  [fellowship, stead, somebody, folk, household,...\n",
              "4  R01-1-O  ...  [extinctive, turn, capability, geological_peri...\n",
              "\n",
              "[5 rows x 11 columns]"
            ]
          },
          "metadata": {
            "tags": []
          },
          "execution_count": 74
        }
      ]
    },
    {
      "cell_type": "markdown",
      "metadata": {
        "id": "ZAmgmz9x0fBA"
      },
      "source": [
        "#### Test data set creation "
      ]
    },
    {
      "cell_type": "code",
      "metadata": {
        "id": "jxoOSPi2HUQI"
      },
      "source": [
        "def parse_trec_rel_txt_file(qrel_file_path):\n",
        "    text_file = open(qrel_file_path,'r')\n",
        "    rel_text = text_file.readlines()\n",
        "\n",
        "    text_list = []\n",
        "    for item in rel_text:\n",
        "        text = item.split()\n",
        "        text_list.append(text)\n",
        "\n",
        "    id_list = []\n",
        "    article_list = []\n",
        "\n",
        "    for i in text_list:\n",
        "        id_list.append(i[0])\n",
        "        article_list.append(i[2])\n",
        "\n",
        "    rel_text_dict = {}\n",
        "    rel_article_list = []\n",
        "    set_id = id_list\n",
        "\n",
        "    rel_article_dict = {}\n",
        "    for i in range(len(id_list)):\n",
        "        rel_list = []\n",
        "        for j in range(len(id_list)):\n",
        "            if id_list[i] == id_list[j]:\n",
        "                rel_list.append(article_list[j])\n",
        "        rel_article_dict.update({id_list[i]:rel_list})\n",
        "\n",
        "    return rel_article_dict"
      ],
      "execution_count": null,
      "outputs": []
    },
    {
      "cell_type": "code",
      "metadata": {
        "id": "cSOOCZ1SHaDI"
      },
      "source": [
        "qrel_file_path = \"/content/drive/My Drive/COLIEE Retrieval /COLIEE Dry Run Data /Formal_Run_Test_Data/qrel_task3.txt\"\n",
        "\n",
        "rel_article_dict = parse_trec_rel_txt_file(qrel_file_path)"
      ],
      "execution_count": null,
      "outputs": []
    },
    {
      "cell_type": "code",
      "metadata": {
        "id": "a817MmR3mjxc"
      },
      "source": [
        "test_file_path = \"/content/drive/My Drive/COLIEE Retrieval /COLIEE Dry Run Data /Formal_Run_Test_Data/\""
      ],
      "execution_count": null,
      "outputs": []
    },
    {
      "cell_type": "code",
      "metadata": {
        "id": "yLK2B_4aIMB4",
        "colab": {
          "base_uri": "https://localhost:8080/",
          "height": 365
        },
        "outputId": "ee1e66bb-3875-4bda-a627-5a7223f948d8"
      },
      "source": [
        "civil_code_dataframe.head()"
      ],
      "execution_count": null,
      "outputs": [
        {
          "output_type": "execute_result",
          "data": {
            "text/html": [
              "<div>\n",
              "<style scoped>\n",
              "    .dataframe tbody tr th:only-of-type {\n",
              "        vertical-align: middle;\n",
              "    }\n",
              "\n",
              "    .dataframe tbody tr th {\n",
              "        vertical-align: top;\n",
              "    }\n",
              "\n",
              "    .dataframe thead th {\n",
              "        text-align: right;\n",
              "    }\n",
              "</style>\n",
              "<table border=\"1\" class=\"dataframe\">\n",
              "  <thead>\n",
              "    <tr style=\"text-align: right;\">\n",
              "      <th></th>\n",
              "      <th>Article_number</th>\n",
              "      <th>Referenced_article_num</th>\n",
              "      <th>Article_description</th>\n",
              "      <th>Article_titles</th>\n",
              "      <th>Article_description_tokens</th>\n",
              "      <th>Article_description_lemmas</th>\n",
              "      <th>Article_description_pos</th>\n",
              "      <th>Article_desc_bigrams</th>\n",
              "      <th>Article_desc_trigrams</th>\n",
              "      <th>Article_bi_tri_grams</th>\n",
              "      <th>Combined_lemma_Bi_tri</th>\n",
              "      <th>Article_title_tokens</th>\n",
              "      <th>Article_title_lemma</th>\n",
              "      <th>Article_title_pos</th>\n",
              "    </tr>\n",
              "  </thead>\n",
              "  <tbody>\n",
              "    <tr>\n",
              "      <th>1</th>\n",
              "      <td>1</td>\n",
              "      <td>{}</td>\n",
              "      <td>(Fundamental Principles) Article_1  (1) Privat...</td>\n",
              "      <td>(Fundamental Principles)</td>\n",
              "      <td>[fundamental, principles, article_1, 1, privat...</td>\n",
              "      <td>[fundamental, principle, article_1, 1, private...</td>\n",
              "      <td>[ADJ, NOUN, NOUN, NUM, ADJ, NOUN, VERB, ADJ, A...</td>\n",
              "      <td>[fundamental_principle, principle_article_1, a...</td>\n",
              "      <td>[fundamental_principle_article_1, principle_ar...</td>\n",
              "      <td>[fundamental_principle, principle_article_1, a...</td>\n",
              "      <td>[fundamental, principle, article_1, 1, private...</td>\n",
              "      <td>[fundamental, principles]</td>\n",
              "      <td>[fundamental, principle]</td>\n",
              "      <td>[ADJ, NOUN]</td>\n",
              "    </tr>\n",
              "    <tr>\n",
              "      <th>2</th>\n",
              "      <td>2</td>\n",
              "      <td>{}</td>\n",
              "      <td>(Standards for Construction) Article_2  This C...</td>\n",
              "      <td>(Standards for Construction)</td>\n",
              "      <td>[standards, construction, article_2, code, mus...</td>\n",
              "      <td>[standard, construction, article_2, code, must...</td>\n",
              "      <td>[NOUN, NOUN, ADP, NOUN, VERB, VERB, VERB, NOUN...</td>\n",
              "      <td>[standard_construction, construction_article_2...</td>\n",
              "      <td>[standard_construction_article_2, construction...</td>\n",
              "      <td>[standard_construction, construction_article_2...</td>\n",
              "      <td>[standard, construction, article_2, code, must...</td>\n",
              "      <td>[standards, construction]</td>\n",
              "      <td>[standard, construction]</td>\n",
              "      <td>[NOUN, NOUN]</td>\n",
              "    </tr>\n",
              "    <tr>\n",
              "      <th>3</th>\n",
              "      <td>3</td>\n",
              "      <td>{}</td>\n",
              "      <td>Article 3  (1) The enjoyment of private rights...</td>\n",
              "      <td>(Standards for Construction)</td>\n",
              "      <td>[article, 3, 1, enjoyment, private, rights, co...</td>\n",
              "      <td>[article, 3, 1, enjoyment, private, right, com...</td>\n",
              "      <td>[NOUN, NUM, PUNCT, NOUN, ADJ, NOUN, NOUN, NOUN...</td>\n",
              "      <td>[article_3, 3_1, 1_enjoyment, enjoyment_privat...</td>\n",
              "      <td>[article_3_1, 3_1_enjoyment, 1_enjoyment_priva...</td>\n",
              "      <td>[article_3, 3_1, 1_enjoyment, enjoyment_privat...</td>\n",
              "      <td>[article, 3, 1, enjoyment, private, right, com...</td>\n",
              "      <td>[standards, construction]</td>\n",
              "      <td>[standard, construction]</td>\n",
              "      <td>[NOUN, NOUN]</td>\n",
              "    </tr>\n",
              "    <tr>\n",
              "      <th>4</th>\n",
              "      <td>3_2</td>\n",
              "      <td>{}</td>\n",
              "      <td>Article 3-2  If the person making a juridical ...</td>\n",
              "      <td>(Standards for Construction)</td>\n",
              "      <td>[article, 3, 2, person, making, juridical, act...</td>\n",
              "      <td>[article, 3, 2, person, make, juridical, act, ...</td>\n",
              "      <td>[NOUN, NUM, NUM, NOUN, VERB, ADJ, NOUN, ADV, A...</td>\n",
              "      <td>[article_3, 3_2, 2_person, person_make, make_j...</td>\n",
              "      <td>[article_3_2, 3_2_person, 2_person_make, perso...</td>\n",
              "      <td>[article_3, 3_2, 2_person, person_make, make_j...</td>\n",
              "      <td>[article, 3, 2, person, make, juridical, act, ...</td>\n",
              "      <td>[standards, construction]</td>\n",
              "      <td>[standard, construction]</td>\n",
              "      <td>[NOUN, NOUN]</td>\n",
              "    </tr>\n",
              "    <tr>\n",
              "      <th>5</th>\n",
              "      <td>4</td>\n",
              "      <td>{}</td>\n",
              "      <td>(Age of Majority) Article_4  The age of majori...</td>\n",
              "      <td>(Age of Majority)</td>\n",
              "      <td>[age, majority, article_4, age, majority, 20, ...</td>\n",
              "      <td>[age, majority, article_4, age, majority, 20, ...</td>\n",
              "      <td>[NOUN, NOUN, NOUN, NOUN, NOUN, NUM, NOUN, NOUN]</td>\n",
              "      <td>[age_majority, majority_article_4, article_4_a...</td>\n",
              "      <td>[age_majority_article_4, majority_article_4_ag...</td>\n",
              "      <td>[age_majority, majority_article_4, article_4_a...</td>\n",
              "      <td>[age, majority, article_4, age, majority, 20, ...</td>\n",
              "      <td>[age, majority]</td>\n",
              "      <td>[age, majority]</td>\n",
              "      <td>[NOUN, NOUN]</td>\n",
              "    </tr>\n",
              "  </tbody>\n",
              "</table>\n",
              "</div>"
            ],
            "text/plain": [
              "  Article_number  ... Article_title_pos\n",
              "1              1  ...       [ADJ, NOUN]\n",
              "2              2  ...      [NOUN, NOUN]\n",
              "3              3  ...      [NOUN, NOUN]\n",
              "4            3_2  ...      [NOUN, NOUN]\n",
              "5              4  ...      [NOUN, NOUN]\n",
              "\n",
              "[5 rows x 14 columns]"
            ]
          },
          "metadata": {
            "tags": []
          },
          "execution_count": 19
        }
      ]
    },
    {
      "cell_type": "code",
      "metadata": {
        "id": "HiC3SQ1AI9dp"
      },
      "source": [
        "def parse_test_xml(file_path): \n",
        "\n",
        "    PairID_arr= []\n",
        "    text2_arr = []\n",
        "   \n",
        "    count = 0\n",
        "    sum = 0\n",
        "\n",
        "    for files in os.listdir(file_path):\n",
        "        try: \n",
        "\n",
        "            if files.endswith('.xml'):\n",
        "                print(files)\n",
        "                count += 1\n",
        "                xmlp = ET.XMLParser(encoding=\"utf-8\")\n",
        "                tree = ET.parse(file_path+files, parser = xmlp)\n",
        "                root = tree.getroot()\n",
        "                count_list = []\n",
        "                for pair in root.findall('pair'):\n",
        "                    \n",
        "                    PairID = pair.get('id')\n",
        "                    count_list.append(PairID)\n",
        "                    PairID_arr.append(PairID)\n",
        "              \n",
        "                    text2 = pair.find('t2').text\n",
        "                    text2_arr.append(str(text2))\n",
        "\n",
        "                sum += len(count_list)\n",
        "                # print(len(count_list))\n",
        "                # print(count_list)\n",
        "        except Exception as e: \n",
        "            print(e , files)\n",
        "    # print(count)\n",
        "    print(sum)\n",
        "    return PairID_arr,  text2_arr "
      ],
      "execution_count": null,
      "outputs": []
    },
    {
      "cell_type": "code",
      "metadata": {
        "id": "gT1CL-qaKcfW"
      },
      "source": [
        "def create_test_dataframe(PairID_arr,text2_arr):    \n",
        "    dict_relevant = {'ID' : PairID_arr , 'Query' : text2_arr }\n",
        "    df_test = pd.DataFrame(dict_relevant)\n",
        "    return df_test"
      ],
      "execution_count": null,
      "outputs": []
    },
    {
      "cell_type": "code",
      "metadata": {
        "id": "oHFsFQzyLcMJ"
      },
      "source": [
        "def remove_newline_test_data(test_dataframe):\n",
        "\n",
        "    new_line_pattern = re.compile(r'\\n')\n",
        "    for i in range(test_dataframe.shape[0]):\n",
        "        test_dataframe['Query'].iloc[i] = re.sub(new_line_pattern,'',test_dataframe['Query'].iloc[i])\n",
        "    return test_dataframe"
      ],
      "execution_count": null,
      "outputs": []
    },
    {
      "cell_type": "code",
      "metadata": {
        "id": "VVNQ_XPJK6Y8",
        "colab": {
          "base_uri": "https://localhost:8080/"
        },
        "outputId": "c53cf10a-e2af-4ecf-fb3e-c7696e58750b"
      },
      "source": [
        "PairID_arr,  text2_arr  = parse_test_xml(test_file_path)"
      ],
      "execution_count": null,
      "outputs": [
        {
          "output_type": "stream",
          "text": [
            "TestData_en-2.xml\n",
            "112\n"
          ],
          "name": "stdout"
        }
      ]
    },
    {
      "cell_type": "code",
      "metadata": {
        "id": "N7_dE1rLLFgR",
        "colab": {
          "base_uri": "https://localhost:8080/",
          "height": 206
        },
        "outputId": "f224d3e3-4c10-4790-9086-90da1ab5b9c5"
      },
      "source": [
        "test_dataframe = create_test_dataframe(PairID_arr,text2_arr)\n",
        "test_dataframe.head()"
      ],
      "execution_count": null,
      "outputs": [
        {
          "output_type": "execute_result",
          "data": {
            "text/html": [
              "<div>\n",
              "<style scoped>\n",
              "    .dataframe tbody tr th:only-of-type {\n",
              "        vertical-align: middle;\n",
              "    }\n",
              "\n",
              "    .dataframe tbody tr th {\n",
              "        vertical-align: top;\n",
              "    }\n",
              "\n",
              "    .dataframe thead th {\n",
              "        text-align: right;\n",
              "    }\n",
              "</style>\n",
              "<table border=\"1\" class=\"dataframe\">\n",
              "  <thead>\n",
              "    <tr style=\"text-align: right;\">\n",
              "      <th></th>\n",
              "      <th>ID</th>\n",
              "      <th>Query</th>\n",
              "    </tr>\n",
              "  </thead>\n",
              "  <tbody>\n",
              "    <tr>\n",
              "      <th>0</th>\n",
              "      <td>R01-1-A</td>\n",
              "      <td>\\nA contract of sales concluded by a minor may...</td>\n",
              "    </tr>\n",
              "    <tr>\n",
              "      <th>1</th>\n",
              "      <td>R01-1-I</td>\n",
              "      <td>\\nA contract of sales concluded by an adult wa...</td>\n",
              "    </tr>\n",
              "    <tr>\n",
              "      <th>2</th>\n",
              "      <td>R01-1-U</td>\n",
              "      <td>\\nA contract of guarantee concluded by a perso...</td>\n",
              "    </tr>\n",
              "    <tr>\n",
              "      <th>3</th>\n",
              "      <td>R01-1-E</td>\n",
              "      <td>\\nAn act which requires the consent of the ass...</td>\n",
              "    </tr>\n",
              "    <tr>\n",
              "      <th>4</th>\n",
              "      <td>R01-1-O</td>\n",
              "      <td>\\nThe period of the extinctive prescription of...</td>\n",
              "    </tr>\n",
              "  </tbody>\n",
              "</table>\n",
              "</div>"
            ],
            "text/plain": [
              "        ID                                              Query\n",
              "0  R01-1-A  \\nA contract of sales concluded by a minor may...\n",
              "1  R01-1-I  \\nA contract of sales concluded by an adult wa...\n",
              "2  R01-1-U  \\nA contract of guarantee concluded by a perso...\n",
              "3  R01-1-E  \\nAn act which requires the consent of the ass...\n",
              "4  R01-1-O  \\nThe period of the extinctive prescription of..."
            ]
          },
          "metadata": {
            "tags": []
          },
          "execution_count": 24
        }
      ]
    },
    {
      "cell_type": "code",
      "metadata": {
        "id": "OD6H-Sf7LTby",
        "colab": {
          "base_uri": "https://localhost:8080/",
          "height": 206
        },
        "outputId": "06fcfced-ea65-4193-c489-41b3407e928a"
      },
      "source": [
        "test_dataframe = remove_newline_test_data(test_dataframe)\n",
        "test_dataframe.head()"
      ],
      "execution_count": null,
      "outputs": [
        {
          "output_type": "execute_result",
          "data": {
            "text/html": [
              "<div>\n",
              "<style scoped>\n",
              "    .dataframe tbody tr th:only-of-type {\n",
              "        vertical-align: middle;\n",
              "    }\n",
              "\n",
              "    .dataframe tbody tr th {\n",
              "        vertical-align: top;\n",
              "    }\n",
              "\n",
              "    .dataframe thead th {\n",
              "        text-align: right;\n",
              "    }\n",
              "</style>\n",
              "<table border=\"1\" class=\"dataframe\">\n",
              "  <thead>\n",
              "    <tr style=\"text-align: right;\">\n",
              "      <th></th>\n",
              "      <th>ID</th>\n",
              "      <th>Query</th>\n",
              "    </tr>\n",
              "  </thead>\n",
              "  <tbody>\n",
              "    <tr>\n",
              "      <th>0</th>\n",
              "      <td>R01-1-A</td>\n",
              "      <td>A contract of sales concluded by a minor may n...</td>\n",
              "    </tr>\n",
              "    <tr>\n",
              "      <th>1</th>\n",
              "      <td>R01-1-I</td>\n",
              "      <td>A contract of sales concluded by an adult ward...</td>\n",
              "    </tr>\n",
              "    <tr>\n",
              "      <th>2</th>\n",
              "      <td>R01-1-U</td>\n",
              "      <td>A contract of guarantee concluded by a person ...</td>\n",
              "    </tr>\n",
              "    <tr>\n",
              "      <th>3</th>\n",
              "      <td>R01-1-E</td>\n",
              "      <td>An act which requires the consent of the assis...</td>\n",
              "    </tr>\n",
              "    <tr>\n",
              "      <th>4</th>\n",
              "      <td>R01-1-O</td>\n",
              "      <td>The period of the extinctive prescription of t...</td>\n",
              "    </tr>\n",
              "  </tbody>\n",
              "</table>\n",
              "</div>"
            ],
            "text/plain": [
              "        ID                                              Query\n",
              "0  R01-1-A  A contract of sales concluded by a minor may n...\n",
              "1  R01-1-I  A contract of sales concluded by an adult ward...\n",
              "2  R01-1-U  A contract of guarantee concluded by a person ...\n",
              "3  R01-1-E  An act which requires the consent of the assis...\n",
              "4  R01-1-O  The period of the extinctive prescription of t..."
            ]
          },
          "metadata": {
            "tags": []
          },
          "execution_count": 25
        }
      ]
    },
    {
      "cell_type": "code",
      "metadata": {
        "id": "qeYs4qoyM8UN",
        "colab": {
          "base_uri": "https://localhost:8080/"
        },
        "outputId": "e7dcdf5b-7680-42c8-8d11-7a26bf0415e2"
      },
      "source": [
        "#test classification data set \n",
        "basic_classification_test_data_dict = {}\n",
        "\n",
        "test_serial_num = 0\n",
        "test_serial_num_list = []\n",
        "test_id_list = []\n",
        "test_query_list = []\n",
        "civil_article_number_list = []\n",
        "civil_article_list = []\n",
        "rel_article_num_list = []\n",
        "\n",
        "for test_query_item in range(test_dataframe.shape[0]):\n",
        "    print(test_query_item)\n",
        "    test_serial_num = test_serial_num + 1\n",
        "    for civil_code in range(civil_code_dataframe.shape[0]):\n",
        "        test_id = test_dataframe.iloc[test_query_item]['ID']\n",
        "        test_query = query_dataframe.iloc[test_query_item]['Query']\n",
        "        rel_article_num = rel_article_dict[test_id]\n",
        "        civil_article_number = civil_code_dataframe.iloc[civil_code]['Article_number']\n",
        "        civil_article = civil_code_dataframe.iloc[civil_code]['Article_description']\n",
        "\n",
        "        test_serial_num_list.append(test_serial_num)\n",
        "        test_id_list.append(test_id)\n",
        "        test_query_list.append(test_query)\n",
        "        rel_article_num_list.append(rel_article_num)\n",
        "        civil_article_number_list.append(civil_article_number)\n",
        "        civil_article_list.append(civil_article)\n",
        "\n",
        "        \n",
        "basic_classification_test_data_dict.update({'Serial_Num':test_serial_num_list,'ID':test_id_list , 'Query': test_query_list ,'Relevant_Article_num':rel_article_num_list ,'Article_number':civil_article_number_list,'Article':civil_article_list})\n",
        "    \n"
      ],
      "execution_count": null,
      "outputs": [
        {
          "output_type": "stream",
          "text": [
            "0\n",
            "1\n",
            "2\n",
            "3\n",
            "4\n",
            "5\n",
            "6\n",
            "7\n",
            "8\n",
            "9\n",
            "10\n",
            "11\n",
            "12\n",
            "13\n",
            "14\n",
            "15\n",
            "16\n",
            "17\n",
            "18\n",
            "19\n",
            "20\n",
            "21\n",
            "22\n",
            "23\n",
            "24\n",
            "25\n",
            "26\n",
            "27\n",
            "28\n",
            "29\n",
            "30\n",
            "31\n",
            "32\n",
            "33\n",
            "34\n",
            "35\n",
            "36\n",
            "37\n",
            "38\n",
            "39\n",
            "40\n",
            "41\n",
            "42\n",
            "43\n",
            "44\n",
            "45\n",
            "46\n",
            "47\n",
            "48\n",
            "49\n",
            "50\n",
            "51\n",
            "52\n",
            "53\n",
            "54\n",
            "55\n",
            "56\n",
            "57\n",
            "58\n",
            "59\n",
            "60\n",
            "61\n",
            "62\n",
            "63\n",
            "64\n",
            "65\n",
            "66\n",
            "67\n",
            "68\n",
            "69\n",
            "70\n",
            "71\n",
            "72\n",
            "73\n",
            "74\n",
            "75\n",
            "76\n",
            "77\n",
            "78\n",
            "79\n",
            "80\n",
            "81\n",
            "82\n",
            "83\n",
            "84\n",
            "85\n",
            "86\n",
            "87\n",
            "88\n",
            "89\n",
            "90\n",
            "91\n",
            "92\n",
            "93\n",
            "94\n",
            "95\n",
            "96\n",
            "97\n",
            "98\n",
            "99\n",
            "100\n",
            "101\n",
            "102\n",
            "103\n",
            "104\n",
            "105\n",
            "106\n",
            "107\n",
            "108\n",
            "109\n",
            "110\n",
            "111\n"
          ],
          "name": "stdout"
        }
      ]
    },
    {
      "cell_type": "code",
      "metadata": {
        "id": "mOayja0pQXXA"
      },
      "source": [
        "basic_classification_test_dataframe = pd.DataFrame.from_dict(basic_classification_test_data_dict,orient = 'columns')"
      ],
      "execution_count": null,
      "outputs": []
    },
    {
      "cell_type": "code",
      "metadata": {
        "id": "CqbGzLzbQe4v",
        "colab": {
          "base_uri": "https://localhost:8080/",
          "height": 206
        },
        "outputId": "c621ac86-c4af-4d37-de2e-ea02a8ddee30"
      },
      "source": [
        "basic_classification_test_dataframe.head()"
      ],
      "execution_count": null,
      "outputs": [
        {
          "output_type": "execute_result",
          "data": {
            "text/html": [
              "<div>\n",
              "<style scoped>\n",
              "    .dataframe tbody tr th:only-of-type {\n",
              "        vertical-align: middle;\n",
              "    }\n",
              "\n",
              "    .dataframe tbody tr th {\n",
              "        vertical-align: top;\n",
              "    }\n",
              "\n",
              "    .dataframe thead th {\n",
              "        text-align: right;\n",
              "    }\n",
              "</style>\n",
              "<table border=\"1\" class=\"dataframe\">\n",
              "  <thead>\n",
              "    <tr style=\"text-align: right;\">\n",
              "      <th></th>\n",
              "      <th>Serial_Num</th>\n",
              "      <th>ID</th>\n",
              "      <th>Query</th>\n",
              "      <th>Relevant_Article_num</th>\n",
              "      <th>Article_number</th>\n",
              "      <th>Article</th>\n",
              "    </tr>\n",
              "  </thead>\n",
              "  <tbody>\n",
              "    <tr>\n",
              "      <th>0</th>\n",
              "      <td>1</td>\n",
              "      <td>R01-1-A</td>\n",
              "      <td>Acceptance made by a minor that received an o...</td>\n",
              "      <td>[5]</td>\n",
              "      <td>1</td>\n",
              "      <td>(Fundamental Principles) Article_1  (1) Privat...</td>\n",
              "    </tr>\n",
              "    <tr>\n",
              "      <th>1</th>\n",
              "      <td>1</td>\n",
              "      <td>R01-1-A</td>\n",
              "      <td>Acceptance made by a minor that received an o...</td>\n",
              "      <td>[5]</td>\n",
              "      <td>2</td>\n",
              "      <td>(Standards for Construction) Article_2  This C...</td>\n",
              "    </tr>\n",
              "    <tr>\n",
              "      <th>2</th>\n",
              "      <td>1</td>\n",
              "      <td>R01-1-A</td>\n",
              "      <td>Acceptance made by a minor that received an o...</td>\n",
              "      <td>[5]</td>\n",
              "      <td>3</td>\n",
              "      <td>Article 3  (1) The enjoyment of private rights...</td>\n",
              "    </tr>\n",
              "    <tr>\n",
              "      <th>3</th>\n",
              "      <td>1</td>\n",
              "      <td>R01-1-A</td>\n",
              "      <td>Acceptance made by a minor that received an o...</td>\n",
              "      <td>[5]</td>\n",
              "      <td>3_2</td>\n",
              "      <td>Article 3-2  If the person making a juridical ...</td>\n",
              "    </tr>\n",
              "    <tr>\n",
              "      <th>4</th>\n",
              "      <td>1</td>\n",
              "      <td>R01-1-A</td>\n",
              "      <td>Acceptance made by a minor that received an o...</td>\n",
              "      <td>[5]</td>\n",
              "      <td>4</td>\n",
              "      <td>(Age of Majority) Article_4  The age of majori...</td>\n",
              "    </tr>\n",
              "  </tbody>\n",
              "</table>\n",
              "</div>"
            ],
            "text/plain": [
              "   Serial_Num  ...                                            Article\n",
              "0           1  ...  (Fundamental Principles) Article_1  (1) Privat...\n",
              "1           1  ...  (Standards for Construction) Article_2  This C...\n",
              "2           1  ...  Article 3  (1) The enjoyment of private rights...\n",
              "3           1  ...  Article 3-2  If the person making a juridical ...\n",
              "4           1  ...  (Age of Majority) Article_4  The age of majori...\n",
              "\n",
              "[5 rows x 6 columns]"
            ]
          },
          "metadata": {
            "tags": []
          },
          "execution_count": 35
        }
      ]
    },
    {
      "cell_type": "code",
      "metadata": {
        "id": "xka31WUSQf2j",
        "colab": {
          "base_uri": "https://localhost:8080/"
        },
        "outputId": "ca5372c7-0705-46cf-c79d-7bee5979c31b"
      },
      "source": [
        "basic_classification_test_dataframe.shape"
      ],
      "execution_count": null,
      "outputs": [
        {
          "output_type": "execute_result",
          "data": {
            "text/plain": [
              "(86912, 6)"
            ]
          },
          "metadata": {
            "tags": []
          },
          "execution_count": 36
        }
      ]
    },
    {
      "cell_type": "code",
      "metadata": {
        "id": "XLJlYEgbKwXH",
        "colab": {
          "base_uri": "https://localhost:8080/",
          "height": 36
        },
        "outputId": "937dcd43-d382-4a47-bc81-b8352cd54606"
      },
      "source": [
        "basic_classification_test_dataframe['Article_number'].iloc[0].split()[0]"
      ],
      "execution_count": null,
      "outputs": [
        {
          "output_type": "execute_result",
          "data": {
            "application/vnd.google.colaboratory.intrinsic+json": {
              "type": "string"
            },
            "text/plain": [
              "'1'"
            ]
          },
          "metadata": {
            "tags": []
          },
          "execution_count": 37
        }
      ]
    },
    {
      "cell_type": "code",
      "metadata": {
        "id": "09Kdf9OlK5Vd",
        "colab": {
          "base_uri": "https://localhost:8080/",
          "height": 36
        },
        "outputId": "aff97d21-3ad8-4cd8-d63f-09898ff59491"
      },
      "source": [
        "basic_classification_test_dataframe.iloc[0]['Relevant_Article_num'][0]"
      ],
      "execution_count": null,
      "outputs": [
        {
          "output_type": "execute_result",
          "data": {
            "application/vnd.google.colaboratory.intrinsic+json": {
              "type": "string"
            },
            "text/plain": [
              "'5'"
            ]
          },
          "metadata": {
            "tags": []
          },
          "execution_count": 40
        }
      ]
    },
    {
      "cell_type": "code",
      "metadata": {
        "id": "LmSWX8sGKas_",
        "colab": {
          "base_uri": "https://localhost:8080/"
        },
        "outputId": "0d23cef0-a756-4685-cb4f-5c68b4df710a"
      },
      "source": [
        "basic_classification_test_dataframe['label'] = 0\n",
        "correct_test_labels = 0\n",
        "\n",
        "for index in range(basic_classification_test_dataframe.shape[0]):\n",
        "    if basic_classification_test_dataframe['Article_number'].iloc[index].split()[0] in basic_classification_test_dataframe.iloc[index]['Relevant_Article_num']:\n",
        "        correct_test_labels = correct_test_labels + 1\n",
        "        basic_classification_test_dataframe['label'].iloc[index] = 1\n",
        "\n",
        "print(correct_test_labels)"
      ],
      "execution_count": null,
      "outputs": [
        {
          "output_type": "stream",
          "text": [
            "/usr/local/lib/python3.6/dist-packages/pandas/core/indexing.py:670: SettingWithCopyWarning: \n",
            "A value is trying to be set on a copy of a slice from a DataFrame\n",
            "\n",
            "See the caveats in the documentation: https://pandas.pydata.org/pandas-docs/stable/user_guide/indexing.html#returning-a-view-versus-a-copy\n",
            "  iloc._setitem_with_indexer(indexer, value)\n"
          ],
          "name": "stderr"
        },
        {
          "output_type": "stream",
          "text": [
            "138\n"
          ],
          "name": "stdout"
        }
      ]
    },
    {
      "cell_type": "code",
      "metadata": {
        "id": "W5iNwt6XRDPx"
      },
      "source": [
        "classification_test_data_dict = {}\n",
        "\n",
        "\n",
        "combined_test_sequence_list = []\n",
        "test_article_number_list = []\n",
        "test_label_list = []\n",
        "\n",
        "for index in range(basic_classification_test_dataframe.shape[0]):\n",
        "\n",
        "    combined_test_sequence = basic_classification_test_dataframe['Query'].iloc[index]+' '+basic_classification_test_dataframe['Article'].iloc[index]\n",
        "    test_article_number = basic_classification_test_dataframe['Article_number'].iloc[index]\n",
        "    label = basic_classification_test_dataframe['label'].iloc[index]\n",
        "\n",
        "    test_label_list.append(label)\n",
        "    combined_test_sequence_list.append(combined_test_sequence)\n",
        "    test_article_number_list.append(test_article_number)\n",
        "\n",
        "classification_test_data_dict.update({'ID':test_id_list,'Sequence':combined_test_sequence_list,'Article_number':test_article_number_list, 'Label': test_label_list})\n"
      ],
      "execution_count": null,
      "outputs": []
    },
    {
      "cell_type": "code",
      "metadata": {
        "id": "XhRKTut4TgkY"
      },
      "source": [
        "classification_test_dataframe = pd.DataFrame.from_dict(classification_test_data_dict,orient = 'columns')"
      ],
      "execution_count": null,
      "outputs": []
    },
    {
      "cell_type": "code",
      "metadata": {
        "id": "5BMUEL13Tmtm",
        "colab": {
          "base_uri": "https://localhost:8080/",
          "height": 206
        },
        "outputId": "48433f03-2cde-4446-dc50-9ce3961a79d7"
      },
      "source": [
        "classification_test_dataframe.head()"
      ],
      "execution_count": null,
      "outputs": [
        {
          "output_type": "execute_result",
          "data": {
            "text/html": [
              "<div>\n",
              "<style scoped>\n",
              "    .dataframe tbody tr th:only-of-type {\n",
              "        vertical-align: middle;\n",
              "    }\n",
              "\n",
              "    .dataframe tbody tr th {\n",
              "        vertical-align: top;\n",
              "    }\n",
              "\n",
              "    .dataframe thead th {\n",
              "        text-align: right;\n",
              "    }\n",
              "</style>\n",
              "<table border=\"1\" class=\"dataframe\">\n",
              "  <thead>\n",
              "    <tr style=\"text-align: right;\">\n",
              "      <th></th>\n",
              "      <th>ID</th>\n",
              "      <th>Sequence</th>\n",
              "      <th>Article_number</th>\n",
              "      <th>Label</th>\n",
              "    </tr>\n",
              "  </thead>\n",
              "  <tbody>\n",
              "    <tr>\n",
              "      <th>0</th>\n",
              "      <td>R01-1-A</td>\n",
              "      <td>Acceptance made by a minor that received an o...</td>\n",
              "      <td>1</td>\n",
              "      <td>0</td>\n",
              "    </tr>\n",
              "    <tr>\n",
              "      <th>1</th>\n",
              "      <td>R01-1-A</td>\n",
              "      <td>Acceptance made by a minor that received an o...</td>\n",
              "      <td>2</td>\n",
              "      <td>0</td>\n",
              "    </tr>\n",
              "    <tr>\n",
              "      <th>2</th>\n",
              "      <td>R01-1-A</td>\n",
              "      <td>Acceptance made by a minor that received an o...</td>\n",
              "      <td>3</td>\n",
              "      <td>0</td>\n",
              "    </tr>\n",
              "    <tr>\n",
              "      <th>3</th>\n",
              "      <td>R01-1-A</td>\n",
              "      <td>Acceptance made by a minor that received an o...</td>\n",
              "      <td>3_2</td>\n",
              "      <td>0</td>\n",
              "    </tr>\n",
              "    <tr>\n",
              "      <th>4</th>\n",
              "      <td>R01-1-A</td>\n",
              "      <td>Acceptance made by a minor that received an o...</td>\n",
              "      <td>4</td>\n",
              "      <td>0</td>\n",
              "    </tr>\n",
              "  </tbody>\n",
              "</table>\n",
              "</div>"
            ],
            "text/plain": [
              "        ID  ... Label\n",
              "0  R01-1-A  ...     0\n",
              "1  R01-1-A  ...     0\n",
              "2  R01-1-A  ...     0\n",
              "3  R01-1-A  ...     0\n",
              "4  R01-1-A  ...     0\n",
              "\n",
              "[5 rows x 4 columns]"
            ]
          },
          "metadata": {
            "tags": []
          },
          "execution_count": 45
        }
      ]
    },
    {
      "cell_type": "markdown",
      "metadata": {
        "id": "jnAe8D7ieup2"
      },
      "source": [
        "#### Save the classification test dataset"
      ]
    },
    {
      "cell_type": "code",
      "metadata": {
        "id": "UgbcBwn_ToOV"
      },
      "source": [
        "basic_classification_test_dataframe.to_csv('/content/drive/My Drive/COLIEE Retrieval /COLIEE Dry Run Data /preprocessed_data/bert_data/basic_classification_test_dataset.csv')\n",
        "classification_test_dataframe.to_csv('/content/drive/My Drive/COLIEE Retrieval /COLIEE Dry Run Data /preprocessed_data/bert_data/classification_test_dataset.csv')"
      ],
      "execution_count": null,
      "outputs": []
    },
    {
      "cell_type": "code",
      "metadata": {
        "id": "Ym9hQn-WUjiA"
      },
      "source": [
        "basic_classification_test_dataframe.to_pickle('/content/drive/My Drive/COLIEE Retrieval /COLIEE Dry Run Data /preprocessed_data/bert_data/basic_classification_test_dataset.pkl')\n",
        "classification_test_dataframe.to_pickle('/content/drive/My Drive/COLIEE Retrieval /COLIEE Dry Run Data /preprocessed_data/bert_data/classification_test_dataset.pkl')"
      ],
      "execution_count": null,
      "outputs": []
    }
  ]
}